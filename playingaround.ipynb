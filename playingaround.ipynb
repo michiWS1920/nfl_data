{
  "nbformat": 4,
  "nbformat_minor": 0,
  "metadata": {
    "colab": {
      "name": "playingaround",
      "provenance": [],
      "include_colab_link": true
    },
    "kernelspec": {
      "name": "ir",
      "display_name": "R"
    }
  },
  "cells": [
    {
      "cell_type": "markdown",
      "metadata": {
        "id": "view-in-github",
        "colab_type": "text"
      },
      "source": [
        "<a href=\"https://colab.research.google.com/github/michiWS1920/nfl_data/blob/michi/playingaround.ipynb\" target=\"_parent\"><img src=\"https://colab.research.google.com/assets/colab-badge.svg\" alt=\"Open In Colab\"/></a>"
      ]
    },
    {
      "cell_type": "code",
      "metadata": {
        "id": "sIR7zvmg9nWN",
        "colab_type": "code",
        "colab": {
          "base_uri": "https://localhost:8080/",
          "height": 204
        },
        "outputId": "d55095cd-0357-4290-a80f-b67b9f3ade9f"
      },
      "source": [
        "library(tidyverse)\n",
        "library(ggplot2)\n"
      ],
      "execution_count": 4,
      "outputs": [
        {
          "output_type": "stream",
          "text": [
            "── \u001b[1mAttaching packages\u001b[22m ─────────────────────────────────────── tidyverse 1.3.0 ──\n",
            "\n",
            "\u001b[32m✔\u001b[39m \u001b[34mggplot2\u001b[39m 3.3.2     \u001b[32m✔\u001b[39m \u001b[34mpurrr  \u001b[39m 0.3.4\n",
            "\u001b[32m✔\u001b[39m \u001b[34mtibble \u001b[39m 3.0.1     \u001b[32m✔\u001b[39m \u001b[34mdplyr  \u001b[39m 1.0.0\n",
            "\u001b[32m✔\u001b[39m \u001b[34mtidyr  \u001b[39m 1.1.0     \u001b[32m✔\u001b[39m \u001b[34mstringr\u001b[39m 1.4.0\n",
            "\u001b[32m✔\u001b[39m \u001b[34mreadr  \u001b[39m 1.3.1     \u001b[32m✔\u001b[39m \u001b[34mforcats\u001b[39m 0.5.0\n",
            "\n",
            "── \u001b[1mConflicts\u001b[22m ────────────────────────────────────────── tidyverse_conflicts() ──\n",
            "\u001b[31m✖\u001b[39m \u001b[34mdplyr\u001b[39m::\u001b[32mfilter()\u001b[39m masks \u001b[34mstats\u001b[39m::filter()\n",
            "\u001b[31m✖\u001b[39m \u001b[34mdplyr\u001b[39m::\u001b[32mlag()\u001b[39m    masks \u001b[34mstats\u001b[39m::lag()\n",
            "\n"
          ],
          "name": "stderr"
        }
      ]
    },
    {
      "cell_type": "code",
      "metadata": {
        "id": "vltbzRmXbyD6",
        "colab_type": "code",
        "colab": {
          "base_uri": "https://localhost:8080/",
          "height": 119
        },
        "outputId": "be5d6745-1af1-47f5-f553-8084ee6db057"
      },
      "source": [
        "install.packages(\"googledrive\")\n"
      ],
      "execution_count": null,
      "outputs": [
        {
          "output_type": "stream",
          "text": [
            "Installing package into ‘/usr/local/lib/R/site-library’\n",
            "(as ‘lib’ is unspecified)\n",
            "\n",
            "also installing the dependency ‘gargle’\n",
            "\n",
            "\n"
          ],
          "name": "stderr"
        }
      ]
    },
    {
      "cell_type": "code",
      "metadata": {
        "id": "dQZhONksb2uI",
        "colab_type": "code",
        "colab": {}
      },
      "source": [
        "library(googledrive)"
      ],
      "execution_count": null,
      "outputs": []
    },
    {
      "cell_type": "code",
      "metadata": {
        "id": "AOX6lQ8Ob4TL",
        "colab_type": "code",
        "colab": {}
      },
      "source": [
        "chicken <- drive_upload(\n",
        "  drive_example(\"chicken.csv\"),\n",
        "  \"README-chicken.csv\""
      ],
      "execution_count": null,
      "outputs": []
    },
    {
      "cell_type": "code",
      "metadata": {
        "id": "BCHLkG8oWBSs",
        "colab_type": "code",
        "colab": {}
      },
      "source": [
        "first <- 2009 \n",
        "last <- 2019 \n",
        "\n",
        "datalist = list()\n",
        "for (yr in first:last) {\n",
        "    pbp <- read_csv(url(paste0(\"https://github.com/ryurko/nflscrapR-data/raw/master/play_by_play_data/regular_season/reg_pbp_\", yr, \".csv\"))) #read every play by play data\n",
        "    games <- read_csv(url(paste0(\"https://raw.githubusercontent.com/ryurko/nflscrapR-data/master/games_data/regular_season/reg_games_\", yr, \".csv\"))) #read game data including score/ week etc.\n",
        "    pbp <- pbp %>% \n",
        "      inner_join(games %>% distinct(game_id, week, season)) %>% #join the two\n",
        "      select(-fumble_recovery_2_yards, -blocked_player_id, -fumble_recovery_2_player_id) # throw some variables out that are inconsistent in format over the seasons\n",
        "    datalist[[yr]] <- pbp \n",
        "}\n",
        "\n",
        "pbp_all <- dplyr::bind_rows(datalist)"
      ],
      "execution_count": null,
      "outputs": []
    },
    {
      "cell_type": "code",
      "metadata": {
        "id": "WLzM2CR8Wnj0",
        "colab_type": "code",
        "colab": {}
      },
      "source": [
        "# Change teamnames for teams that changed their names in the last 10 seasons - to have consistent data\n",
        "pbp_all <- pbp_all %>% \n",
        "\tmutate_at(vars(home_team, away_team, posteam, defteam), funs(case_when(\n",
        "            . %in% \"JAX\" ~ \"JAC\",\n",
        "            . %in% \"STL\" ~ \"LA\",\n",
        "            . %in% \"SD\" ~ \"LAC\",\n",
        "            TRUE ~ .\n",
        "        ))) "
      ],
      "execution_count": null,
      "outputs": []
    },
    {
      "cell_type": "code",
      "metadata": {
        "id": "PkQACPq2_yUQ",
        "colab_type": "code",
        "colab": {}
      },
      "source": [
        "#saveRDS(pbp_all, file=\"NFLdata.rds\")\n",
        "pbp_all <- readRDS(\"NFLdata.rds\")"
      ],
      "execution_count": 1,
      "outputs": []
    },
    {
      "cell_type": "code",
      "metadata": {
        "id": "Yiq56UTbAeLG",
        "colab_type": "code",
        "colab": {}
      },
      "source": [
        "# cleaning for further analysis\n",
        "pbp_all_rp <- pbp_all %>%\n",
        "      filter(!is.na(epa), !is.na(posteam), play_type==\"no_play\" | play_type==\"pass\" | play_type==\"run\") %>% #filter out certain NA values, only show three play_types\n",
        "\tmutate( #create new columns that indicates if the play was a pass or rush - this is done by parsing the description of the play (certain keywords are perfect indicators)\n",
        "\tpass = if_else(str_detect(desc, \"( pass)|(sacked)|(scramble)\"), 1, 0), #\n",
        "\trush = if_else(str_detect(desc, \"(left end)|(left tackle)|(left guard)|(up the middle)|(right guard)|(right tackle)|(right end)\") & pass == 0, 1, 0),\n",
        "\tsuccess = ifelse(epa>0, 1 , 0),\n",
        "\tpasser_player_name = ifelse(play_type == \"no_play\" & pass == 1, #create new column that parses the player_name depending on the type of play (pass / receiver / rusher)\n",
        "              str_extract(desc, \"(?<=\\\\s)[A-Z][a-z]*\\\\.\\\\s?[A-Z][A-z]+(\\\\s(I{2,3})|(IV))?(?=\\\\s((pass)|(sack)|(scramble)))\"),\n",
        "              passer_player_name),\n",
        "        receiver_player_name = ifelse(play_type == \"no_play\" & str_detect(desc, \"pass\"), \n",
        "              str_extract(desc, \"(?<=to\\\\s)[A-Z][a-z]*\\\\.\\\\s?[A-Z][A-z]+(\\\\s(I{2,3})|(IV))?\"),\n",
        "              receiver_player_name),\n",
        "        rusher_player_name = ifelse(play_type == \"no_play\" & rush == 1, \n",
        "              str_extract(desc, \"(?<=\\\\s)[A-Z][a-z]*\\\\.\\\\s?[A-Z][A-z]+(\\\\s(I{2,3})|(IV))?(?=\\\\s((left end)|(left tackle)|(left guard)|\t\t      (up the middle)|(right guard)|(right tackle)|(right end)))\"),\n",
        "              rusher_player_name),\n",
        "\tname = ifelse(!is.na(passer_player_name), passer_player_name, rusher_player_name),\n",
        "\tyards_gained=ifelse(play_type==\"no_play\",NA,yards_gained), # filter out NA for yards_gained\n",
        "\tplay=1\n",
        "\t) #%>%\n",
        "\t#filter(pass==1 | rush==1) #only keep passes and rushes"
      ],
      "execution_count": 5,
      "outputs": []
    },
    {
      "cell_type": "code",
      "metadata": {
        "id": "WSADiN4elN89",
        "colab_type": "code",
        "colab": {
          "base_uri": "https://localhost:8080/",
          "height": 221
        },
        "outputId": "e841e042-1af1-4d92-fa32-a05a235b8646"
      },
      "source": [
        "pbp_all_rp %>%\n",
        "select(play_type) %>%\n",
        "head()"
      ],
      "execution_count": 15,
      "outputs": [
        {
          "output_type": "display_data",
          "data": {
            "text/plain": [
              "  play_type\n",
              "1 pass     \n",
              "2 run      \n",
              "3 pass     \n",
              "4 run      \n",
              "5 pass     \n",
              "6 run      "
            ],
            "text/latex": "A tibble: 6 × 1\n\\begin{tabular}{l}\n play\\_type\\\\\n <chr>\\\\\n\\hline\n\t pass\\\\\n\t run \\\\\n\t pass\\\\\n\t run \\\\\n\t pass\\\\\n\t run \\\\\n\\end{tabular}\n",
            "text/markdown": "\nA tibble: 6 × 1\n\n| play_type &lt;chr&gt; |\n|---|\n| pass |\n| run  |\n| pass |\n| run  |\n| pass |\n| run  |\n\n",
            "text/html": [
              "<table>\n",
              "<caption>A tibble: 6 × 1</caption>\n",
              "<thead>\n",
              "\t<tr><th scope=col>play_type</th></tr>\n",
              "\t<tr><th scope=col>&lt;chr&gt;</th></tr>\n",
              "</thead>\n",
              "<tbody>\n",
              "\t<tr><td>pass</td></tr>\n",
              "\t<tr><td>run </td></tr>\n",
              "\t<tr><td>pass</td></tr>\n",
              "\t<tr><td>run </td></tr>\n",
              "\t<tr><td>pass</td></tr>\n",
              "\t<tr><td>run </td></tr>\n",
              "</tbody>\n",
              "</table>\n"
            ]
          },
          "metadata": {
            "tags": []
          }
        }
      ]
    },
    {
      "cell_type": "markdown",
      "metadata": {
        "id": "NO78besynz81",
        "colab_type": "text"
      },
      "source": [
        "Problem is Timeouts are in noplay, have to filter them out\n"
      ]
    },
    {
      "cell_type": "code",
      "metadata": {
        "id": "dHXUuiZklmGi",
        "colab_type": "code",
        "colab": {
          "base_uri": "https://localhost:8080/",
          "height": 1000
        },
        "outputId": "8aa27920-d5f0-410c-c1b0-c7ddaf5cff85"
      },
      "source": [
        "pbp_all_rp %>%\n",
        "group_by(season) %>%\n",
        "filter(play_type== \"no_play\", str_detect(desc, \"(Timeout)\")) %>%\n",
        "select(desc)"
      ],
      "execution_count": 18,
      "outputs": [
        {
          "output_type": "stream",
          "text": [
            "Adding missing grouping variables: `season`\n",
            "\n"
          ],
          "name": "stderr"
        },
        {
          "output_type": "display_data",
          "data": {
            "text/plain": [
              "      season desc                       \n",
              "1     2009   Timeout #1 by PIT at 01:29.\n",
              "2     2009   Timeout #1 by TEN at 00:54.\n",
              "3     2009   Timeout #2 by PIT at 00:27.\n",
              "4     2009   Timeout #3 by PIT at 00:07.\n",
              "5     2009   Timeout #1 by PIT at 01:03.\n",
              "6     2009   Timeout #2 by PIT at 00:44.\n",
              "7     2009   Timeout #3 by PIT at 00:41.\n",
              "8     2009   Timeout #1 by PIT at 10:34.\n",
              "9     2009   Timeout #1 by CLE at 01:46.\n",
              "10    2009   Timeout #1 by CLE at 00:59.\n",
              "11    2009   Timeout #1 by DET at 14:11.\n",
              "12    2009   Timeout #2 by DET at 03:49.\n",
              "13    2009   Timeout #1 by NO at 02:36. \n",
              "14    2009   Timeout #2 by NO at 01:03. \n",
              "15    2009   Timeout #2 by NO at 01:03. \n",
              "16    2009   Timeout #3 by NO at 00:07. \n",
              "17    2009   Timeout #1 by NO at 06:18. \n",
              "18    2009   Timeout #1 by DAL at 10:22.\n",
              "19    2009   Timeout #1 by TB at 13:05. \n",
              "20    2009   Timeout #2 by DAL at 02:50.\n",
              "21    2009   Timeout #3 by DAL at 01:08.\n",
              "22    2009   Timeout #2 by TB at 00:07. \n",
              "23    2009   Timeout #3 by TB at 00:02. \n",
              "24    2009   Timeout #1 by NYJ at 00:16.\n",
              "25    2009   Timeout #2 by NYJ at 01:11.\n",
              "26    2009   Timeout #3 by NYJ at 00:02.\n",
              "27    2009   Timeout #1 by HOU at 05:57.\n",
              "28    2009   Timeout #2 by HOU at 01:42.\n",
              "29    2009   Timeout #1 by JAC at 01:16.\n",
              "30    2009   Timeout #1 by IND at 01:04.\n",
              "⋮     ⋮      ⋮                          \n",
              "19114 2019   Timeout #1 by PIT at 10:02.\n",
              "19115 2019   Timeout #1 by BAL at 09:52.\n",
              "19116 2019   Timeout #3 by BAL at 00:30.\n",
              "19117 2019   Timeout #1 by IND at 01:55.\n",
              "19118 2019   Timeout #1 by JAX at 00:51.\n",
              "19119 2019   Timeout #2 by JAX at 00:44.\n",
              "19120 2019   Timeout #3 by JAX at 00:02.\n",
              "19121 2019   Timeout #1 by OAK at 08:32.\n",
              "19122 2019   Timeout #3 by OAK at 00:56.\n",
              "19123 2019   Timeout #1 by DEN at 00:49.\n",
              "19124 2019   Timeout #2 by DEN at 00:38.\n",
              "19125 2019   Timeout #1 by DEN at 04:46.\n",
              "19126 2019   Timeout #2 by DEN at 03:55.\n",
              "19127 2019   Timeout #1 by OAK at 03:05.\n",
              "19128 2019   Timeout #2 by OAK at 02:51.\n",
              "19129 2019   Timeout #3 by OAK at 01:46.\n",
              "19130 2019   Timeout #1 by LA at 01:09. \n",
              "19131 2019   Timeout #1 by ARI at 00:38.\n",
              "19132 2019   Timeout #2 by LA at 00:13. \n",
              "19133 2019   Timeout #1 by ARI at 06:29.\n",
              "19134 2019   Timeout #1 by LA at 09:26. \n",
              "19135 2019   Timeout #2 by ARI at 02:59.\n",
              "19136 2019   Timeout #2 by LA at 01:54. \n",
              "19137 2019   Timeout #3 by LA at 00:02. \n",
              "19138 2019   Timeout #1 by SF at 01:05. \n",
              "19139 2019   Timeout #1 by SEA at 00:49.\n",
              "19140 2019   Timeout #1 by SF at 05:55. \n",
              "19141 2019   Timeout #1 by SEA at 02:34.\n",
              "19142 2019   Timeout #2 by SEA at 00:46.\n",
              "19143 2019   Timeout #3 by SEA at 00:42."
            ],
            "text/latex": "A grouped\\_df: 19143 × 2\n\\begin{tabular}{ll}\n season & desc\\\\\n <dbl> & <chr>\\\\\n\\hline\n\t 2009 & Timeout \\#1 by PIT at 01:29.\\\\\n\t 2009 & Timeout \\#1 by TEN at 00:54.\\\\\n\t 2009 & Timeout \\#2 by PIT at 00:27.\\\\\n\t 2009 & Timeout \\#3 by PIT at 00:07.\\\\\n\t 2009 & Timeout \\#1 by PIT at 01:03.\\\\\n\t 2009 & Timeout \\#2 by PIT at 00:44.\\\\\n\t 2009 & Timeout \\#3 by PIT at 00:41.\\\\\n\t 2009 & Timeout \\#1 by PIT at 10:34.\\\\\n\t 2009 & Timeout \\#1 by CLE at 01:46.\\\\\n\t 2009 & Timeout \\#1 by CLE at 00:59.\\\\\n\t 2009 & Timeout \\#1 by DET at 14:11.\\\\\n\t 2009 & Timeout \\#2 by DET at 03:49.\\\\\n\t 2009 & Timeout \\#1 by NO at 02:36. \\\\\n\t 2009 & Timeout \\#2 by NO at 01:03. \\\\\n\t 2009 & Timeout \\#2 by NO at 01:03. \\\\\n\t 2009 & Timeout \\#3 by NO at 00:07. \\\\\n\t 2009 & Timeout \\#1 by NO at 06:18. \\\\\n\t 2009 & Timeout \\#1 by DAL at 10:22.\\\\\n\t 2009 & Timeout \\#1 by TB at 13:05. \\\\\n\t 2009 & Timeout \\#2 by DAL at 02:50.\\\\\n\t 2009 & Timeout \\#3 by DAL at 01:08.\\\\\n\t 2009 & Timeout \\#2 by TB at 00:07. \\\\\n\t 2009 & Timeout \\#3 by TB at 00:02. \\\\\n\t 2009 & Timeout \\#1 by NYJ at 00:16.\\\\\n\t 2009 & Timeout \\#2 by NYJ at 01:11.\\\\\n\t 2009 & Timeout \\#3 by NYJ at 00:02.\\\\\n\t 2009 & Timeout \\#1 by HOU at 05:57.\\\\\n\t 2009 & Timeout \\#2 by HOU at 01:42.\\\\\n\t 2009 & Timeout \\#1 by JAC at 01:16.\\\\\n\t 2009 & Timeout \\#1 by IND at 01:04.\\\\\n\t ⋮ & ⋮\\\\\n\t 2019 & Timeout \\#1 by PIT at 10:02.\\\\\n\t 2019 & Timeout \\#1 by BAL at 09:52.\\\\\n\t 2019 & Timeout \\#3 by BAL at 00:30.\\\\\n\t 2019 & Timeout \\#1 by IND at 01:55.\\\\\n\t 2019 & Timeout \\#1 by JAX at 00:51.\\\\\n\t 2019 & Timeout \\#2 by JAX at 00:44.\\\\\n\t 2019 & Timeout \\#3 by JAX at 00:02.\\\\\n\t 2019 & Timeout \\#1 by OAK at 08:32.\\\\\n\t 2019 & Timeout \\#3 by OAK at 00:56.\\\\\n\t 2019 & Timeout \\#1 by DEN at 00:49.\\\\\n\t 2019 & Timeout \\#2 by DEN at 00:38.\\\\\n\t 2019 & Timeout \\#1 by DEN at 04:46.\\\\\n\t 2019 & Timeout \\#2 by DEN at 03:55.\\\\\n\t 2019 & Timeout \\#1 by OAK at 03:05.\\\\\n\t 2019 & Timeout \\#2 by OAK at 02:51.\\\\\n\t 2019 & Timeout \\#3 by OAK at 01:46.\\\\\n\t 2019 & Timeout \\#1 by LA at 01:09. \\\\\n\t 2019 & Timeout \\#1 by ARI at 00:38.\\\\\n\t 2019 & Timeout \\#2 by LA at 00:13. \\\\\n\t 2019 & Timeout \\#1 by ARI at 06:29.\\\\\n\t 2019 & Timeout \\#1 by LA at 09:26. \\\\\n\t 2019 & Timeout \\#2 by ARI at 02:59.\\\\\n\t 2019 & Timeout \\#2 by LA at 01:54. \\\\\n\t 2019 & Timeout \\#3 by LA at 00:02. \\\\\n\t 2019 & Timeout \\#1 by SF at 01:05. \\\\\n\t 2019 & Timeout \\#1 by SEA at 00:49.\\\\\n\t 2019 & Timeout \\#1 by SF at 05:55. \\\\\n\t 2019 & Timeout \\#1 by SEA at 02:34.\\\\\n\t 2019 & Timeout \\#2 by SEA at 00:46.\\\\\n\t 2019 & Timeout \\#3 by SEA at 00:42.\\\\\n\\end{tabular}\n",
            "text/markdown": "\nA grouped_df: 19143 × 2\n\n| season &lt;dbl&gt; | desc &lt;chr&gt; |\n|---|---|\n| 2009 | Timeout #1 by PIT at 01:29. |\n| 2009 | Timeout #1 by TEN at 00:54. |\n| 2009 | Timeout #2 by PIT at 00:27. |\n| 2009 | Timeout #3 by PIT at 00:07. |\n| 2009 | Timeout #1 by PIT at 01:03. |\n| 2009 | Timeout #2 by PIT at 00:44. |\n| 2009 | Timeout #3 by PIT at 00:41. |\n| 2009 | Timeout #1 by PIT at 10:34. |\n| 2009 | Timeout #1 by CLE at 01:46. |\n| 2009 | Timeout #1 by CLE at 00:59. |\n| 2009 | Timeout #1 by DET at 14:11. |\n| 2009 | Timeout #2 by DET at 03:49. |\n| 2009 | Timeout #1 by NO at 02:36.  |\n| 2009 | Timeout #2 by NO at 01:03.  |\n| 2009 | Timeout #2 by NO at 01:03.  |\n| 2009 | Timeout #3 by NO at 00:07.  |\n| 2009 | Timeout #1 by NO at 06:18.  |\n| 2009 | Timeout #1 by DAL at 10:22. |\n| 2009 | Timeout #1 by TB at 13:05.  |\n| 2009 | Timeout #2 by DAL at 02:50. |\n| 2009 | Timeout #3 by DAL at 01:08. |\n| 2009 | Timeout #2 by TB at 00:07.  |\n| 2009 | Timeout #3 by TB at 00:02.  |\n| 2009 | Timeout #1 by NYJ at 00:16. |\n| 2009 | Timeout #2 by NYJ at 01:11. |\n| 2009 | Timeout #3 by NYJ at 00:02. |\n| 2009 | Timeout #1 by HOU at 05:57. |\n| 2009 | Timeout #2 by HOU at 01:42. |\n| 2009 | Timeout #1 by JAC at 01:16. |\n| 2009 | Timeout #1 by IND at 01:04. |\n| ⋮ | ⋮ |\n| 2019 | Timeout #1 by PIT at 10:02. |\n| 2019 | Timeout #1 by BAL at 09:52. |\n| 2019 | Timeout #3 by BAL at 00:30. |\n| 2019 | Timeout #1 by IND at 01:55. |\n| 2019 | Timeout #1 by JAX at 00:51. |\n| 2019 | Timeout #2 by JAX at 00:44. |\n| 2019 | Timeout #3 by JAX at 00:02. |\n| 2019 | Timeout #1 by OAK at 08:32. |\n| 2019 | Timeout #3 by OAK at 00:56. |\n| 2019 | Timeout #1 by DEN at 00:49. |\n| 2019 | Timeout #2 by DEN at 00:38. |\n| 2019 | Timeout #1 by DEN at 04:46. |\n| 2019 | Timeout #2 by DEN at 03:55. |\n| 2019 | Timeout #1 by OAK at 03:05. |\n| 2019 | Timeout #2 by OAK at 02:51. |\n| 2019 | Timeout #3 by OAK at 01:46. |\n| 2019 | Timeout #1 by LA at 01:09.  |\n| 2019 | Timeout #1 by ARI at 00:38. |\n| 2019 | Timeout #2 by LA at 00:13.  |\n| 2019 | Timeout #1 by ARI at 06:29. |\n| 2019 | Timeout #1 by LA at 09:26.  |\n| 2019 | Timeout #2 by ARI at 02:59. |\n| 2019 | Timeout #2 by LA at 01:54.  |\n| 2019 | Timeout #3 by LA at 00:02.  |\n| 2019 | Timeout #1 by SF at 01:05.  |\n| 2019 | Timeout #1 by SEA at 00:49. |\n| 2019 | Timeout #1 by SF at 05:55.  |\n| 2019 | Timeout #1 by SEA at 02:34. |\n| 2019 | Timeout #2 by SEA at 00:46. |\n| 2019 | Timeout #3 by SEA at 00:42. |\n\n",
            "text/html": [
              "<table>\n",
              "<caption>A grouped_df: 19143 × 2</caption>\n",
              "<thead>\n",
              "\t<tr><th scope=col>season</th><th scope=col>desc</th></tr>\n",
              "\t<tr><th scope=col>&lt;dbl&gt;</th><th scope=col>&lt;chr&gt;</th></tr>\n",
              "</thead>\n",
              "<tbody>\n",
              "\t<tr><td>2009</td><td>Timeout #1 by PIT at 01:29.</td></tr>\n",
              "\t<tr><td>2009</td><td>Timeout #1 by TEN at 00:54.</td></tr>\n",
              "\t<tr><td>2009</td><td>Timeout #2 by PIT at 00:27.</td></tr>\n",
              "\t<tr><td>2009</td><td>Timeout #3 by PIT at 00:07.</td></tr>\n",
              "\t<tr><td>2009</td><td>Timeout #1 by PIT at 01:03.</td></tr>\n",
              "\t<tr><td>2009</td><td>Timeout #2 by PIT at 00:44.</td></tr>\n",
              "\t<tr><td>2009</td><td>Timeout #3 by PIT at 00:41.</td></tr>\n",
              "\t<tr><td>2009</td><td>Timeout #1 by PIT at 10:34.</td></tr>\n",
              "\t<tr><td>2009</td><td>Timeout #1 by CLE at 01:46.</td></tr>\n",
              "\t<tr><td>2009</td><td>Timeout #1 by CLE at 00:59.</td></tr>\n",
              "\t<tr><td>2009</td><td>Timeout #1 by DET at 14:11.</td></tr>\n",
              "\t<tr><td>2009</td><td>Timeout #2 by DET at 03:49.</td></tr>\n",
              "\t<tr><td>2009</td><td>Timeout #1 by NO at 02:36. </td></tr>\n",
              "\t<tr><td>2009</td><td>Timeout #2 by NO at 01:03. </td></tr>\n",
              "\t<tr><td>2009</td><td>Timeout #2 by NO at 01:03. </td></tr>\n",
              "\t<tr><td>2009</td><td>Timeout #3 by NO at 00:07. </td></tr>\n",
              "\t<tr><td>2009</td><td>Timeout #1 by NO at 06:18. </td></tr>\n",
              "\t<tr><td>2009</td><td>Timeout #1 by DAL at 10:22.</td></tr>\n",
              "\t<tr><td>2009</td><td>Timeout #1 by TB at 13:05. </td></tr>\n",
              "\t<tr><td>2009</td><td>Timeout #2 by DAL at 02:50.</td></tr>\n",
              "\t<tr><td>2009</td><td>Timeout #3 by DAL at 01:08.</td></tr>\n",
              "\t<tr><td>2009</td><td>Timeout #2 by TB at 00:07. </td></tr>\n",
              "\t<tr><td>2009</td><td>Timeout #3 by TB at 00:02. </td></tr>\n",
              "\t<tr><td>2009</td><td>Timeout #1 by NYJ at 00:16.</td></tr>\n",
              "\t<tr><td>2009</td><td>Timeout #2 by NYJ at 01:11.</td></tr>\n",
              "\t<tr><td>2009</td><td>Timeout #3 by NYJ at 00:02.</td></tr>\n",
              "\t<tr><td>2009</td><td>Timeout #1 by HOU at 05:57.</td></tr>\n",
              "\t<tr><td>2009</td><td>Timeout #2 by HOU at 01:42.</td></tr>\n",
              "\t<tr><td>2009</td><td>Timeout #1 by JAC at 01:16.</td></tr>\n",
              "\t<tr><td>2009</td><td>Timeout #1 by IND at 01:04.</td></tr>\n",
              "\t<tr><td>⋮</td><td>⋮</td></tr>\n",
              "\t<tr><td>2019</td><td>Timeout #1 by PIT at 10:02.</td></tr>\n",
              "\t<tr><td>2019</td><td>Timeout #1 by BAL at 09:52.</td></tr>\n",
              "\t<tr><td>2019</td><td>Timeout #3 by BAL at 00:30.</td></tr>\n",
              "\t<tr><td>2019</td><td>Timeout #1 by IND at 01:55.</td></tr>\n",
              "\t<tr><td>2019</td><td>Timeout #1 by JAX at 00:51.</td></tr>\n",
              "\t<tr><td>2019</td><td>Timeout #2 by JAX at 00:44.</td></tr>\n",
              "\t<tr><td>2019</td><td>Timeout #3 by JAX at 00:02.</td></tr>\n",
              "\t<tr><td>2019</td><td>Timeout #1 by OAK at 08:32.</td></tr>\n",
              "\t<tr><td>2019</td><td>Timeout #3 by OAK at 00:56.</td></tr>\n",
              "\t<tr><td>2019</td><td>Timeout #1 by DEN at 00:49.</td></tr>\n",
              "\t<tr><td>2019</td><td>Timeout #2 by DEN at 00:38.</td></tr>\n",
              "\t<tr><td>2019</td><td>Timeout #1 by DEN at 04:46.</td></tr>\n",
              "\t<tr><td>2019</td><td>Timeout #2 by DEN at 03:55.</td></tr>\n",
              "\t<tr><td>2019</td><td>Timeout #1 by OAK at 03:05.</td></tr>\n",
              "\t<tr><td>2019</td><td>Timeout #2 by OAK at 02:51.</td></tr>\n",
              "\t<tr><td>2019</td><td>Timeout #3 by OAK at 01:46.</td></tr>\n",
              "\t<tr><td>2019</td><td>Timeout #1 by LA at 01:09. </td></tr>\n",
              "\t<tr><td>2019</td><td>Timeout #1 by ARI at 00:38.</td></tr>\n",
              "\t<tr><td>2019</td><td>Timeout #2 by LA at 00:13. </td></tr>\n",
              "\t<tr><td>2019</td><td>Timeout #1 by ARI at 06:29.</td></tr>\n",
              "\t<tr><td>2019</td><td>Timeout #1 by LA at 09:26. </td></tr>\n",
              "\t<tr><td>2019</td><td>Timeout #2 by ARI at 02:59.</td></tr>\n",
              "\t<tr><td>2019</td><td>Timeout #2 by LA at 01:54. </td></tr>\n",
              "\t<tr><td>2019</td><td>Timeout #3 by LA at 00:02. </td></tr>\n",
              "\t<tr><td>2019</td><td>Timeout #1 by SF at 01:05. </td></tr>\n",
              "\t<tr><td>2019</td><td>Timeout #1 by SEA at 00:49.</td></tr>\n",
              "\t<tr><td>2019</td><td>Timeout #1 by SF at 05:55. </td></tr>\n",
              "\t<tr><td>2019</td><td>Timeout #1 by SEA at 02:34.</td></tr>\n",
              "\t<tr><td>2019</td><td>Timeout #2 by SEA at 00:46.</td></tr>\n",
              "\t<tr><td>2019</td><td>Timeout #3 by SEA at 00:42.</td></tr>\n",
              "</tbody>\n",
              "</table>\n"
            ]
          },
          "metadata": {
            "tags": []
          }
        }
      ]
    },
    {
      "cell_type": "code",
      "metadata": {
        "id": "4WKog8YBkObc",
        "colab_type": "code",
        "colab": {
          "base_uri": "https://localhost:8080/",
          "height": 326
        },
        "outputId": "201e9204-2233-40bd-8995-8b3930c85711"
      },
      "source": [
        "pbp_all_rp %>%\n",
        "group_by(season) %>%\n",
        "filter(play_type == \"no_play\", !str_detect(desc, \"(Timeout)\")) %>%\n",
        "#select(desc) %>%\n",
        "count(season) -> pbp_all_flags\n",
        "pbp_all_flags"
      ],
      "execution_count": 27,
      "outputs": [
        {
          "output_type": "display_data",
          "data": {
            "text/plain": [
              "   season n   \n",
              "1  2009   2215\n",
              "2  2010   2326\n",
              "3  2011   2459\n",
              "4  2012   2445\n",
              "5  2013   2276\n",
              "6  2014   2527\n",
              "7  2015   2632\n",
              "8  2016   2584\n",
              "9  2017   2482\n",
              "10 2018   2492\n",
              "11 2019   2580"
            ],
            "text/latex": "A grouped\\_df: 11 × 2\n\\begin{tabular}{ll}\n season & n\\\\\n <dbl> & <int>\\\\\n\\hline\n\t 2009 & 2215\\\\\n\t 2010 & 2326\\\\\n\t 2011 & 2459\\\\\n\t 2012 & 2445\\\\\n\t 2013 & 2276\\\\\n\t 2014 & 2527\\\\\n\t 2015 & 2632\\\\\n\t 2016 & 2584\\\\\n\t 2017 & 2482\\\\\n\t 2018 & 2492\\\\\n\t 2019 & 2580\\\\\n\\end{tabular}\n",
            "text/markdown": "\nA grouped_df: 11 × 2\n\n| season &lt;dbl&gt; | n &lt;int&gt; |\n|---|---|\n| 2009 | 2215 |\n| 2010 | 2326 |\n| 2011 | 2459 |\n| 2012 | 2445 |\n| 2013 | 2276 |\n| 2014 | 2527 |\n| 2015 | 2632 |\n| 2016 | 2584 |\n| 2017 | 2482 |\n| 2018 | 2492 |\n| 2019 | 2580 |\n\n",
            "text/html": [
              "<table>\n",
              "<caption>A grouped_df: 11 × 2</caption>\n",
              "<thead>\n",
              "\t<tr><th scope=col>season</th><th scope=col>n</th></tr>\n",
              "\t<tr><th scope=col>&lt;dbl&gt;</th><th scope=col>&lt;int&gt;</th></tr>\n",
              "</thead>\n",
              "<tbody>\n",
              "\t<tr><td>2009</td><td>2215</td></tr>\n",
              "\t<tr><td>2010</td><td>2326</td></tr>\n",
              "\t<tr><td>2011</td><td>2459</td></tr>\n",
              "\t<tr><td>2012</td><td>2445</td></tr>\n",
              "\t<tr><td>2013</td><td>2276</td></tr>\n",
              "\t<tr><td>2014</td><td>2527</td></tr>\n",
              "\t<tr><td>2015</td><td>2632</td></tr>\n",
              "\t<tr><td>2016</td><td>2584</td></tr>\n",
              "\t<tr><td>2017</td><td>2482</td></tr>\n",
              "\t<tr><td>2018</td><td>2492</td></tr>\n",
              "\t<tr><td>2019</td><td>2580</td></tr>\n",
              "</tbody>\n",
              "</table>\n"
            ]
          },
          "metadata": {
            "tags": []
          }
        }
      ]
    },
    {
      "cell_type": "code",
      "metadata": {
        "id": "U3iMy8Edp8ZY",
        "colab_type": "code",
        "colab": {
          "base_uri": "https://localhost:8080/",
          "height": 360
        },
        "outputId": "83d71b52-a709-4ead-8e68-971e28fdee36"
      },
      "source": [
        "pbp_all_rp %>%\n",
        "group_by(season) %>%\n",
        "filter(play_type == \"no_play\", !str_detect(desc, \"(Timeout)\"), str_detect(desc, \"(Holding)\")) %>%\n",
        "select(desc) %>%\n",
        "count(season)\n"
      ],
      "execution_count": 32,
      "outputs": [
        {
          "output_type": "stream",
          "text": [
            "Adding missing grouping variables: `season`\n",
            "\n"
          ],
          "name": "stderr"
        },
        {
          "output_type": "display_data",
          "data": {
            "text/plain": [
              "   season n  \n",
              "1  2009   414\n",
              "2  2010   478\n",
              "3  2011   508\n",
              "4  2012   567\n",
              "5  2013   521\n",
              "6  2014   597\n",
              "7  2015   680\n",
              "8  2016   657\n",
              "9  2017   609\n",
              "10 2018   659\n",
              "11 2019   683"
            ],
            "text/latex": "A grouped\\_df: 11 × 2\n\\begin{tabular}{ll}\n season & n\\\\\n <dbl> & <int>\\\\\n\\hline\n\t 2009 & 414\\\\\n\t 2010 & 478\\\\\n\t 2011 & 508\\\\\n\t 2012 & 567\\\\\n\t 2013 & 521\\\\\n\t 2014 & 597\\\\\n\t 2015 & 680\\\\\n\t 2016 & 657\\\\\n\t 2017 & 609\\\\\n\t 2018 & 659\\\\\n\t 2019 & 683\\\\\n\\end{tabular}\n",
            "text/markdown": "\nA grouped_df: 11 × 2\n\n| season &lt;dbl&gt; | n &lt;int&gt; |\n|---|---|\n| 2009 | 414 |\n| 2010 | 478 |\n| 2011 | 508 |\n| 2012 | 567 |\n| 2013 | 521 |\n| 2014 | 597 |\n| 2015 | 680 |\n| 2016 | 657 |\n| 2017 | 609 |\n| 2018 | 659 |\n| 2019 | 683 |\n\n",
            "text/html": [
              "<table>\n",
              "<caption>A grouped_df: 11 × 2</caption>\n",
              "<thead>\n",
              "\t<tr><th scope=col>season</th><th scope=col>n</th></tr>\n",
              "\t<tr><th scope=col>&lt;dbl&gt;</th><th scope=col>&lt;int&gt;</th></tr>\n",
              "</thead>\n",
              "<tbody>\n",
              "\t<tr><td>2009</td><td>414</td></tr>\n",
              "\t<tr><td>2010</td><td>478</td></tr>\n",
              "\t<tr><td>2011</td><td>508</td></tr>\n",
              "\t<tr><td>2012</td><td>567</td></tr>\n",
              "\t<tr><td>2013</td><td>521</td></tr>\n",
              "\t<tr><td>2014</td><td>597</td></tr>\n",
              "\t<tr><td>2015</td><td>680</td></tr>\n",
              "\t<tr><td>2016</td><td>657</td></tr>\n",
              "\t<tr><td>2017</td><td>609</td></tr>\n",
              "\t<tr><td>2018</td><td>659</td></tr>\n",
              "\t<tr><td>2019</td><td>683</td></tr>\n",
              "</tbody>\n",
              "</table>\n"
            ]
          },
          "metadata": {
            "tags": []
          }
        }
      ]
    },
    {
      "cell_type": "markdown",
      "metadata": {
        "id": "iuE4iI1TqdoV",
        "colab_type": "text"
      },
      "source": [
        "NFL started to take holding much more seriously in later seasons. "
      ]
    }
  ]
}