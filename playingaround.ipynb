{
  "nbformat": 4,
  "nbformat_minor": 0,
  "metadata": {
    "colab": {
      "name": "playingaround",
      "provenance": [],
      "include_colab_link": true
    },
    "kernelspec": {
      "name": "ir",
      "display_name": "R"
    }
  },
  "cells": [
    {
      "cell_type": "markdown",
      "metadata": {
        "id": "view-in-github",
        "colab_type": "text"
      },
      "source": [
        "<a href=\"https://colab.research.google.com/github/michiWS1920/nfl_data/blob/michi/playingaround.ipynb\" target=\"_parent\"><img src=\"https://colab.research.google.com/assets/colab-badge.svg\" alt=\"Open In Colab\"/></a>"
      ]
    },
    {
      "cell_type": "code",
      "metadata": {
        "id": "sIR7zvmg9nWN",
        "colab_type": "code",
        "colab": {
          "base_uri": "https://localhost:8080/",
          "height": 204
        },
        "outputId": "d55095cd-0357-4290-a80f-b67b9f3ade9f"
      },
      "source": [
        "library(tidyverse)\n",
        "library(ggplot2)\n"
      ],
      "execution_count": 4,
      "outputs": [
        {
          "output_type": "stream",
          "text": [
            "── \u001b[1mAttaching packages\u001b[22m ─────────────────────────────────────── tidyverse 1.3.0 ──\n",
            "\n",
            "\u001b[32m✔\u001b[39m \u001b[34mggplot2\u001b[39m 3.3.2     \u001b[32m✔\u001b[39m \u001b[34mpurrr  \u001b[39m 0.3.4\n",
            "\u001b[32m✔\u001b[39m \u001b[34mtibble \u001b[39m 3.0.1     \u001b[32m✔\u001b[39m \u001b[34mdplyr  \u001b[39m 1.0.0\n",
            "\u001b[32m✔\u001b[39m \u001b[34mtidyr  \u001b[39m 1.1.0     \u001b[32m✔\u001b[39m \u001b[34mstringr\u001b[39m 1.4.0\n",
            "\u001b[32m✔\u001b[39m \u001b[34mreadr  \u001b[39m 1.3.1     \u001b[32m✔\u001b[39m \u001b[34mforcats\u001b[39m 0.5.0\n",
            "\n",
            "── \u001b[1mConflicts\u001b[22m ────────────────────────────────────────── tidyverse_conflicts() ──\n",
            "\u001b[31m✖\u001b[39m \u001b[34mdplyr\u001b[39m::\u001b[32mfilter()\u001b[39m masks \u001b[34mstats\u001b[39m::filter()\n",
            "\u001b[31m✖\u001b[39m \u001b[34mdplyr\u001b[39m::\u001b[32mlag()\u001b[39m    masks \u001b[34mstats\u001b[39m::lag()\n",
            "\n"
          ],
          "name": "stderr"
        }
      ]
    },
    {
      "cell_type": "code",
      "metadata": {
        "id": "vltbzRmXbyD6",
        "colab_type": "code",
        "colab": {
          "base_uri": "https://localhost:8080/",
          "height": 119
        },
        "outputId": "be5d6745-1af1-47f5-f553-8084ee6db057"
      },
      "source": [
        "install.packages(\"googledrive\")\n"
      ],
      "execution_count": null,
      "outputs": [
        {
          "output_type": "stream",
          "text": [
            "Installing package into ‘/usr/local/lib/R/site-library’\n",
            "(as ‘lib’ is unspecified)\n",
            "\n",
            "also installing the dependency ‘gargle’\n",
            "\n",
            "\n"
          ],
          "name": "stderr"
        }
      ]
    },
    {
      "cell_type": "code",
      "metadata": {
        "id": "dQZhONksb2uI",
        "colab_type": "code",
        "colab": {}
      },
      "source": [
        "library(googledrive)"
      ],
      "execution_count": null,
      "outputs": []
    },
    {
      "cell_type": "code",
      "metadata": {
        "id": "AOX6lQ8Ob4TL",
        "colab_type": "code",
        "colab": {}
      },
      "source": [
        "chicken <- drive_upload(\n",
        "  drive_example(\"chicken.csv\"),\n",
        "  \"README-chicken.csv\""
      ],
      "execution_count": null,
      "outputs": []
    },
    {
      "cell_type": "code",
      "metadata": {
        "id": "BCHLkG8oWBSs",
        "colab_type": "code",
        "colab": {}
      },
      "source": [
        "first <- 2009 \n",
        "last <- 2019 \n",
        "\n",
        "datalist = list()\n",
        "for (yr in first:last) {\n",
        "    pbp <- read_csv(url(paste0(\"https://github.com/ryurko/nflscrapR-data/raw/master/play_by_play_data/regular_season/reg_pbp_\", yr, \".csv\"))) #read every play by play data\n",
        "    games <- read_csv(url(paste0(\"https://raw.githubusercontent.com/ryurko/nflscrapR-data/master/games_data/regular_season/reg_games_\", yr, \".csv\"))) #read game data including score/ week etc.\n",
        "    pbp <- pbp %>% \n",
        "      inner_join(games %>% distinct(game_id, week, season)) %>% #join the two\n",
        "      select(-fumble_recovery_2_yards, -blocked_player_id, -fumble_recovery_2_player_id) # throw some variables out that are inconsistent in format over the seasons\n",
        "    datalist[[yr]] <- pbp \n",
        "}\n",
        "\n",
        "pbp_all <- dplyr::bind_rows(datalist)"
      ],
      "execution_count": null,
      "outputs": []
    },
    {
      "cell_type": "code",
      "metadata": {
        "id": "WLzM2CR8Wnj0",
        "colab_type": "code",
        "colab": {}
      },
      "source": [
        "# Change teamnames for teams that changed their names in the last 10 seasons - to have consistent data\n",
        "pbp_all <- pbp_all %>% \n",
        "\tmutate_at(vars(home_team, away_team, posteam, defteam), funs(case_when(\n",
        "            . %in% \"JAX\" ~ \"JAC\",\n",
        "            . %in% \"STL\" ~ \"LA\",\n",
        "            . %in% \"SD\" ~ \"LAC\",\n",
        "            TRUE ~ .\n",
        "        ))) "
      ],
      "execution_count": null,
      "outputs": []
    },
    {
      "cell_type": "code",
      "metadata": {
        "id": "PkQACPq2_yUQ",
        "colab_type": "code",
        "colab": {}
      },
      "source": [
        "#saveRDS(pbp_all, file=\"NFLdata.rds\")\n",
        "pbp_all <- readRDS(\"NFLdata.rds\")"
      ],
      "execution_count": 1,
      "outputs": []
    },
    {
      "cell_type": "code",
      "metadata": {
        "id": "Yiq56UTbAeLG",
        "colab_type": "code",
        "colab": {}
      },
      "source": [
        "# cleaning for further analysis\n",
        "pbp_all_rp <- pbp_all %>%\n",
        "      filter(!is.na(epa), !is.na(posteam), play_type==\"no_play\" | play_type==\"pass\" | play_type==\"run\") %>% #filter out certain NA values, only show three play_types\n",
        "\tmutate( #create new columns that indicates if the play was a pass or rush - this is done by parsing the description of the play (certain keywords are perfect indicators)\n",
        "\tpass = if_else(str_detect(desc, \"( pass)|(sacked)|(scramble)\"), 1, 0), #\n",
        "\trush = if_else(str_detect(desc, \"(left end)|(left tackle)|(left guard)|(up the middle)|(right guard)|(right tackle)|(right end)\") & pass == 0, 1, 0),\n",
        "\tsuccess = ifelse(epa>0, 1 , 0),\n",
        "\tpasser_player_name = ifelse(play_type == \"no_play\" & pass == 1, #create new column that parses the player_name depending on the type of play (pass / receiver / rusher)\n",
        "              str_extract(desc, \"(?<=\\\\s)[A-Z][a-z]*\\\\.\\\\s?[A-Z][A-z]+(\\\\s(I{2,3})|(IV))?(?=\\\\s((pass)|(sack)|(scramble)))\"),\n",
        "              passer_player_name),\n",
        "        receiver_player_name = ifelse(play_type == \"no_play\" & str_detect(desc, \"pass\"), \n",
        "              str_extract(desc, \"(?<=to\\\\s)[A-Z][a-z]*\\\\.\\\\s?[A-Z][A-z]+(\\\\s(I{2,3})|(IV))?\"),\n",
        "              receiver_player_name),\n",
        "        rusher_player_name = ifelse(play_type == \"no_play\" & rush == 1, \n",
        "              str_extract(desc, \"(?<=\\\\s)[A-Z][a-z]*\\\\.\\\\s?[A-Z][A-z]+(\\\\s(I{2,3})|(IV))?(?=\\\\s((left end)|(left tackle)|(left guard)|\t\t      (up the middle)|(right guard)|(right tackle)|(right end)))\"),\n",
        "              rusher_player_name),\n",
        "\tname = ifelse(!is.na(passer_player_name), passer_player_name, rusher_player_name),\n",
        "\tyards_gained=ifelse(play_type==\"no_play\",NA,yards_gained), # filter out NA for yards_gained\n",
        "\tplay=1\n",
        "\t) #%>%\n",
        "\t#filter(pass==1 | rush==1) #only keep passes and rushes"
      ],
      "execution_count": 5,
      "outputs": []
    },
    {
      "cell_type": "code",
      "metadata": {
        "id": "WSADiN4elN89",
        "colab_type": "code",
        "colab": {
          "base_uri": "https://localhost:8080/",
          "height": 221
        },
        "outputId": "e841e042-1af1-4d92-fa32-a05a235b8646"
      },
      "source": [
        "pbp_all_rp %>%\n",
        "select(play_type) %>%\n",
        "head()"
      ],
      "execution_count": 15,
      "outputs": [
        {
          "output_type": "display_data",
          "data": {
            "text/plain": [
              "  play_type\n",
              "1 pass     \n",
              "2 run      \n",
              "3 pass     \n",
              "4 run      \n",
              "5 pass     \n",
              "6 run      "
            ],
            "text/latex": "A tibble: 6 × 1\n\\begin{tabular}{l}\n play\\_type\\\\\n <chr>\\\\\n\\hline\n\t pass\\\\\n\t run \\\\\n\t pass\\\\\n\t run \\\\\n\t pass\\\\\n\t run \\\\\n\\end{tabular}\n",
            "text/markdown": "\nA tibble: 6 × 1\n\n| play_type &lt;chr&gt; |\n|---|\n| pass |\n| run  |\n| pass |\n| run  |\n| pass |\n| run  |\n\n",
            "text/html": [
              "<table>\n",
              "<caption>A tibble: 6 × 1</caption>\n",
              "<thead>\n",
              "\t<tr><th scope=col>play_type</th></tr>\n",
              "\t<tr><th scope=col>&lt;chr&gt;</th></tr>\n",
              "</thead>\n",
              "<tbody>\n",
              "\t<tr><td>pass</td></tr>\n",
              "\t<tr><td>run </td></tr>\n",
              "\t<tr><td>pass</td></tr>\n",
              "\t<tr><td>run </td></tr>\n",
              "\t<tr><td>pass</td></tr>\n",
              "\t<tr><td>run </td></tr>\n",
              "</tbody>\n",
              "</table>\n"
            ]
          },
          "metadata": {
            "tags": []
          }
        }
      ]
    },
    {
      "cell_type": "markdown",
      "metadata": {
        "id": "NO78besynz81",
        "colab_type": "text"
      },
      "source": [
        "Problem is Timeouts are in noplay, have to filter them out\n"
      ]
    },
    {
      "cell_type": "code",
      "metadata": {
        "id": "dHXUuiZklmGi",
        "colab_type": "code",
        "colab": {
          "base_uri": "https://localhost:8080/",
          "height": 1000
        },
        "outputId": "8aa27920-d5f0-410c-c1b0-c7ddaf5cff85"
      },
      "source": [
        "pbp_all_rp %>%\n",
        "group_by(season) %>%\n",
        "filter(play_type== \"no_play\", str_detect(desc, \"(Timeout)\")) %>%\n",
        "select(desc)"
      ],
      "execution_count": 18,
      "outputs": [
        {
          "output_type": "stream",
          "text": [
            "Adding missing grouping variables: `season`\n",
            "\n"
          ],
          "name": "stderr"
        },
        {
          "output_type": "display_data",
          "data": {
            "text/plain": [
              "      season desc                       \n",
              "1     2009   Timeout #1 by PIT at 01:29.\n",
              "2     2009   Timeout #1 by TEN at 00:54.\n",
              "3     2009   Timeout #2 by PIT at 00:27.\n",
              "4     2009   Timeout #3 by PIT at 00:07.\n",
              "5     2009   Timeout #1 by PIT at 01:03.\n",
              "6     2009   Timeout #2 by PIT at 00:44.\n",
              "7     2009   Timeout #3 by PIT at 00:41.\n",
              "8     2009   Timeout #1 by PIT at 10:34.\n",
              "9     2009   Timeout #1 by CLE at 01:46.\n",
              "10    2009   Timeout #1 by CLE at 00:59.\n",
              "11    2009   Timeout #1 by DET at 14:11.\n",
              "12    2009   Timeout #2 by DET at 03:49.\n",
              "13    2009   Timeout #1 by NO at 02:36. \n",
              "14    2009   Timeout #2 by NO at 01:03. \n",
              "15    2009   Timeout #2 by NO at 01:03. \n",
              "16    2009   Timeout #3 by NO at 00:07. \n",
              "17    2009   Timeout #1 by NO at 06:18. \n",
              "18    2009   Timeout #1 by DAL at 10:22.\n",
              "19    2009   Timeout #1 by TB at 13:05. \n",
              "20    2009   Timeout #2 by DAL at 02:50.\n",
              "21    2009   Timeout #3 by DAL at 01:08.\n",
              "22    2009   Timeout #2 by TB at 00:07. \n",
              "23    2009   Timeout #3 by TB at 00:02. \n",
              "24    2009   Timeout #1 by NYJ at 00:16.\n",
              "25    2009   Timeout #2 by NYJ at 01:11.\n",
              "26    2009   Timeout #3 by NYJ at 00:02.\n",
              "27    2009   Timeout #1 by HOU at 05:57.\n",
              "28    2009   Timeout #2 by HOU at 01:42.\n",
              "29    2009   Timeout #1 by JAC at 01:16.\n",
              "30    2009   Timeout #1 by IND at 01:04.\n",
              "⋮     ⋮      ⋮                          \n",
              "19114 2019   Timeout #1 by PIT at 10:02.\n",
              "19115 2019   Timeout #1 by BAL at 09:52.\n",
              "19116 2019   Timeout #3 by BAL at 00:30.\n",
              "19117 2019   Timeout #1 by IND at 01:55.\n",
              "19118 2019   Timeout #1 by JAX at 00:51.\n",
              "19119 2019   Timeout #2 by JAX at 00:44.\n",
              "19120 2019   Timeout #3 by JAX at 00:02.\n",
              "19121 2019   Timeout #1 by OAK at 08:32.\n",
              "19122 2019   Timeout #3 by OAK at 00:56.\n",
              "19123 2019   Timeout #1 by DEN at 00:49.\n",
              "19124 2019   Timeout #2 by DEN at 00:38.\n",
              "19125 2019   Timeout #1 by DEN at 04:46.\n",
              "19126 2019   Timeout #2 by DEN at 03:55.\n",
              "19127 2019   Timeout #1 by OAK at 03:05.\n",
              "19128 2019   Timeout #2 by OAK at 02:51.\n",
              "19129 2019   Timeout #3 by OAK at 01:46.\n",
              "19130 2019   Timeout #1 by LA at 01:09. \n",
              "19131 2019   Timeout #1 by ARI at 00:38.\n",
              "19132 2019   Timeout #2 by LA at 00:13. \n",
              "19133 2019   Timeout #1 by ARI at 06:29.\n",
              "19134 2019   Timeout #1 by LA at 09:26. \n",
              "19135 2019   Timeout #2 by ARI at 02:59.\n",
              "19136 2019   Timeout #2 by LA at 01:54. \n",
              "19137 2019   Timeout #3 by LA at 00:02. \n",
              "19138 2019   Timeout #1 by SF at 01:05. \n",
              "19139 2019   Timeout #1 by SEA at 00:49.\n",
              "19140 2019   Timeout #1 by SF at 05:55. \n",
              "19141 2019   Timeout #1 by SEA at 02:34.\n",
              "19142 2019   Timeout #2 by SEA at 00:46.\n",
              "19143 2019   Timeout #3 by SEA at 00:42."
            ],
            "text/latex": "A grouped\\_df: 19143 × 2\n\\begin{tabular}{ll}\n season & desc\\\\\n <dbl> & <chr>\\\\\n\\hline\n\t 2009 & Timeout \\#1 by PIT at 01:29.\\\\\n\t 2009 & Timeout \\#1 by TEN at 00:54.\\\\\n\t 2009 & Timeout \\#2 by PIT at 00:27.\\\\\n\t 2009 & Timeout \\#3 by PIT at 00:07.\\\\\n\t 2009 & Timeout \\#1 by PIT at 01:03.\\\\\n\t 2009 & Timeout \\#2 by PIT at 00:44.\\\\\n\t 2009 & Timeout \\#3 by PIT at 00:41.\\\\\n\t 2009 & Timeout \\#1 by PIT at 10:34.\\\\\n\t 2009 & Timeout \\#1 by CLE at 01:46.\\\\\n\t 2009 & Timeout \\#1 by CLE at 00:59.\\\\\n\t 2009 & Timeout \\#1 by DET at 14:11.\\\\\n\t 2009 & Timeout \\#2 by DET at 03:49.\\\\\n\t 2009 & Timeout \\#1 by NO at 02:36. \\\\\n\t 2009 & Timeout \\#2 by NO at 01:03. \\\\\n\t 2009 & Timeout \\#2 by NO at 01:03. \\\\\n\t 2009 & Timeout \\#3 by NO at 00:07. \\\\\n\t 2009 & Timeout \\#1 by NO at 06:18. \\\\\n\t 2009 & Timeout \\#1 by DAL at 10:22.\\\\\n\t 2009 & Timeout \\#1 by TB at 13:05. \\\\\n\t 2009 & Timeout \\#2 by DAL at 02:50.\\\\\n\t 2009 & Timeout \\#3 by DAL at 01:08.\\\\\n\t 2009 & Timeout \\#2 by TB at 00:07. \\\\\n\t 2009 & Timeout \\#3 by TB at 00:02. \\\\\n\t 2009 & Timeout \\#1 by NYJ at 00:16.\\\\\n\t 2009 & Timeout \\#2 by NYJ at 01:11.\\\\\n\t 2009 & Timeout \\#3 by NYJ at 00:02.\\\\\n\t 2009 & Timeout \\#1 by HOU at 05:57.\\\\\n\t 2009 & Timeout \\#2 by HOU at 01:42.\\\\\n\t 2009 & Timeout \\#1 by JAC at 01:16.\\\\\n\t 2009 & Timeout \\#1 by IND at 01:04.\\\\\n\t ⋮ & ⋮\\\\\n\t 2019 & Timeout \\#1 by PIT at 10:02.\\\\\n\t 2019 & Timeout \\#1 by BAL at 09:52.\\\\\n\t 2019 & Timeout \\#3 by BAL at 00:30.\\\\\n\t 2019 & Timeout \\#1 by IND at 01:55.\\\\\n\t 2019 & Timeout \\#1 by JAX at 00:51.\\\\\n\t 2019 & Timeout \\#2 by JAX at 00:44.\\\\\n\t 2019 & Timeout \\#3 by JAX at 00:02.\\\\\n\t 2019 & Timeout \\#1 by OAK at 08:32.\\\\\n\t 2019 & Timeout \\#3 by OAK at 00:56.\\\\\n\t 2019 & Timeout \\#1 by DEN at 00:49.\\\\\n\t 2019 & Timeout \\#2 by DEN at 00:38.\\\\\n\t 2019 & Timeout \\#1 by DEN at 04:46.\\\\\n\t 2019 & Timeout \\#2 by DEN at 03:55.\\\\\n\t 2019 & Timeout \\#1 by OAK at 03:05.\\\\\n\t 2019 & Timeout \\#2 by OAK at 02:51.\\\\\n\t 2019 & Timeout \\#3 by OAK at 01:46.\\\\\n\t 2019 & Timeout \\#1 by LA at 01:09. \\\\\n\t 2019 & Timeout \\#1 by ARI at 00:38.\\\\\n\t 2019 & Timeout \\#2 by LA at 00:13. \\\\\n\t 2019 & Timeout \\#1 by ARI at 06:29.\\\\\n\t 2019 & Timeout \\#1 by LA at 09:26. \\\\\n\t 2019 & Timeout \\#2 by ARI at 02:59.\\\\\n\t 2019 & Timeout \\#2 by LA at 01:54. \\\\\n\t 2019 & Timeout \\#3 by LA at 00:02. \\\\\n\t 2019 & Timeout \\#1 by SF at 01:05. \\\\\n\t 2019 & Timeout \\#1 by SEA at 00:49.\\\\\n\t 2019 & Timeout \\#1 by SF at 05:55. \\\\\n\t 2019 & Timeout \\#1 by SEA at 02:34.\\\\\n\t 2019 & Timeout \\#2 by SEA at 00:46.\\\\\n\t 2019 & Timeout \\#3 by SEA at 00:42.\\\\\n\\end{tabular}\n",
            "text/markdown": "\nA grouped_df: 19143 × 2\n\n| season &lt;dbl&gt; | desc &lt;chr&gt; |\n|---|---|\n| 2009 | Timeout #1 by PIT at 01:29. |\n| 2009 | Timeout #1 by TEN at 00:54. |\n| 2009 | Timeout #2 by PIT at 00:27. |\n| 2009 | Timeout #3 by PIT at 00:07. |\n| 2009 | Timeout #1 by PIT at 01:03. |\n| 2009 | Timeout #2 by PIT at 00:44. |\n| 2009 | Timeout #3 by PIT at 00:41. |\n| 2009 | Timeout #1 by PIT at 10:34. |\n| 2009 | Timeout #1 by CLE at 01:46. |\n| 2009 | Timeout #1 by CLE at 00:59. |\n| 2009 | Timeout #1 by DET at 14:11. |\n| 2009 | Timeout #2 by DET at 03:49. |\n| 2009 | Timeout #1 by NO at 02:36.  |\n| 2009 | Timeout #2 by NO at 01:03.  |\n| 2009 | Timeout #2 by NO at 01:03.  |\n| 2009 | Timeout #3 by NO at 00:07.  |\n| 2009 | Timeout #1 by NO at 06:18.  |\n| 2009 | Timeout #1 by DAL at 10:22. |\n| 2009 | Timeout #1 by TB at 13:05.  |\n| 2009 | Timeout #2 by DAL at 02:50. |\n| 2009 | Timeout #3 by DAL at 01:08. |\n| 2009 | Timeout #2 by TB at 00:07.  |\n| 2009 | Timeout #3 by TB at 00:02.  |\n| 2009 | Timeout #1 by NYJ at 00:16. |\n| 2009 | Timeout #2 by NYJ at 01:11. |\n| 2009 | Timeout #3 by NYJ at 00:02. |\n| 2009 | Timeout #1 by HOU at 05:57. |\n| 2009 | Timeout #2 by HOU at 01:42. |\n| 2009 | Timeout #1 by JAC at 01:16. |\n| 2009 | Timeout #1 by IND at 01:04. |\n| ⋮ | ⋮ |\n| 2019 | Timeout #1 by PIT at 10:02. |\n| 2019 | Timeout #1 by BAL at 09:52. |\n| 2019 | Timeout #3 by BAL at 00:30. |\n| 2019 | Timeout #1 by IND at 01:55. |\n| 2019 | Timeout #1 by JAX at 00:51. |\n| 2019 | Timeout #2 by JAX at 00:44. |\n| 2019 | Timeout #3 by JAX at 00:02. |\n| 2019 | Timeout #1 by OAK at 08:32. |\n| 2019 | Timeout #3 by OAK at 00:56. |\n| 2019 | Timeout #1 by DEN at 00:49. |\n| 2019 | Timeout #2 by DEN at 00:38. |\n| 2019 | Timeout #1 by DEN at 04:46. |\n| 2019 | Timeout #2 by DEN at 03:55. |\n| 2019 | Timeout #1 by OAK at 03:05. |\n| 2019 | Timeout #2 by OAK at 02:51. |\n| 2019 | Timeout #3 by OAK at 01:46. |\n| 2019 | Timeout #1 by LA at 01:09.  |\n| 2019 | Timeout #1 by ARI at 00:38. |\n| 2019 | Timeout #2 by LA at 00:13.  |\n| 2019 | Timeout #1 by ARI at 06:29. |\n| 2019 | Timeout #1 by LA at 09:26.  |\n| 2019 | Timeout #2 by ARI at 02:59. |\n| 2019 | Timeout #2 by LA at 01:54.  |\n| 2019 | Timeout #3 by LA at 00:02.  |\n| 2019 | Timeout #1 by SF at 01:05.  |\n| 2019 | Timeout #1 by SEA at 00:49. |\n| 2019 | Timeout #1 by SF at 05:55.  |\n| 2019 | Timeout #1 by SEA at 02:34. |\n| 2019 | Timeout #2 by SEA at 00:46. |\n| 2019 | Timeout #3 by SEA at 00:42. |\n\n",
            "text/html": [
              "<table>\n",
              "<caption>A grouped_df: 19143 × 2</caption>\n",
              "<thead>\n",
              "\t<tr><th scope=col>season</th><th scope=col>desc</th></tr>\n",
              "\t<tr><th scope=col>&lt;dbl&gt;</th><th scope=col>&lt;chr&gt;</th></tr>\n",
              "</thead>\n",
              "<tbody>\n",
              "\t<tr><td>2009</td><td>Timeout #1 by PIT at 01:29.</td></tr>\n",
              "\t<tr><td>2009</td><td>Timeout #1 by TEN at 00:54.</td></tr>\n",
              "\t<tr><td>2009</td><td>Timeout #2 by PIT at 00:27.</td></tr>\n",
              "\t<tr><td>2009</td><td>Timeout #3 by PIT at 00:07.</td></tr>\n",
              "\t<tr><td>2009</td><td>Timeout #1 by PIT at 01:03.</td></tr>\n",
              "\t<tr><td>2009</td><td>Timeout #2 by PIT at 00:44.</td></tr>\n",
              "\t<tr><td>2009</td><td>Timeout #3 by PIT at 00:41.</td></tr>\n",
              "\t<tr><td>2009</td><td>Timeout #1 by PIT at 10:34.</td></tr>\n",
              "\t<tr><td>2009</td><td>Timeout #1 by CLE at 01:46.</td></tr>\n",
              "\t<tr><td>2009</td><td>Timeout #1 by CLE at 00:59.</td></tr>\n",
              "\t<tr><td>2009</td><td>Timeout #1 by DET at 14:11.</td></tr>\n",
              "\t<tr><td>2009</td><td>Timeout #2 by DET at 03:49.</td></tr>\n",
              "\t<tr><td>2009</td><td>Timeout #1 by NO at 02:36. </td></tr>\n",
              "\t<tr><td>2009</td><td>Timeout #2 by NO at 01:03. </td></tr>\n",
              "\t<tr><td>2009</td><td>Timeout #2 by NO at 01:03. </td></tr>\n",
              "\t<tr><td>2009</td><td>Timeout #3 by NO at 00:07. </td></tr>\n",
              "\t<tr><td>2009</td><td>Timeout #1 by NO at 06:18. </td></tr>\n",
              "\t<tr><td>2009</td><td>Timeout #1 by DAL at 10:22.</td></tr>\n",
              "\t<tr><td>2009</td><td>Timeout #1 by TB at 13:05. </td></tr>\n",
              "\t<tr><td>2009</td><td>Timeout #2 by DAL at 02:50.</td></tr>\n",
              "\t<tr><td>2009</td><td>Timeout #3 by DAL at 01:08.</td></tr>\n",
              "\t<tr><td>2009</td><td>Timeout #2 by TB at 00:07. </td></tr>\n",
              "\t<tr><td>2009</td><td>Timeout #3 by TB at 00:02. </td></tr>\n",
              "\t<tr><td>2009</td><td>Timeout #1 by NYJ at 00:16.</td></tr>\n",
              "\t<tr><td>2009</td><td>Timeout #2 by NYJ at 01:11.</td></tr>\n",
              "\t<tr><td>2009</td><td>Timeout #3 by NYJ at 00:02.</td></tr>\n",
              "\t<tr><td>2009</td><td>Timeout #1 by HOU at 05:57.</td></tr>\n",
              "\t<tr><td>2009</td><td>Timeout #2 by HOU at 01:42.</td></tr>\n",
              "\t<tr><td>2009</td><td>Timeout #1 by JAC at 01:16.</td></tr>\n",
              "\t<tr><td>2009</td><td>Timeout #1 by IND at 01:04.</td></tr>\n",
              "\t<tr><td>⋮</td><td>⋮</td></tr>\n",
              "\t<tr><td>2019</td><td>Timeout #1 by PIT at 10:02.</td></tr>\n",
              "\t<tr><td>2019</td><td>Timeout #1 by BAL at 09:52.</td></tr>\n",
              "\t<tr><td>2019</td><td>Timeout #3 by BAL at 00:30.</td></tr>\n",
              "\t<tr><td>2019</td><td>Timeout #1 by IND at 01:55.</td></tr>\n",
              "\t<tr><td>2019</td><td>Timeout #1 by JAX at 00:51.</td></tr>\n",
              "\t<tr><td>2019</td><td>Timeout #2 by JAX at 00:44.</td></tr>\n",
              "\t<tr><td>2019</td><td>Timeout #3 by JAX at 00:02.</td></tr>\n",
              "\t<tr><td>2019</td><td>Timeout #1 by OAK at 08:32.</td></tr>\n",
              "\t<tr><td>2019</td><td>Timeout #3 by OAK at 00:56.</td></tr>\n",
              "\t<tr><td>2019</td><td>Timeout #1 by DEN at 00:49.</td></tr>\n",
              "\t<tr><td>2019</td><td>Timeout #2 by DEN at 00:38.</td></tr>\n",
              "\t<tr><td>2019</td><td>Timeout #1 by DEN at 04:46.</td></tr>\n",
              "\t<tr><td>2019</td><td>Timeout #2 by DEN at 03:55.</td></tr>\n",
              "\t<tr><td>2019</td><td>Timeout #1 by OAK at 03:05.</td></tr>\n",
              "\t<tr><td>2019</td><td>Timeout #2 by OAK at 02:51.</td></tr>\n",
              "\t<tr><td>2019</td><td>Timeout #3 by OAK at 01:46.</td></tr>\n",
              "\t<tr><td>2019</td><td>Timeout #1 by LA at 01:09. </td></tr>\n",
              "\t<tr><td>2019</td><td>Timeout #1 by ARI at 00:38.</td></tr>\n",
              "\t<tr><td>2019</td><td>Timeout #2 by LA at 00:13. </td></tr>\n",
              "\t<tr><td>2019</td><td>Timeout #1 by ARI at 06:29.</td></tr>\n",
              "\t<tr><td>2019</td><td>Timeout #1 by LA at 09:26. </td></tr>\n",
              "\t<tr><td>2019</td><td>Timeout #2 by ARI at 02:59.</td></tr>\n",
              "\t<tr><td>2019</td><td>Timeout #2 by LA at 01:54. </td></tr>\n",
              "\t<tr><td>2019</td><td>Timeout #3 by LA at 00:02. </td></tr>\n",
              "\t<tr><td>2019</td><td>Timeout #1 by SF at 01:05. </td></tr>\n",
              "\t<tr><td>2019</td><td>Timeout #1 by SEA at 00:49.</td></tr>\n",
              "\t<tr><td>2019</td><td>Timeout #1 by SF at 05:55. </td></tr>\n",
              "\t<tr><td>2019</td><td>Timeout #1 by SEA at 02:34.</td></tr>\n",
              "\t<tr><td>2019</td><td>Timeout #2 by SEA at 00:46.</td></tr>\n",
              "\t<tr><td>2019</td><td>Timeout #3 by SEA at 00:42.</td></tr>\n",
              "</tbody>\n",
              "</table>\n"
            ]
          },
          "metadata": {
            "tags": []
          }
        }
      ]
    },
    {
      "cell_type": "code",
      "metadata": {
        "id": "4WKog8YBkObc",
        "colab_type": "code",
        "colab": {
          "base_uri": "https://localhost:8080/",
          "height": 326
        },
        "outputId": "201e9204-2233-40bd-8995-8b3930c85711"
      },
      "source": [
        "pbp_all_rp %>%\n",
        "group_by(season) %>%\n",
        "filter(play_type == \"no_play\", !str_detect(desc, \"(Timeout)\")) %>%\n",
        "#select(desc) %>%\n",
        "count(season) -> pbp_all_flags\n",
        "pbp_all_flags"
      ],
      "execution_count": 27,
      "outputs": [
        {
          "output_type": "display_data",
          "data": {
            "text/plain": [
              "   season n   \n",
              "1  2009   2215\n",
              "2  2010   2326\n",
              "3  2011   2459\n",
              "4  2012   2445\n",
              "5  2013   2276\n",
              "6  2014   2527\n",
              "7  2015   2632\n",
              "8  2016   2584\n",
              "9  2017   2482\n",
              "10 2018   2492\n",
              "11 2019   2580"
            ],
            "text/latex": "A grouped\\_df: 11 × 2\n\\begin{tabular}{ll}\n season & n\\\\\n <dbl> & <int>\\\\\n\\hline\n\t 2009 & 2215\\\\\n\t 2010 & 2326\\\\\n\t 2011 & 2459\\\\\n\t 2012 & 2445\\\\\n\t 2013 & 2276\\\\\n\t 2014 & 2527\\\\\n\t 2015 & 2632\\\\\n\t 2016 & 2584\\\\\n\t 2017 & 2482\\\\\n\t 2018 & 2492\\\\\n\t 2019 & 2580\\\\\n\\end{tabular}\n",
            "text/markdown": "\nA grouped_df: 11 × 2\n\n| season &lt;dbl&gt; | n &lt;int&gt; |\n|---|---|\n| 2009 | 2215 |\n| 2010 | 2326 |\n| 2011 | 2459 |\n| 2012 | 2445 |\n| 2013 | 2276 |\n| 2014 | 2527 |\n| 2015 | 2632 |\n| 2016 | 2584 |\n| 2017 | 2482 |\n| 2018 | 2492 |\n| 2019 | 2580 |\n\n",
            "text/html": [
              "<table>\n",
              "<caption>A grouped_df: 11 × 2</caption>\n",
              "<thead>\n",
              "\t<tr><th scope=col>season</th><th scope=col>n</th></tr>\n",
              "\t<tr><th scope=col>&lt;dbl&gt;</th><th scope=col>&lt;int&gt;</th></tr>\n",
              "</thead>\n",
              "<tbody>\n",
              "\t<tr><td>2009</td><td>2215</td></tr>\n",
              "\t<tr><td>2010</td><td>2326</td></tr>\n",
              "\t<tr><td>2011</td><td>2459</td></tr>\n",
              "\t<tr><td>2012</td><td>2445</td></tr>\n",
              "\t<tr><td>2013</td><td>2276</td></tr>\n",
              "\t<tr><td>2014</td><td>2527</td></tr>\n",
              "\t<tr><td>2015</td><td>2632</td></tr>\n",
              "\t<tr><td>2016</td><td>2584</td></tr>\n",
              "\t<tr><td>2017</td><td>2482</td></tr>\n",
              "\t<tr><td>2018</td><td>2492</td></tr>\n",
              "\t<tr><td>2019</td><td>2580</td></tr>\n",
              "</tbody>\n",
              "</table>\n"
            ]
          },
          "metadata": {
            "tags": []
          }
        }
      ]
    },
    {
      "cell_type": "code",
      "metadata": {
        "id": "U3iMy8Edp8ZY",
        "colab_type": "code",
        "colab": {
          "base_uri": "https://localhost:8080/",
          "height": 360
        },
        "outputId": "83d71b52-a709-4ead-8e68-971e28fdee36"
      },
      "source": [
        "pbp_all_rp %>%\n",
        "group_by(season) %>%\n",
        "filter(play_type == \"no_play\", !str_detect(desc, \"(Timeout)\"), str_detect(desc, \"(Holding)\")) %>%\n",
        "select(desc) %>%\n",
        "count(season)\n"
      ],
      "execution_count": 32,
      "outputs": [
        {
          "output_type": "stream",
          "text": [
            "Adding missing grouping variables: `season`\n",
            "\n"
          ],
          "name": "stderr"
        },
        {
          "output_type": "display_data",
          "data": {
            "text/plain": [
              "   season n  \n",
              "1  2009   414\n",
              "2  2010   478\n",
              "3  2011   508\n",
              "4  2012   567\n",
              "5  2013   521\n",
              "6  2014   597\n",
              "7  2015   680\n",
              "8  2016   657\n",
              "9  2017   609\n",
              "10 2018   659\n",
              "11 2019   683"
            ],
            "text/latex": "A grouped\\_df: 11 × 2\n\\begin{tabular}{ll}\n season & n\\\\\n <dbl> & <int>\\\\\n\\hline\n\t 2009 & 414\\\\\n\t 2010 & 478\\\\\n\t 2011 & 508\\\\\n\t 2012 & 567\\\\\n\t 2013 & 521\\\\\n\t 2014 & 597\\\\\n\t 2015 & 680\\\\\n\t 2016 & 657\\\\\n\t 2017 & 609\\\\\n\t 2018 & 659\\\\\n\t 2019 & 683\\\\\n\\end{tabular}\n",
            "text/markdown": "\nA grouped_df: 11 × 2\n\n| season &lt;dbl&gt; | n &lt;int&gt; |\n|---|---|\n| 2009 | 414 |\n| 2010 | 478 |\n| 2011 | 508 |\n| 2012 | 567 |\n| 2013 | 521 |\n| 2014 | 597 |\n| 2015 | 680 |\n| 2016 | 657 |\n| 2017 | 609 |\n| 2018 | 659 |\n| 2019 | 683 |\n\n",
            "text/html": [
              "<table>\n",
              "<caption>A grouped_df: 11 × 2</caption>\n",
              "<thead>\n",
              "\t<tr><th scope=col>season</th><th scope=col>n</th></tr>\n",
              "\t<tr><th scope=col>&lt;dbl&gt;</th><th scope=col>&lt;int&gt;</th></tr>\n",
              "</thead>\n",
              "<tbody>\n",
              "\t<tr><td>2009</td><td>414</td></tr>\n",
              "\t<tr><td>2010</td><td>478</td></tr>\n",
              "\t<tr><td>2011</td><td>508</td></tr>\n",
              "\t<tr><td>2012</td><td>567</td></tr>\n",
              "\t<tr><td>2013</td><td>521</td></tr>\n",
              "\t<tr><td>2014</td><td>597</td></tr>\n",
              "\t<tr><td>2015</td><td>680</td></tr>\n",
              "\t<tr><td>2016</td><td>657</td></tr>\n",
              "\t<tr><td>2017</td><td>609</td></tr>\n",
              "\t<tr><td>2018</td><td>659</td></tr>\n",
              "\t<tr><td>2019</td><td>683</td></tr>\n",
              "</tbody>\n",
              "</table>\n"
            ]
          },
          "metadata": {
            "tags": []
          }
        }
      ]
    },
    {
      "cell_type": "markdown",
      "metadata": {
        "id": "iuE4iI1TqdoV",
        "colab_type": "text"
      },
      "source": [
        "NFL started to take holding much more seriously in later seasons. "
      ]
    },
    {
      "cell_type": "code",
      "metadata": {
        "id": "_Iy1fx2jqwmy",
        "colab_type": "code",
        "colab": {
          "base_uri": "https://localhost:8080/",
          "height": 360
        },
        "outputId": "ed29002e-3610-4548-f0da-1d950711581c"
      },
      "source": [
        "pbp_all_rp %>%\n",
        "group_by(season) %>%\n",
        "filter(play_type == \"no_play\", !str_detect(desc, \"(Timeout)\"), str_detect(desc, \"(Mask)\")) %>%\n",
        "select(desc) %>%\n",
        "count(season)"
      ],
      "execution_count": 38,
      "outputs": [
        {
          "output_type": "stream",
          "text": [
            "Adding missing grouping variables: `season`\n",
            "\n"
          ],
          "name": "stderr"
        },
        {
          "output_type": "display_data",
          "data": {
            "text/plain": [
              "   season n \n",
              "1  2009   12\n",
              "2  2010   12\n",
              "3  2011   22\n",
              "4  2012   10\n",
              "5  2013   24\n",
              "6  2014   27\n",
              "7  2015   32\n",
              "8  2016   47\n",
              "9  2017   35\n",
              "10 2018   34\n",
              "11 2019   21"
            ],
            "text/latex": "A grouped\\_df: 11 × 2\n\\begin{tabular}{ll}\n season & n\\\\\n <dbl> & <int>\\\\\n\\hline\n\t 2009 & 12\\\\\n\t 2010 & 12\\\\\n\t 2011 & 22\\\\\n\t 2012 & 10\\\\\n\t 2013 & 24\\\\\n\t 2014 & 27\\\\\n\t 2015 & 32\\\\\n\t 2016 & 47\\\\\n\t 2017 & 35\\\\\n\t 2018 & 34\\\\\n\t 2019 & 21\\\\\n\\end{tabular}\n",
            "text/markdown": "\nA grouped_df: 11 × 2\n\n| season &lt;dbl&gt; | n &lt;int&gt; |\n|---|---|\n| 2009 | 12 |\n| 2010 | 12 |\n| 2011 | 22 |\n| 2012 | 10 |\n| 2013 | 24 |\n| 2014 | 27 |\n| 2015 | 32 |\n| 2016 | 47 |\n| 2017 | 35 |\n| 2018 | 34 |\n| 2019 | 21 |\n\n",
            "text/html": [
              "<table>\n",
              "<caption>A grouped_df: 11 × 2</caption>\n",
              "<thead>\n",
              "\t<tr><th scope=col>season</th><th scope=col>n</th></tr>\n",
              "\t<tr><th scope=col>&lt;dbl&gt;</th><th scope=col>&lt;int&gt;</th></tr>\n",
              "</thead>\n",
              "<tbody>\n",
              "\t<tr><td>2009</td><td>12</td></tr>\n",
              "\t<tr><td>2010</td><td>12</td></tr>\n",
              "\t<tr><td>2011</td><td>22</td></tr>\n",
              "\t<tr><td>2012</td><td>10</td></tr>\n",
              "\t<tr><td>2013</td><td>24</td></tr>\n",
              "\t<tr><td>2014</td><td>27</td></tr>\n",
              "\t<tr><td>2015</td><td>32</td></tr>\n",
              "\t<tr><td>2016</td><td>47</td></tr>\n",
              "\t<tr><td>2017</td><td>35</td></tr>\n",
              "\t<tr><td>2018</td><td>34</td></tr>\n",
              "\t<tr><td>2019</td><td>21</td></tr>\n",
              "</tbody>\n",
              "</table>\n"
            ]
          },
          "metadata": {
            "tags": []
          }
        }
      ]
    },
    {
      "cell_type": "code",
      "metadata": {
        "id": "7Xg_iD-_s6RF",
        "colab_type": "code",
        "colab": {
          "base_uri": "https://localhost:8080/",
          "height": 442
        },
        "outputId": "5d73835d-f5a4-4028-f851-11628b9d6d04"
      },
      "source": [
        "names(pbp_all_rp)"
      ],
      "execution_count": 43,
      "outputs": [
        {
          "output_type": "display_data",
          "data": {
            "text/plain": [
              "  [1] \"play_id\"                             \n",
              "  [2] \"game_id\"                             \n",
              "  [3] \"home_team\"                           \n",
              "  [4] \"away_team\"                           \n",
              "  [5] \"posteam\"                             \n",
              "  [6] \"posteam_type\"                        \n",
              "  [7] \"defteam\"                             \n",
              "  [8] \"side_of_field\"                       \n",
              "  [9] \"yardline_100\"                        \n",
              " [10] \"game_date\"                           \n",
              " [11] \"quarter_seconds_remaining\"           \n",
              " [12] \"half_seconds_remaining\"              \n",
              " [13] \"game_seconds_remaining\"              \n",
              " [14] \"game_half\"                           \n",
              " [15] \"quarter_end\"                         \n",
              " [16] \"drive\"                               \n",
              " [17] \"sp\"                                  \n",
              " [18] \"qtr\"                                 \n",
              " [19] \"down\"                                \n",
              " [20] \"goal_to_go\"                          \n",
              " [21] \"time\"                                \n",
              " [22] \"yrdln\"                               \n",
              " [23] \"ydstogo\"                             \n",
              " [24] \"ydsnet\"                              \n",
              " [25] \"desc\"                                \n",
              " [26] \"play_type\"                           \n",
              " [27] \"yards_gained\"                        \n",
              " [28] \"shotgun\"                             \n",
              " [29] \"no_huddle\"                           \n",
              " [30] \"qb_dropback\"                         \n",
              " [31] \"qb_kneel\"                            \n",
              " [32] \"qb_spike\"                            \n",
              " [33] \"qb_scramble\"                         \n",
              " [34] \"pass_length\"                         \n",
              " [35] \"pass_location\"                       \n",
              " [36] \"air_yards\"                           \n",
              " [37] \"yards_after_catch\"                   \n",
              " [38] \"run_location\"                        \n",
              " [39] \"run_gap\"                             \n",
              " [40] \"field_goal_result\"                   \n",
              " [41] \"kick_distance\"                       \n",
              " [42] \"extra_point_result\"                  \n",
              " [43] \"two_point_conv_result\"               \n",
              " [44] \"home_timeouts_remaining\"             \n",
              " [45] \"away_timeouts_remaining\"             \n",
              " [46] \"timeout\"                             \n",
              " [47] \"timeout_team\"                        \n",
              " [48] \"td_team\"                             \n",
              " [49] \"posteam_timeouts_remaining\"          \n",
              " [50] \"defteam_timeouts_remaining\"          \n",
              " [51] \"total_home_score\"                    \n",
              " [52] \"total_away_score\"                    \n",
              " [53] \"posteam_score\"                       \n",
              " [54] \"defteam_score\"                       \n",
              " [55] \"score_differential\"                  \n",
              " [56] \"posteam_score_post\"                  \n",
              " [57] \"defteam_score_post\"                  \n",
              " [58] \"score_differential_post\"             \n",
              " [59] \"no_score_prob\"                       \n",
              " [60] \"opp_fg_prob\"                         \n",
              " [61] \"opp_safety_prob\"                     \n",
              " [62] \"opp_td_prob\"                         \n",
              " [63] \"fg_prob\"                             \n",
              " [64] \"safety_prob\"                         \n",
              " [65] \"td_prob\"                             \n",
              " [66] \"extra_point_prob\"                    \n",
              " [67] \"two_point_conversion_prob\"           \n",
              " [68] \"ep\"                                  \n",
              " [69] \"epa\"                                 \n",
              " [70] \"total_home_epa\"                      \n",
              " [71] \"total_away_epa\"                      \n",
              " [72] \"total_home_rush_epa\"                 \n",
              " [73] \"total_away_rush_epa\"                 \n",
              " [74] \"total_home_pass_epa\"                 \n",
              " [75] \"total_away_pass_epa\"                 \n",
              " [76] \"air_epa\"                             \n",
              " [77] \"yac_epa\"                             \n",
              " [78] \"comp_air_epa\"                        \n",
              " [79] \"comp_yac_epa\"                        \n",
              " [80] \"total_home_comp_air_epa\"             \n",
              " [81] \"total_away_comp_air_epa\"             \n",
              " [82] \"total_home_comp_yac_epa\"             \n",
              " [83] \"total_away_comp_yac_epa\"             \n",
              " [84] \"total_home_raw_air_epa\"              \n",
              " [85] \"total_away_raw_air_epa\"              \n",
              " [86] \"total_home_raw_yac_epa\"              \n",
              " [87] \"total_away_raw_yac_epa\"              \n",
              " [88] \"wp\"                                  \n",
              " [89] \"def_wp\"                              \n",
              " [90] \"home_wp\"                             \n",
              " [91] \"away_wp\"                             \n",
              " [92] \"wpa\"                                 \n",
              " [93] \"home_wp_post\"                        \n",
              " [94] \"away_wp_post\"                        \n",
              " [95] \"total_home_rush_wpa\"                 \n",
              " [96] \"total_away_rush_wpa\"                 \n",
              " [97] \"total_home_pass_wpa\"                 \n",
              " [98] \"total_away_pass_wpa\"                 \n",
              " [99] \"air_wpa\"                             \n",
              "[100] \"yac_wpa\"                             \n",
              "[101] \"comp_air_wpa\"                        \n",
              "[102] \"comp_yac_wpa\"                        \n",
              "[103] \"total_home_comp_air_wpa\"             \n",
              "[104] \"total_away_comp_air_wpa\"             \n",
              "[105] \"total_home_comp_yac_wpa\"             \n",
              "[106] \"total_away_comp_yac_wpa\"             \n",
              "[107] \"total_home_raw_air_wpa\"              \n",
              "[108] \"total_away_raw_air_wpa\"              \n",
              "[109] \"total_home_raw_yac_wpa\"              \n",
              "[110] \"total_away_raw_yac_wpa\"              \n",
              "[111] \"punt_blocked\"                        \n",
              "[112] \"first_down_rush\"                     \n",
              "[113] \"first_down_pass\"                     \n",
              "[114] \"first_down_penalty\"                  \n",
              "[115] \"third_down_converted\"                \n",
              "[116] \"third_down_failed\"                   \n",
              "[117] \"fourth_down_converted\"               \n",
              "[118] \"fourth_down_failed\"                  \n",
              "[119] \"incomplete_pass\"                     \n",
              "[120] \"touchback\"                           \n",
              "[121] \"interception\"                        \n",
              "[122] \"punt_inside_twenty\"                  \n",
              "[123] \"punt_in_endzone\"                     \n",
              "[124] \"punt_out_of_bounds\"                  \n",
              "[125] \"punt_downed\"                         \n",
              "[126] \"punt_fair_catch\"                     \n",
              "[127] \"kickoff_inside_twenty\"               \n",
              "[128] \"kickoff_in_endzone\"                  \n",
              "[129] \"kickoff_out_of_bounds\"               \n",
              "[130] \"kickoff_downed\"                      \n",
              "[131] \"kickoff_fair_catch\"                  \n",
              "[132] \"fumble_forced\"                       \n",
              "[133] \"fumble_not_forced\"                   \n",
              "[134] \"fumble_out_of_bounds\"                \n",
              "[135] \"solo_tackle\"                         \n",
              "[136] \"safety\"                              \n",
              "[137] \"penalty\"                             \n",
              "[138] \"tackled_for_loss\"                    \n",
              "[139] \"fumble_lost\"                         \n",
              "[140] \"own_kickoff_recovery\"                \n",
              "[141] \"own_kickoff_recovery_td\"             \n",
              "[142] \"qb_hit\"                              \n",
              "[143] \"rush_attempt\"                        \n",
              "[144] \"pass_attempt\"                        \n",
              "[145] \"sack\"                                \n",
              "[146] \"touchdown\"                           \n",
              "[147] \"pass_touchdown\"                      \n",
              "[148] \"rush_touchdown\"                      \n",
              "[149] \"return_touchdown\"                    \n",
              "[150] \"extra_point_attempt\"                 \n",
              "[151] \"two_point_attempt\"                   \n",
              "[152] \"field_goal_attempt\"                  \n",
              "[153] \"kickoff_attempt\"                     \n",
              "[154] \"punt_attempt\"                        \n",
              "[155] \"fumble\"                              \n",
              "[156] \"complete_pass\"                       \n",
              "[157] \"assist_tackle\"                       \n",
              "[158] \"lateral_reception\"                   \n",
              "[159] \"lateral_rush\"                        \n",
              "[160] \"lateral_return\"                      \n",
              "[161] \"lateral_recovery\"                    \n",
              "[162] \"passer_player_id\"                    \n",
              "[163] \"passer_player_name\"                  \n",
              "[164] \"receiver_player_id\"                  \n",
              "[165] \"receiver_player_name\"                \n",
              "[166] \"rusher_player_id\"                    \n",
              "[167] \"rusher_player_name\"                  \n",
              "[168] \"lateral_receiver_player_id\"          \n",
              "[169] \"lateral_receiver_player_name\"        \n",
              "[170] \"lateral_rusher_player_id\"            \n",
              "[171] \"lateral_rusher_player_name\"          \n",
              "[172] \"lateral_sack_player_id\"              \n",
              "[173] \"lateral_sack_player_name\"            \n",
              "[174] \"interception_player_id\"              \n",
              "[175] \"interception_player_name\"            \n",
              "[176] \"lateral_interception_player_id\"      \n",
              "[177] \"lateral_interception_player_name\"    \n",
              "[178] \"punt_returner_player_id\"             \n",
              "[179] \"punt_returner_player_name\"           \n",
              "[180] \"lateral_punt_returner_player_id\"     \n",
              "[181] \"lateral_punt_returner_player_name\"   \n",
              "[182] \"kickoff_returner_player_name\"        \n",
              "[183] \"kickoff_returner_player_id\"          \n",
              "[184] \"lateral_kickoff_returner_player_id\"  \n",
              "[185] \"lateral_kickoff_returner_player_name\"\n",
              "[186] \"punter_player_id\"                    \n",
              "[187] \"punter_player_name\"                  \n",
              "[188] \"kicker_player_name\"                  \n",
              "[189] \"kicker_player_id\"                    \n",
              "[190] \"own_kickoff_recovery_player_id\"      \n",
              "[191] \"own_kickoff_recovery_player_name\"    \n",
              "[192] \"blocked_player_name\"                 \n",
              "[193] \"tackle_for_loss_1_player_id\"         \n",
              "[194] \"tackle_for_loss_1_player_name\"       \n",
              "[195] \"tackle_for_loss_2_player_id\"         \n",
              "[196] \"tackle_for_loss_2_player_name\"       \n",
              "[197] \"qb_hit_1_player_id\"                  \n",
              "[198] \"qb_hit_1_player_name\"                \n",
              "[199] \"qb_hit_2_player_id\"                  \n",
              "[200] \"qb_hit_2_player_name\"                \n",
              "[201] \"forced_fumble_player_1_team\"         \n",
              "[202] \"forced_fumble_player_1_player_id\"    \n",
              "[203] \"forced_fumble_player_1_player_name\"  \n",
              "[204] \"forced_fumble_player_2_team\"         \n",
              "[205] \"forced_fumble_player_2_player_id\"    \n",
              "[206] \"forced_fumble_player_2_player_name\"  \n",
              "[207] \"solo_tackle_1_team\"                  \n",
              "[208] \"solo_tackle_2_team\"                  \n",
              "[209] \"solo_tackle_1_player_id\"             \n",
              "[210] \"solo_tackle_2_player_id\"             \n",
              "[211] \"solo_tackle_1_player_name\"           \n",
              "[212] \"solo_tackle_2_player_name\"           \n",
              "[213] \"assist_tackle_1_player_id\"           \n",
              "[214] \"assist_tackle_1_player_name\"         \n",
              "[215] \"assist_tackle_1_team\"                \n",
              "[216] \"assist_tackle_2_player_id\"           \n",
              "[217] \"assist_tackle_2_player_name\"         \n",
              "[218] \"assist_tackle_2_team\"                \n",
              "[219] \"assist_tackle_3_player_id\"           \n",
              "[220] \"assist_tackle_3_player_name\"         \n",
              "[221] \"assist_tackle_3_team\"                \n",
              "[222] \"assist_tackle_4_player_id\"           \n",
              "[223] \"assist_tackle_4_player_name\"         \n",
              "[224] \"assist_tackle_4_team\"                \n",
              "[225] \"pass_defense_1_player_id\"            \n",
              "[226] \"pass_defense_1_player_name\"          \n",
              "[227] \"pass_defense_2_player_id\"            \n",
              "[228] \"pass_defense_2_player_name\"          \n",
              "[229] \"fumbled_1_team\"                      \n",
              "[230] \"fumbled_1_player_id\"                 \n",
              "[231] \"fumbled_1_player_name\"               \n",
              "[232] \"fumbled_2_player_id\"                 \n",
              "[233] \"fumbled_2_player_name\"               \n",
              "[234] \"fumbled_2_team\"                      \n",
              "[235] \"fumble_recovery_1_team\"              \n",
              "[236] \"fumble_recovery_1_yards\"             \n",
              "[237] \"fumble_recovery_1_player_id\"         \n",
              "[238] \"fumble_recovery_1_player_name\"       \n",
              "[239] \"fumble_recovery_2_team\"              \n",
              "[240] \"fumble_recovery_2_player_name\"       \n",
              "[241] \"return_team\"                         \n",
              "[242] \"return_yards\"                        \n",
              "[243] \"penalty_team\"                        \n",
              "[244] \"penalty_player_id\"                   \n",
              "[245] \"penalty_player_name\"                 \n",
              "[246] \"penalty_yards\"                       \n",
              "[247] \"replay_or_challenge\"                 \n",
              "[248] \"replay_or_challenge_result\"          \n",
              "[249] \"penalty_type\"                        \n",
              "[250] \"defensive_two_point_attempt\"         \n",
              "[251] \"defensive_two_point_conv\"            \n",
              "[252] \"defensive_extra_point_attempt\"       \n",
              "[253] \"defensive_extra_point_conv\"          \n",
              "[254] \"week\"                                \n",
              "[255] \"season\"                              \n",
              "[256] \"pass\"                                \n",
              "[257] \"rush\"                                \n",
              "[258] \"success\"                             \n",
              "[259] \"name\"                                \n",
              "[260] \"play\"                                "
            ],
            "text/latex": "\\begin{enumerate*}\n\\item 'play\\_id'\n\\item 'game\\_id'\n\\item 'home\\_team'\n\\item 'away\\_team'\n\\item 'posteam'\n\\item 'posteam\\_type'\n\\item 'defteam'\n\\item 'side\\_of\\_field'\n\\item 'yardline\\_100'\n\\item 'game\\_date'\n\\item 'quarter\\_seconds\\_remaining'\n\\item 'half\\_seconds\\_remaining'\n\\item 'game\\_seconds\\_remaining'\n\\item 'game\\_half'\n\\item 'quarter\\_end'\n\\item 'drive'\n\\item 'sp'\n\\item 'qtr'\n\\item 'down'\n\\item 'goal\\_to\\_go'\n\\item 'time'\n\\item 'yrdln'\n\\item 'ydstogo'\n\\item 'ydsnet'\n\\item 'desc'\n\\item 'play\\_type'\n\\item 'yards\\_gained'\n\\item 'shotgun'\n\\item 'no\\_huddle'\n\\item 'qb\\_dropback'\n\\item 'qb\\_kneel'\n\\item 'qb\\_spike'\n\\item 'qb\\_scramble'\n\\item 'pass\\_length'\n\\item 'pass\\_location'\n\\item 'air\\_yards'\n\\item 'yards\\_after\\_catch'\n\\item 'run\\_location'\n\\item 'run\\_gap'\n\\item 'field\\_goal\\_result'\n\\item 'kick\\_distance'\n\\item 'extra\\_point\\_result'\n\\item 'two\\_point\\_conv\\_result'\n\\item 'home\\_timeouts\\_remaining'\n\\item 'away\\_timeouts\\_remaining'\n\\item 'timeout'\n\\item 'timeout\\_team'\n\\item 'td\\_team'\n\\item 'posteam\\_timeouts\\_remaining'\n\\item 'defteam\\_timeouts\\_remaining'\n\\item 'total\\_home\\_score'\n\\item 'total\\_away\\_score'\n\\item 'posteam\\_score'\n\\item 'defteam\\_score'\n\\item 'score\\_differential'\n\\item 'posteam\\_score\\_post'\n\\item 'defteam\\_score\\_post'\n\\item 'score\\_differential\\_post'\n\\item 'no\\_score\\_prob'\n\\item 'opp\\_fg\\_prob'\n\\item 'opp\\_safety\\_prob'\n\\item 'opp\\_td\\_prob'\n\\item 'fg\\_prob'\n\\item 'safety\\_prob'\n\\item 'td\\_prob'\n\\item 'extra\\_point\\_prob'\n\\item 'two\\_point\\_conversion\\_prob'\n\\item 'ep'\n\\item 'epa'\n\\item 'total\\_home\\_epa'\n\\item 'total\\_away\\_epa'\n\\item 'total\\_home\\_rush\\_epa'\n\\item 'total\\_away\\_rush\\_epa'\n\\item 'total\\_home\\_pass\\_epa'\n\\item 'total\\_away\\_pass\\_epa'\n\\item 'air\\_epa'\n\\item 'yac\\_epa'\n\\item 'comp\\_air\\_epa'\n\\item 'comp\\_yac\\_epa'\n\\item 'total\\_home\\_comp\\_air\\_epa'\n\\item 'total\\_away\\_comp\\_air\\_epa'\n\\item 'total\\_home\\_comp\\_yac\\_epa'\n\\item 'total\\_away\\_comp\\_yac\\_epa'\n\\item 'total\\_home\\_raw\\_air\\_epa'\n\\item 'total\\_away\\_raw\\_air\\_epa'\n\\item 'total\\_home\\_raw\\_yac\\_epa'\n\\item 'total\\_away\\_raw\\_yac\\_epa'\n\\item 'wp'\n\\item 'def\\_wp'\n\\item 'home\\_wp'\n\\item 'away\\_wp'\n\\item 'wpa'\n\\item 'home\\_wp\\_post'\n\\item 'away\\_wp\\_post'\n\\item 'total\\_home\\_rush\\_wpa'\n\\item 'total\\_away\\_rush\\_wpa'\n\\item 'total\\_home\\_pass\\_wpa'\n\\item 'total\\_away\\_pass\\_wpa'\n\\item 'air\\_wpa'\n\\item 'yac\\_wpa'\n\\item 'comp\\_air\\_wpa'\n\\item 'comp\\_yac\\_wpa'\n\\item 'total\\_home\\_comp\\_air\\_wpa'\n\\item 'total\\_away\\_comp\\_air\\_wpa'\n\\item 'total\\_home\\_comp\\_yac\\_wpa'\n\\item 'total\\_away\\_comp\\_yac\\_wpa'\n\\item 'total\\_home\\_raw\\_air\\_wpa'\n\\item 'total\\_away\\_raw\\_air\\_wpa'\n\\item 'total\\_home\\_raw\\_yac\\_wpa'\n\\item 'total\\_away\\_raw\\_yac\\_wpa'\n\\item 'punt\\_blocked'\n\\item 'first\\_down\\_rush'\n\\item 'first\\_down\\_pass'\n\\item 'first\\_down\\_penalty'\n\\item 'third\\_down\\_converted'\n\\item 'third\\_down\\_failed'\n\\item 'fourth\\_down\\_converted'\n\\item 'fourth\\_down\\_failed'\n\\item 'incomplete\\_pass'\n\\item 'touchback'\n\\item 'interception'\n\\item 'punt\\_inside\\_twenty'\n\\item 'punt\\_in\\_endzone'\n\\item 'punt\\_out\\_of\\_bounds'\n\\item 'punt\\_downed'\n\\item 'punt\\_fair\\_catch'\n\\item 'kickoff\\_inside\\_twenty'\n\\item 'kickoff\\_in\\_endzone'\n\\item 'kickoff\\_out\\_of\\_bounds'\n\\item 'kickoff\\_downed'\n\\item 'kickoff\\_fair\\_catch'\n\\item 'fumble\\_forced'\n\\item 'fumble\\_not\\_forced'\n\\item 'fumble\\_out\\_of\\_bounds'\n\\item 'solo\\_tackle'\n\\item 'safety'\n\\item 'penalty'\n\\item 'tackled\\_for\\_loss'\n\\item 'fumble\\_lost'\n\\item 'own\\_kickoff\\_recovery'\n\\item 'own\\_kickoff\\_recovery\\_td'\n\\item 'qb\\_hit'\n\\item 'rush\\_attempt'\n\\item 'pass\\_attempt'\n\\item 'sack'\n\\item 'touchdown'\n\\item 'pass\\_touchdown'\n\\item 'rush\\_touchdown'\n\\item 'return\\_touchdown'\n\\item 'extra\\_point\\_attempt'\n\\item 'two\\_point\\_attempt'\n\\item 'field\\_goal\\_attempt'\n\\item 'kickoff\\_attempt'\n\\item 'punt\\_attempt'\n\\item 'fumble'\n\\item 'complete\\_pass'\n\\item 'assist\\_tackle'\n\\item 'lateral\\_reception'\n\\item 'lateral\\_rush'\n\\item 'lateral\\_return'\n\\item 'lateral\\_recovery'\n\\item 'passer\\_player\\_id'\n\\item 'passer\\_player\\_name'\n\\item 'receiver\\_player\\_id'\n\\item 'receiver\\_player\\_name'\n\\item 'rusher\\_player\\_id'\n\\item 'rusher\\_player\\_name'\n\\item 'lateral\\_receiver\\_player\\_id'\n\\item 'lateral\\_receiver\\_player\\_name'\n\\item 'lateral\\_rusher\\_player\\_id'\n\\item 'lateral\\_rusher\\_player\\_name'\n\\item 'lateral\\_sack\\_player\\_id'\n\\item 'lateral\\_sack\\_player\\_name'\n\\item 'interception\\_player\\_id'\n\\item 'interception\\_player\\_name'\n\\item 'lateral\\_interception\\_player\\_id'\n\\item 'lateral\\_interception\\_player\\_name'\n\\item 'punt\\_returner\\_player\\_id'\n\\item 'punt\\_returner\\_player\\_name'\n\\item 'lateral\\_punt\\_returner\\_player\\_id'\n\\item 'lateral\\_punt\\_returner\\_player\\_name'\n\\item 'kickoff\\_returner\\_player\\_name'\n\\item 'kickoff\\_returner\\_player\\_id'\n\\item 'lateral\\_kickoff\\_returner\\_player\\_id'\n\\item 'lateral\\_kickoff\\_returner\\_player\\_name'\n\\item 'punter\\_player\\_id'\n\\item 'punter\\_player\\_name'\n\\item 'kicker\\_player\\_name'\n\\item 'kicker\\_player\\_id'\n\\item 'own\\_kickoff\\_recovery\\_player\\_id'\n\\item 'own\\_kickoff\\_recovery\\_player\\_name'\n\\item 'blocked\\_player\\_name'\n\\item 'tackle\\_for\\_loss\\_1\\_player\\_id'\n\\item 'tackle\\_for\\_loss\\_1\\_player\\_name'\n\\item 'tackle\\_for\\_loss\\_2\\_player\\_id'\n\\item 'tackle\\_for\\_loss\\_2\\_player\\_name'\n\\item 'qb\\_hit\\_1\\_player\\_id'\n\\item 'qb\\_hit\\_1\\_player\\_name'\n\\item 'qb\\_hit\\_2\\_player\\_id'\n\\item 'qb\\_hit\\_2\\_player\\_name'\n\\item 'forced\\_fumble\\_player\\_1\\_team'\n\\item 'forced\\_fumble\\_player\\_1\\_player\\_id'\n\\item 'forced\\_fumble\\_player\\_1\\_player\\_name'\n\\item 'forced\\_fumble\\_player\\_2\\_team'\n\\item 'forced\\_fumble\\_player\\_2\\_player\\_id'\n\\item 'forced\\_fumble\\_player\\_2\\_player\\_name'\n\\item 'solo\\_tackle\\_1\\_team'\n\\item 'solo\\_tackle\\_2\\_team'\n\\item 'solo\\_tackle\\_1\\_player\\_id'\n\\item 'solo\\_tackle\\_2\\_player\\_id'\n\\item 'solo\\_tackle\\_1\\_player\\_name'\n\\item 'solo\\_tackle\\_2\\_player\\_name'\n\\item 'assist\\_tackle\\_1\\_player\\_id'\n\\item 'assist\\_tackle\\_1\\_player\\_name'\n\\item 'assist\\_tackle\\_1\\_team'\n\\item 'assist\\_tackle\\_2\\_player\\_id'\n\\item 'assist\\_tackle\\_2\\_player\\_name'\n\\item 'assist\\_tackle\\_2\\_team'\n\\item 'assist\\_tackle\\_3\\_player\\_id'\n\\item 'assist\\_tackle\\_3\\_player\\_name'\n\\item 'assist\\_tackle\\_3\\_team'\n\\item 'assist\\_tackle\\_4\\_player\\_id'\n\\item 'assist\\_tackle\\_4\\_player\\_name'\n\\item 'assist\\_tackle\\_4\\_team'\n\\item 'pass\\_defense\\_1\\_player\\_id'\n\\item 'pass\\_defense\\_1\\_player\\_name'\n\\item 'pass\\_defense\\_2\\_player\\_id'\n\\item 'pass\\_defense\\_2\\_player\\_name'\n\\item 'fumbled\\_1\\_team'\n\\item 'fumbled\\_1\\_player\\_id'\n\\item 'fumbled\\_1\\_player\\_name'\n\\item 'fumbled\\_2\\_player\\_id'\n\\item 'fumbled\\_2\\_player\\_name'\n\\item 'fumbled\\_2\\_team'\n\\item 'fumble\\_recovery\\_1\\_team'\n\\item 'fumble\\_recovery\\_1\\_yards'\n\\item 'fumble\\_recovery\\_1\\_player\\_id'\n\\item 'fumble\\_recovery\\_1\\_player\\_name'\n\\item 'fumble\\_recovery\\_2\\_team'\n\\item 'fumble\\_recovery\\_2\\_player\\_name'\n\\item 'return\\_team'\n\\item 'return\\_yards'\n\\item 'penalty\\_team'\n\\item 'penalty\\_player\\_id'\n\\item 'penalty\\_player\\_name'\n\\item 'penalty\\_yards'\n\\item 'replay\\_or\\_challenge'\n\\item 'replay\\_or\\_challenge\\_result'\n\\item 'penalty\\_type'\n\\item 'defensive\\_two\\_point\\_attempt'\n\\item 'defensive\\_two\\_point\\_conv'\n\\item 'defensive\\_extra\\_point\\_attempt'\n\\item 'defensive\\_extra\\_point\\_conv'\n\\item 'week'\n\\item 'season'\n\\item 'pass'\n\\item 'rush'\n\\item 'success'\n\\item 'name'\n\\item 'play'\n\\end{enumerate*}\n",
            "text/markdown": "1. 'play_id'\n2. 'game_id'\n3. 'home_team'\n4. 'away_team'\n5. 'posteam'\n6. 'posteam_type'\n7. 'defteam'\n8. 'side_of_field'\n9. 'yardline_100'\n10. 'game_date'\n11. 'quarter_seconds_remaining'\n12. 'half_seconds_remaining'\n13. 'game_seconds_remaining'\n14. 'game_half'\n15. 'quarter_end'\n16. 'drive'\n17. 'sp'\n18. 'qtr'\n19. 'down'\n20. 'goal_to_go'\n21. 'time'\n22. 'yrdln'\n23. 'ydstogo'\n24. 'ydsnet'\n25. 'desc'\n26. 'play_type'\n27. 'yards_gained'\n28. 'shotgun'\n29. 'no_huddle'\n30. 'qb_dropback'\n31. 'qb_kneel'\n32. 'qb_spike'\n33. 'qb_scramble'\n34. 'pass_length'\n35. 'pass_location'\n36. 'air_yards'\n37. 'yards_after_catch'\n38. 'run_location'\n39. 'run_gap'\n40. 'field_goal_result'\n41. 'kick_distance'\n42. 'extra_point_result'\n43. 'two_point_conv_result'\n44. 'home_timeouts_remaining'\n45. 'away_timeouts_remaining'\n46. 'timeout'\n47. 'timeout_team'\n48. 'td_team'\n49. 'posteam_timeouts_remaining'\n50. 'defteam_timeouts_remaining'\n51. 'total_home_score'\n52. 'total_away_score'\n53. 'posteam_score'\n54. 'defteam_score'\n55. 'score_differential'\n56. 'posteam_score_post'\n57. 'defteam_score_post'\n58. 'score_differential_post'\n59. 'no_score_prob'\n60. 'opp_fg_prob'\n61. 'opp_safety_prob'\n62. 'opp_td_prob'\n63. 'fg_prob'\n64. 'safety_prob'\n65. 'td_prob'\n66. 'extra_point_prob'\n67. 'two_point_conversion_prob'\n68. 'ep'\n69. 'epa'\n70. 'total_home_epa'\n71. 'total_away_epa'\n72. 'total_home_rush_epa'\n73. 'total_away_rush_epa'\n74. 'total_home_pass_epa'\n75. 'total_away_pass_epa'\n76. 'air_epa'\n77. 'yac_epa'\n78. 'comp_air_epa'\n79. 'comp_yac_epa'\n80. 'total_home_comp_air_epa'\n81. 'total_away_comp_air_epa'\n82. 'total_home_comp_yac_epa'\n83. 'total_away_comp_yac_epa'\n84. 'total_home_raw_air_epa'\n85. 'total_away_raw_air_epa'\n86. 'total_home_raw_yac_epa'\n87. 'total_away_raw_yac_epa'\n88. 'wp'\n89. 'def_wp'\n90. 'home_wp'\n91. 'away_wp'\n92. 'wpa'\n93. 'home_wp_post'\n94. 'away_wp_post'\n95. 'total_home_rush_wpa'\n96. 'total_away_rush_wpa'\n97. 'total_home_pass_wpa'\n98. 'total_away_pass_wpa'\n99. 'air_wpa'\n100. 'yac_wpa'\n101. 'comp_air_wpa'\n102. 'comp_yac_wpa'\n103. 'total_home_comp_air_wpa'\n104. 'total_away_comp_air_wpa'\n105. 'total_home_comp_yac_wpa'\n106. 'total_away_comp_yac_wpa'\n107. 'total_home_raw_air_wpa'\n108. 'total_away_raw_air_wpa'\n109. 'total_home_raw_yac_wpa'\n110. 'total_away_raw_yac_wpa'\n111. 'punt_blocked'\n112. 'first_down_rush'\n113. 'first_down_pass'\n114. 'first_down_penalty'\n115. 'third_down_converted'\n116. 'third_down_failed'\n117. 'fourth_down_converted'\n118. 'fourth_down_failed'\n119. 'incomplete_pass'\n120. 'touchback'\n121. 'interception'\n122. 'punt_inside_twenty'\n123. 'punt_in_endzone'\n124. 'punt_out_of_bounds'\n125. 'punt_downed'\n126. 'punt_fair_catch'\n127. 'kickoff_inside_twenty'\n128. 'kickoff_in_endzone'\n129. 'kickoff_out_of_bounds'\n130. 'kickoff_downed'\n131. 'kickoff_fair_catch'\n132. 'fumble_forced'\n133. 'fumble_not_forced'\n134. 'fumble_out_of_bounds'\n135. 'solo_tackle'\n136. 'safety'\n137. 'penalty'\n138. 'tackled_for_loss'\n139. 'fumble_lost'\n140. 'own_kickoff_recovery'\n141. 'own_kickoff_recovery_td'\n142. 'qb_hit'\n143. 'rush_attempt'\n144. 'pass_attempt'\n145. 'sack'\n146. 'touchdown'\n147. 'pass_touchdown'\n148. 'rush_touchdown'\n149. 'return_touchdown'\n150. 'extra_point_attempt'\n151. 'two_point_attempt'\n152. 'field_goal_attempt'\n153. 'kickoff_attempt'\n154. 'punt_attempt'\n155. 'fumble'\n156. 'complete_pass'\n157. 'assist_tackle'\n158. 'lateral_reception'\n159. 'lateral_rush'\n160. 'lateral_return'\n161. 'lateral_recovery'\n162. 'passer_player_id'\n163. 'passer_player_name'\n164. 'receiver_player_id'\n165. 'receiver_player_name'\n166. 'rusher_player_id'\n167. 'rusher_player_name'\n168. 'lateral_receiver_player_id'\n169. 'lateral_receiver_player_name'\n170. 'lateral_rusher_player_id'\n171. 'lateral_rusher_player_name'\n172. 'lateral_sack_player_id'\n173. 'lateral_sack_player_name'\n174. 'interception_player_id'\n175. 'interception_player_name'\n176. 'lateral_interception_player_id'\n177. 'lateral_interception_player_name'\n178. 'punt_returner_player_id'\n179. 'punt_returner_player_name'\n180. 'lateral_punt_returner_player_id'\n181. 'lateral_punt_returner_player_name'\n182. 'kickoff_returner_player_name'\n183. 'kickoff_returner_player_id'\n184. 'lateral_kickoff_returner_player_id'\n185. 'lateral_kickoff_returner_player_name'\n186. 'punter_player_id'\n187. 'punter_player_name'\n188. 'kicker_player_name'\n189. 'kicker_player_id'\n190. 'own_kickoff_recovery_player_id'\n191. 'own_kickoff_recovery_player_name'\n192. 'blocked_player_name'\n193. 'tackle_for_loss_1_player_id'\n194. 'tackle_for_loss_1_player_name'\n195. 'tackle_for_loss_2_player_id'\n196. 'tackle_for_loss_2_player_name'\n197. 'qb_hit_1_player_id'\n198. 'qb_hit_1_player_name'\n199. 'qb_hit_2_player_id'\n200. 'qb_hit_2_player_name'\n201. 'forced_fumble_player_1_team'\n202. 'forced_fumble_player_1_player_id'\n203. 'forced_fumble_player_1_player_name'\n204. 'forced_fumble_player_2_team'\n205. 'forced_fumble_player_2_player_id'\n206. 'forced_fumble_player_2_player_name'\n207. 'solo_tackle_1_team'\n208. 'solo_tackle_2_team'\n209. 'solo_tackle_1_player_id'\n210. 'solo_tackle_2_player_id'\n211. 'solo_tackle_1_player_name'\n212. 'solo_tackle_2_player_name'\n213. 'assist_tackle_1_player_id'\n214. 'assist_tackle_1_player_name'\n215. 'assist_tackle_1_team'\n216. 'assist_tackle_2_player_id'\n217. 'assist_tackle_2_player_name'\n218. 'assist_tackle_2_team'\n219. 'assist_tackle_3_player_id'\n220. 'assist_tackle_3_player_name'\n221. 'assist_tackle_3_team'\n222. 'assist_tackle_4_player_id'\n223. 'assist_tackle_4_player_name'\n224. 'assist_tackle_4_team'\n225. 'pass_defense_1_player_id'\n226. 'pass_defense_1_player_name'\n227. 'pass_defense_2_player_id'\n228. 'pass_defense_2_player_name'\n229. 'fumbled_1_team'\n230. 'fumbled_1_player_id'\n231. 'fumbled_1_player_name'\n232. 'fumbled_2_player_id'\n233. 'fumbled_2_player_name'\n234. 'fumbled_2_team'\n235. 'fumble_recovery_1_team'\n236. 'fumble_recovery_1_yards'\n237. 'fumble_recovery_1_player_id'\n238. 'fumble_recovery_1_player_name'\n239. 'fumble_recovery_2_team'\n240. 'fumble_recovery_2_player_name'\n241. 'return_team'\n242. 'return_yards'\n243. 'penalty_team'\n244. 'penalty_player_id'\n245. 'penalty_player_name'\n246. 'penalty_yards'\n247. 'replay_or_challenge'\n248. 'replay_or_challenge_result'\n249. 'penalty_type'\n250. 'defensive_two_point_attempt'\n251. 'defensive_two_point_conv'\n252. 'defensive_extra_point_attempt'\n253. 'defensive_extra_point_conv'\n254. 'week'\n255. 'season'\n256. 'pass'\n257. 'rush'\n258. 'success'\n259. 'name'\n260. 'play'\n\n\n",
            "text/html": [
              "<style>\n",
              ".list-inline {list-style: none; margin:0; padding: 0}\n",
              ".list-inline>li {display: inline-block}\n",
              ".list-inline>li:not(:last-child)::after {content: \"\\00b7\"; padding: 0 .5ex}\n",
              "</style>\n",
              "<ol class=list-inline><li>'play_id'</li><li>'game_id'</li><li>'home_team'</li><li>'away_team'</li><li>'posteam'</li><li>'posteam_type'</li><li>'defteam'</li><li>'side_of_field'</li><li>'yardline_100'</li><li>'game_date'</li><li>'quarter_seconds_remaining'</li><li>'half_seconds_remaining'</li><li>'game_seconds_remaining'</li><li>'game_half'</li><li>'quarter_end'</li><li>'drive'</li><li>'sp'</li><li>'qtr'</li><li>'down'</li><li>'goal_to_go'</li><li>'time'</li><li>'yrdln'</li><li>'ydstogo'</li><li>'ydsnet'</li><li>'desc'</li><li>'play_type'</li><li>'yards_gained'</li><li>'shotgun'</li><li>'no_huddle'</li><li>'qb_dropback'</li><li>'qb_kneel'</li><li>'qb_spike'</li><li>'qb_scramble'</li><li>'pass_length'</li><li>'pass_location'</li><li>'air_yards'</li><li>'yards_after_catch'</li><li>'run_location'</li><li>'run_gap'</li><li>'field_goal_result'</li><li>'kick_distance'</li><li>'extra_point_result'</li><li>'two_point_conv_result'</li><li>'home_timeouts_remaining'</li><li>'away_timeouts_remaining'</li><li>'timeout'</li><li>'timeout_team'</li><li>'td_team'</li><li>'posteam_timeouts_remaining'</li><li>'defteam_timeouts_remaining'</li><li>'total_home_score'</li><li>'total_away_score'</li><li>'posteam_score'</li><li>'defteam_score'</li><li>'score_differential'</li><li>'posteam_score_post'</li><li>'defteam_score_post'</li><li>'score_differential_post'</li><li>'no_score_prob'</li><li>'opp_fg_prob'</li><li>'opp_safety_prob'</li><li>'opp_td_prob'</li><li>'fg_prob'</li><li>'safety_prob'</li><li>'td_prob'</li><li>'extra_point_prob'</li><li>'two_point_conversion_prob'</li><li>'ep'</li><li>'epa'</li><li>'total_home_epa'</li><li>'total_away_epa'</li><li>'total_home_rush_epa'</li><li>'total_away_rush_epa'</li><li>'total_home_pass_epa'</li><li>'total_away_pass_epa'</li><li>'air_epa'</li><li>'yac_epa'</li><li>'comp_air_epa'</li><li>'comp_yac_epa'</li><li>'total_home_comp_air_epa'</li><li>'total_away_comp_air_epa'</li><li>'total_home_comp_yac_epa'</li><li>'total_away_comp_yac_epa'</li><li>'total_home_raw_air_epa'</li><li>'total_away_raw_air_epa'</li><li>'total_home_raw_yac_epa'</li><li>'total_away_raw_yac_epa'</li><li>'wp'</li><li>'def_wp'</li><li>'home_wp'</li><li>'away_wp'</li><li>'wpa'</li><li>'home_wp_post'</li><li>'away_wp_post'</li><li>'total_home_rush_wpa'</li><li>'total_away_rush_wpa'</li><li>'total_home_pass_wpa'</li><li>'total_away_pass_wpa'</li><li>'air_wpa'</li><li>'yac_wpa'</li><li>'comp_air_wpa'</li><li>'comp_yac_wpa'</li><li>'total_home_comp_air_wpa'</li><li>'total_away_comp_air_wpa'</li><li>'total_home_comp_yac_wpa'</li><li>'total_away_comp_yac_wpa'</li><li>'total_home_raw_air_wpa'</li><li>'total_away_raw_air_wpa'</li><li>'total_home_raw_yac_wpa'</li><li>'total_away_raw_yac_wpa'</li><li>'punt_blocked'</li><li>'first_down_rush'</li><li>'first_down_pass'</li><li>'first_down_penalty'</li><li>'third_down_converted'</li><li>'third_down_failed'</li><li>'fourth_down_converted'</li><li>'fourth_down_failed'</li><li>'incomplete_pass'</li><li>'touchback'</li><li>'interception'</li><li>'punt_inside_twenty'</li><li>'punt_in_endzone'</li><li>'punt_out_of_bounds'</li><li>'punt_downed'</li><li>'punt_fair_catch'</li><li>'kickoff_inside_twenty'</li><li>'kickoff_in_endzone'</li><li>'kickoff_out_of_bounds'</li><li>'kickoff_downed'</li><li>'kickoff_fair_catch'</li><li>'fumble_forced'</li><li>'fumble_not_forced'</li><li>'fumble_out_of_bounds'</li><li>'solo_tackle'</li><li>'safety'</li><li>'penalty'</li><li>'tackled_for_loss'</li><li>'fumble_lost'</li><li>'own_kickoff_recovery'</li><li>'own_kickoff_recovery_td'</li><li>'qb_hit'</li><li>'rush_attempt'</li><li>'pass_attempt'</li><li>'sack'</li><li>'touchdown'</li><li>'pass_touchdown'</li><li>'rush_touchdown'</li><li>'return_touchdown'</li><li>'extra_point_attempt'</li><li>'two_point_attempt'</li><li>'field_goal_attempt'</li><li>'kickoff_attempt'</li><li>'punt_attempt'</li><li>'fumble'</li><li>'complete_pass'</li><li>'assist_tackle'</li><li>'lateral_reception'</li><li>'lateral_rush'</li><li>'lateral_return'</li><li>'lateral_recovery'</li><li>'passer_player_id'</li><li>'passer_player_name'</li><li>'receiver_player_id'</li><li>'receiver_player_name'</li><li>'rusher_player_id'</li><li>'rusher_player_name'</li><li>'lateral_receiver_player_id'</li><li>'lateral_receiver_player_name'</li><li>'lateral_rusher_player_id'</li><li>'lateral_rusher_player_name'</li><li>'lateral_sack_player_id'</li><li>'lateral_sack_player_name'</li><li>'interception_player_id'</li><li>'interception_player_name'</li><li>'lateral_interception_player_id'</li><li>'lateral_interception_player_name'</li><li>'punt_returner_player_id'</li><li>'punt_returner_player_name'</li><li>'lateral_punt_returner_player_id'</li><li>'lateral_punt_returner_player_name'</li><li>'kickoff_returner_player_name'</li><li>'kickoff_returner_player_id'</li><li>'lateral_kickoff_returner_player_id'</li><li>'lateral_kickoff_returner_player_name'</li><li>'punter_player_id'</li><li>'punter_player_name'</li><li>'kicker_player_name'</li><li>'kicker_player_id'</li><li>'own_kickoff_recovery_player_id'</li><li>'own_kickoff_recovery_player_name'</li><li>'blocked_player_name'</li><li>'tackle_for_loss_1_player_id'</li><li>'tackle_for_loss_1_player_name'</li><li>'tackle_for_loss_2_player_id'</li><li>'tackle_for_loss_2_player_name'</li><li>'qb_hit_1_player_id'</li><li>'qb_hit_1_player_name'</li><li>'qb_hit_2_player_id'</li><li>'qb_hit_2_player_name'</li><li>'forced_fumble_player_1_team'</li><li>'forced_fumble_player_1_player_id'</li><li>'forced_fumble_player_1_player_name'</li><li>'forced_fumble_player_2_team'</li><li>'forced_fumble_player_2_player_id'</li><li>'forced_fumble_player_2_player_name'</li><li>'solo_tackle_1_team'</li><li>'solo_tackle_2_team'</li><li>'solo_tackle_1_player_id'</li><li>'solo_tackle_2_player_id'</li><li>'solo_tackle_1_player_name'</li><li>'solo_tackle_2_player_name'</li><li>'assist_tackle_1_player_id'</li><li>'assist_tackle_1_player_name'</li><li>'assist_tackle_1_team'</li><li>'assist_tackle_2_player_id'</li><li>'assist_tackle_2_player_name'</li><li>'assist_tackle_2_team'</li><li>'assist_tackle_3_player_id'</li><li>'assist_tackle_3_player_name'</li><li>'assist_tackle_3_team'</li><li>'assist_tackle_4_player_id'</li><li>'assist_tackle_4_player_name'</li><li>'assist_tackle_4_team'</li><li>'pass_defense_1_player_id'</li><li>'pass_defense_1_player_name'</li><li>'pass_defense_2_player_id'</li><li>'pass_defense_2_player_name'</li><li>'fumbled_1_team'</li><li>'fumbled_1_player_id'</li><li>'fumbled_1_player_name'</li><li>'fumbled_2_player_id'</li><li>'fumbled_2_player_name'</li><li>'fumbled_2_team'</li><li>'fumble_recovery_1_team'</li><li>'fumble_recovery_1_yards'</li><li>'fumble_recovery_1_player_id'</li><li>'fumble_recovery_1_player_name'</li><li>'fumble_recovery_2_team'</li><li>'fumble_recovery_2_player_name'</li><li>'return_team'</li><li>'return_yards'</li><li>'penalty_team'</li><li>'penalty_player_id'</li><li>'penalty_player_name'</li><li>'penalty_yards'</li><li>'replay_or_challenge'</li><li>'replay_or_challenge_result'</li><li>'penalty_type'</li><li>'defensive_two_point_attempt'</li><li>'defensive_two_point_conv'</li><li>'defensive_extra_point_attempt'</li><li>'defensive_extra_point_conv'</li><li>'week'</li><li>'season'</li><li>'pass'</li><li>'rush'</li><li>'success'</li><li>'name'</li><li>'play'</li></ol>\n"
            ]
          },
          "metadata": {
            "tags": []
          }
        }
      ]
    },
    {
      "cell_type": "code",
      "metadata": {
        "id": "cjYpYzaqrs8U",
        "colab_type": "code",
        "colab": {
          "base_uri": "https://localhost:8080/",
          "height": 1000
        },
        "outputId": "60a4dd75-c92b-4e85-8743-6c6ba77dcca2"
      },
      "source": [
        "pbp_all_rp %>%\n",
        "group_by(season) %>%\n",
        "filter(play_type == \"no_play\", !str_detect(desc, \"(Timeout)\")) %>%\n",
        "select(desc, penalty_team) %>%\n",
        "count(penalty_team) -> penalty_teams_per_season\n",
        "penalty_teams_per_season"
      ],
      "execution_count": 47,
      "outputs": [
        {
          "output_type": "stream",
          "text": [
            "Adding missing grouping variables: `season`\n",
            "\n"
          ],
          "name": "stderr"
        },
        {
          "output_type": "display_data",
          "data": {
            "text/plain": [
              "    season penalty_team n  \n",
              "1   2009   ARI          79 \n",
              "2   2009   ATL          59 \n",
              "3   2009   BAL          83 \n",
              "4   2009   BUF          79 \n",
              "5   2009   CAR          64 \n",
              "6   2009   CHI          71 \n",
              "7   2009   CIN          92 \n",
              "8   2009   CLE          50 \n",
              "9   2009   DAL          95 \n",
              "10  2009   DEN          72 \n",
              "11  2009   DET          75 \n",
              "12  2009   GB           78 \n",
              "13  2009   HOU          66 \n",
              "14  2009   IND          56 \n",
              "15  2009   JAC          47 \n",
              "16  2009   KC           66 \n",
              "17  2009   MIA          60 \n",
              "18  2009   MIN          69 \n",
              "19  2009   NE           65 \n",
              "20  2009   NO           59 \n",
              "21  2009   NYG          68 \n",
              "22  2009   NYJ          63 \n",
              "23  2009   OAK          92 \n",
              "24  2009   PHI          77 \n",
              "25  2009   PIT          63 \n",
              "26  2009   SD           59 \n",
              "27  2009   SEA          74 \n",
              "28  2009   SF           69 \n",
              "29  2009   STL          68 \n",
              "30  2009   TB           67 \n",
              "⋮   ⋮      ⋮            ⋮  \n",
              "327 2019   BAL           83\n",
              "328 2019   BUF           86\n",
              "329 2019   CAR           64\n",
              "330 2019   CHI           72\n",
              "331 2019   CIN           65\n",
              "332 2019   CLE           92\n",
              "333 2019   DAL           79\n",
              "334 2019   DEN           78\n",
              "335 2019   DET           81\n",
              "336 2019   GB            79\n",
              "337 2019   HOU           91\n",
              "338 2019   IND           59\n",
              "339 2019   JAX           90\n",
              "340 2019   KC            73\n",
              "341 2019   LA            93\n",
              "342 2019   LAC           76\n",
              "343 2019   MIA           69\n",
              "344 2019   MIN           69\n",
              "345 2019   NE            75\n",
              "346 2019   NO            94\n",
              "347 2019   NYG           72\n",
              "348 2019   NYJ           82\n",
              "349 2019   OAK           97\n",
              "350 2019   PHI           74\n",
              "351 2019   PIT           91\n",
              "352 2019   SEA           91\n",
              "353 2019   SF            77\n",
              "354 2019   TB           102\n",
              "355 2019   TEN           72\n",
              "356 2019   WAS           74"
            ],
            "text/latex": "A grouped\\_df: 356 × 3\n\\begin{tabular}{lll}\n season & penalty\\_team & n\\\\\n <dbl> & <chr> & <int>\\\\\n\\hline\n\t 2009 & ARI & 79\\\\\n\t 2009 & ATL & 59\\\\\n\t 2009 & BAL & 83\\\\\n\t 2009 & BUF & 79\\\\\n\t 2009 & CAR & 64\\\\\n\t 2009 & CHI & 71\\\\\n\t 2009 & CIN & 92\\\\\n\t 2009 & CLE & 50\\\\\n\t 2009 & DAL & 95\\\\\n\t 2009 & DEN & 72\\\\\n\t 2009 & DET & 75\\\\\n\t 2009 & GB  & 78\\\\\n\t 2009 & HOU & 66\\\\\n\t 2009 & IND & 56\\\\\n\t 2009 & JAC & 47\\\\\n\t 2009 & KC  & 66\\\\\n\t 2009 & MIA & 60\\\\\n\t 2009 & MIN & 69\\\\\n\t 2009 & NE  & 65\\\\\n\t 2009 & NO  & 59\\\\\n\t 2009 & NYG & 68\\\\\n\t 2009 & NYJ & 63\\\\\n\t 2009 & OAK & 92\\\\\n\t 2009 & PHI & 77\\\\\n\t 2009 & PIT & 63\\\\\n\t 2009 & SD  & 59\\\\\n\t 2009 & SEA & 74\\\\\n\t 2009 & SF  & 69\\\\\n\t 2009 & STL & 68\\\\\n\t 2009 & TB  & 67\\\\\n\t ⋮ & ⋮ & ⋮\\\\\n\t 2019 & BAL &  83\\\\\n\t 2019 & BUF &  86\\\\\n\t 2019 & CAR &  64\\\\\n\t 2019 & CHI &  72\\\\\n\t 2019 & CIN &  65\\\\\n\t 2019 & CLE &  92\\\\\n\t 2019 & DAL &  79\\\\\n\t 2019 & DEN &  78\\\\\n\t 2019 & DET &  81\\\\\n\t 2019 & GB  &  79\\\\\n\t 2019 & HOU &  91\\\\\n\t 2019 & IND &  59\\\\\n\t 2019 & JAX &  90\\\\\n\t 2019 & KC  &  73\\\\\n\t 2019 & LA  &  93\\\\\n\t 2019 & LAC &  76\\\\\n\t 2019 & MIA &  69\\\\\n\t 2019 & MIN &  69\\\\\n\t 2019 & NE  &  75\\\\\n\t 2019 & NO  &  94\\\\\n\t 2019 & NYG &  72\\\\\n\t 2019 & NYJ &  82\\\\\n\t 2019 & OAK &  97\\\\\n\t 2019 & PHI &  74\\\\\n\t 2019 & PIT &  91\\\\\n\t 2019 & SEA &  91\\\\\n\t 2019 & SF  &  77\\\\\n\t 2019 & TB  & 102\\\\\n\t 2019 & TEN &  72\\\\\n\t 2019 & WAS &  74\\\\\n\\end{tabular}\n",
            "text/markdown": "\nA grouped_df: 356 × 3\n\n| season &lt;dbl&gt; | penalty_team &lt;chr&gt; | n &lt;int&gt; |\n|---|---|---|\n| 2009 | ARI | 79 |\n| 2009 | ATL | 59 |\n| 2009 | BAL | 83 |\n| 2009 | BUF | 79 |\n| 2009 | CAR | 64 |\n| 2009 | CHI | 71 |\n| 2009 | CIN | 92 |\n| 2009 | CLE | 50 |\n| 2009 | DAL | 95 |\n| 2009 | DEN | 72 |\n| 2009 | DET | 75 |\n| 2009 | GB  | 78 |\n| 2009 | HOU | 66 |\n| 2009 | IND | 56 |\n| 2009 | JAC | 47 |\n| 2009 | KC  | 66 |\n| 2009 | MIA | 60 |\n| 2009 | MIN | 69 |\n| 2009 | NE  | 65 |\n| 2009 | NO  | 59 |\n| 2009 | NYG | 68 |\n| 2009 | NYJ | 63 |\n| 2009 | OAK | 92 |\n| 2009 | PHI | 77 |\n| 2009 | PIT | 63 |\n| 2009 | SD  | 59 |\n| 2009 | SEA | 74 |\n| 2009 | SF  | 69 |\n| 2009 | STL | 68 |\n| 2009 | TB  | 67 |\n| ⋮ | ⋮ | ⋮ |\n| 2019 | BAL |  83 |\n| 2019 | BUF |  86 |\n| 2019 | CAR |  64 |\n| 2019 | CHI |  72 |\n| 2019 | CIN |  65 |\n| 2019 | CLE |  92 |\n| 2019 | DAL |  79 |\n| 2019 | DEN |  78 |\n| 2019 | DET |  81 |\n| 2019 | GB  |  79 |\n| 2019 | HOU |  91 |\n| 2019 | IND |  59 |\n| 2019 | JAX |  90 |\n| 2019 | KC  |  73 |\n| 2019 | LA  |  93 |\n| 2019 | LAC |  76 |\n| 2019 | MIA |  69 |\n| 2019 | MIN |  69 |\n| 2019 | NE  |  75 |\n| 2019 | NO  |  94 |\n| 2019 | NYG |  72 |\n| 2019 | NYJ |  82 |\n| 2019 | OAK |  97 |\n| 2019 | PHI |  74 |\n| 2019 | PIT |  91 |\n| 2019 | SEA |  91 |\n| 2019 | SF  |  77 |\n| 2019 | TB  | 102 |\n| 2019 | TEN |  72 |\n| 2019 | WAS |  74 |\n\n",
            "text/html": [
              "<table>\n",
              "<caption>A grouped_df: 356 × 3</caption>\n",
              "<thead>\n",
              "\t<tr><th scope=col>season</th><th scope=col>penalty_team</th><th scope=col>n</th></tr>\n",
              "\t<tr><th scope=col>&lt;dbl&gt;</th><th scope=col>&lt;chr&gt;</th><th scope=col>&lt;int&gt;</th></tr>\n",
              "</thead>\n",
              "<tbody>\n",
              "\t<tr><td>2009</td><td>ARI</td><td>79</td></tr>\n",
              "\t<tr><td>2009</td><td>ATL</td><td>59</td></tr>\n",
              "\t<tr><td>2009</td><td>BAL</td><td>83</td></tr>\n",
              "\t<tr><td>2009</td><td>BUF</td><td>79</td></tr>\n",
              "\t<tr><td>2009</td><td>CAR</td><td>64</td></tr>\n",
              "\t<tr><td>2009</td><td>CHI</td><td>71</td></tr>\n",
              "\t<tr><td>2009</td><td>CIN</td><td>92</td></tr>\n",
              "\t<tr><td>2009</td><td>CLE</td><td>50</td></tr>\n",
              "\t<tr><td>2009</td><td>DAL</td><td>95</td></tr>\n",
              "\t<tr><td>2009</td><td>DEN</td><td>72</td></tr>\n",
              "\t<tr><td>2009</td><td>DET</td><td>75</td></tr>\n",
              "\t<tr><td>2009</td><td>GB </td><td>78</td></tr>\n",
              "\t<tr><td>2009</td><td>HOU</td><td>66</td></tr>\n",
              "\t<tr><td>2009</td><td>IND</td><td>56</td></tr>\n",
              "\t<tr><td>2009</td><td>JAC</td><td>47</td></tr>\n",
              "\t<tr><td>2009</td><td>KC </td><td>66</td></tr>\n",
              "\t<tr><td>2009</td><td>MIA</td><td>60</td></tr>\n",
              "\t<tr><td>2009</td><td>MIN</td><td>69</td></tr>\n",
              "\t<tr><td>2009</td><td>NE </td><td>65</td></tr>\n",
              "\t<tr><td>2009</td><td>NO </td><td>59</td></tr>\n",
              "\t<tr><td>2009</td><td>NYG</td><td>68</td></tr>\n",
              "\t<tr><td>2009</td><td>NYJ</td><td>63</td></tr>\n",
              "\t<tr><td>2009</td><td>OAK</td><td>92</td></tr>\n",
              "\t<tr><td>2009</td><td>PHI</td><td>77</td></tr>\n",
              "\t<tr><td>2009</td><td>PIT</td><td>63</td></tr>\n",
              "\t<tr><td>2009</td><td>SD </td><td>59</td></tr>\n",
              "\t<tr><td>2009</td><td>SEA</td><td>74</td></tr>\n",
              "\t<tr><td>2009</td><td>SF </td><td>69</td></tr>\n",
              "\t<tr><td>2009</td><td>STL</td><td>68</td></tr>\n",
              "\t<tr><td>2009</td><td>TB </td><td>67</td></tr>\n",
              "\t<tr><td>⋮</td><td>⋮</td><td>⋮</td></tr>\n",
              "\t<tr><td>2019</td><td>BAL</td><td> 83</td></tr>\n",
              "\t<tr><td>2019</td><td>BUF</td><td> 86</td></tr>\n",
              "\t<tr><td>2019</td><td>CAR</td><td> 64</td></tr>\n",
              "\t<tr><td>2019</td><td>CHI</td><td> 72</td></tr>\n",
              "\t<tr><td>2019</td><td>CIN</td><td> 65</td></tr>\n",
              "\t<tr><td>2019</td><td>CLE</td><td> 92</td></tr>\n",
              "\t<tr><td>2019</td><td>DAL</td><td> 79</td></tr>\n",
              "\t<tr><td>2019</td><td>DEN</td><td> 78</td></tr>\n",
              "\t<tr><td>2019</td><td>DET</td><td> 81</td></tr>\n",
              "\t<tr><td>2019</td><td>GB </td><td> 79</td></tr>\n",
              "\t<tr><td>2019</td><td>HOU</td><td> 91</td></tr>\n",
              "\t<tr><td>2019</td><td>IND</td><td> 59</td></tr>\n",
              "\t<tr><td>2019</td><td>JAX</td><td> 90</td></tr>\n",
              "\t<tr><td>2019</td><td>KC </td><td> 73</td></tr>\n",
              "\t<tr><td>2019</td><td>LA </td><td> 93</td></tr>\n",
              "\t<tr><td>2019</td><td>LAC</td><td> 76</td></tr>\n",
              "\t<tr><td>2019</td><td>MIA</td><td> 69</td></tr>\n",
              "\t<tr><td>2019</td><td>MIN</td><td> 69</td></tr>\n",
              "\t<tr><td>2019</td><td>NE </td><td> 75</td></tr>\n",
              "\t<tr><td>2019</td><td>NO </td><td> 94</td></tr>\n",
              "\t<tr><td>2019</td><td>NYG</td><td> 72</td></tr>\n",
              "\t<tr><td>2019</td><td>NYJ</td><td> 82</td></tr>\n",
              "\t<tr><td>2019</td><td>OAK</td><td> 97</td></tr>\n",
              "\t<tr><td>2019</td><td>PHI</td><td> 74</td></tr>\n",
              "\t<tr><td>2019</td><td>PIT</td><td> 91</td></tr>\n",
              "\t<tr><td>2019</td><td>SEA</td><td> 91</td></tr>\n",
              "\t<tr><td>2019</td><td>SF </td><td> 77</td></tr>\n",
              "\t<tr><td>2019</td><td>TB </td><td>102</td></tr>\n",
              "\t<tr><td>2019</td><td>TEN</td><td> 72</td></tr>\n",
              "\t<tr><td>2019</td><td>WAS</td><td> 74</td></tr>\n",
              "</tbody>\n",
              "</table>\n"
            ]
          },
          "metadata": {
            "tags": []
          }
        }
      ]
    }
  ]
}