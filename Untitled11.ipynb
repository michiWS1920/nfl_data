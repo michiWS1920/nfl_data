{
  "nbformat": 4,
  "nbformat_minor": 0,
  "metadata": {
    "colab": {
      "name": "Untitled11.ipynb",
      "provenance": [],
      "authorship_tag": "ABX9TyNVdDe6ldyl4QFwox3AtgmH",
      "include_colab_link": true
    },
    "kernelspec": {
      "name": "ir",
      "display_name": "R"
    }
  },
  "cells": [
    {
      "cell_type": "markdown",
      "metadata": {
        "id": "view-in-github",
        "colab_type": "text"
      },
      "source": [
        "<a href=\"https://colab.research.google.com/github/michiWS1920/nfl_data/blob/michi/Untitled11.ipynb\" target=\"_parent\"><img src=\"https://colab.research.google.com/assets/colab-badge.svg\" alt=\"Open In Colab\"/></a>"
      ]
    },
    {
      "cell_type": "code",
      "metadata": {
        "id": "ImPRaeHwr1k8",
        "colab_type": "code",
        "colab": {
          "base_uri": "https://localhost:8080/",
          "height": 212
        },
        "outputId": "ae201f77-4ef0-4401-f3b0-9f75b635b640"
      },
      "source": [
        "library(tidyverse)"
      ],
      "execution_count": 1,
      "outputs": [
        {
          "output_type": "stream",
          "text": [
            "── \u001b[1mAttaching packages\u001b[22m ─────────────────────────────────────── tidyverse 1.3.0 ──\n",
            "\n",
            "\u001b[32m✔\u001b[39m \u001b[34mggplot2\u001b[39m 3.3.2     \u001b[32m✔\u001b[39m \u001b[34mpurrr  \u001b[39m 0.3.4\n",
            "\u001b[32m✔\u001b[39m \u001b[34mtibble \u001b[39m 3.0.3     \u001b[32m✔\u001b[39m \u001b[34mdplyr  \u001b[39m 1.0.2\n",
            "\u001b[32m✔\u001b[39m \u001b[34mtidyr  \u001b[39m 1.1.2     \u001b[32m✔\u001b[39m \u001b[34mstringr\u001b[39m 1.4.0\n",
            "\u001b[32m✔\u001b[39m \u001b[34mreadr  \u001b[39m 1.3.1     \u001b[32m✔\u001b[39m \u001b[34mforcats\u001b[39m 0.5.0\n",
            "\n",
            "── \u001b[1mConflicts\u001b[22m ────────────────────────────────────────── tidyverse_conflicts() ──\n",
            "\u001b[31m✖\u001b[39m \u001b[34mdplyr\u001b[39m::\u001b[32mfilter()\u001b[39m masks \u001b[34mstats\u001b[39m::filter()\n",
            "\u001b[31m✖\u001b[39m \u001b[34mdplyr\u001b[39m::\u001b[32mlag()\u001b[39m    masks \u001b[34mstats\u001b[39m::lag()\n",
            "\n"
          ],
          "name": "stderr"
        }
      ]
    },
    {
      "cell_type": "code",
      "metadata": {
        "id": "RBFCAHKjsYSs",
        "colab_type": "code",
        "colab": {
          "base_uri": "https://localhost:8080/",
          "height": 301
        },
        "outputId": "2e5aaf14-db22-4140-8b71-117e83c1e914"
      },
      "source": [
        "library(rvest)"
      ],
      "execution_count": 2,
      "outputs": [
        {
          "output_type": "stream",
          "text": [
            "Loading required package: xml2\n",
            "\n",
            "\n",
            "Attaching package: ‘rvest’\n",
            "\n",
            "\n",
            "The following object is masked from ‘package:purrr’:\n",
            "\n",
            "    pluck\n",
            "\n",
            "\n",
            "The following object is masked from ‘package:readr’:\n",
            "\n",
            "    guess_encoding\n",
            "\n",
            "\n"
          ],
          "name": "stderr"
        }
      ]
    },
    {
      "cell_type": "code",
      "metadata": {
        "id": "zko6DjFEvMua",
        "colab_type": "code",
        "colab": {
          "base_uri": "https://localhost:8080/",
          "height": 550
        },
        "outputId": "82448e70-3d92-483b-f6a5-8acbd7f898d4"
      },
      "source": [
        "devtools::install_github(repo = \"saiemgilani/cfbscrapR\")"
      ],
      "execution_count": 5,
      "outputs": [
        {
          "output_type": "stream",
          "text": [
            "Downloading GitHub repo saiemgilani/cfbscrapR@HEAD\n",
            "\n"
          ],
          "name": "stderr"
        },
        {
          "output_type": "stream",
          "text": [
            "backports (1.1.9 -> 1.1.10) [CRAN]\n",
            "rprojroot (1.2   -> 1.3-2 ) [CRAN]\n",
            "farver    (2.0.1 -> 2.0.3 ) [CRAN]\n",
            "snakecase (NA    -> 0.11.0) [CRAN]\n",
            "sp        (NA    -> 1.4-2 ) [CRAN]\n",
            "openssl   (1.4.2 -> 1.4.3 ) [CRAN]\n",
            "curl      (4.2   -> 4.3   ) [CRAN]\n",
            "janitor   (NA    -> 2.0.1 ) [CRAN]\n",
            "maps      (NA    -> 3.3.0 ) [CRAN]\n",
            "geosphere (NA    -> 1.5-10) [CRAN]\n",
            "attempt   (NA    -> 0.3.1 ) [CRAN]\n",
            "ggrepel   (NA    -> 0.8.2 ) [CRAN]\n"
          ],
          "name": "stdout"
        },
        {
          "output_type": "stream",
          "text": [
            "Installing 12 packages: backports, rprojroot, farver, snakecase, sp, openssl, curl, janitor, maps, geosphere, attempt, ggrepel\n",
            "\n",
            "Installing packages into ‘/usr/local/lib/R/site-library’\n",
            "(as ‘lib’ is unspecified)\n",
            "\n"
          ],
          "name": "stderr"
        },
        {
          "output_type": "stream",
          "text": [
            "\u001b[32m✔\u001b[39m  \u001b[90mchecking for file ‘/tmp/Rtmpcw740U/remotes655576ef75/saiemgilani-cfbscrapR-7ea0cec/DESCRIPTION’\u001b[39m\u001b[36m\u001b[39m\n",
            "\u001b[90m─\u001b[39m\u001b[90m  \u001b[39m\u001b[90mpreparing ‘cfbscrapR’:\u001b[39m\u001b[36m\u001b[39m\n",
            "\u001b[32m✔\u001b[39m  \u001b[90mchecking DESCRIPTION meta-information\u001b[39m\u001b[36m\u001b[39m\n",
            "\u001b[90m─\u001b[39m\u001b[90m  \u001b[39m\u001b[90mchecking for LF line-endings in source and make files and shell scripts\u001b[39m\u001b[36m\u001b[39m\n",
            "\u001b[90m─\u001b[39m\u001b[90m  \u001b[39m\u001b[90mchecking for empty or unneeded directories\u001b[39m\u001b[36m\u001b[39m\n",
            "\u001b[90m─\u001b[39m\u001b[90m  \u001b[39m\u001b[90mlooking to see if a ‘data/datalist’ file should be added\u001b[39m\u001b[36m\u001b[39m\n",
            "\u001b[90m─\u001b[39m\u001b[90m  \u001b[39m\u001b[90mbuilding ‘cfbscrapR_1.0.21.tar.gz’\u001b[39m\u001b[36m\u001b[39m\n",
            "   \n"
          ],
          "name": "stdout"
        },
        {
          "output_type": "stream",
          "text": [
            "Installing package into ‘/usr/local/lib/R/site-library’\n",
            "(as ‘lib’ is unspecified)\n",
            "\n"
          ],
          "name": "stderr"
        }
      ]
    },
    {
      "cell_type": "code",
      "metadata": {
        "id": "yXP_UCe4xduk",
        "colab_type": "code",
        "colab": {
          "base_uri": "https://localhost:8080/",
          "height": 372
        },
        "outputId": "956c1a8d-41ac-4aa4-fd40-c17ac215ed57"
      },
      "source": [
        "remotes::install_github(\"rstudio/gt\")"
      ],
      "execution_count": 11,
      "outputs": [
        {
          "output_type": "stream",
          "text": [
            "Downloading GitHub repo rstudio/gt@HEAD\n",
            "\n"
          ],
          "name": "stderr"
        },
        {
          "output_type": "stream",
          "text": [
            "sass      (NA -> 0.2.0) [CRAN]\n",
            "checkmate (NA -> 2.0.0) [CRAN]\n"
          ],
          "name": "stdout"
        },
        {
          "output_type": "stream",
          "text": [
            "Installing 2 packages: sass, checkmate\n",
            "\n",
            "Installing packages into ‘/usr/local/lib/R/site-library’\n",
            "(as ‘lib’ is unspecified)\n",
            "\n"
          ],
          "name": "stderr"
        },
        {
          "output_type": "stream",
          "text": [
            "\u001b[32m✔\u001b[39m  \u001b[90mchecking for file ‘/tmp/Rtmpcw740U/remotes653180744/rstudio-gt-c97cb4c/DESCRIPTION’\u001b[39m\u001b[36m\u001b[39m\n",
            "\u001b[90m─\u001b[39m\u001b[90m  \u001b[39m\u001b[90mpreparing ‘gt’:\u001b[39m\u001b[36m\u001b[39m\n",
            "\u001b[32m✔\u001b[39m  \u001b[90mchecking DESCRIPTION meta-information\u001b[39m\u001b[36m\u001b[39m\n",
            "\u001b[90m─\u001b[39m\u001b[90m  \u001b[39m\u001b[90mchecking for LF line-endings in source and make files and shell scripts\u001b[39m\u001b[36m\u001b[39m\n",
            "\u001b[90m─\u001b[39m\u001b[90m  \u001b[39m\u001b[90mchecking for empty or unneeded directories\u001b[39m\u001b[36m\u001b[39m\n",
            "\u001b[90m─\u001b[39m\u001b[90m  \u001b[39m\u001b[90mlooking to see if a ‘data/datalist’ file should be added\u001b[39m\u001b[36m\u001b[39m\n",
            "\u001b[90m─\u001b[39m\u001b[90m  \u001b[39m\u001b[90mbuilding ‘gt_0.2.2.tar.gz’\u001b[39m\u001b[36m\u001b[39m\n",
            "   \n"
          ],
          "name": "stdout"
        },
        {
          "output_type": "stream",
          "text": [
            "Installing package into ‘/usr/local/lib/R/site-library’\n",
            "(as ‘lib’ is unspecified)\n",
            "\n"
          ],
          "name": "stderr"
        }
      ]
    },
    {
      "cell_type": "code",
      "metadata": {
        "id": "Nh3_Re-wxfl6",
        "colab_type": "code",
        "colab": {
          "base_uri": "https://localhost:8080/",
          "height": 177
        },
        "outputId": "27f1f47c-1c6a-47cc-be79-10291970908d"
      },
      "source": [
        "library(gt)"
      ],
      "execution_count": 12,
      "outputs": [
        {
          "output_type": "stream",
          "text": [
            "\n",
            "Attaching package: ‘gt’\n",
            "\n",
            "\n",
            "The following object is masked from ‘package:rvest’:\n",
            "\n",
            "    html\n",
            "\n",
            "\n"
          ],
          "name": "stderr"
        }
      ]
    },
    {
      "cell_type": "code",
      "metadata": {
        "id": "45tRRh8twocS",
        "colab_type": "code",
        "colab": {}
      },
      "source": [
        "library(cfbscrapR)"
      ],
      "execution_count": 16,
      "outputs": []
    },
    {
      "cell_type": "code",
      "metadata": {
        "id": "KhhP7SlowTNM",
        "colab_type": "code",
        "colab": {
          "base_uri": "https://localhost:8080/",
          "height": 559
        },
        "outputId": "28a270db-7052-4f4a-c554-f476784c8592"
      },
      "source": [
        "pbp_2019 <- data.frame()\n",
        "for(i in 1:15){\n",
        "  pbp <- cfb_pbp_data(year=2019, season_type = 'regular', week = i, epa_wpa = TRUE)\n",
        "  pbp_2019 <- rbind(pbp_2019, pbp)\n",
        "}"
      ],
      "execution_count": 17,
      "outputs": [
        {
          "output_type": "stream",
          "text": [
            "Warning message:\n",
            "“prediction from discrete bam models prior to 1.8-32 is deprecated, please refit”\n"
          ],
          "name": "stderr"
        },
        {
          "output_type": "error",
          "ename": "ERROR",
          "evalue": "ignored",
          "traceback": [
            "Error in 1:dk$nr[i]: NA/NaN argument\nTraceback:\n",
            "1. cfb_pbp_data(year = 2019, season_type = \"regular\", week = i, \n .     epa_wpa = TRUE)",
            "2. purrr::map_dfr(g_ids, function(x) {\n .     play_df %>% dplyr::filter(.data$game_id == x) %>% create_epa() %>% \n .         create_wpa_naive()\n . })",
            "3. map(.x, .f, ...)",
            "4. .f(.x[[i]], ...)",
            "5. play_df %>% dplyr::filter(.data$game_id == x) %>% create_epa() %>% \n .     create_wpa_naive()",
            "6. withVisible(eval(quote(`_fseq`(`_lhs`)), env, env))",
            "7. eval(quote(`_fseq`(`_lhs`)), env, env)",
            "8. eval(quote(`_fseq`(`_lhs`)), env, env)",
            "9. `_fseq`(`_lhs`)",
            "10. freduce(value, `_function_list`)",
            "11. withVisible(function_list[[k]](value))",
            "12. function_list[[k]](value)",
            "13. create_wpa_naive(.)",
            "14. as.vector(predict(wp_model, newdata = df, type = \"response\"))",
            "15. predict(wp_model, newdata = df, type = \"response\")",
            "16. predict.bam(wp_model, newdata = df, type = \"response\")",
            "17. predict.bamd(object, newdata, type, se.fit, terms, exclude, block.size, \n  .     newdata.guaranteed, na.action, n.threads, ...)"
          ]
        }
      ]
    },
    {
      "cell_type": "code",
      "metadata": {
        "id": "pBdf80pSyMMU",
        "colab_type": "code",
        "colab": {
          "base_uri": "https://localhost:8080/",
          "height": 559
        },
        "outputId": "1144ae53-c4a2-4a6e-9cfd-e53770de9189"
      },
      "source": [
        " pbp <- cfb_pbp_data(year=2019, season_type = 'regular', week = i, epa_wpa = TRUE)"
      ],
      "execution_count": 18,
      "outputs": [
        {
          "output_type": "stream",
          "text": [
            "Warning message:\n",
            "“prediction from discrete bam models prior to 1.8-32 is deprecated, please refit”\n"
          ],
          "name": "stderr"
        },
        {
          "output_type": "error",
          "ename": "ERROR",
          "evalue": "ignored",
          "traceback": [
            "Error in 1:dk$nr[i]: NA/NaN argument\nTraceback:\n",
            "1. cfb_pbp_data(year = 2019, season_type = \"regular\", week = i, \n .     epa_wpa = TRUE)",
            "2. purrr::map_dfr(g_ids, function(x) {\n .     play_df %>% dplyr::filter(.data$game_id == x) %>% create_epa() %>% \n .         create_wpa_naive()\n . })",
            "3. map(.x, .f, ...)",
            "4. .f(.x[[i]], ...)",
            "5. play_df %>% dplyr::filter(.data$game_id == x) %>% create_epa() %>% \n .     create_wpa_naive()",
            "6. withVisible(eval(quote(`_fseq`(`_lhs`)), env, env))",
            "7. eval(quote(`_fseq`(`_lhs`)), env, env)",
            "8. eval(quote(`_fseq`(`_lhs`)), env, env)",
            "9. `_fseq`(`_lhs`)",
            "10. freduce(value, `_function_list`)",
            "11. withVisible(function_list[[k]](value))",
            "12. function_list[[k]](value)",
            "13. create_wpa_naive(.)",
            "14. as.vector(predict(wp_model, newdata = df, type = \"response\"))",
            "15. predict(wp_model, newdata = df, type = \"response\")",
            "16. predict.bam(wp_model, newdata = df, type = \"response\")",
            "17. predict.bamd(object, newdata, type, se.fit, terms, exclude, block.size, \n  .     newdata.guaranteed, na.action, n.threads, ...)"
          ]
        }
      ]
    },
    {
      "cell_type": "code",
      "metadata": {
        "id": "_bQupd9TzjK5",
        "colab_type": "code",
        "colab": {
          "base_uri": "https://localhost:8080/",
          "height": 630
        },
        "outputId": "8804b960-e98c-4455-9916-6a9ca785ca1d"
      },
      "source": [
        "pbp_2019 <- data.frame()\n",
        "for(i in 1:15){\n",
        "  data <- cfb_pbp_data(year = 2019, season_type = \"regular\", week = i, epa_wpa = TRUE) %>% mutate(week = i)\n",
        "  df <- data.frame(data)\n",
        "  pbp_2019 <- bind_rows(pbp_2019, df)\n",
        "} \n"
      ],
      "execution_count": 19,
      "outputs": [
        {
          "output_type": "stream",
          "text": [
            "Warning message:\n",
            "“prediction from discrete bam models prior to 1.8-32 is deprecated, please refit”\n"
          ],
          "name": "stderr"
        },
        {
          "output_type": "error",
          "ename": "ERROR",
          "evalue": "ignored",
          "traceback": [
            "Error in 1:dk$nr[i]: NA/NaN argument\nTraceback:\n",
            "1. cfb_pbp_data(year = 2019, season_type = \"regular\", week = i, \n .     epa_wpa = TRUE) %>% mutate(week = i)",
            "2. eval(lhs, parent, parent)",
            "3. eval(lhs, parent, parent)",
            "4. cfb_pbp_data(year = 2019, season_type = \"regular\", week = i, \n .     epa_wpa = TRUE)",
            "5. purrr::map_dfr(g_ids, function(x) {\n .     play_df %>% dplyr::filter(.data$game_id == x) %>% create_epa() %>% \n .         create_wpa_naive()\n . })",
            "6. map(.x, .f, ...)",
            "7. .f(.x[[i]], ...)",
            "8. play_df %>% dplyr::filter(.data$game_id == x) %>% create_epa() %>% \n .     create_wpa_naive()",
            "9. withVisible(eval(quote(`_fseq`(`_lhs`)), env, env))",
            "10. eval(quote(`_fseq`(`_lhs`)), env, env)",
            "11. eval(quote(`_fseq`(`_lhs`)), env, env)",
            "12. `_fseq`(`_lhs`)",
            "13. freduce(value, `_function_list`)",
            "14. withVisible(function_list[[k]](value))",
            "15. function_list[[k]](value)",
            "16. create_wpa_naive(.)",
            "17. as.vector(predict(wp_model, newdata = df, type = \"response\"))",
            "18. predict(wp_model, newdata = df, type = \"response\")",
            "19. predict.bam(wp_model, newdata = df, type = \"response\")",
            "20. predict.bamd(object, newdata, type, se.fit, terms, exclude, block.size, \n  .     newdata.guaranteed, na.action, n.threads, ...)"
          ]
        }
      ]
    }
  ]
}