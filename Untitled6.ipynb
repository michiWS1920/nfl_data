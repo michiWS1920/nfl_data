{
  "nbformat": 4,
  "nbformat_minor": 0,
  "metadata": {
    "colab": {
      "name": "Untitled6.ipynb",
      "provenance": [],
      "authorship_tag": "ABX9TyPrjBMTq/eh+6k9Rogbos1M",
      "include_colab_link": true
    },
    "kernelspec": {
      "name": "ir",
      "display_name": "R"
    }
  },
  "cells": [
    {
      "cell_type": "markdown",
      "metadata": {
        "id": "view-in-github",
        "colab_type": "text"
      },
      "source": [
        "<a href=\"https://colab.research.google.com/github/michiWS1920/nfl_data/blob/master/Untitled6.ipynb\" target=\"_parent\"><img src=\"https://colab.research.google.com/assets/colab-badge.svg\" alt=\"Open In Colab\"/></a>"
      ]
    },
    {
      "cell_type": "code",
      "metadata": {
        "id": "9Qwxd_xsFhAE",
        "colab_type": "code",
        "colab": {}
      },
      "source": [
        "library(tidyverse)\n",
        "library(ggplot2)"
      ],
      "execution_count": 0,
      "outputs": []
    },
    {
      "cell_type": "code",
      "metadata": {
        "id": "V_8oFFfQLCZP",
        "colab_type": "code",
        "colab": {}
      },
      "source": [
        "library(stringr)"
      ],
      "execution_count": 0,
      "outputs": []
    },
    {
      "cell_type": "code",
      "metadata": {
        "id": "egb8Q8LfFoyj",
        "colab_type": "code",
        "colab": {
          "base_uri": "https://localhost:8080/",
          "height": 70
        },
        "outputId": "d64ded0a-2280-4c8b-f2f0-e566af7f398b"
      },
      "source": [
        "install.packages(\"devtools\")"
      ],
      "execution_count": 3,
      "outputs": [
        {
          "output_type": "stream",
          "text": [
            "Installing package into ‘/usr/local/lib/R/site-library’\n",
            "(as ‘lib’ is unspecified)\n",
            "\n"
          ],
          "name": "stderr"
        }
      ]
    },
    {
      "cell_type": "code",
      "metadata": {
        "id": "5HcAC6IVFuFn",
        "colab_type": "code",
        "colab": {
          "base_uri": "https://localhost:8080/",
          "height": 479
        },
        "outputId": "62369e1f-3040-467c-946b-0181e62dd2b9"
      },
      "source": [
        "devtools::install_github(repo = \"maksimhorowitz/nflscrapR\")"
      ],
      "execution_count": 4,
      "outputs": [
        {
          "output_type": "stream",
          "text": [
            "Downloading GitHub repo maksimhorowitz/nflscrapR@master\n",
            "\n"
          ],
          "name": "stderr"
        },
        {
          "output_type": "stream",
          "text": [
            "RJSONIO   (NA  -> 1.3-1.4 ) [CRAN]\n",
            "RCurl     (NA  -> 1.98-1.2) [CRAN]\n",
            "reshape   (NA  -> 0.8.8   ) [CRAN]\n",
            "scrapeR   (NA  -> 0.1.6   ) [CRAN]\n",
            "gridExtra (NA  -> 2.3     ) [CRAN]\n",
            "bitops    (NA  -> 1.0-6   ) [CRAN]\n",
            "curl      (4.2 -> 4.3     ) [CRAN]\n",
            "XML       (NA  -> 3.99-0.3) [CRAN]\n"
          ],
          "name": "stdout"
        },
        {
          "output_type": "stream",
          "text": [
            "Installing 8 packages: RJSONIO, RCurl, reshape, scrapeR, gridExtra, bitops, curl, XML\n",
            "\n",
            "Installing packages into ‘/usr/local/lib/R/site-library’\n",
            "(as ‘lib’ is unspecified)\n",
            "\n"
          ],
          "name": "stderr"
        },
        {
          "output_type": "stream",
          "text": [
            "\u001b[32m✔\u001b[39m  \u001b[90mchecking for file ‘/tmp/RtmpZFDmx1/remotes79737fd135/maksimhorowitz-nflscrapR-d203baa/DESCRIPTION’\u001b[39m\u001b[36m\u001b[39m\n",
            "\u001b[90m─\u001b[39m\u001b[90m  \u001b[39m\u001b[90mpreparing ‘nflscrapR’:\u001b[39m\u001b[36m\u001b[39m\n",
            "\u001b[32m✔\u001b[39m  \u001b[90mchecking DESCRIPTION meta-information\u001b[39m\u001b[36m\u001b[39m\n",
            "\u001b[90m─\u001b[39m\u001b[90m  \u001b[39m\u001b[90mchecking for LF line-endings in source and make files and shell scripts\u001b[39m\u001b[36m\u001b[39m\n",
            "\u001b[90m─\u001b[39m\u001b[90m  \u001b[39m\u001b[90mchecking for empty or unneeded directories\u001b[39m\u001b[36m\u001b[39m\n",
            "\u001b[90m─\u001b[39m\u001b[90m  \u001b[39m\u001b[90mlooking to see if a ‘data/datalist’ file should be added\u001b[39m\u001b[36m\u001b[39m\n",
            "\u001b[90m─\u001b[39m\u001b[90m  \u001b[39m\u001b[90mbuilding ‘nflscrapR_1.8.3.tar.gz’\u001b[39m\u001b[36m\u001b[39m\n",
            "   \n"
          ],
          "name": "stdout"
        },
        {
          "output_type": "stream",
          "text": [
            "Installing package into ‘/usr/local/lib/R/site-library’\n",
            "(as ‘lib’ is unspecified)\n",
            "\n"
          ],
          "name": "stderr"
        }
      ]
    },
    {
      "cell_type": "code",
      "metadata": {
        "id": "SxzZy6_OFw23",
        "colab_type": "code",
        "colab": {
          "base_uri": "https://localhost:8080/",
          "height": 337
        },
        "outputId": "35f96c59-5dbe-4b22-ba0f-3d052154fdb5"
      },
      "source": [
        "library(nflscrapR)"
      ],
      "execution_count": 5,
      "outputs": [
        {
          "output_type": "stream",
          "text": [
            "Loading required package: nnet\n",
            "\n",
            "Loading required package: magrittr\n",
            "\n",
            "\n",
            "Attaching package: ‘magrittr’\n",
            "\n",
            "\n",
            "The following object is masked from ‘package:purrr’:\n",
            "\n",
            "    set_names\n",
            "\n",
            "\n",
            "The following object is masked from ‘package:tidyr’:\n",
            "\n",
            "    extract\n",
            "\n",
            "\n"
          ],
          "name": "stderr"
        }
      ]
    },
    {
      "cell_type": "code",
      "metadata": {
        "id": "13VszKIbHLWD",
        "colab_type": "code",
        "colab": {
          "base_uri": "https://localhost:8080/",
          "height": 70
        },
        "outputId": "e714e306-1cc6-4fc4-e7d4-95b63c232a6c"
      },
      "source": [
        "install.packages(\"pander\")"
      ],
      "execution_count": 10,
      "outputs": [
        {
          "output_type": "stream",
          "text": [
            "Installing package into ‘/usr/local/lib/R/site-library’\n",
            "(as ‘lib’ is unspecified)\n",
            "\n"
          ],
          "name": "stderr"
        }
      ]
    },
    {
      "cell_type": "code",
      "metadata": {
        "id": "B-oUBRO_HMob",
        "colab_type": "code",
        "colab": {}
      },
      "source": [
        "library(pander)"
      ],
      "execution_count": 0,
      "outputs": []
    },
    {
      "cell_type": "code",
      "metadata": {
        "id": "UL9Gqqm3NIGF",
        "colab_type": "code",
        "colab": {
          "base_uri": "https://localhost:8080/",
          "height": 212
        },
        "outputId": "45e24d5c-f278-4e4a-80ff-b8185ef1a34b"
      },
      "source": [
        "games_data <- read_csv(url(\"https://github.com/ryurko/nflscrapR-data/raw/master/roster_data/regular_season/reg_roster_2019.csv\"))"
      ],
      "execution_count": 38,
      "outputs": [
        {
          "output_type": "stream",
          "text": [
            "Parsed with column specification:\n",
            "cols(\n",
            "  season = \u001b[32mcol_double()\u001b[39m,\n",
            "  season_type = \u001b[31mcol_character()\u001b[39m,\n",
            "  full_player_name = \u001b[31mcol_character()\u001b[39m,\n",
            "  abbr_player_name = \u001b[31mcol_character()\u001b[39m,\n",
            "  team = \u001b[31mcol_character()\u001b[39m,\n",
            "  position = \u001b[31mcol_character()\u001b[39m,\n",
            "  gsis_id = \u001b[31mcol_character()\u001b[39m\n",
            ")\n",
            "\n"
          ],
          "name": "stderr"
        }
      ]
    },
    {
      "cell_type": "code",
      "metadata": {
        "id": "AViv_gUyNNXc",
        "colab_type": "code",
        "colab": {
          "base_uri": "https://localhost:8080/",
          "height": 1000
        },
        "outputId": "f35a9956-db9e-40d0-d6e7-719b4c2a259d"
      },
      "source": [
        "games_data"
      ],
      "execution_count": 39,
      "outputs": [
        {
          "output_type": "display_data",
          "data": {
            "text/plain": [
              "    season season_type full_player_name   abbr_player_name team position\n",
              "1   2019   reg         A.J. Brown         A.Brown          TEN  WR      \n",
              "2   2019   reg         Aaron Jones        A.Jones          GB   RB      \n",
              "3   2019   reg         Aaron Rodgers      A.Rodgers        GB   QB      \n",
              "4   2019   reg         Adam Humphries     A.Humphries      TEN  WR      \n",
              "5   2019   reg         Adam Shaheen       A.Shaheen        CHI  TE      \n",
              "6   2019   reg         Adam Thielen       A.Thielen        MIN  WR      \n",
              "7   2019   reg         Adrian Peterson    A.Peterson       WAS  RB      \n",
              "8   2019   reg         Albert Wilson      A.Wilson         MIA  WR      \n",
              "9   2019   reg         Alex Armah         A.Armah          CAR  FB      \n",
              "10  2019   reg         Alex Erickson      A.Erickson       CIN  WR      \n",
              "11  2019   reg         Alexander Mattison A.Mattison       MIN  RB      \n",
              "12  2019   reg         Allen Hurns        A.Hurns          MIA  WR      \n",
              "13  2019   reg         Allen Robinson     A.Robinson       CHI  WR      \n",
              "14  2019   reg         Alshon Jeffery     A.Jeffery        PHI  WR      \n",
              "15  2019   reg         Alvin Kamara       A.Kamara         NO   RB      \n",
              "16  2019   reg         Amari Cooper       A.Cooper         DAL  WR      \n",
              "17  2019   reg         Ameer Abdullah     A.Abdullah       MIN  RB      \n",
              "18  2019   reg         Andy Dalton        A.Dalton         CIN  QB      \n",
              "19  2019   reg         Anthony Miller     A.Miller         CHI  WR      \n",
              "20  2019   reg         Antonio Brown      A.Brown          NE   WR      \n",
              "21  2019   reg         Auden Tate         A.Tate           CIN  WR      \n",
              "22  2019   reg         Austin Ekeler      A.Ekeler         LAC  RB      \n",
              "23  2019   reg         Austin Hooper      A.Hooper         ATL  TE      \n",
              "24  2019   reg         Baker Mayfield     B.Mayfield       CLE  QB      \n",
              "25  2019   reg         Ben Braunecker     B.Braunecker     CHI  TE      \n",
              "26  2019   reg         Ben Roethlisberger B.Roethlisberger PIT  QB      \n",
              "27  2019   reg         Bennie Fowler      B.Fowler         NYG  WR      \n",
              "28  2019   reg         Benny Snell        B.Snell          PIT  RB      \n",
              "29  2019   reg         Blake Bell         B.Bell           KC   TE      \n",
              "30  2019   reg         Blake Jarwin       B.Jarwin         DAL  TE      \n",
              "⋮   ⋮      ⋮           ⋮                  ⋮                ⋮    ⋮       \n",
              "321 2019   reg         Tom Brady          T.Brady          NE   QB      \n",
              "322 2019   reg         Tommy Sweeney      T.Sweeney        BUF  TE      \n",
              "323 2019   reg         Tony Pollard       T.Pollard        DAL  RB      \n",
              "324 2019   reg         Travis Benjamin    T.Benjamin       LAC  WR      \n",
              "325 2019   reg         Travis Kelce       T.Kelce          KC   TE      \n",
              "326 2019   reg         Tre'Quan Smith     T.Smith          NO   WR      \n",
              "327 2019   reg         Trevor Davis       T.Davis          GB   WR      \n",
              "328 2019   reg         Trevor Siemian     T.Siemian        NYJ  QB      \n",
              "329 2019   reg         Trey Burton        T.Burton         CHI  TE      \n",
              "330 2019   reg         Trey Quinn         T.Quinn          WAS  WR      \n",
              "331 2019   reg         Troy Fumagalli     T.Fumagalli      DEN  TE      \n",
              "332 2019   reg         Ty Johnson         T.Johnson        DET  RB      \n",
              "333 2019   reg         Ty Montgomery      T.Montgomery     NYJ  RB      \n",
              "334 2019   reg         Tyler Boyd         T.Boyd           CIN  WR      \n",
              "335 2019   reg         Tyler Eifert       T.Eifert         CIN  TE      \n",
              "336 2019   reg         Tyler Higbee       T.Higbee         LA   TE      \n",
              "337 2019   reg         Tyler Lockett      T.Lockett        SEA  WR      \n",
              "338 2019   reg         Tyreek Hill        T.Hill           KC   WR      \n",
              "339 2019   reg         Tyrell Williams    T.Williams       OAK  WR      \n",
              "340 2019   reg         Vance McDonald     V.McDonald       PIT  TE      \n",
              "341 2019   reg         Vernon Davis       V.Davis          WAS  TE      \n",
              "342 2019   reg         Virgil Green       V.Green          LAC  TE      \n",
              "343 2019   reg         Wayne Gallman      W.Gallman        NYG  RB      \n",
              "344 2019   reg         Wendell Smallwood  W.Smallwood      WAS  RB      \n",
              "345 2019   reg         Will Dissly        W.Dissly         SEA  TE      \n",
              "346 2019   reg         Will Fuller        W.Fuller         HOU  WR      \n",
              "347 2019   reg         Willie Snead       W.Snead          BAL  WR      \n",
              "348 2019   reg         Xavier Grimble     X.Grimble        PIT  TE      \n",
              "349 2019   reg         Zach Ertz          Z.Ertz           PHI  TE      \n",
              "350 2019   reg         Zay Jones          Z.Jones          BUF  WR      \n",
              "    gsis_id   \n",
              "1   00-0035676\n",
              "2   00-0033293\n",
              "3   00-0023459\n",
              "4   00-0032009\n",
              "5   00-0033896\n",
              "6   00-0030035\n",
              "7   00-0025394\n",
              "8   00-0030669\n",
              "9   00-0033296\n",
              "10  00-0032543\n",
              "11  00-0034972\n",
              "12  00-0030821\n",
              "13  00-0031428\n",
              "14  00-0029137\n",
              "15  00-0033906\n",
              "16  00-0031544\n",
              "17  00-0032104\n",
              "18  00-0027973\n",
              "19  00-0034353\n",
              "20  00-0027793\n",
              "21  00-0034686\n",
              "22  00-0033699\n",
              "23  00-0032392\n",
              "24  00-0034855\n",
              "25  00-0032661\n",
              "26  00-0022924\n",
              "27  00-0030670\n",
              "28  00-0035217\n",
              "29  00-0032062\n",
              "30  00-0033658\n",
              "⋮   ⋮         \n",
              "321 00-0019596\n",
              "322 00-0035308\n",
              "323 00-0035261\n",
              "324 00-0029269\n",
              "325 00-0030506\n",
              "326 00-0034765\n",
              "327 00-0032423\n",
              "328 00-0032156\n",
              "329 00-0030710\n",
              "330 00-0034339\n",
              "331 00-0034393\n",
              "332 00-0035537\n",
              "333 00-0032200\n",
              "334 00-0033009\n",
              "335 00-0030549\n",
              "336 00-0033110\n",
              "337 00-0032211\n",
              "338 00-0033040\n",
              "339 00-0032160\n",
              "340 00-0030470\n",
              "341 00-0024221\n",
              "342 00-0028142\n",
              "343 00-0033950\n",
              "344 00-0032782\n",
              "345 00-0034159\n",
              "346 00-0033127\n",
              "347 00-0030663\n",
              "348 00-0031035\n",
              "349 00-0030061\n",
              "350 00-0033891"
            ],
            "text/latex": "A spec\\_tbl\\_df: 350 × 7\n\\begin{tabular}{lllllll}\n season & season\\_type & full\\_player\\_name & abbr\\_player\\_name & team & position & gsis\\_id\\\\\n <dbl> & <chr> & <chr> & <chr> & <chr> & <chr> & <chr>\\\\\n\\hline\n\t 2019 & reg & A.J. Brown         & A.Brown          & TEN & WR & 00-0035676\\\\\n\t 2019 & reg & Aaron Jones        & A.Jones          & GB  & RB & 00-0033293\\\\\n\t 2019 & reg & Aaron Rodgers      & A.Rodgers        & GB  & QB & 00-0023459\\\\\n\t 2019 & reg & Adam Humphries     & A.Humphries      & TEN & WR & 00-0032009\\\\\n\t 2019 & reg & Adam Shaheen       & A.Shaheen        & CHI & TE & 00-0033896\\\\\n\t 2019 & reg & Adam Thielen       & A.Thielen        & MIN & WR & 00-0030035\\\\\n\t 2019 & reg & Adrian Peterson    & A.Peterson       & WAS & RB & 00-0025394\\\\\n\t 2019 & reg & Albert Wilson      & A.Wilson         & MIA & WR & 00-0030669\\\\\n\t 2019 & reg & Alex Armah         & A.Armah          & CAR & FB & 00-0033296\\\\\n\t 2019 & reg & Alex Erickson      & A.Erickson       & CIN & WR & 00-0032543\\\\\n\t 2019 & reg & Alexander Mattison & A.Mattison       & MIN & RB & 00-0034972\\\\\n\t 2019 & reg & Allen Hurns        & A.Hurns          & MIA & WR & 00-0030821\\\\\n\t 2019 & reg & Allen Robinson     & A.Robinson       & CHI & WR & 00-0031428\\\\\n\t 2019 & reg & Alshon Jeffery     & A.Jeffery        & PHI & WR & 00-0029137\\\\\n\t 2019 & reg & Alvin Kamara       & A.Kamara         & NO  & RB & 00-0033906\\\\\n\t 2019 & reg & Amari Cooper       & A.Cooper         & DAL & WR & 00-0031544\\\\\n\t 2019 & reg & Ameer Abdullah     & A.Abdullah       & MIN & RB & 00-0032104\\\\\n\t 2019 & reg & Andy Dalton        & A.Dalton         & CIN & QB & 00-0027973\\\\\n\t 2019 & reg & Anthony Miller     & A.Miller         & CHI & WR & 00-0034353\\\\\n\t 2019 & reg & Antonio Brown      & A.Brown          & NE  & WR & 00-0027793\\\\\n\t 2019 & reg & Auden Tate         & A.Tate           & CIN & WR & 00-0034686\\\\\n\t 2019 & reg & Austin Ekeler      & A.Ekeler         & LAC & RB & 00-0033699\\\\\n\t 2019 & reg & Austin Hooper      & A.Hooper         & ATL & TE & 00-0032392\\\\\n\t 2019 & reg & Baker Mayfield     & B.Mayfield       & CLE & QB & 00-0034855\\\\\n\t 2019 & reg & Ben Braunecker     & B.Braunecker     & CHI & TE & 00-0032661\\\\\n\t 2019 & reg & Ben Roethlisberger & B.Roethlisberger & PIT & QB & 00-0022924\\\\\n\t 2019 & reg & Bennie Fowler      & B.Fowler         & NYG & WR & 00-0030670\\\\\n\t 2019 & reg & Benny Snell        & B.Snell          & PIT & RB & 00-0035217\\\\\n\t 2019 & reg & Blake Bell         & B.Bell           & KC  & TE & 00-0032062\\\\\n\t 2019 & reg & Blake Jarwin       & B.Jarwin         & DAL & TE & 00-0033658\\\\\n\t ⋮ & ⋮ & ⋮ & ⋮ & ⋮ & ⋮ & ⋮\\\\\n\t 2019 & reg & Tom Brady         & T.Brady      & NE  & QB & 00-0019596\\\\\n\t 2019 & reg & Tommy Sweeney     & T.Sweeney    & BUF & TE & 00-0035308\\\\\n\t 2019 & reg & Tony Pollard      & T.Pollard    & DAL & RB & 00-0035261\\\\\n\t 2019 & reg & Travis Benjamin   & T.Benjamin   & LAC & WR & 00-0029269\\\\\n\t 2019 & reg & Travis Kelce      & T.Kelce      & KC  & TE & 00-0030506\\\\\n\t 2019 & reg & Tre'Quan Smith    & T.Smith      & NO  & WR & 00-0034765\\\\\n\t 2019 & reg & Trevor Davis      & T.Davis      & GB  & WR & 00-0032423\\\\\n\t 2019 & reg & Trevor Siemian    & T.Siemian    & NYJ & QB & 00-0032156\\\\\n\t 2019 & reg & Trey Burton       & T.Burton     & CHI & TE & 00-0030710\\\\\n\t 2019 & reg & Trey Quinn        & T.Quinn      & WAS & WR & 00-0034339\\\\\n\t 2019 & reg & Troy Fumagalli    & T.Fumagalli  & DEN & TE & 00-0034393\\\\\n\t 2019 & reg & Ty Johnson        & T.Johnson    & DET & RB & 00-0035537\\\\\n\t 2019 & reg & Ty Montgomery     & T.Montgomery & NYJ & RB & 00-0032200\\\\\n\t 2019 & reg & Tyler Boyd        & T.Boyd       & CIN & WR & 00-0033009\\\\\n\t 2019 & reg & Tyler Eifert      & T.Eifert     & CIN & TE & 00-0030549\\\\\n\t 2019 & reg & Tyler Higbee      & T.Higbee     & LA  & TE & 00-0033110\\\\\n\t 2019 & reg & Tyler Lockett     & T.Lockett    & SEA & WR & 00-0032211\\\\\n\t 2019 & reg & Tyreek Hill       & T.Hill       & KC  & WR & 00-0033040\\\\\n\t 2019 & reg & Tyrell Williams   & T.Williams   & OAK & WR & 00-0032160\\\\\n\t 2019 & reg & Vance McDonald    & V.McDonald   & PIT & TE & 00-0030470\\\\\n\t 2019 & reg & Vernon Davis      & V.Davis      & WAS & TE & 00-0024221\\\\\n\t 2019 & reg & Virgil Green      & V.Green      & LAC & TE & 00-0028142\\\\\n\t 2019 & reg & Wayne Gallman     & W.Gallman    & NYG & RB & 00-0033950\\\\\n\t 2019 & reg & Wendell Smallwood & W.Smallwood  & WAS & RB & 00-0032782\\\\\n\t 2019 & reg & Will Dissly       & W.Dissly     & SEA & TE & 00-0034159\\\\\n\t 2019 & reg & Will Fuller       & W.Fuller     & HOU & WR & 00-0033127\\\\\n\t 2019 & reg & Willie Snead      & W.Snead      & BAL & WR & 00-0030663\\\\\n\t 2019 & reg & Xavier Grimble    & X.Grimble    & PIT & TE & 00-0031035\\\\\n\t 2019 & reg & Zach Ertz         & Z.Ertz       & PHI & TE & 00-0030061\\\\\n\t 2019 & reg & Zay Jones         & Z.Jones      & BUF & WR & 00-0033891\\\\\n\\end{tabular}\n",
            "text/markdown": "\nA spec_tbl_df: 350 × 7\n\n| season &lt;dbl&gt; | season_type &lt;chr&gt; | full_player_name &lt;chr&gt; | abbr_player_name &lt;chr&gt; | team &lt;chr&gt; | position &lt;chr&gt; | gsis_id &lt;chr&gt; |\n|---|---|---|---|---|---|---|\n| 2019 | reg | A.J. Brown         | A.Brown          | TEN | WR | 00-0035676 |\n| 2019 | reg | Aaron Jones        | A.Jones          | GB  | RB | 00-0033293 |\n| 2019 | reg | Aaron Rodgers      | A.Rodgers        | GB  | QB | 00-0023459 |\n| 2019 | reg | Adam Humphries     | A.Humphries      | TEN | WR | 00-0032009 |\n| 2019 | reg | Adam Shaheen       | A.Shaheen        | CHI | TE | 00-0033896 |\n| 2019 | reg | Adam Thielen       | A.Thielen        | MIN | WR | 00-0030035 |\n| 2019 | reg | Adrian Peterson    | A.Peterson       | WAS | RB | 00-0025394 |\n| 2019 | reg | Albert Wilson      | A.Wilson         | MIA | WR | 00-0030669 |\n| 2019 | reg | Alex Armah         | A.Armah          | CAR | FB | 00-0033296 |\n| 2019 | reg | Alex Erickson      | A.Erickson       | CIN | WR | 00-0032543 |\n| 2019 | reg | Alexander Mattison | A.Mattison       | MIN | RB | 00-0034972 |\n| 2019 | reg | Allen Hurns        | A.Hurns          | MIA | WR | 00-0030821 |\n| 2019 | reg | Allen Robinson     | A.Robinson       | CHI | WR | 00-0031428 |\n| 2019 | reg | Alshon Jeffery     | A.Jeffery        | PHI | WR | 00-0029137 |\n| 2019 | reg | Alvin Kamara       | A.Kamara         | NO  | RB | 00-0033906 |\n| 2019 | reg | Amari Cooper       | A.Cooper         | DAL | WR | 00-0031544 |\n| 2019 | reg | Ameer Abdullah     | A.Abdullah       | MIN | RB | 00-0032104 |\n| 2019 | reg | Andy Dalton        | A.Dalton         | CIN | QB | 00-0027973 |\n| 2019 | reg | Anthony Miller     | A.Miller         | CHI | WR | 00-0034353 |\n| 2019 | reg | Antonio Brown      | A.Brown          | NE  | WR | 00-0027793 |\n| 2019 | reg | Auden Tate         | A.Tate           | CIN | WR | 00-0034686 |\n| 2019 | reg | Austin Ekeler      | A.Ekeler         | LAC | RB | 00-0033699 |\n| 2019 | reg | Austin Hooper      | A.Hooper         | ATL | TE | 00-0032392 |\n| 2019 | reg | Baker Mayfield     | B.Mayfield       | CLE | QB | 00-0034855 |\n| 2019 | reg | Ben Braunecker     | B.Braunecker     | CHI | TE | 00-0032661 |\n| 2019 | reg | Ben Roethlisberger | B.Roethlisberger | PIT | QB | 00-0022924 |\n| 2019 | reg | Bennie Fowler      | B.Fowler         | NYG | WR | 00-0030670 |\n| 2019 | reg | Benny Snell        | B.Snell          | PIT | RB | 00-0035217 |\n| 2019 | reg | Blake Bell         | B.Bell           | KC  | TE | 00-0032062 |\n| 2019 | reg | Blake Jarwin       | B.Jarwin         | DAL | TE | 00-0033658 |\n| ⋮ | ⋮ | ⋮ | ⋮ | ⋮ | ⋮ | ⋮ |\n| 2019 | reg | Tom Brady         | T.Brady      | NE  | QB | 00-0019596 |\n| 2019 | reg | Tommy Sweeney     | T.Sweeney    | BUF | TE | 00-0035308 |\n| 2019 | reg | Tony Pollard      | T.Pollard    | DAL | RB | 00-0035261 |\n| 2019 | reg | Travis Benjamin   | T.Benjamin   | LAC | WR | 00-0029269 |\n| 2019 | reg | Travis Kelce      | T.Kelce      | KC  | TE | 00-0030506 |\n| 2019 | reg | Tre'Quan Smith    | T.Smith      | NO  | WR | 00-0034765 |\n| 2019 | reg | Trevor Davis      | T.Davis      | GB  | WR | 00-0032423 |\n| 2019 | reg | Trevor Siemian    | T.Siemian    | NYJ | QB | 00-0032156 |\n| 2019 | reg | Trey Burton       | T.Burton     | CHI | TE | 00-0030710 |\n| 2019 | reg | Trey Quinn        | T.Quinn      | WAS | WR | 00-0034339 |\n| 2019 | reg | Troy Fumagalli    | T.Fumagalli  | DEN | TE | 00-0034393 |\n| 2019 | reg | Ty Johnson        | T.Johnson    | DET | RB | 00-0035537 |\n| 2019 | reg | Ty Montgomery     | T.Montgomery | NYJ | RB | 00-0032200 |\n| 2019 | reg | Tyler Boyd        | T.Boyd       | CIN | WR | 00-0033009 |\n| 2019 | reg | Tyler Eifert      | T.Eifert     | CIN | TE | 00-0030549 |\n| 2019 | reg | Tyler Higbee      | T.Higbee     | LA  | TE | 00-0033110 |\n| 2019 | reg | Tyler Lockett     | T.Lockett    | SEA | WR | 00-0032211 |\n| 2019 | reg | Tyreek Hill       | T.Hill       | KC  | WR | 00-0033040 |\n| 2019 | reg | Tyrell Williams   | T.Williams   | OAK | WR | 00-0032160 |\n| 2019 | reg | Vance McDonald    | V.McDonald   | PIT | TE | 00-0030470 |\n| 2019 | reg | Vernon Davis      | V.Davis      | WAS | TE | 00-0024221 |\n| 2019 | reg | Virgil Green      | V.Green      | LAC | TE | 00-0028142 |\n| 2019 | reg | Wayne Gallman     | W.Gallman    | NYG | RB | 00-0033950 |\n| 2019 | reg | Wendell Smallwood | W.Smallwood  | WAS | RB | 00-0032782 |\n| 2019 | reg | Will Dissly       | W.Dissly     | SEA | TE | 00-0034159 |\n| 2019 | reg | Will Fuller       | W.Fuller     | HOU | WR | 00-0033127 |\n| 2019 | reg | Willie Snead      | W.Snead      | BAL | WR | 00-0030663 |\n| 2019 | reg | Xavier Grimble    | X.Grimble    | PIT | TE | 00-0031035 |\n| 2019 | reg | Zach Ertz         | Z.Ertz       | PHI | TE | 00-0030061 |\n| 2019 | reg | Zay Jones         | Z.Jones      | BUF | WR | 00-0033891 |\n\n",
            "text/html": [
              "<table>\n",
              "<caption>A spec_tbl_df: 350 × 7</caption>\n",
              "<thead>\n",
              "\t<tr><th scope=col>season</th><th scope=col>season_type</th><th scope=col>full_player_name</th><th scope=col>abbr_player_name</th><th scope=col>team</th><th scope=col>position</th><th scope=col>gsis_id</th></tr>\n",
              "\t<tr><th scope=col>&lt;dbl&gt;</th><th scope=col>&lt;chr&gt;</th><th scope=col>&lt;chr&gt;</th><th scope=col>&lt;chr&gt;</th><th scope=col>&lt;chr&gt;</th><th scope=col>&lt;chr&gt;</th><th scope=col>&lt;chr&gt;</th></tr>\n",
              "</thead>\n",
              "<tbody>\n",
              "\t<tr><td>2019</td><td>reg</td><td>A.J. Brown        </td><td>A.Brown         </td><td>TEN</td><td>WR</td><td>00-0035676</td></tr>\n",
              "\t<tr><td>2019</td><td>reg</td><td>Aaron Jones       </td><td>A.Jones         </td><td>GB </td><td>RB</td><td>00-0033293</td></tr>\n",
              "\t<tr><td>2019</td><td>reg</td><td>Aaron Rodgers     </td><td>A.Rodgers       </td><td>GB </td><td>QB</td><td>00-0023459</td></tr>\n",
              "\t<tr><td>2019</td><td>reg</td><td>Adam Humphries    </td><td>A.Humphries     </td><td>TEN</td><td>WR</td><td>00-0032009</td></tr>\n",
              "\t<tr><td>2019</td><td>reg</td><td>Adam Shaheen      </td><td>A.Shaheen       </td><td>CHI</td><td>TE</td><td>00-0033896</td></tr>\n",
              "\t<tr><td>2019</td><td>reg</td><td>Adam Thielen      </td><td>A.Thielen       </td><td>MIN</td><td>WR</td><td>00-0030035</td></tr>\n",
              "\t<tr><td>2019</td><td>reg</td><td>Adrian Peterson   </td><td>A.Peterson      </td><td>WAS</td><td>RB</td><td>00-0025394</td></tr>\n",
              "\t<tr><td>2019</td><td>reg</td><td>Albert Wilson     </td><td>A.Wilson        </td><td>MIA</td><td>WR</td><td>00-0030669</td></tr>\n",
              "\t<tr><td>2019</td><td>reg</td><td>Alex Armah        </td><td>A.Armah         </td><td>CAR</td><td>FB</td><td>00-0033296</td></tr>\n",
              "\t<tr><td>2019</td><td>reg</td><td>Alex Erickson     </td><td>A.Erickson      </td><td>CIN</td><td>WR</td><td>00-0032543</td></tr>\n",
              "\t<tr><td>2019</td><td>reg</td><td>Alexander Mattison</td><td>A.Mattison      </td><td>MIN</td><td>RB</td><td>00-0034972</td></tr>\n",
              "\t<tr><td>2019</td><td>reg</td><td>Allen Hurns       </td><td>A.Hurns         </td><td>MIA</td><td>WR</td><td>00-0030821</td></tr>\n",
              "\t<tr><td>2019</td><td>reg</td><td>Allen Robinson    </td><td>A.Robinson      </td><td>CHI</td><td>WR</td><td>00-0031428</td></tr>\n",
              "\t<tr><td>2019</td><td>reg</td><td>Alshon Jeffery    </td><td>A.Jeffery       </td><td>PHI</td><td>WR</td><td>00-0029137</td></tr>\n",
              "\t<tr><td>2019</td><td>reg</td><td>Alvin Kamara      </td><td>A.Kamara        </td><td>NO </td><td>RB</td><td>00-0033906</td></tr>\n",
              "\t<tr><td>2019</td><td>reg</td><td>Amari Cooper      </td><td>A.Cooper        </td><td>DAL</td><td>WR</td><td>00-0031544</td></tr>\n",
              "\t<tr><td>2019</td><td>reg</td><td>Ameer Abdullah    </td><td>A.Abdullah      </td><td>MIN</td><td>RB</td><td>00-0032104</td></tr>\n",
              "\t<tr><td>2019</td><td>reg</td><td>Andy Dalton       </td><td>A.Dalton        </td><td>CIN</td><td>QB</td><td>00-0027973</td></tr>\n",
              "\t<tr><td>2019</td><td>reg</td><td>Anthony Miller    </td><td>A.Miller        </td><td>CHI</td><td>WR</td><td>00-0034353</td></tr>\n",
              "\t<tr><td>2019</td><td>reg</td><td>Antonio Brown     </td><td>A.Brown         </td><td>NE </td><td>WR</td><td>00-0027793</td></tr>\n",
              "\t<tr><td>2019</td><td>reg</td><td>Auden Tate        </td><td>A.Tate          </td><td>CIN</td><td>WR</td><td>00-0034686</td></tr>\n",
              "\t<tr><td>2019</td><td>reg</td><td>Austin Ekeler     </td><td>A.Ekeler        </td><td>LAC</td><td>RB</td><td>00-0033699</td></tr>\n",
              "\t<tr><td>2019</td><td>reg</td><td>Austin Hooper     </td><td>A.Hooper        </td><td>ATL</td><td>TE</td><td>00-0032392</td></tr>\n",
              "\t<tr><td>2019</td><td>reg</td><td>Baker Mayfield    </td><td>B.Mayfield      </td><td>CLE</td><td>QB</td><td>00-0034855</td></tr>\n",
              "\t<tr><td>2019</td><td>reg</td><td>Ben Braunecker    </td><td>B.Braunecker    </td><td>CHI</td><td>TE</td><td>00-0032661</td></tr>\n",
              "\t<tr><td>2019</td><td>reg</td><td>Ben Roethlisberger</td><td>B.Roethlisberger</td><td>PIT</td><td>QB</td><td>00-0022924</td></tr>\n",
              "\t<tr><td>2019</td><td>reg</td><td>Bennie Fowler     </td><td>B.Fowler        </td><td>NYG</td><td>WR</td><td>00-0030670</td></tr>\n",
              "\t<tr><td>2019</td><td>reg</td><td>Benny Snell       </td><td>B.Snell         </td><td>PIT</td><td>RB</td><td>00-0035217</td></tr>\n",
              "\t<tr><td>2019</td><td>reg</td><td>Blake Bell        </td><td>B.Bell          </td><td>KC </td><td>TE</td><td>00-0032062</td></tr>\n",
              "\t<tr><td>2019</td><td>reg</td><td>Blake Jarwin      </td><td>B.Jarwin        </td><td>DAL</td><td>TE</td><td>00-0033658</td></tr>\n",
              "\t<tr><td>⋮</td><td>⋮</td><td>⋮</td><td>⋮</td><td>⋮</td><td>⋮</td><td>⋮</td></tr>\n",
              "\t<tr><td>2019</td><td>reg</td><td>Tom Brady        </td><td>T.Brady     </td><td>NE </td><td>QB</td><td>00-0019596</td></tr>\n",
              "\t<tr><td>2019</td><td>reg</td><td>Tommy Sweeney    </td><td>T.Sweeney   </td><td>BUF</td><td>TE</td><td>00-0035308</td></tr>\n",
              "\t<tr><td>2019</td><td>reg</td><td>Tony Pollard     </td><td>T.Pollard   </td><td>DAL</td><td>RB</td><td>00-0035261</td></tr>\n",
              "\t<tr><td>2019</td><td>reg</td><td>Travis Benjamin  </td><td>T.Benjamin  </td><td>LAC</td><td>WR</td><td>00-0029269</td></tr>\n",
              "\t<tr><td>2019</td><td>reg</td><td>Travis Kelce     </td><td>T.Kelce     </td><td>KC </td><td>TE</td><td>00-0030506</td></tr>\n",
              "\t<tr><td>2019</td><td>reg</td><td>Tre'Quan Smith   </td><td>T.Smith     </td><td>NO </td><td>WR</td><td>00-0034765</td></tr>\n",
              "\t<tr><td>2019</td><td>reg</td><td>Trevor Davis     </td><td>T.Davis     </td><td>GB </td><td>WR</td><td>00-0032423</td></tr>\n",
              "\t<tr><td>2019</td><td>reg</td><td>Trevor Siemian   </td><td>T.Siemian   </td><td>NYJ</td><td>QB</td><td>00-0032156</td></tr>\n",
              "\t<tr><td>2019</td><td>reg</td><td>Trey Burton      </td><td>T.Burton    </td><td>CHI</td><td>TE</td><td>00-0030710</td></tr>\n",
              "\t<tr><td>2019</td><td>reg</td><td>Trey Quinn       </td><td>T.Quinn     </td><td>WAS</td><td>WR</td><td>00-0034339</td></tr>\n",
              "\t<tr><td>2019</td><td>reg</td><td>Troy Fumagalli   </td><td>T.Fumagalli </td><td>DEN</td><td>TE</td><td>00-0034393</td></tr>\n",
              "\t<tr><td>2019</td><td>reg</td><td>Ty Johnson       </td><td>T.Johnson   </td><td>DET</td><td>RB</td><td>00-0035537</td></tr>\n",
              "\t<tr><td>2019</td><td>reg</td><td>Ty Montgomery    </td><td>T.Montgomery</td><td>NYJ</td><td>RB</td><td>00-0032200</td></tr>\n",
              "\t<tr><td>2019</td><td>reg</td><td>Tyler Boyd       </td><td>T.Boyd      </td><td>CIN</td><td>WR</td><td>00-0033009</td></tr>\n",
              "\t<tr><td>2019</td><td>reg</td><td>Tyler Eifert     </td><td>T.Eifert    </td><td>CIN</td><td>TE</td><td>00-0030549</td></tr>\n",
              "\t<tr><td>2019</td><td>reg</td><td>Tyler Higbee     </td><td>T.Higbee    </td><td>LA </td><td>TE</td><td>00-0033110</td></tr>\n",
              "\t<tr><td>2019</td><td>reg</td><td>Tyler Lockett    </td><td>T.Lockett   </td><td>SEA</td><td>WR</td><td>00-0032211</td></tr>\n",
              "\t<tr><td>2019</td><td>reg</td><td>Tyreek Hill      </td><td>T.Hill      </td><td>KC </td><td>WR</td><td>00-0033040</td></tr>\n",
              "\t<tr><td>2019</td><td>reg</td><td>Tyrell Williams  </td><td>T.Williams  </td><td>OAK</td><td>WR</td><td>00-0032160</td></tr>\n",
              "\t<tr><td>2019</td><td>reg</td><td>Vance McDonald   </td><td>V.McDonald  </td><td>PIT</td><td>TE</td><td>00-0030470</td></tr>\n",
              "\t<tr><td>2019</td><td>reg</td><td>Vernon Davis     </td><td>V.Davis     </td><td>WAS</td><td>TE</td><td>00-0024221</td></tr>\n",
              "\t<tr><td>2019</td><td>reg</td><td>Virgil Green     </td><td>V.Green     </td><td>LAC</td><td>TE</td><td>00-0028142</td></tr>\n",
              "\t<tr><td>2019</td><td>reg</td><td>Wayne Gallman    </td><td>W.Gallman   </td><td>NYG</td><td>RB</td><td>00-0033950</td></tr>\n",
              "\t<tr><td>2019</td><td>reg</td><td>Wendell Smallwood</td><td>W.Smallwood </td><td>WAS</td><td>RB</td><td>00-0032782</td></tr>\n",
              "\t<tr><td>2019</td><td>reg</td><td>Will Dissly      </td><td>W.Dissly    </td><td>SEA</td><td>TE</td><td>00-0034159</td></tr>\n",
              "\t<tr><td>2019</td><td>reg</td><td>Will Fuller      </td><td>W.Fuller    </td><td>HOU</td><td>WR</td><td>00-0033127</td></tr>\n",
              "\t<tr><td>2019</td><td>reg</td><td>Willie Snead     </td><td>W.Snead     </td><td>BAL</td><td>WR</td><td>00-0030663</td></tr>\n",
              "\t<tr><td>2019</td><td>reg</td><td>Xavier Grimble   </td><td>X.Grimble   </td><td>PIT</td><td>TE</td><td>00-0031035</td></tr>\n",
              "\t<tr><td>2019</td><td>reg</td><td>Zach Ertz        </td><td>Z.Ertz      </td><td>PHI</td><td>TE</td><td>00-0030061</td></tr>\n",
              "\t<tr><td>2019</td><td>reg</td><td>Zay Jones        </td><td>Z.Jones     </td><td>BUF</td><td>WR</td><td>00-0033891</td></tr>\n",
              "</tbody>\n",
              "</table>\n"
            ]
          },
          "metadata": {
            "tags": []
          }
        }
      ]
    },
    {
      "cell_type": "code",
      "metadata": {
        "id": "RYcENIF2PL_w",
        "colab_type": "code",
        "colab": {
          "base_uri": "https://localhost:8080/",
          "height": 301
        },
        "outputId": "f5d51c25-0f69-4225-a7e8-d5bfec3af00c"
      },
      "source": [
        "asd <- read_csv(url(\"https://github.com/ryurko/nflscrapR-data/blob/master/play_by_play_data/regular_season/reg_pbp_2019.csv\"))"
      ],
      "execution_count": 35,
      "outputs": [
        {
          "output_type": "stream",
          "text": [
            "Parsed with column specification:\n",
            "cols(\n",
            "  `<!DOCTYPE html>` = \u001b[31mcol_character()\u001b[39m\n",
            ")\n",
            "\n",
            "Warning message:\n",
            "“82 parsing failures.\n",
            "row col  expected    actual         file\n",
            " 24  -- 1 columns 2 columns <connection>\n",
            " 62  -- 1 columns 3 columns <connection>\n",
            " 74  -- 1 columns 6 columns <connection>\n",
            " 75  -- 1 columns 3 columns <connection>\n",
            " 96  -- 1 columns 4 columns <connection>\n",
            "... ... ......... ......... ............\n",
            "See problems(...) for more details.\n",
            "”\n"
          ],
          "name": "stderr"
        }
      ]
    },
    {
      "cell_type": "code",
      "metadata": {
        "id": "Vp2S8cKvGbYd",
        "colab_type": "code",
        "colab": {
          "base_uri": "https://localhost:8080/",
          "height": 710
        },
        "outputId": "03f7f341-dbd2-402c-f9ce-4f6b7e1b8440"
      },
      "source": [
        "pbp <- read_csv(url(\"https://github.com/ryurko/nflscrapR-data/raw/master/play_by_play_data/regular_season/reg_pbp_2018.csv\"))\n"
      ],
      "execution_count": 14,
      "outputs": [
        {
          "output_type": "stream",
          "text": [
            "Parsed with column specification:\n",
            "cols(\n",
            "  .default = col_double(),\n",
            "  home_team = \u001b[31mcol_character()\u001b[39m,\n",
            "  away_team = \u001b[31mcol_character()\u001b[39m,\n",
            "  posteam = \u001b[31mcol_character()\u001b[39m,\n",
            "  posteam_type = \u001b[31mcol_character()\u001b[39m,\n",
            "  defteam = \u001b[31mcol_character()\u001b[39m,\n",
            "  side_of_field = \u001b[31mcol_character()\u001b[39m,\n",
            "  game_date = \u001b[34mcol_date(format = \"\")\u001b[39m,\n",
            "  game_half = \u001b[31mcol_character()\u001b[39m,\n",
            "  time = \u001b[34mcol_time(format = \"\")\u001b[39m,\n",
            "  yrdln = \u001b[31mcol_character()\u001b[39m,\n",
            "  desc = \u001b[31mcol_character()\u001b[39m,\n",
            "  play_type = \u001b[31mcol_character()\u001b[39m,\n",
            "  pass_length = \u001b[31mcol_character()\u001b[39m,\n",
            "  pass_location = \u001b[31mcol_character()\u001b[39m,\n",
            "  run_location = \u001b[31mcol_character()\u001b[39m,\n",
            "  run_gap = \u001b[31mcol_character()\u001b[39m,\n",
            "  field_goal_result = \u001b[31mcol_character()\u001b[39m,\n",
            "  extra_point_result = \u001b[31mcol_character()\u001b[39m,\n",
            "  two_point_conv_result = \u001b[31mcol_character()\u001b[39m,\n",
            "  timeout_team = \u001b[31mcol_character()\u001b[39m\n",
            "  # ... with 88 more columns\n",
            ")\n",
            "\n",
            "See spec(...) for full column specifications.\n",
            "\n",
            "Warning message:\n",
            "“132 parsing failures.\n",
            " row                           col           expected       actual         file\n",
            "1715 blocked_player_id             1/0/T/F/TRUE/FALSE 00-0033886   <connection>\n",
            "1715 blocked_player_name           1/0/T/F/TRUE/FALSE T.Watt       <connection>\n",
            "1854 fumble_recovery_2_team        1/0/T/F/TRUE/FALSE KC           <connection>\n",
            "1854 fumble_recovery_2_player_id   1/0/T/F/TRUE/FALSE 00-0030615   <connection>\n",
            "1854 fumble_recovery_2_player_name 1/0/T/F/TRUE/FALSE J.Winchester <connection>\n",
            ".... ............................. .................. ............ ............\n",
            "See problems(...) for more details.\n",
            "”\n"
          ],
          "name": "stderr"
        }
      ]
    },
    {
      "cell_type": "code",
      "metadata": {
        "id": "FpQYk3ZBHptO",
        "colab_type": "code",
        "colab": {
          "base_uri": "https://localhost:8080/",
          "height": 1000
        },
        "outputId": "8ac373c3-5a83-49e8-fd8d-4b2b19406e49"
      },
      "source": [
        "pbp %>%\n",
        "glimpse()"
      ],
      "execution_count": 17,
      "outputs": [
        {
          "output_type": "stream",
          "text": [
            "Rows: 45,156\n",
            "Columns: 256\n",
            "$ play_id                              \u001b[3m\u001b[90m<dbl>\u001b[39m\u001b[23m 37, 52, 75, 104, 125, 146, 168, …\n",
            "$ game_id                              \u001b[3m\u001b[90m<dbl>\u001b[39m\u001b[23m 2018090600, 2018090600, 20180906…\n",
            "$ home_team                            \u001b[3m\u001b[90m<chr>\u001b[39m\u001b[23m \"PHI\", \"PHI\", \"PHI\", \"PHI\", \"PHI…\n",
            "$ away_team                            \u001b[3m\u001b[90m<chr>\u001b[39m\u001b[23m \"ATL\", \"ATL\", \"ATL\", \"ATL\", \"ATL…\n",
            "$ posteam                              \u001b[3m\u001b[90m<chr>\u001b[39m\u001b[23m \"ATL\", \"ATL\", \"ATL\", \"ATL\", \"ATL…\n",
            "$ posteam_type                         \u001b[3m\u001b[90m<chr>\u001b[39m\u001b[23m \"away\", \"away\", \"away\", \"away\", …\n",
            "$ defteam                              \u001b[3m\u001b[90m<chr>\u001b[39m\u001b[23m \"PHI\", \"PHI\", \"PHI\", \"PHI\", \"PHI…\n",
            "$ side_of_field                        \u001b[3m\u001b[90m<chr>\u001b[39m\u001b[23m \"PHI\", \"ATL\", \"ATL\", \"ATL\", \"ATL…\n",
            "$ yardline_100                         \u001b[3m\u001b[90m<dbl>\u001b[39m\u001b[23m 35, 75, 80, 70, 59, 39, 39, 39, …\n",
            "$ game_date                            \u001b[3m\u001b[90m<date>\u001b[39m\u001b[23m 2018-09-06, 2018-09-06, 2018-09…\n",
            "$ quarter_seconds_remaining            \u001b[3m\u001b[90m<dbl>\u001b[39m\u001b[23m 900, 900, 900, 862, 826, 790, 78…\n",
            "$ half_seconds_remaining               \u001b[3m\u001b[90m<dbl>\u001b[39m\u001b[23m 1800, 1800, 1800, 1762, 1726, 16…\n",
            "$ game_seconds_remaining               \u001b[3m\u001b[90m<dbl>\u001b[39m\u001b[23m 3600, 3600, 3600, 3562, 3526, 34…\n",
            "$ game_half                            \u001b[3m\u001b[90m<chr>\u001b[39m\u001b[23m \"Half1\", \"Half1\", \"Half1\", \"Half…\n",
            "$ quarter_end                          \u001b[3m\u001b[90m<dbl>\u001b[39m\u001b[23m 0, 0, 0, 0, 0, 0, 0, 0, 0, 0, 0,…\n",
            "$ drive                                \u001b[3m\u001b[90m<dbl>\u001b[39m\u001b[23m 1, 1, 1, 1, 1, 1, 1, 1, 1, 1, 1,…\n",
            "$ sp                                   \u001b[3m\u001b[90m<dbl>\u001b[39m\u001b[23m 0, 0, 0, 0, 0, 0, 0, 0, 0, 0, 0,…\n",
            "$ qtr                                  \u001b[3m\u001b[90m<dbl>\u001b[39m\u001b[23m 1, 1, 1, 1, 1, 1, 1, 1, 1, 1, 1,…\n",
            "$ down                                 \u001b[3m\u001b[90m<dbl>\u001b[39m\u001b[23m NA, 1, 1, 2, 1, 1, 2, 3, 1, 2, 3…\n",
            "$ goal_to_go                           \u001b[3m\u001b[90m<dbl>\u001b[39m\u001b[23m 0, 0, 0, 0, 0, 0, 0, 0, 1, 1, 1,…\n",
            "$ time                                 \u001b[3m\u001b[90m<time>\u001b[39m\u001b[23m 15:00:00, 15:00:00, 15:00:00, 1…\n",
            "$ yrdln                                \u001b[3m\u001b[90m<chr>\u001b[39m\u001b[23m \"PHI 35\", \"ATL 25\", \"ATL 20\", \"A…\n",
            "$ ydstogo                              \u001b[3m\u001b[90m<dbl>\u001b[39m\u001b[23m 0, 10, 15, 5, 10, 10, 10, 10, 6,…\n",
            "$ ydsnet                               \u001b[3m\u001b[90m<dbl>\u001b[39m\u001b[23m 73, 73, 73, 73, 73, 73, 73, 73, …\n",
            "$ desc                                 \u001b[3m\u001b[90m<chr>\u001b[39m\u001b[23m \"J.Elliott kicks 65 yards from P…\n",
            "$ play_type                            \u001b[3m\u001b[90m<chr>\u001b[39m\u001b[23m \"kickoff\", \"no_play\", \"pass\", \"r…\n",
            "$ yards_gained                         \u001b[3m\u001b[90m<dbl>\u001b[39m\u001b[23m 0, 0, 10, 11, 20, 0, 0, 33, 5, 0…\n",
            "$ shotgun                              \u001b[3m\u001b[90m<dbl>\u001b[39m\u001b[23m 0, 0, 0, 0, 0, 0, 1, 1, 0, 0, 1,…\n",
            "$ no_huddle                            \u001b[3m\u001b[90m<dbl>\u001b[39m\u001b[23m 0, 0, 0, 0, 0, 0, 0, 0, 0, 0, 0,…\n",
            "$ qb_dropback                          \u001b[3m\u001b[90m<dbl>\u001b[39m\u001b[23m 0, 0, 1, 0, 0, 1, 1, 1, 0, 0, 1,…\n",
            "$ qb_kneel                             \u001b[3m\u001b[90m<dbl>\u001b[39m\u001b[23m 0, 0, 0, 0, 0, 0, 0, 0, 0, 0, 0,…\n",
            "$ qb_spike                             \u001b[3m\u001b[90m<dbl>\u001b[39m\u001b[23m 0, 0, 0, 0, 0, 0, 0, 0, 0, 0, 0,…\n",
            "$ qb_scramble                          \u001b[3m\u001b[90m<dbl>\u001b[39m\u001b[23m 0, 0, 0, 0, 0, 0, 0, 0, 0, 0, 0,…\n",
            "$ pass_length                          \u001b[3m\u001b[90m<chr>\u001b[39m\u001b[23m NA, NA, \"short\", NA, NA, \"short\"…\n",
            "$ pass_location                        \u001b[3m\u001b[90m<chr>\u001b[39m\u001b[23m NA, NA, \"right\", NA, NA, \"right\"…\n",
            "$ air_yards                            \u001b[3m\u001b[90m<dbl>\u001b[39m\u001b[23m NA, NA, 8, NA, NA, 4, -3, 24, NA…\n",
            "$ yards_after_catch                    \u001b[3m\u001b[90m<dbl>\u001b[39m\u001b[23m NA, NA, 2, NA, NA, NA, NA, 9, NA…\n",
            "$ run_location                         \u001b[3m\u001b[90m<chr>\u001b[39m\u001b[23m NA, NA, NA, \"left\", \"right\", NA,…\n",
            "$ run_gap                              \u001b[3m\u001b[90m<chr>\u001b[39m\u001b[23m NA, NA, NA, \"end\", \"end\", NA, NA…\n",
            "$ field_goal_result                    \u001b[3m\u001b[90m<chr>\u001b[39m\u001b[23m NA, NA, NA, NA, NA, NA, NA, NA, …\n",
            "$ kick_distance                        \u001b[3m\u001b[90m<dbl>\u001b[39m\u001b[23m NA, NA, NA, NA, NA, NA, NA, NA, …\n",
            "$ extra_point_result                   \u001b[3m\u001b[90m<chr>\u001b[39m\u001b[23m NA, NA, NA, NA, NA, NA, NA, NA, …\n",
            "$ two_point_conv_result                \u001b[3m\u001b[90m<chr>\u001b[39m\u001b[23m NA, NA, NA, NA, NA, NA, NA, NA, …\n",
            "$ home_timeouts_remaining              \u001b[3m\u001b[90m<dbl>\u001b[39m\u001b[23m 3, 3, 3, 3, 3, 3, 3, 3, 3, 3, 3,…\n",
            "$ away_timeouts_remaining              \u001b[3m\u001b[90m<dbl>\u001b[39m\u001b[23m 3, 3, 3, 3, 3, 3, 3, 3, 3, 3, 3,…\n",
            "$ timeout                              \u001b[3m\u001b[90m<dbl>\u001b[39m\u001b[23m 0, 0, 0, 0, 0, 0, 0, 0, 0, 0, 0,…\n",
            "$ timeout_team                         \u001b[3m\u001b[90m<chr>\u001b[39m\u001b[23m NA, NA, NA, NA, NA, NA, NA, NA, …\n",
            "$ td_team                              \u001b[3m\u001b[90m<chr>\u001b[39m\u001b[23m NA, NA, NA, NA, NA, NA, NA, NA, …\n",
            "$ posteam_timeouts_remaining           \u001b[3m\u001b[90m<dbl>\u001b[39m\u001b[23m 3, 3, 3, 3, 3, 3, 3, 3, 3, 3, 3,…\n",
            "$ defteam_timeouts_remaining           \u001b[3m\u001b[90m<dbl>\u001b[39m\u001b[23m 3, 3, 3, 3, 3, 3, 3, 3, 3, 3, 3,…\n",
            "$ total_home_score                     \u001b[3m\u001b[90m<dbl>\u001b[39m\u001b[23m 0, 0, 0, 0, 0, 0, 0, 0, 0, 0, 0,…\n",
            "$ total_away_score                     \u001b[3m\u001b[90m<dbl>\u001b[39m\u001b[23m 0, 0, 0, 0, 0, 0, 0, 0, 0, 0, 0,…\n",
            "$ posteam_score                        \u001b[3m\u001b[90m<dbl>\u001b[39m\u001b[23m NA, 0, 0, 0, 0, 0, 0, 0, 0, 0, 0…\n",
            "$ defteam_score                        \u001b[3m\u001b[90m<dbl>\u001b[39m\u001b[23m NA, 0, 0, 0, 0, 0, 0, 0, 0, 0, 0…\n",
            "$ score_differential                   \u001b[3m\u001b[90m<dbl>\u001b[39m\u001b[23m NA, 0, 0, 0, 0, 0, 0, 0, 0, 0, 0…\n",
            "$ posteam_score_post                   \u001b[3m\u001b[90m<dbl>\u001b[39m\u001b[23m 0, 0, 0, 0, 0, 0, 0, 0, 0, 0, 0,…\n",
            "$ defteam_score_post                   \u001b[3m\u001b[90m<dbl>\u001b[39m\u001b[23m 0, 0, 0, 0, 0, 0, 0, 0, 0, 0, 0,…\n",
            "$ score_differential_post              \u001b[3m\u001b[90m<dbl>\u001b[39m\u001b[23m 0, 0, 0, 0, 0, 0, 0, 0, 0, 0, 0,…\n",
            "$ no_score_prob                        \u001b[3m\u001b[90m<dbl>\u001b[39m\u001b[23m 0.0013736796, 0.0013736796, 0.00…\n",
            "$ opp_fg_prob                          \u001b[3m\u001b[90m<dbl>\u001b[39m\u001b[23m 0.162631510, 0.162631510, 0.1856…\n",
            "$ opp_safety_prob                      \u001b[3m\u001b[90m<dbl>\u001b[39m\u001b[23m 4.440726e-03, 4.440726e-03, 6.93…\n",
            "$ opp_td_prob                          \u001b[3m\u001b[90m<dbl>\u001b[39m\u001b[23m 0.254178634, 0.254178634, 0.2902…\n",
            "$ fg_prob                              \u001b[3m\u001b[90m<dbl>\u001b[39m\u001b[23m 0.23308117, 0.23308117, 0.223435…\n",
            "$ safety_prob                          \u001b[3m\u001b[90m<dbl>\u001b[39m\u001b[23m 0.003655713, 0.003655713, 0.0038…\n",
            "$ td_prob                              \u001b[3m\u001b[90m<dbl>\u001b[39m\u001b[23m 0.340638564, 0.340638564, 0.2882…\n",
            "$ extra_point_prob                     \u001b[3m\u001b[90m<dbl>\u001b[39m\u001b[23m 0, 0, 0, 0, 0, 0, 0, 0, 0, 0, 0,…\n",
            "$ two_point_conversion_prob            \u001b[3m\u001b[90m<dbl>\u001b[39m\u001b[23m 0, 0, 0, 0, 0, 0, 0, 0, 0, 0, 0,…\n",
            "$ ep                                   \u001b[3m\u001b[90m<dbl>\u001b[39m\u001b[23m 0.81499848, 0.81499848, 0.093238…\n",
            "$ epa                                  \u001b[3m\u001b[90m<dbl>\u001b[39m\u001b[23m 0.00000000, -0.72175967, 0.81834…\n",
            "$ total_home_epa                       \u001b[3m\u001b[90m<dbl>\u001b[39m\u001b[23m 0.00000000, 0.72175967, -0.09658…\n",
            "$ total_away_epa                       \u001b[3m\u001b[90m<dbl>\u001b[39m\u001b[23m 0.00000000, -0.72175967, 0.09658…\n",
            "$ total_home_rush_epa                  \u001b[3m\u001b[90m<dbl>\u001b[39m\u001b[23m 0.0000000, 0.0000000, 0.0000000,…\n",
            "$ total_away_rush_epa                  \u001b[3m\u001b[90m<dbl>\u001b[39m\u001b[23m 0.0000000, 0.0000000, 0.0000000,…\n",
            "$ total_home_pass_epa                  \u001b[3m\u001b[90m<dbl>\u001b[39m\u001b[23m 0.0000000, 0.0000000, -0.8183435…\n",
            "$ total_away_pass_epa                  \u001b[3m\u001b[90m<dbl>\u001b[39m\u001b[23m 0.0000000, 0.0000000, 0.8183435,…\n",
            "$ air_epa                              \u001b[3m\u001b[90m<dbl>\u001b[39m\u001b[23m NA, NA, 0.04224076, NA, NA, -0.2…\n",
            "$ yac_epa                              \u001b[3m\u001b[90m<dbl>\u001b[39m\u001b[23m NA, NA, 0.7761027, NA, NA, -0.22…\n",
            "$ comp_air_epa                         \u001b[3m\u001b[90m<dbl>\u001b[39m\u001b[23m 0.00000000, 0.00000000, 0.042240…\n",
            "$ comp_yac_epa                         \u001b[3m\u001b[90m<dbl>\u001b[39m\u001b[23m 0.0000000, 0.0000000, 0.7761027,…\n",
            "$ total_home_comp_air_epa              \u001b[3m\u001b[90m<dbl>\u001b[39m\u001b[23m 0.00000000, 0.00000000, -0.04224…\n",
            "$ total_away_comp_air_epa              \u001b[3m\u001b[90m<dbl>\u001b[39m\u001b[23m 0.00000000, 0.00000000, 0.042240…\n",
            "$ total_home_comp_yac_epa              \u001b[3m\u001b[90m<dbl>\u001b[39m\u001b[23m 0.0000000, 0.0000000, -0.7761027…\n",
            "$ total_away_comp_yac_epa              \u001b[3m\u001b[90m<dbl>\u001b[39m\u001b[23m 0.0000000, 0.0000000, 0.7761027,…\n",
            "$ total_home_raw_air_epa               \u001b[3m\u001b[90m<dbl>\u001b[39m\u001b[23m 0.00000000, 0.00000000, -0.04224…\n",
            "$ total_away_raw_air_epa               \u001b[3m\u001b[90m<dbl>\u001b[39m\u001b[23m 0.00000000, 0.00000000, 0.042240…\n",
            "$ total_home_raw_yac_epa               \u001b[3m\u001b[90m<dbl>\u001b[39m\u001b[23m 0.0000000, 0.0000000, -0.7761027…\n",
            "$ total_away_raw_yac_epa               \u001b[3m\u001b[90m<dbl>\u001b[39m\u001b[23m 0.0000000, 0.0000000, 0.7761027,…\n",
            "$ wp                                   \u001b[3m\u001b[90m<dbl>\u001b[39m\u001b[23m NA, 0.5000068, 0.4789909, 0.5051…\n",
            "$ def_wp                               \u001b[3m\u001b[90m<dbl>\u001b[39m\u001b[23m NA, 0.4999932, 0.5210091, 0.4949…\n",
            "$ home_wp                              \u001b[3m\u001b[90m<dbl>\u001b[39m\u001b[23m NA, 0.4999932, 0.5210091, 0.4949…\n",
            "$ away_wp                              \u001b[3m\u001b[90m<dbl>\u001b[39m\u001b[23m NA, 0.5000068, 0.4789909, 0.5051…\n",
            "$ wpa                                  \u001b[3m\u001b[90m<dbl>\u001b[39m\u001b[23m NA, -0.0210159442, 0.0261091223,…\n",
            "$ home_wp_post                         \u001b[3m\u001b[90m<dbl>\u001b[39m\u001b[23m NA, 0.5210091, 0.4949000, 0.4516…\n",
            "$ away_wp_post                         \u001b[3m\u001b[90m<dbl>\u001b[39m\u001b[23m NA, 0.4789909, 0.5051000, 0.5483…\n",
            "$ total_home_rush_wpa                  \u001b[3m\u001b[90m<dbl>\u001b[39m\u001b[23m 0.00000000, 0.00000000, 0.000000…\n",
            "$ total_away_rush_wpa                  \u001b[3m\u001b[90m<dbl>\u001b[39m\u001b[23m 0.00000000, 0.00000000, 0.000000…\n",
            "$ total_home_pass_wpa                  \u001b[3m\u001b[90m<dbl>\u001b[39m\u001b[23m 0.000000000, 0.000000000, -0.026…\n",
            "$ total_away_pass_wpa                  \u001b[3m\u001b[90m<dbl>\u001b[39m\u001b[23m 0.000000000, 0.000000000, 0.0261…\n",
            "$ air_wpa                              \u001b[3m\u001b[90m<dbl>\u001b[39m\u001b[23m NA, NA, 0.0015622890, NA, NA, -0…\n",
            "$ yac_wpa                              \u001b[3m\u001b[90m<dbl>\u001b[39m\u001b[23m NA, NA, 0.024546833, NA, NA, -0.…\n",
            "$ comp_air_wpa                         \u001b[3m\u001b[90m<dbl>\u001b[39m\u001b[23m 0.0000000000, 0.0000000000, 0.00…\n",
            "$ comp_yac_wpa                         \u001b[3m\u001b[90m<dbl>\u001b[39m\u001b[23m 0.000000000, 0.000000000, 0.0245…\n",
            "$ total_home_comp_air_wpa              \u001b[3m\u001b[90m<dbl>\u001b[39m\u001b[23m 0.000000000, 0.000000000, -0.001…\n",
            "$ total_away_comp_air_wpa              \u001b[3m\u001b[90m<dbl>\u001b[39m\u001b[23m 0.000000000, 0.000000000, 0.0015…\n",
            "$ total_home_comp_yac_wpa              \u001b[3m\u001b[90m<dbl>\u001b[39m\u001b[23m 0.00000000, 0.00000000, -0.02454…\n",
            "$ total_away_comp_yac_wpa              \u001b[3m\u001b[90m<dbl>\u001b[39m\u001b[23m 0.00000000, 0.00000000, 0.024546…\n",
            "$ total_home_raw_air_wpa               \u001b[3m\u001b[90m<dbl>\u001b[39m\u001b[23m 0.000000000, 0.000000000, -0.001…\n",
            "$ total_away_raw_air_wpa               \u001b[3m\u001b[90m<dbl>\u001b[39m\u001b[23m 0.000000000, 0.000000000, 0.0015…\n",
            "$ total_home_raw_yac_wpa               \u001b[3m\u001b[90m<dbl>\u001b[39m\u001b[23m 0.000000000, 0.000000000, -0.024…\n",
            "$ total_away_raw_yac_wpa               \u001b[3m\u001b[90m<dbl>\u001b[39m\u001b[23m 0.000000000, 0.000000000, 0.0245…\n",
            "$ punt_blocked                         \u001b[3m\u001b[90m<dbl>\u001b[39m\u001b[23m 0, 0, 0, 0, 0, 0, 0, 0, 0, 0, 0,…\n",
            "$ first_down_rush                      \u001b[3m\u001b[90m<dbl>\u001b[39m\u001b[23m 0, 0, 0, 1, 1, 0, 0, 0, 0, 0, 0,…\n",
            "$ first_down_pass                      \u001b[3m\u001b[90m<dbl>\u001b[39m\u001b[23m 0, 0, 0, 0, 0, 0, 0, 1, 0, 0, 0,…\n",
            "$ first_down_penalty                   \u001b[3m\u001b[90m<dbl>\u001b[39m\u001b[23m 0, 0, 0, 0, 0, 0, 0, 0, 0, 0, 0,…\n",
            "$ third_down_converted                 \u001b[3m\u001b[90m<dbl>\u001b[39m\u001b[23m 0, 0, 0, 0, 0, 0, 0, 1, 0, 0, 0,…\n",
            "$ third_down_failed                    \u001b[3m\u001b[90m<dbl>\u001b[39m\u001b[23m 0, 0, 0, 0, 0, 0, 0, 0, 0, 0, 1,…\n",
            "$ fourth_down_converted                \u001b[3m\u001b[90m<dbl>\u001b[39m\u001b[23m 0, 0, 0, 0, 0, 0, 0, 0, 0, 0, 0,…\n",
            "$ fourth_down_failed                   \u001b[3m\u001b[90m<dbl>\u001b[39m\u001b[23m 0, 0, 0, 0, 0, 0, 0, 0, 0, 0, 0,…\n",
            "$ incomplete_pass                      \u001b[3m\u001b[90m<dbl>\u001b[39m\u001b[23m 0, 0, 0, 0, 0, 1, 1, 0, 0, 0, 1,…\n",
            "$ touchback                            \u001b[3m\u001b[90m<dbl>\u001b[39m\u001b[23m 1, 0, 0, 0, 0, 0, 0, 0, 0, 0, 0,…\n",
            "$ interception                         \u001b[3m\u001b[90m<dbl>\u001b[39m\u001b[23m 0, 0, 0, 0, 0, 0, 0, 0, 0, 0, 0,…\n",
            "$ punt_inside_twenty                   \u001b[3m\u001b[90m<dbl>\u001b[39m\u001b[23m 0, 0, 0, 0, 0, 0, 0, 0, 0, 0, 0,…\n",
            "$ punt_in_endzone                      \u001b[3m\u001b[90m<dbl>\u001b[39m\u001b[23m 0, 0, 0, 0, 0, 0, 0, 0, 0, 0, 0,…\n",
            "$ punt_out_of_bounds                   \u001b[3m\u001b[90m<dbl>\u001b[39m\u001b[23m 0, 0, 0, 0, 0, 0, 0, 0, 0, 0, 0,…\n",
            "$ punt_downed                          \u001b[3m\u001b[90m<dbl>\u001b[39m\u001b[23m 0, 0, 0, 0, 0, 0, 0, 0, 0, 0, 0,…\n",
            "$ punt_fair_catch                      \u001b[3m\u001b[90m<dbl>\u001b[39m\u001b[23m 0, 0, 0, 0, 0, 0, 0, 0, 0, 0, 0,…\n",
            "$ kickoff_inside_twenty                \u001b[3m\u001b[90m<dbl>\u001b[39m\u001b[23m 0, 0, 0, 0, 0, 0, 0, 0, 0, 0, 0,…\n",
            "$ kickoff_in_endzone                   \u001b[3m\u001b[90m<dbl>\u001b[39m\u001b[23m 0, 0, 0, 0, 0, 0, 0, 0, 0, 0, 0,…\n",
            "$ kickoff_out_of_bounds                \u001b[3m\u001b[90m<dbl>\u001b[39m\u001b[23m 0, 0, 0, 0, 0, 0, 0, 0, 0, 0, 0,…\n",
            "$ kickoff_downed                       \u001b[3m\u001b[90m<dbl>\u001b[39m\u001b[23m 0, 0, 0, 0, 0, 0, 0, 0, 0, 0, 0,…\n",
            "$ kickoff_fair_catch                   \u001b[3m\u001b[90m<dbl>\u001b[39m\u001b[23m 0, 0, 0, 0, 0, 0, 0, 0, 0, 0, 0,…\n",
            "$ fumble_forced                        \u001b[3m\u001b[90m<dbl>\u001b[39m\u001b[23m 0, 0, 0, 0, 0, 0, 0, 0, 0, 0, 0,…\n",
            "$ fumble_not_forced                    \u001b[3m\u001b[90m<dbl>\u001b[39m\u001b[23m 0, 0, 0, 0, 0, 0, 0, 0, 0, 0, 0,…\n",
            "$ fumble_out_of_bounds                 \u001b[3m\u001b[90m<dbl>\u001b[39m\u001b[23m 0, 0, 0, 0, 0, 0, 0, 0, 0, 0, 0,…\n",
            "$ solo_tackle                          \u001b[3m\u001b[90m<dbl>\u001b[39m\u001b[23m 0, 0, 1, 1, 1, 0, 0, 1, 0, 0, 0,…\n",
            "$ safety                               \u001b[3m\u001b[90m<dbl>\u001b[39m\u001b[23m 0, 0, 0, 0, 0, 0, 0, 0, 0, 0, 0,…\n",
            "$ penalty                              \u001b[3m\u001b[90m<dbl>\u001b[39m\u001b[23m 0, 1, 0, 0, 0, 0, 0, 0, 0, 0, 0,…\n",
            "$ tackled_for_loss                     \u001b[3m\u001b[90m<dbl>\u001b[39m\u001b[23m 0, 0, 0, 0, 0, 0, 0, 0, 0, 0, 0,…\n",
            "$ fumble_lost                          \u001b[3m\u001b[90m<dbl>\u001b[39m\u001b[23m 0, 0, 0, 0, 0, 0, 0, 0, 0, 0, 0,…\n",
            "$ own_kickoff_recovery                 \u001b[3m\u001b[90m<dbl>\u001b[39m\u001b[23m 0, 0, 0, 0, 0, 0, 0, 0, 0, 0, 0,…\n",
            "$ own_kickoff_recovery_td              \u001b[3m\u001b[90m<dbl>\u001b[39m\u001b[23m 0, 0, 0, 0, 0, 0, 0, 0, 0, 0, 0,…\n",
            "$ qb_hit                               \u001b[3m\u001b[90m<dbl>\u001b[39m\u001b[23m 0, 0, 0, 0, 0, 0, 0, 0, 0, 0, 0,…\n",
            "$ rush_attempt                         \u001b[3m\u001b[90m<dbl>\u001b[39m\u001b[23m 0, 0, 0, 1, 1, 0, 0, 0, 1, 1, 0,…\n",
            "$ pass_attempt                         \u001b[3m\u001b[90m<dbl>\u001b[39m\u001b[23m 0, 0, 1, 0, 0, 1, 1, 1, 0, 0, 1,…\n",
            "$ sack                                 \u001b[3m\u001b[90m<dbl>\u001b[39m\u001b[23m 0, 0, 0, 0, 0, 0, 0, 0, 0, 0, 0,…\n",
            "$ touchdown                            \u001b[3m\u001b[90m<dbl>\u001b[39m\u001b[23m 0, 0, 0, 0, 0, 0, 0, 0, 0, 0, 0,…\n",
            "$ pass_touchdown                       \u001b[3m\u001b[90m<dbl>\u001b[39m\u001b[23m 0, 0, 0, 0, 0, 0, 0, 0, 0, 0, 0,…\n",
            "$ rush_touchdown                       \u001b[3m\u001b[90m<dbl>\u001b[39m\u001b[23m 0, 0, 0, 0, 0, 0, 0, 0, 0, 0, 0,…\n",
            "$ return_touchdown                     \u001b[3m\u001b[90m<dbl>\u001b[39m\u001b[23m 0, 0, 0, 0, 0, 0, 0, 0, 0, 0, 0,…\n",
            "$ extra_point_attempt                  \u001b[3m\u001b[90m<dbl>\u001b[39m\u001b[23m 0, 0, 0, 0, 0, 0, 0, 0, 0, 0, 0,…\n",
            "$ two_point_attempt                    \u001b[3m\u001b[90m<dbl>\u001b[39m\u001b[23m 0, 0, 0, 0, 0, 0, 0, 0, 0, 0, 0,…\n",
            "$ field_goal_attempt                   \u001b[3m\u001b[90m<dbl>\u001b[39m\u001b[23m 0, 0, 0, 0, 0, 0, 0, 0, 0, 0, 0,…\n",
            "$ kickoff_attempt                      \u001b[3m\u001b[90m<dbl>\u001b[39m\u001b[23m 1, 0, 0, 0, 0, 0, 0, 0, 0, 0, 0,…\n",
            "$ punt_attempt                         \u001b[3m\u001b[90m<dbl>\u001b[39m\u001b[23m 0, 0, 0, 0, 0, 0, 0, 0, 0, 0, 0,…\n",
            "$ fumble                               \u001b[3m\u001b[90m<dbl>\u001b[39m\u001b[23m 0, 0, 0, 0, 0, 0, 0, 0, 0, 0, 0,…\n",
            "$ complete_pass                        \u001b[3m\u001b[90m<dbl>\u001b[39m\u001b[23m 0, 0, 1, 0, 0, 0, 0, 1, 0, 0, 0,…\n",
            "$ assist_tackle                        \u001b[3m\u001b[90m<dbl>\u001b[39m\u001b[23m 0, 0, 0, 0, 0, 0, 0, 0, 1, 1, 0,…\n",
            "$ lateral_reception                    \u001b[3m\u001b[90m<dbl>\u001b[39m\u001b[23m 0, 0, 0, 0, 0, 0, 0, 0, 0, 0, 0,…\n",
            "$ lateral_rush                         \u001b[3m\u001b[90m<dbl>\u001b[39m\u001b[23m 0, 0, 0, 0, 0, 0, 0, 0, 0, 0, 0,…\n",
            "$ lateral_return                       \u001b[3m\u001b[90m<dbl>\u001b[39m\u001b[23m 0, 0, 0, 0, 0, 0, 0, 0, 0, 0, 0,…\n",
            "$ lateral_recovery                     \u001b[3m\u001b[90m<dbl>\u001b[39m\u001b[23m 0, 0, 0, 0, 0, 0, 0, 0, 0, 0, 0,…\n",
            "$ passer_player_id                     \u001b[3m\u001b[90m<chr>\u001b[39m\u001b[23m NA, NA, \"00-0026143\", NA, NA, \"0…\n",
            "$ passer_player_name                   \u001b[3m\u001b[90m<chr>\u001b[39m\u001b[23m NA, NA, \"M.Ryan\", NA, NA, \"M.Rya…\n",
            "$ receiver_player_id                   \u001b[3m\u001b[90m<chr>\u001b[39m\u001b[23m NA, NA, \"00-0027944\", NA, NA, \"0…\n",
            "$ receiver_player_name                 \u001b[3m\u001b[90m<chr>\u001b[39m\u001b[23m NA, NA, \"J.Jones\", NA, NA, \"C.Ri…\n",
            "$ rusher_player_id                     \u001b[3m\u001b[90m<chr>\u001b[39m\u001b[23m NA, NA, NA, \"00-0027944\", \"00-00…\n",
            "$ rusher_player_name                   \u001b[3m\u001b[90m<chr>\u001b[39m\u001b[23m NA, NA, NA, \"J.Jones\", \"D.Freema…\n",
            "$ lateral_receiver_player_id           \u001b[3m\u001b[90m<lgl>\u001b[39m\u001b[23m NA, NA, NA, NA, NA, NA, NA, NA, …\n",
            "$ lateral_receiver_player_name         \u001b[3m\u001b[90m<lgl>\u001b[39m\u001b[23m NA, NA, NA, NA, NA, NA, NA, NA, …\n",
            "$ lateral_rusher_player_id             \u001b[3m\u001b[90m<lgl>\u001b[39m\u001b[23m NA, NA, NA, NA, NA, NA, NA, NA, …\n",
            "$ lateral_rusher_player_name           \u001b[3m\u001b[90m<lgl>\u001b[39m\u001b[23m NA, NA, NA, NA, NA, NA, NA, NA, …\n",
            "$ lateral_sack_player_id               \u001b[3m\u001b[90m<lgl>\u001b[39m\u001b[23m NA, NA, NA, NA, NA, NA, NA, NA, …\n",
            "$ lateral_sack_player_name             \u001b[3m\u001b[90m<lgl>\u001b[39m\u001b[23m NA, NA, NA, NA, NA, NA, NA, NA, …\n",
            "$ interception_player_id               \u001b[3m\u001b[90m<chr>\u001b[39m\u001b[23m NA, NA, NA, NA, NA, NA, NA, NA, …\n",
            "$ interception_player_name             \u001b[3m\u001b[90m<chr>\u001b[39m\u001b[23m NA, NA, NA, NA, NA, NA, NA, NA, …\n",
            "$ lateral_interception_player_id       \u001b[3m\u001b[90m<lgl>\u001b[39m\u001b[23m NA, NA, NA, NA, NA, NA, NA, NA, …\n",
            "$ lateral_interception_player_name     \u001b[3m\u001b[90m<lgl>\u001b[39m\u001b[23m NA, NA, NA, NA, NA, NA, NA, NA, …\n",
            "$ punt_returner_player_id              \u001b[3m\u001b[90m<chr>\u001b[39m\u001b[23m NA, NA, NA, NA, NA, NA, NA, NA, …\n",
            "$ punt_returner_player_name            \u001b[3m\u001b[90m<chr>\u001b[39m\u001b[23m NA, NA, NA, NA, NA, NA, NA, NA, …\n",
            "$ lateral_punt_returner_player_id      \u001b[3m\u001b[90m<lgl>\u001b[39m\u001b[23m NA, NA, NA, NA, NA, NA, NA, NA, …\n",
            "$ lateral_punt_returner_player_name    \u001b[3m\u001b[90m<lgl>\u001b[39m\u001b[23m NA, NA, NA, NA, NA, NA, NA, NA, …\n",
            "$ kickoff_returner_player_name         \u001b[3m\u001b[90m<chr>\u001b[39m\u001b[23m NA, NA, NA, NA, NA, NA, NA, NA, …\n",
            "$ kickoff_returner_player_id           \u001b[3m\u001b[90m<chr>\u001b[39m\u001b[23m NA, NA, NA, NA, NA, NA, NA, NA, …\n",
            "$ lateral_kickoff_returner_player_id   \u001b[3m\u001b[90m<lgl>\u001b[39m\u001b[23m NA, NA, NA, NA, NA, NA, NA, NA, …\n",
            "$ lateral_kickoff_returner_player_name \u001b[3m\u001b[90m<lgl>\u001b[39m\u001b[23m NA, NA, NA, NA, NA, NA, NA, NA, …\n",
            "$ punter_player_id                     \u001b[3m\u001b[90m<chr>\u001b[39m\u001b[23m NA, NA, NA, NA, NA, NA, NA, NA, …\n",
            "$ punter_player_name                   \u001b[3m\u001b[90m<chr>\u001b[39m\u001b[23m NA, NA, NA, NA, NA, NA, NA, NA, …\n",
            "$ kicker_player_name                   \u001b[3m\u001b[90m<chr>\u001b[39m\u001b[23m \"J.Elliott\", NA, NA, NA, NA, NA,…\n",
            "$ kicker_player_id                     \u001b[3m\u001b[90m<chr>\u001b[39m\u001b[23m \"00-0033787\", NA, NA, NA, NA, NA…\n",
            "$ own_kickoff_recovery_player_id       \u001b[3m\u001b[90m<lgl>\u001b[39m\u001b[23m NA, NA, NA, NA, NA, NA, NA, NA, …\n",
            "$ own_kickoff_recovery_player_name     \u001b[3m\u001b[90m<lgl>\u001b[39m\u001b[23m NA, NA, NA, NA, NA, NA, NA, NA, …\n",
            "$ blocked_player_id                    \u001b[3m\u001b[90m<lgl>\u001b[39m\u001b[23m NA, NA, NA, NA, NA, NA, NA, NA, …\n",
            "$ blocked_player_name                  \u001b[3m\u001b[90m<lgl>\u001b[39m\u001b[23m NA, NA, NA, NA, NA, NA, NA, NA, …\n",
            "$ tackle_for_loss_1_player_id          \u001b[3m\u001b[90m<chr>\u001b[39m\u001b[23m NA, NA, NA, NA, NA, NA, NA, NA, …\n",
            "$ tackle_for_loss_1_player_name        \u001b[3m\u001b[90m<chr>\u001b[39m\u001b[23m NA, NA, NA, NA, NA, NA, NA, NA, …\n",
            "$ tackle_for_loss_2_player_id          \u001b[3m\u001b[90m<lgl>\u001b[39m\u001b[23m NA, NA, NA, NA, NA, NA, NA, NA, …\n",
            "$ tackle_for_loss_2_player_name        \u001b[3m\u001b[90m<lgl>\u001b[39m\u001b[23m NA, NA, NA, NA, NA, NA, NA, NA, …\n",
            "$ qb_hit_1_player_id                   \u001b[3m\u001b[90m<chr>\u001b[39m\u001b[23m NA, NA, NA, NA, NA, NA, NA, NA, …\n",
            "$ qb_hit_1_player_name                 \u001b[3m\u001b[90m<chr>\u001b[39m\u001b[23m NA, NA, NA, NA, NA, NA, NA, NA, …\n",
            "$ qb_hit_2_player_id                   \u001b[3m\u001b[90m<chr>\u001b[39m\u001b[23m NA, NA, NA, NA, NA, NA, NA, NA, …\n",
            "$ qb_hit_2_player_name                 \u001b[3m\u001b[90m<chr>\u001b[39m\u001b[23m NA, NA, NA, NA, NA, NA, NA, NA, …\n",
            "$ forced_fumble_player_1_team          \u001b[3m\u001b[90m<chr>\u001b[39m\u001b[23m NA, NA, NA, NA, NA, NA, NA, NA, …\n",
            "$ forced_fumble_player_1_player_id     \u001b[3m\u001b[90m<chr>\u001b[39m\u001b[23m NA, NA, NA, NA, NA, NA, NA, NA, …\n",
            "$ forced_fumble_player_1_player_name   \u001b[3m\u001b[90m<chr>\u001b[39m\u001b[23m NA, NA, NA, NA, NA, NA, NA, NA, …\n",
            "$ forced_fumble_player_2_team          \u001b[3m\u001b[90m<lgl>\u001b[39m\u001b[23m NA, NA, NA, NA, NA, NA, NA, NA, …\n",
            "$ forced_fumble_player_2_player_id     \u001b[3m\u001b[90m<lgl>\u001b[39m\u001b[23m NA, NA, NA, NA, NA, NA, NA, NA, …\n",
            "$ forced_fumble_player_2_player_name   \u001b[3m\u001b[90m<lgl>\u001b[39m\u001b[23m NA, NA, NA, NA, NA, NA, NA, NA, …\n",
            "$ solo_tackle_1_team                   \u001b[3m\u001b[90m<chr>\u001b[39m\u001b[23m NA, NA, \"PHI\", \"PHI\", \"PHI\", NA,…\n",
            "$ solo_tackle_2_team                   \u001b[3m\u001b[90m<chr>\u001b[39m\u001b[23m NA, NA, NA, NA, NA, NA, NA, NA, …\n",
            "$ solo_tackle_1_player_id              \u001b[3m\u001b[90m<chr>\u001b[39m\u001b[23m NA, NA, \"00-0026990\", \"00-003387…\n",
            "$ solo_tackle_2_player_id              \u001b[3m\u001b[90m<chr>\u001b[39m\u001b[23m NA, NA, NA, NA, NA, NA, NA, NA, …\n",
            "$ solo_tackle_1_player_name            \u001b[3m\u001b[90m<chr>\u001b[39m\u001b[23m NA, NA, \"M.Jenkins\", \"D.Barnett\"…\n",
            "$ solo_tackle_2_player_name            \u001b[3m\u001b[90m<chr>\u001b[39m\u001b[23m NA, NA, NA, NA, NA, NA, NA, NA, …\n",
            "$ assist_tackle_1_player_id            \u001b[3m\u001b[90m<chr>\u001b[39m\u001b[23m NA, NA, NA, NA, NA, NA, NA, NA, …\n",
            "$ assist_tackle_1_player_name          \u001b[3m\u001b[90m<chr>\u001b[39m\u001b[23m NA, NA, NA, NA, NA, NA, NA, NA, …\n",
            "$ assist_tackle_1_team                 \u001b[3m\u001b[90m<chr>\u001b[39m\u001b[23m NA, NA, NA, NA, NA, NA, NA, NA, …\n",
            "$ assist_tackle_2_player_id            \u001b[3m\u001b[90m<chr>\u001b[39m\u001b[23m NA, NA, NA, NA, NA, NA, NA, NA, …\n",
            "$ assist_tackle_2_player_name          \u001b[3m\u001b[90m<chr>\u001b[39m\u001b[23m NA, NA, NA, NA, NA, NA, NA, NA, …\n",
            "$ assist_tackle_2_team                 \u001b[3m\u001b[90m<chr>\u001b[39m\u001b[23m NA, NA, NA, NA, NA, NA, NA, NA, …\n",
            "$ assist_tackle_3_player_id            \u001b[3m\u001b[90m<lgl>\u001b[39m\u001b[23m NA, NA, NA, NA, NA, NA, NA, NA, …\n",
            "$ assist_tackle_3_player_name          \u001b[3m\u001b[90m<lgl>\u001b[39m\u001b[23m NA, NA, NA, NA, NA, NA, NA, NA, …\n",
            "$ assist_tackle_3_team                 \u001b[3m\u001b[90m<lgl>\u001b[39m\u001b[23m NA, NA, NA, NA, NA, NA, NA, NA, …\n",
            "$ assist_tackle_4_player_id            \u001b[3m\u001b[90m<lgl>\u001b[39m\u001b[23m NA, NA, NA, NA, NA, NA, NA, NA, …\n",
            "$ assist_tackle_4_player_name          \u001b[3m\u001b[90m<lgl>\u001b[39m\u001b[23m NA, NA, NA, NA, NA, NA, NA, NA, …\n",
            "$ assist_tackle_4_team                 \u001b[3m\u001b[90m<lgl>\u001b[39m\u001b[23m NA, NA, NA, NA, NA, NA, NA, NA, …\n",
            "$ pass_defense_1_player_id             \u001b[3m\u001b[90m<chr>\u001b[39m\u001b[23m NA, NA, NA, NA, NA, \"00-0032803\"…\n",
            "$ pass_defense_1_player_name           \u001b[3m\u001b[90m<chr>\u001b[39m\u001b[23m NA, NA, NA, NA, NA, \"J.Mills\", N…\n",
            "$ pass_defense_2_player_id             \u001b[3m\u001b[90m<chr>\u001b[39m\u001b[23m NA, NA, NA, NA, NA, \"00-0032129\"…\n",
            "$ pass_defense_2_player_name           \u001b[3m\u001b[90m<chr>\u001b[39m\u001b[23m NA, NA, NA, NA, NA, \"J.Hicks\", N…\n",
            "$ fumbled_1_team                       \u001b[3m\u001b[90m<chr>\u001b[39m\u001b[23m NA, NA, NA, NA, NA, NA, NA, NA, …\n",
            "$ fumbled_1_player_id                  \u001b[3m\u001b[90m<chr>\u001b[39m\u001b[23m NA, NA, NA, NA, NA, NA, NA, NA, …\n",
            "$ fumbled_1_player_name                \u001b[3m\u001b[90m<chr>\u001b[39m\u001b[23m NA, NA, NA, NA, NA, NA, NA, NA, …\n",
            "$ fumbled_2_player_id                  \u001b[3m\u001b[90m<lgl>\u001b[39m\u001b[23m NA, NA, NA, NA, NA, NA, NA, NA, …\n",
            "$ fumbled_2_player_name                \u001b[3m\u001b[90m<lgl>\u001b[39m\u001b[23m NA, NA, NA, NA, NA, NA, NA, NA, …\n",
            "$ fumbled_2_team                       \u001b[3m\u001b[90m<lgl>\u001b[39m\u001b[23m NA, NA, NA, NA, NA, NA, NA, NA, …\n",
            "$ fumble_recovery_1_team               \u001b[3m\u001b[90m<chr>\u001b[39m\u001b[23m NA, NA, NA, NA, NA, NA, NA, NA, …\n",
            "$ fumble_recovery_1_yards              \u001b[3m\u001b[90m<dbl>\u001b[39m\u001b[23m NA, NA, NA, NA, NA, NA, NA, NA, …\n",
            "$ fumble_recovery_1_player_id          \u001b[3m\u001b[90m<chr>\u001b[39m\u001b[23m NA, NA, NA, NA, NA, NA, NA, NA, …\n",
            "$ fumble_recovery_1_player_name        \u001b[3m\u001b[90m<chr>\u001b[39m\u001b[23m NA, NA, NA, NA, NA, NA, NA, NA, …\n",
            "$ fumble_recovery_2_team               \u001b[3m\u001b[90m<lgl>\u001b[39m\u001b[23m NA, NA, NA, NA, NA, NA, NA, NA, …\n",
            "$ fumble_recovery_2_yards              \u001b[3m\u001b[90m<lgl>\u001b[39m\u001b[23m NA, NA, NA, NA, NA, NA, NA, NA, …\n",
            "$ fumble_recovery_2_player_id          \u001b[3m\u001b[90m<lgl>\u001b[39m\u001b[23m NA, NA, NA, NA, NA, NA, NA, NA, …\n",
            "$ fumble_recovery_2_player_name        \u001b[3m\u001b[90m<lgl>\u001b[39m\u001b[23m NA, NA, NA, NA, NA, NA, NA, NA, …\n",
            "$ return_team                          \u001b[3m\u001b[90m<chr>\u001b[39m\u001b[23m NA, NA, NA, NA, NA, NA, NA, NA, …\n",
            "$ return_yards                         \u001b[3m\u001b[90m<dbl>\u001b[39m\u001b[23m 0, 0, 0, 0, 0, 0, 0, 0, 0, 0, 0,…\n",
            "$ penalty_team                         \u001b[3m\u001b[90m<chr>\u001b[39m\u001b[23m NA, \"ATL\", NA, NA, NA, NA, NA, N…\n",
            "$ penalty_player_id                    \u001b[3m\u001b[90m<chr>\u001b[39m\u001b[23m NA, \"00-0027215\", NA, NA, NA, NA…\n",
            "$ penalty_player_name                  \u001b[3m\u001b[90m<chr>\u001b[39m\u001b[23m NA, \"L.Paulsen\", NA, NA, NA, NA,…\n",
            "$ penalty_yards                        \u001b[3m\u001b[90m<dbl>\u001b[39m\u001b[23m NA, 5, NA, NA, NA, NA, NA, NA, N…\n",
            "$ replay_or_challenge                  \u001b[3m\u001b[90m<dbl>\u001b[39m\u001b[23m 0, 0, 0, 0, 0, 0, 0, 0, 0, 0, 0,…\n",
            "$ replay_or_challenge_result           \u001b[3m\u001b[90m<chr>\u001b[39m\u001b[23m NA, NA, NA, NA, NA, NA, NA, NA, …\n",
            "$ penalty_type                         \u001b[3m\u001b[90m<chr>\u001b[39m\u001b[23m NA, \"False Start\", NA, NA, NA, N…\n",
            "$ defensive_two_point_attempt          \u001b[3m\u001b[90m<dbl>\u001b[39m\u001b[23m 0, 0, 0, 0, 0, 0, 0, 0, 0, 0, 0,…\n",
            "$ defensive_two_point_conv             \u001b[3m\u001b[90m<dbl>\u001b[39m\u001b[23m 0, 0, 0, 0, 0, 0, 0, 0, 0, 0, 0,…\n",
            "$ defensive_extra_point_attempt        \u001b[3m\u001b[90m<dbl>\u001b[39m\u001b[23m 0, 0, 0, 0, 0, 0, 0, 0, 0, 0, 0,…\n",
            "$ defensive_extra_point_conv           \u001b[3m\u001b[90m<dbl>\u001b[39m\u001b[23m 0, 0, 0, 0, 0, 0, 0, 0, 0, 0, 0,…\n"
          ],
          "name": "stdout"
        }
      ]
    },
    {
      "cell_type": "code",
      "metadata": {
        "id": "4vPOMewUIaEu",
        "colab_type": "code",
        "colab": {
          "base_uri": "https://localhost:8080/",
          "height": 199
        },
        "outputId": "b481f39c-77af-4bdc-8fcb-a89451ef539e"
      },
      "source": [
        "pbp %>% \n",
        "  select(posteam, defteam, desc, play_type) %>% \n",
        "  head()"
      ],
      "execution_count": 18,
      "outputs": [
        {
          "output_type": "display_data",
          "data": {
            "text/plain": [
              "  posteam defteam\n",
              "1 ATL     PHI    \n",
              "2 ATL     PHI    \n",
              "3 ATL     PHI    \n",
              "4 ATL     PHI    \n",
              "5 ATL     PHI    \n",
              "6 ATL     PHI    \n",
              "  desc                                                                                    \n",
              "1 J.Elliott kicks 65 yards from PHI 35 to end zone, Touchback.                            \n",
              "2 (15:00) PENALTY on ATL-L.Paulsen, False Start, 5 yards, enforced at ATL 25 - No Play.   \n",
              "3 (15:00) M.Ryan pass short right to J.Jones pushed ob at ATL 30 for 10 yards (M.Jenkins).\n",
              "4 (14:22) J.Jones left end pushed ob at ATL 41 for 11 yards (D.Barnett).                  \n",
              "5 (13:46) D.Freeman right end to PHI 39 for 20 yards (M.Jenkins).                         \n",
              "6 (13:10) M.Ryan pass incomplete short right to C.Ridley (J.Mills, J.Hicks).              \n",
              "  play_type\n",
              "1 kickoff  \n",
              "2 no_play  \n",
              "3 pass     \n",
              "4 run      \n",
              "5 run      \n",
              "6 pass     "
            ],
            "text/latex": "A tibble: 6 × 4\n\\begin{tabular}{llll}\n posteam & defteam & desc & play\\_type\\\\\n <chr> & <chr> & <chr> & <chr>\\\\\n\\hline\n\t ATL & PHI & J.Elliott kicks 65 yards from PHI 35 to end zone, Touchback.                             & kickoff\\\\\n\t ATL & PHI & (15:00) PENALTY on ATL-L.Paulsen, False Start, 5 yards, enforced at ATL 25 - No Play.    & no\\_play\\\\\n\t ATL & PHI & (15:00) M.Ryan pass short right to J.Jones pushed ob at ATL 30 for 10 yards (M.Jenkins). & pass   \\\\\n\t ATL & PHI & (14:22) J.Jones left end pushed ob at ATL 41 for 11 yards (D.Barnett).                   & run    \\\\\n\t ATL & PHI & (13:46) D.Freeman right end to PHI 39 for 20 yards (M.Jenkins).                          & run    \\\\\n\t ATL & PHI & (13:10) M.Ryan pass incomplete short right to C.Ridley (J.Mills, J.Hicks).               & pass   \\\\\n\\end{tabular}\n",
            "text/markdown": "\nA tibble: 6 × 4\n\n| posteam &lt;chr&gt; | defteam &lt;chr&gt; | desc &lt;chr&gt; | play_type &lt;chr&gt; |\n|---|---|---|---|\n| ATL | PHI | J.Elliott kicks 65 yards from PHI 35 to end zone, Touchback.                             | kickoff |\n| ATL | PHI | (15:00) PENALTY on ATL-L.Paulsen, False Start, 5 yards, enforced at ATL 25 - No Play.    | no_play |\n| ATL | PHI | (15:00) M.Ryan pass short right to J.Jones pushed ob at ATL 30 for 10 yards (M.Jenkins). | pass    |\n| ATL | PHI | (14:22) J.Jones left end pushed ob at ATL 41 for 11 yards (D.Barnett).                   | run     |\n| ATL | PHI | (13:46) D.Freeman right end to PHI 39 for 20 yards (M.Jenkins).                          | run     |\n| ATL | PHI | (13:10) M.Ryan pass incomplete short right to C.Ridley (J.Mills, J.Hicks).               | pass    |\n\n",
            "text/html": [
              "<table>\n",
              "<caption>A tibble: 6 × 4</caption>\n",
              "<thead>\n",
              "\t<tr><th scope=col>posteam</th><th scope=col>defteam</th><th scope=col>desc</th><th scope=col>play_type</th></tr>\n",
              "\t<tr><th scope=col>&lt;chr&gt;</th><th scope=col>&lt;chr&gt;</th><th scope=col>&lt;chr&gt;</th><th scope=col>&lt;chr&gt;</th></tr>\n",
              "</thead>\n",
              "<tbody>\n",
              "\t<tr><td>ATL</td><td>PHI</td><td>J.Elliott kicks 65 yards from PHI 35 to end zone, Touchback.                            </td><td>kickoff</td></tr>\n",
              "\t<tr><td>ATL</td><td>PHI</td><td>(15:00) PENALTY on ATL-L.Paulsen, False Start, 5 yards, enforced at ATL 25 - No Play.   </td><td>no_play</td></tr>\n",
              "\t<tr><td>ATL</td><td>PHI</td><td>(15:00) M.Ryan pass short right to J.Jones pushed ob at ATL 30 for 10 yards (M.Jenkins).</td><td>pass   </td></tr>\n",
              "\t<tr><td>ATL</td><td>PHI</td><td>(14:22) J.Jones left end pushed ob at ATL 41 for 11 yards (D.Barnett).                  </td><td>run    </td></tr>\n",
              "\t<tr><td>ATL</td><td>PHI</td><td>(13:46) D.Freeman right end to PHI 39 for 20 yards (M.Jenkins).                         </td><td>run    </td></tr>\n",
              "\t<tr><td>ATL</td><td>PHI</td><td>(13:10) M.Ryan pass incomplete short right to C.Ridley (J.Mills, J.Hicks).              </td><td>pass   </td></tr>\n",
              "</tbody>\n",
              "</table>\n"
            ]
          },
          "metadata": {
            "tags": []
          }
        }
      ]
    },
    {
      "cell_type": "code",
      "metadata": {
        "id": "NXbX4PrVJss4",
        "colab_type": "code",
        "colab": {
          "base_uri": "https://localhost:8080/",
          "height": 792
        },
        "outputId": "9f78c31c-6ba4-4539-ab46-9dde122c7b43"
      },
      "source": [
        "nflteams"
      ],
      "execution_count": 20,
      "outputs": [
        {
          "output_type": "display_data",
          "data": {
            "text/plain": [
              "   team                 abbr primary secondary tertiary quaternary division \n",
              "1  Arizona Cardinals    ARI  #97233f #000000   #ffb612  #a5acaf    NFC West \n",
              "2  Atlanta Falcons      ATL  #a71930 #000000   #a5acaf  #a30d2d    NFC South\n",
              "3  Baltimore Ravens     BAL  #241773 #000000   #9e7c0c  #c60c30    AFC North\n",
              "4  Buffalo Bills        BUF  #00338d #c60c30   #0c2e82  #d50a0a    AFC East \n",
              "5  Carolina Panthers    CAR  #0085ca #000000   #bfc0bf  #0085ca    NFC South\n",
              "6  Chicago Bears        CHI  #0b162a #c83803   #0b162a  #c83803    NFC North\n",
              "7  Cincinnati Bengals   CIN  #000000 #fb4f14   #000000  #d32f1e    AFC North\n",
              "8  Cleveland Browns     CLE  #fb4f14 #22150c   #a5acaf  #d32f1e    AFC North\n",
              "9  Dallas Cowboys       DAL  #002244 #b0b7bc   #acc0c6  #a5acaf    NFC East \n",
              "10 Denver Broncos       DEN  #002244 #fb4f14   #00234c  #ff5200    AFC West \n",
              "11 Detroit Lions        DET  #005a8b #b0b7bc   #000000  #004e89    NFC North\n",
              "12 Green Bay Packers    GB   #203731 #ffb612   #1c2d25  #eead1e    NFC North\n",
              "13 Houston Texans       HOU  #03202f #a71930   #00071c  #a30d2d    AFC South\n",
              "14 Indianapolis Colts   IND  #002c5f #a5acaf   #013369  #9ba1a2    AFC South\n",
              "15 Jacksonville Jaguars JAC  #000000 #006778   #9f792c  #d7a22a    AFC South\n",
              "16 Kansas City Chiefs   KC   #e31837 #ffb612   #000000  #e31837    AFC West \n",
              "17 Miami Dolphins       MIA  #008e97 #f58220   #005778  #008e97    AFC East \n",
              "18 Minnesota Vikings    MIN  #4f2683 #ffc62f   #e9bf9b  #000000    NFC North\n",
              "19 New England Patriots NE   #002244 #c60c30   #b0b7bc  #001532    AFC East \n",
              "20 New Orleans Saints   NO   #9f8958 #000000   #9f8958  #000000    NFC South\n",
              "21 New York Giants      NYG  #0b2265 #a71930   #a5acaf  #012352    NFC East \n",
              "22 New York Jets        NYJ  #203731 #1c2d25   NA       NA         AFC East \n",
              "23 Oakland Raiders      OAK  #a5acaf #000000   #a6aeb0  #000000    AFC West \n",
              "24 Philadelphia Eagles  PHI  #004953 #a5acaf   #acc0c6  #000000    NFC East \n",
              "25 Pittsburgh Steelers  PIT  #000000 #ffb612   #c60c30  #00539b    AFC North\n",
              "26 San Diego Chargers   SD   #002244 #0073cf   #ffb612  #001532    AFC West \n",
              "27 Seattle Seahawks     SEA  #002244 #69be28   #a5acaf  #001532    NFC West \n",
              "28 San Francisco 49ers  SF   #aa0000 #b3995d   #000000  #a5acaf    NFC West \n",
              "29 St.Louis Rams        STL  #002244 #b3995d   #001532  #af925d    NFC West \n",
              "30 Tampa Bay Buccaneers TB   #d50a0a #34302b   #000000  #ff7900    NFC South\n",
              "31 Tennessee Titans     TEN  #002244 #4b92db   #c60c30  #a5acaf    AFC South\n",
              "32 Washington Redskins  WAS  #773141 #ffb612   #000000  #5b2b2f    NFC East \n",
              "33 Jacksonville Jaguars JAX  #000000 #006778   #9f792c  #d7a22a    AFC South\n",
              "34 Los Angeles Chargers LAC  #002244 #0073cf   #ffb612  #001532    AFC West \n",
              "35 Los Angeles Rams     LA   #002244 #b3995d   #001532  #af925d    NFC West "
            ],
            "text/latex": "A data.frame: 35 × 7\n\\begin{tabular}{lllllll}\n team & abbr & primary & secondary & tertiary & quaternary & division\\\\\n <chr> & <chr> & <chr> & <chr> & <chr> & <chr> & <chr>\\\\\n\\hline\n\t Arizona Cardinals    & ARI & \\#97233f & \\#000000 & \\#ffb612 & \\#a5acaf & NFC West \\\\\n\t Atlanta Falcons      & ATL & \\#a71930 & \\#000000 & \\#a5acaf & \\#a30d2d & NFC South\\\\\n\t Baltimore Ravens     & BAL & \\#241773 & \\#000000 & \\#9e7c0c & \\#c60c30 & AFC North\\\\\n\t Buffalo Bills        & BUF & \\#00338d & \\#c60c30 & \\#0c2e82 & \\#d50a0a & AFC East \\\\\n\t Carolina Panthers    & CAR & \\#0085ca & \\#000000 & \\#bfc0bf & \\#0085ca & NFC South\\\\\n\t Chicago Bears        & CHI & \\#0b162a & \\#c83803 & \\#0b162a & \\#c83803 & NFC North\\\\\n\t Cincinnati Bengals   & CIN & \\#000000 & \\#fb4f14 & \\#000000 & \\#d32f1e & AFC North\\\\\n\t Cleveland Browns     & CLE & \\#fb4f14 & \\#22150c & \\#a5acaf & \\#d32f1e & AFC North\\\\\n\t Dallas Cowboys       & DAL & \\#002244 & \\#b0b7bc & \\#acc0c6 & \\#a5acaf & NFC East \\\\\n\t Denver Broncos       & DEN & \\#002244 & \\#fb4f14 & \\#00234c & \\#ff5200 & AFC West \\\\\n\t Detroit Lions        & DET & \\#005a8b & \\#b0b7bc & \\#000000 & \\#004e89 & NFC North\\\\\n\t Green Bay Packers    & GB  & \\#203731 & \\#ffb612 & \\#1c2d25 & \\#eead1e & NFC North\\\\\n\t Houston Texans       & HOU & \\#03202f & \\#a71930 & \\#00071c & \\#a30d2d & AFC South\\\\\n\t Indianapolis Colts   & IND & \\#002c5f & \\#a5acaf & \\#013369 & \\#9ba1a2 & AFC South\\\\\n\t Jacksonville Jaguars & JAC & \\#000000 & \\#006778 & \\#9f792c & \\#d7a22a & AFC South\\\\\n\t Kansas City Chiefs   & KC  & \\#e31837 & \\#ffb612 & \\#000000 & \\#e31837 & AFC West \\\\\n\t Miami Dolphins       & MIA & \\#008e97 & \\#f58220 & \\#005778 & \\#008e97 & AFC East \\\\\n\t Minnesota Vikings    & MIN & \\#4f2683 & \\#ffc62f & \\#e9bf9b & \\#000000 & NFC North\\\\\n\t New England Patriots & NE  & \\#002244 & \\#c60c30 & \\#b0b7bc & \\#001532 & AFC East \\\\\n\t New Orleans Saints   & NO  & \\#9f8958 & \\#000000 & \\#9f8958 & \\#000000 & NFC South\\\\\n\t New York Giants      & NYG & \\#0b2265 & \\#a71930 & \\#a5acaf & \\#012352 & NFC East \\\\\n\t New York Jets        & NYJ & \\#203731 & \\#1c2d25 & NA      & NA      & AFC East \\\\\n\t Oakland Raiders      & OAK & \\#a5acaf & \\#000000 & \\#a6aeb0 & \\#000000 & AFC West \\\\\n\t Philadelphia Eagles  & PHI & \\#004953 & \\#a5acaf & \\#acc0c6 & \\#000000 & NFC East \\\\\n\t Pittsburgh Steelers  & PIT & \\#000000 & \\#ffb612 & \\#c60c30 & \\#00539b & AFC North\\\\\n\t San Diego Chargers   & SD  & \\#002244 & \\#0073cf & \\#ffb612 & \\#001532 & AFC West \\\\\n\t Seattle Seahawks     & SEA & \\#002244 & \\#69be28 & \\#a5acaf & \\#001532 & NFC West \\\\\n\t San Francisco 49ers  & SF  & \\#aa0000 & \\#b3995d & \\#000000 & \\#a5acaf & NFC West \\\\\n\t St.Louis Rams        & STL & \\#002244 & \\#b3995d & \\#001532 & \\#af925d & NFC West \\\\\n\t Tampa Bay Buccaneers & TB  & \\#d50a0a & \\#34302b & \\#000000 & \\#ff7900 & NFC South\\\\\n\t Tennessee Titans     & TEN & \\#002244 & \\#4b92db & \\#c60c30 & \\#a5acaf & AFC South\\\\\n\t Washington Redskins  & WAS & \\#773141 & \\#ffb612 & \\#000000 & \\#5b2b2f & NFC East \\\\\n\t Jacksonville Jaguars & JAX & \\#000000 & \\#006778 & \\#9f792c & \\#d7a22a & AFC South\\\\\n\t Los Angeles Chargers & LAC & \\#002244 & \\#0073cf & \\#ffb612 & \\#001532 & AFC West \\\\\n\t Los Angeles Rams     & LA  & \\#002244 & \\#b3995d & \\#001532 & \\#af925d & NFC West \\\\\n\\end{tabular}\n",
            "text/markdown": "\nA data.frame: 35 × 7\n\n| team &lt;chr&gt; | abbr &lt;chr&gt; | primary &lt;chr&gt; | secondary &lt;chr&gt; | tertiary &lt;chr&gt; | quaternary &lt;chr&gt; | division &lt;chr&gt; |\n|---|---|---|---|---|---|---|\n| Arizona Cardinals    | ARI | #97233f | #000000 | #ffb612 | #a5acaf | NFC West  |\n| Atlanta Falcons      | ATL | #a71930 | #000000 | #a5acaf | #a30d2d | NFC South |\n| Baltimore Ravens     | BAL | #241773 | #000000 | #9e7c0c | #c60c30 | AFC North |\n| Buffalo Bills        | BUF | #00338d | #c60c30 | #0c2e82 | #d50a0a | AFC East  |\n| Carolina Panthers    | CAR | #0085ca | #000000 | #bfc0bf | #0085ca | NFC South |\n| Chicago Bears        | CHI | #0b162a | #c83803 | #0b162a | #c83803 | NFC North |\n| Cincinnati Bengals   | CIN | #000000 | #fb4f14 | #000000 | #d32f1e | AFC North |\n| Cleveland Browns     | CLE | #fb4f14 | #22150c | #a5acaf | #d32f1e | AFC North |\n| Dallas Cowboys       | DAL | #002244 | #b0b7bc | #acc0c6 | #a5acaf | NFC East  |\n| Denver Broncos       | DEN | #002244 | #fb4f14 | #00234c | #ff5200 | AFC West  |\n| Detroit Lions        | DET | #005a8b | #b0b7bc | #000000 | #004e89 | NFC North |\n| Green Bay Packers    | GB  | #203731 | #ffb612 | #1c2d25 | #eead1e | NFC North |\n| Houston Texans       | HOU | #03202f | #a71930 | #00071c | #a30d2d | AFC South |\n| Indianapolis Colts   | IND | #002c5f | #a5acaf | #013369 | #9ba1a2 | AFC South |\n| Jacksonville Jaguars | JAC | #000000 | #006778 | #9f792c | #d7a22a | AFC South |\n| Kansas City Chiefs   | KC  | #e31837 | #ffb612 | #000000 | #e31837 | AFC West  |\n| Miami Dolphins       | MIA | #008e97 | #f58220 | #005778 | #008e97 | AFC East  |\n| Minnesota Vikings    | MIN | #4f2683 | #ffc62f | #e9bf9b | #000000 | NFC North |\n| New England Patriots | NE  | #002244 | #c60c30 | #b0b7bc | #001532 | AFC East  |\n| New Orleans Saints   | NO  | #9f8958 | #000000 | #9f8958 | #000000 | NFC South |\n| New York Giants      | NYG | #0b2265 | #a71930 | #a5acaf | #012352 | NFC East  |\n| New York Jets        | NYJ | #203731 | #1c2d25 | NA      | NA      | AFC East  |\n| Oakland Raiders      | OAK | #a5acaf | #000000 | #a6aeb0 | #000000 | AFC West  |\n| Philadelphia Eagles  | PHI | #004953 | #a5acaf | #acc0c6 | #000000 | NFC East  |\n| Pittsburgh Steelers  | PIT | #000000 | #ffb612 | #c60c30 | #00539b | AFC North |\n| San Diego Chargers   | SD  | #002244 | #0073cf | #ffb612 | #001532 | AFC West  |\n| Seattle Seahawks     | SEA | #002244 | #69be28 | #a5acaf | #001532 | NFC West  |\n| San Francisco 49ers  | SF  | #aa0000 | #b3995d | #000000 | #a5acaf | NFC West  |\n| St.Louis Rams        | STL | #002244 | #b3995d | #001532 | #af925d | NFC West  |\n| Tampa Bay Buccaneers | TB  | #d50a0a | #34302b | #000000 | #ff7900 | NFC South |\n| Tennessee Titans     | TEN | #002244 | #4b92db | #c60c30 | #a5acaf | AFC South |\n| Washington Redskins  | WAS | #773141 | #ffb612 | #000000 | #5b2b2f | NFC East  |\n| Jacksonville Jaguars | JAX | #000000 | #006778 | #9f792c | #d7a22a | AFC South |\n| Los Angeles Chargers | LAC | #002244 | #0073cf | #ffb612 | #001532 | AFC West  |\n| Los Angeles Rams     | LA  | #002244 | #b3995d | #001532 | #af925d | NFC West  |\n\n",
            "text/html": [
              "<table>\n",
              "<caption>A data.frame: 35 × 7</caption>\n",
              "<thead>\n",
              "\t<tr><th scope=col>team</th><th scope=col>abbr</th><th scope=col>primary</th><th scope=col>secondary</th><th scope=col>tertiary</th><th scope=col>quaternary</th><th scope=col>division</th></tr>\n",
              "\t<tr><th scope=col>&lt;chr&gt;</th><th scope=col>&lt;chr&gt;</th><th scope=col>&lt;chr&gt;</th><th scope=col>&lt;chr&gt;</th><th scope=col>&lt;chr&gt;</th><th scope=col>&lt;chr&gt;</th><th scope=col>&lt;chr&gt;</th></tr>\n",
              "</thead>\n",
              "<tbody>\n",
              "\t<tr><td>Arizona Cardinals   </td><td>ARI</td><td>#97233f</td><td>#000000</td><td>#ffb612</td><td>#a5acaf</td><td>NFC West </td></tr>\n",
              "\t<tr><td>Atlanta Falcons     </td><td>ATL</td><td>#a71930</td><td>#000000</td><td>#a5acaf</td><td>#a30d2d</td><td>NFC South</td></tr>\n",
              "\t<tr><td>Baltimore Ravens    </td><td>BAL</td><td>#241773</td><td>#000000</td><td>#9e7c0c</td><td>#c60c30</td><td>AFC North</td></tr>\n",
              "\t<tr><td>Buffalo Bills       </td><td>BUF</td><td>#00338d</td><td>#c60c30</td><td>#0c2e82</td><td>#d50a0a</td><td>AFC East </td></tr>\n",
              "\t<tr><td>Carolina Panthers   </td><td>CAR</td><td>#0085ca</td><td>#000000</td><td>#bfc0bf</td><td>#0085ca</td><td>NFC South</td></tr>\n",
              "\t<tr><td>Chicago Bears       </td><td>CHI</td><td>#0b162a</td><td>#c83803</td><td>#0b162a</td><td>#c83803</td><td>NFC North</td></tr>\n",
              "\t<tr><td>Cincinnati Bengals  </td><td>CIN</td><td>#000000</td><td>#fb4f14</td><td>#000000</td><td>#d32f1e</td><td>AFC North</td></tr>\n",
              "\t<tr><td>Cleveland Browns    </td><td>CLE</td><td>#fb4f14</td><td>#22150c</td><td>#a5acaf</td><td>#d32f1e</td><td>AFC North</td></tr>\n",
              "\t<tr><td>Dallas Cowboys      </td><td>DAL</td><td>#002244</td><td>#b0b7bc</td><td>#acc0c6</td><td>#a5acaf</td><td>NFC East </td></tr>\n",
              "\t<tr><td>Denver Broncos      </td><td>DEN</td><td>#002244</td><td>#fb4f14</td><td>#00234c</td><td>#ff5200</td><td>AFC West </td></tr>\n",
              "\t<tr><td>Detroit Lions       </td><td>DET</td><td>#005a8b</td><td>#b0b7bc</td><td>#000000</td><td>#004e89</td><td>NFC North</td></tr>\n",
              "\t<tr><td>Green Bay Packers   </td><td>GB </td><td>#203731</td><td>#ffb612</td><td>#1c2d25</td><td>#eead1e</td><td>NFC North</td></tr>\n",
              "\t<tr><td>Houston Texans      </td><td>HOU</td><td>#03202f</td><td>#a71930</td><td>#00071c</td><td>#a30d2d</td><td>AFC South</td></tr>\n",
              "\t<tr><td>Indianapolis Colts  </td><td>IND</td><td>#002c5f</td><td>#a5acaf</td><td>#013369</td><td>#9ba1a2</td><td>AFC South</td></tr>\n",
              "\t<tr><td>Jacksonville Jaguars</td><td>JAC</td><td>#000000</td><td>#006778</td><td>#9f792c</td><td>#d7a22a</td><td>AFC South</td></tr>\n",
              "\t<tr><td>Kansas City Chiefs  </td><td>KC </td><td>#e31837</td><td>#ffb612</td><td>#000000</td><td>#e31837</td><td>AFC West </td></tr>\n",
              "\t<tr><td>Miami Dolphins      </td><td>MIA</td><td>#008e97</td><td>#f58220</td><td>#005778</td><td>#008e97</td><td>AFC East </td></tr>\n",
              "\t<tr><td>Minnesota Vikings   </td><td>MIN</td><td>#4f2683</td><td>#ffc62f</td><td>#e9bf9b</td><td>#000000</td><td>NFC North</td></tr>\n",
              "\t<tr><td>New England Patriots</td><td>NE </td><td>#002244</td><td>#c60c30</td><td>#b0b7bc</td><td>#001532</td><td>AFC East </td></tr>\n",
              "\t<tr><td>New Orleans Saints  </td><td>NO </td><td>#9f8958</td><td>#000000</td><td>#9f8958</td><td>#000000</td><td>NFC South</td></tr>\n",
              "\t<tr><td>New York Giants     </td><td>NYG</td><td>#0b2265</td><td>#a71930</td><td>#a5acaf</td><td>#012352</td><td>NFC East </td></tr>\n",
              "\t<tr><td>New York Jets       </td><td>NYJ</td><td>#203731</td><td>#1c2d25</td><td>NA     </td><td>NA     </td><td>AFC East </td></tr>\n",
              "\t<tr><td>Oakland Raiders     </td><td>OAK</td><td>#a5acaf</td><td>#000000</td><td>#a6aeb0</td><td>#000000</td><td>AFC West </td></tr>\n",
              "\t<tr><td>Philadelphia Eagles </td><td>PHI</td><td>#004953</td><td>#a5acaf</td><td>#acc0c6</td><td>#000000</td><td>NFC East </td></tr>\n",
              "\t<tr><td>Pittsburgh Steelers </td><td>PIT</td><td>#000000</td><td>#ffb612</td><td>#c60c30</td><td>#00539b</td><td>AFC North</td></tr>\n",
              "\t<tr><td>San Diego Chargers  </td><td>SD </td><td>#002244</td><td>#0073cf</td><td>#ffb612</td><td>#001532</td><td>AFC West </td></tr>\n",
              "\t<tr><td>Seattle Seahawks    </td><td>SEA</td><td>#002244</td><td>#69be28</td><td>#a5acaf</td><td>#001532</td><td>NFC West </td></tr>\n",
              "\t<tr><td>San Francisco 49ers </td><td>SF </td><td>#aa0000</td><td>#b3995d</td><td>#000000</td><td>#a5acaf</td><td>NFC West </td></tr>\n",
              "\t<tr><td>St.Louis Rams       </td><td>STL</td><td>#002244</td><td>#b3995d</td><td>#001532</td><td>#af925d</td><td>NFC West </td></tr>\n",
              "\t<tr><td>Tampa Bay Buccaneers</td><td>TB </td><td>#d50a0a</td><td>#34302b</td><td>#000000</td><td>#ff7900</td><td>NFC South</td></tr>\n",
              "\t<tr><td>Tennessee Titans    </td><td>TEN</td><td>#002244</td><td>#4b92db</td><td>#c60c30</td><td>#a5acaf</td><td>AFC South</td></tr>\n",
              "\t<tr><td>Washington Redskins </td><td>WAS</td><td>#773141</td><td>#ffb612</td><td>#000000</td><td>#5b2b2f</td><td>NFC East </td></tr>\n",
              "\t<tr><td>Jacksonville Jaguars</td><td>JAX</td><td>#000000</td><td>#006778</td><td>#9f792c</td><td>#d7a22a</td><td>AFC South</td></tr>\n",
              "\t<tr><td>Los Angeles Chargers</td><td>LAC</td><td>#002244</td><td>#0073cf</td><td>#ffb612</td><td>#001532</td><td>AFC West </td></tr>\n",
              "\t<tr><td>Los Angeles Rams    </td><td>LA </td><td>#002244</td><td>#b3995d</td><td>#001532</td><td>#af925d</td><td>NFC West </td></tr>\n",
              "</tbody>\n",
              "</table>\n"
            ]
          },
          "metadata": {
            "tags": []
          }
        }
      ]
    },
    {
      "cell_type": "code",
      "metadata": {
        "id": "n_vmpOY6J1gy",
        "colab_type": "code",
        "colab": {
          "base_uri": "https://localhost:8080/",
          "height": 1000
        },
        "outputId": "a6f3446b-590b-4cb3-9cac-b5c3a4fb3347"
      },
      "source": [
        "playerstats15 %>%\n",
        "glimpse()"
      ],
      "execution_count": 23,
      "outputs": [
        {
          "output_type": "stream",
          "text": [
            "Rows: 13,667\n",
            "Columns: 57\n",
            "$ Season        \u001b[3m\u001b[90m<dbl>\u001b[39m\u001b[23m 2015, 2015, 2015, 2015, 2015, 2015, 2015, 2015, 2015, 2…\n",
            "$ game.id       \u001b[3m\u001b[90m<chr>\u001b[39m\u001b[23m \"2015091000\", \"2015091000\", \"2015091000\", \"2015091000\",…\n",
            "$ date          \u001b[3m\u001b[90m<date>\u001b[39m\u001b[23m 2015-09-10, 2015-09-10, 2015-09-10, 2015-09-10, 2015-0…\n",
            "$ Team          \u001b[3m\u001b[90m<chr>\u001b[39m\u001b[23m \"NE\", \"NE\", \"NE\", \"NE\", \"NE\", \"NE\", \"NE\", \"NE\", \"NE\", \"…\n",
            "$ playerID      \u001b[3m\u001b[90m<chr>\u001b[39m\u001b[23m \"00-0028087\", \"00-0027656\", \"00-0026035\", \"00-0027150\",…\n",
            "$ name          \u001b[3m\u001b[90m<chr>\u001b[39m\u001b[23m \"D.Lewis\", \"R.Gronkowski\", \"D.Amendola\", \"J.Edelman\", \"…\n",
            "$ pass.att      \u001b[3m\u001b[90m<dbl>\u001b[39m\u001b[23m 0, 0, 0, 0, 0, 32, 0, 0, 0, 0, 0, 0, 0, 0, 0, 0, 0, 0, …\n",
            "$ pass.comp     \u001b[3m\u001b[90m<dbl>\u001b[39m\u001b[23m 0, 0, 0, 0, 0, 25, 0, 0, 0, 0, 0, 0, 0, 0, 0, 0, 0, 0, …\n",
            "$ passyds       \u001b[3m\u001b[90m<dbl>\u001b[39m\u001b[23m 0, 0, 0, 0, 0, 288, 0, 0, 0, 0, 0, 0, 0, 0, 0, 0, 0, 0,…\n",
            "$ pass.tds      \u001b[3m\u001b[90m<dbl>\u001b[39m\u001b[23m 0, 0, 0, 0, 0, 4, 0, 0, 0, 0, 0, 0, 0, 0, 0, 0, 0, 0, 0…\n",
            "$ pass.ints     \u001b[3m\u001b[90m<dbl>\u001b[39m\u001b[23m 0, 0, 0, 0, 0, 0, 0, 0, 0, 0, 0, 0, 0, 0, 0, 0, 0, 0, 0…\n",
            "$ pass.twopta   \u001b[3m\u001b[90m<dbl>\u001b[39m\u001b[23m 0, 0, 0, 0, 0, 0, 0, 0, 0, 0, 0, 0, 0, 0, 0, 0, 0, 0, 0…\n",
            "$ pass.twoptm   \u001b[3m\u001b[90m<dbl>\u001b[39m\u001b[23m 0, 0, 0, 0, 0, 0, 0, 0, 0, 0, 0, 0, 0, 0, 0, 0, 0, 0, 0…\n",
            "$ rush.att      \u001b[3m\u001b[90m<dbl>\u001b[39m\u001b[23m 15, 0, 0, 1, 5, 3, 0, 0, 0, 0, 0, 0, 0, 0, 0, 0, 0, 0, …\n",
            "$ rushyds       \u001b[3m\u001b[90m<dbl>\u001b[39m\u001b[23m 69, 0, 0, 9, 1, 1, 0, 0, 0, 0, 0, 0, 0, 0, 0, 0, 0, 0, …\n",
            "$ rushtds       \u001b[3m\u001b[90m<dbl>\u001b[39m\u001b[23m 0, 0, 0, 0, 0, 0, 0, 0, 0, 0, 0, 0, 0, 0, 0, 0, 0, 0, 0…\n",
            "$ rushlng       \u001b[3m\u001b[90m<dbl>\u001b[39m\u001b[23m 13, 0, 0, 9, 3, 2, 0, 0, 0, 0, 0, 0, 0, 0, 0, 0, 0, 0, …\n",
            "$ rushlngtd     \u001b[3m\u001b[90m<dbl>\u001b[39m\u001b[23m 0, 0, 0, 0, 0, 0, 0, 0, 0, 0, 0, 0, 0, 0, 0, 0, 0, 0, 0…\n",
            "$ rush.twopta   \u001b[3m\u001b[90m<dbl>\u001b[39m\u001b[23m 0, 0, 0, 0, 0, 0, 0, 0, 0, 0, 0, 0, 0, 0, 0, 0, 0, 0, 0…\n",
            "$ rush.twoptm   \u001b[3m\u001b[90m<dbl>\u001b[39m\u001b[23m 0, 0, 0, 0, 0, 0, 0, 0, 0, 0, 0, 0, 0, 0, 0, 0, 0, 0, 0…\n",
            "$ recept        \u001b[3m\u001b[90m<dbl>\u001b[39m\u001b[23m 4, 5, 2, 11, 1, 0, 0, 1, 1, 0, 0, 0, 0, 0, 0, 0, 0, 0, …\n",
            "$ recyds        \u001b[3m\u001b[90m<dbl>\u001b[39m\u001b[23m 51, 94, 24, 97, 12, 0, 0, 1, 9, 0, 0, 0, 0, 0, 0, 0, 0,…\n",
            "$ rec.tds       \u001b[3m\u001b[90m<dbl>\u001b[39m\u001b[23m 0, 3, 0, 0, 0, 0, 0, 1, 0, 0, 0, 0, 0, 0, 0, 0, 0, 0, 0…\n",
            "$ reclng        \u001b[3m\u001b[90m<dbl>\u001b[39m\u001b[23m 19, 52, 18, 14, 12, 0, 0, 1, 9, 0, 0, 0, 0, 0, 0, 0, 0,…\n",
            "$ reclngtd      \u001b[3m\u001b[90m<dbl>\u001b[39m\u001b[23m 0, 16, 0, 0, 0, 0, 0, 1, 0, 0, 0, 0, 0, 0, 0, 0, 0, 0, …\n",
            "$ rec.twopta    \u001b[3m\u001b[90m<dbl>\u001b[39m\u001b[23m 0, 0, 0, 0, 0, 0, 0, 0, 0, 0, 0, 0, 0, 0, 0, 0, 0, 0, 0…\n",
            "$ rec.twoptm    \u001b[3m\u001b[90m<dbl>\u001b[39m\u001b[23m 0, 0, 0, 0, 0, 0, 0, 0, 0, 0, 0, 0, 0, 0, 0, 0, 0, 0, 0…\n",
            "$ kick.rets     \u001b[3m\u001b[90m<dbl>\u001b[39m\u001b[23m 0, 0, 0, 0, 0, 0, 0, 0, 0, 0, 1, 0, 0, 0, 0, 0, 0, 0, 0…\n",
            "$ kickret.avg   \u001b[3m\u001b[90m<dbl>\u001b[39m\u001b[23m 0, 0, 0, 0, 0, 0, 0, 0, 0, 0, 8, 0, 0, 0, 0, 0, 0, 0, 0…\n",
            "$ kickret.tds   \u001b[3m\u001b[90m<dbl>\u001b[39m\u001b[23m 0, 0, 0, 0, 0, 0, 0, 0, 0, 0, 0, 0, 0, 0, 0, 0, 0, 0, 0…\n",
            "$ kick.ret.lng  \u001b[3m\u001b[90m<dbl>\u001b[39m\u001b[23m 0, 0, 0, 0, 0, 0, 0, 0, 0, 0, 8, 0, 0, 0, 0, 0, 0, 0, 0…\n",
            "$ kickret.lngtd \u001b[3m\u001b[90m<dbl>\u001b[39m\u001b[23m 0, 0, 0, 0, 0, 0, 0, 0, 0, 0, 0, 0, 0, 0, 0, 0, 0, 0, 0…\n",
            "$ punt.rets     \u001b[3m\u001b[90m<dbl>\u001b[39m\u001b[23m 0, 0, 1, 0, 0, 0, 0, 0, 0, 0, 0, 0, 0, 0, 0, 0, 0, 0, 0…\n",
            "$ puntret.avg   \u001b[3m\u001b[90m<dbl>\u001b[39m\u001b[23m 0, 0, 1, 0, 0, 0, 0, 0, 0, 0, 0, 0, 0, 0, 0, 0, 0, 0, 0…\n",
            "$ puntret.tds   \u001b[3m\u001b[90m<dbl>\u001b[39m\u001b[23m 0, 0, 0, 0, 0, 0, 0, 0, 0, 0, 0, 0, 0, 0, 0, 0, 0, 0, 0…\n",
            "$ puntret.lng   \u001b[3m\u001b[90m<dbl>\u001b[39m\u001b[23m 0, 0, 1, 0, 0, 0, 0, 0, 0, 0, 0, 0, 0, 0, 0, 0, 0, 0, 0…\n",
            "$ puntret.lngtd \u001b[3m\u001b[90m<dbl>\u001b[39m\u001b[23m 0, 0, 0, 0, 0, 0, 0, 0, 0, 0, 0, 0, 0, 0, 0, 0, 0, 0, 0…\n",
            "$ fgm           \u001b[3m\u001b[90m<dbl>\u001b[39m\u001b[23m 0, 0, 0, 0, 0, 0, 0, 0, 0, 0, 0, 0, 0, 0, 0, 0, 0, 0, 0…\n",
            "$ fga           \u001b[3m\u001b[90m<dbl>\u001b[39m\u001b[23m 0, 0, 0, 0, 0, 0, 0, 0, 0, 0, 0, 0, 0, 0, 0, 0, 0, 0, 0…\n",
            "$ fgyds         \u001b[3m\u001b[90m<dbl>\u001b[39m\u001b[23m 0, 0, 0, 0, 0, 0, 0, 0, 0, 0, 0, 0, 0, 0, 0, 0, 0, 0, 0…\n",
            "$ totpts.fg     \u001b[3m\u001b[90m<dbl>\u001b[39m\u001b[23m 0, 0, 0, 0, 0, 0, 0, 0, 0, 0, 0, 0, 0, 0, 0, 0, 0, 0, 0…\n",
            "$ xpmade        \u001b[3m\u001b[90m<dbl>\u001b[39m\u001b[23m 0, 0, 0, 0, 0, 0, 0, 0, 0, 0, 0, 4, 0, 0, 0, 0, 0, 0, 0…\n",
            "$ xpmissed      \u001b[3m\u001b[90m<dbl>\u001b[39m\u001b[23m 0, 0, 0, 0, 0, 0, 0, 0, 0, 0, 0, 0, 0, 0, 0, 0, 0, 0, 0…\n",
            "$ xpa           \u001b[3m\u001b[90m<dbl>\u001b[39m\u001b[23m 0, 0, 0, 0, 0, 0, 0, 0, 0, 0, 0, 4, 0, 0, 0, 0, 0, 0, 0…\n",
            "$ xpb           \u001b[3m\u001b[90m<dbl>\u001b[39m\u001b[23m 0, 0, 0, 0, 0, 0, 0, 0, 0, 0, 0, 0, 0, 0, 0, 0, 0, 0, 0…\n",
            "$ xppts.tot     \u001b[3m\u001b[90m<dbl>\u001b[39m\u001b[23m 0, 0, 0, 0, 0, 0, 0, 0, 0, 0, 0, 4, 0, 0, 0, 0, 0, 0, 0…\n",
            "$ tackles       \u001b[3m\u001b[90m<dbl>\u001b[39m\u001b[23m 0, 0, 0, 0, 0, 0, 3, 0, 0, 2, 0, 0, 6, 4, 3, 3, 2, 3, 2…\n",
            "$ asst.tackles  \u001b[3m\u001b[90m<dbl>\u001b[39m\u001b[23m 0, 0, 0, 0, 0, 0, 2, 0, 0, 1, 0, 0, 2, 2, 3, 2, 3, 1, 2…\n",
            "$ sacks         \u001b[3m\u001b[90m<dbl>\u001b[39m\u001b[23m 0, 0, 0, 0, 0, 0, 0, 0, 0, 1, 0, 0, 1, 0, 0, 0, 0, 0, 0…\n",
            "$ defints       \u001b[3m\u001b[90m<dbl>\u001b[39m\u001b[23m 0, 0, 0, 0, 0, 0, 0, 0, 0, 0, 0, 0, 0, 0, 0, 0, 0, 0, 0…\n",
            "$ forced.fumbs  \u001b[3m\u001b[90m<dbl>\u001b[39m\u001b[23m 0, 0, 0, 0, 0, 0, 0, 0, 0, 0, 0, 0, 0, 0, 0, 0, 0, 0, 0…\n",
            "$ totalfumbs    \u001b[3m\u001b[90m<dbl>\u001b[39m\u001b[23m 1, 0, 0, 0, 0, 0, 0, 0, 0, 0, 0, 0, 0, 0, 0, 0, 0, 0, 0…\n",
            "$ recfumbs      \u001b[3m\u001b[90m<dbl>\u001b[39m\u001b[23m 0, 1, 0, 0, 0, 0, 0, 0, 0, 0, 0, 0, 0, 0, 0, 0, 0, 0, 0…\n",
            "$ totalrecfumbs \u001b[3m\u001b[90m<dbl>\u001b[39m\u001b[23m 0, 1, 0, 0, 0, 0, 0, 0, 0, 0, 0, 0, 0, 0, 0, 0, 0, 0, 0…\n",
            "$ fumbyds       \u001b[3m\u001b[90m<dbl>\u001b[39m\u001b[23m 0, 0, 0, 0, 0, 0, 0, 0, 0, 0, 0, 0, 0, 0, 0, 0, 0, 0, 0…\n",
            "$ fumbslost     \u001b[3m\u001b[90m<dbl>\u001b[39m\u001b[23m 0, 0, 0, 0, 0, 0, 0, 0, 0, 0, 0, 0, 0, 0, 0, 0, 0, 0, 0…\n",
            "$ games         \u001b[3m\u001b[90m<dbl>\u001b[39m\u001b[23m 1, 1, 1, 1, 1, 1, 1, 1, 1, 1, 1, 1, 1, 1, 1, 1, 1, 1, 1…\n"
          ],
          "name": "stdout"
        }
      ]
    },
    {
      "cell_type": "code",
      "metadata": {
        "id": "1QWsF3TbKNYu",
        "colab_type": "code",
        "colab": {
          "base_uri": "https://localhost:8080/",
          "height": 364
        },
        "outputId": "a0a2fce2-17db-431b-f36f-3d5ff1fbe7b2"
      },
      "source": [
        "season_player_game(2018, Weeks= 3)"
      ],
      "execution_count": 29,
      "outputs": [
        {
          "output_type": "error",
          "ename": "ERROR",
          "evalue": "ignored",
          "traceback": [
            "Error in strsplit(headers, \"\\r\\n\"): non-character argument\nTraceback:\n",
            "1. season_player_game(2018, Weeks = 3)",
            "2. extracting_gameids(Season)",
            "3. sapply(url.schedule.weeks, FUN = function(x) {\n .     sourceHTML <- scrapeR::scrape(url = x, headers = TRUE, parse = FALSE)\n .     extract.game.id <- stringr::str_extract_all(unlist(sourceHTML), \n .         pattern = \"data-gameid=\\\"[0-9]{10}\\\"\")\n .     game.ids <- stringr::str_extract_all(unlist(extract.game.id), \n .         pattern = \"[0-9]{10}\")\n . })",
            "4. lapply(X = X, FUN = FUN, ...)",
            "5. FUN(X[[i]], ...)",
            "6. scrapeR::scrape(url = x, headers = TRUE, parse = FALSE)",
            "7. headerParse(sourceCode)",
            "8. strsplit(headers, \"\\r\\n\")"
          ]
        }
      ]
    }
  ]
}