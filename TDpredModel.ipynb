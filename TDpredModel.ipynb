{
  "nbformat": 4,
  "nbformat_minor": 0,
  "metadata": {
    "colab": {
      "name": "TDpredModel.ipynb",
      "provenance": [],
      "authorship_tag": "ABX9TyO1SG5F/sZMvKCGJOgtBXC6",
      "include_colab_link": true
    },
    "kernelspec": {
      "name": "ir",
      "display_name": "R"
    }
  },
  "cells": [
    {
      "cell_type": "markdown",
      "metadata": {
        "id": "view-in-github",
        "colab_type": "text"
      },
      "source": [
        "<a href=\"https://colab.research.google.com/github/michiWS1920/nfl_data/blob/michi/TDpredModel.ipynb\" target=\"_parent\"><img src=\"https://colab.research.google.com/assets/colab-badge.svg\" alt=\"Open In Colab\"/></a>"
      ]
    },
    {
      "cell_type": "code",
      "metadata": {
        "id": "D-5T3528yj4x",
        "colab_type": "code",
        "colab": {
          "base_uri": "https://localhost:8080/",
          "height": 248
        },
        "outputId": "e2959d8d-be5c-4f5d-d4ad-c059f3fc6fcc"
      },
      "source": [
        "library(tidyverse)\n",
        "library(ggplot2)"
      ],
      "execution_count": 3,
      "outputs": [
        {
          "output_type": "stream",
          "text": [
            "── \u001b[1mAttaching packages\u001b[22m ─────────────────────────────────────── tidyverse 1.3.0 ──\n",
            "\n",
            "\u001b[32m✔\u001b[39m \u001b[34mreadr  \u001b[39m 1.3.1     \u001b[32m✔\u001b[39m \u001b[34mforcats\u001b[39m 0.5.0\n",
            "\u001b[32m✔\u001b[39m \u001b[34mstringr\u001b[39m 1.4.0     \n",
            "\n",
            "── \u001b[1mConflicts\u001b[22m ────────────────────────────────────────── tidyverse_conflicts() ──\n",
            "\u001b[31m✖\u001b[39m \u001b[34mreadr\u001b[39m::\u001b[32mcol_factor()\u001b[39m masks \u001b[34mscales\u001b[39m::col_factor()\n",
            "\u001b[31m✖\u001b[39m \u001b[34mpurrr\u001b[39m::\u001b[32mdiscard()\u001b[39m    masks \u001b[34mscales\u001b[39m::discard()\n",
            "\u001b[31m✖\u001b[39m \u001b[34mdplyr\u001b[39m::\u001b[32mfilter()\u001b[39m     masks \u001b[34mstats\u001b[39m::filter()\n",
            "\u001b[31m✖\u001b[39m \u001b[34mstringr\u001b[39m::\u001b[32mfixed()\u001b[39m    masks \u001b[34mrecipes\u001b[39m::fixed()\n",
            "\u001b[31m✖\u001b[39m \u001b[34mdplyr\u001b[39m::\u001b[32mlag()\u001b[39m        masks \u001b[34mstats\u001b[39m::lag()\n",
            "\u001b[31m✖\u001b[39m \u001b[34mreadr\u001b[39m::\u001b[32mspec()\u001b[39m       masks \u001b[34myardstick\u001b[39m::spec()\n",
            "\n"
          ],
          "name": "stderr"
        }
      ]
    },
    {
      "cell_type": "code",
      "metadata": {
        "id": "GdWe-z34yq5q",
        "colab_type": "code",
        "colab": {
          "base_uri": "https://localhost:8080/",
          "height": 144
        },
        "outputId": "45b16691-e861-4a28-e6d2-ff94601621e0"
      },
      "source": [
        "install.packages(c(\"tidymodels\", \"workflows\", \"tune\", \"ranger\", \"glmnet\"))"
      ],
      "execution_count": 1,
      "outputs": [
        {
          "output_type": "stream",
          "text": [
            "Installing packages into ‘/usr/local/lib/R/site-library’\n",
            "(as ‘lib’ is unspecified)\n",
            "\n",
            "also installing the dependencies ‘numDeriv’, ‘SQUAREM’, ‘lava’, ‘listenv’, ‘prodlim’, ‘future’, ‘plyr’, ‘DiceDesign’, ‘globals’, ‘gower’, ‘ipred’, ‘timeDate’, ‘furrr’, ‘pROC’, ‘lhs’, ‘iterators’, ‘dials’, ‘infer’, ‘modeldata’, ‘parsnip’, ‘recipes’, ‘rsample’, ‘yardstick’, ‘hardhat’, ‘GPfit’, ‘foreach’, ‘RcppEigen’, ‘shape’\n",
            "\n",
            "\n"
          ],
          "name": "stderr"
        }
      ]
    },
    {
      "cell_type": "code",
      "metadata": {
        "id": "xQKnAPOkzCE8",
        "colab_type": "code",
        "colab": {
          "base_uri": "https://localhost:8080/",
          "height": 319
        },
        "outputId": "a1b73ff5-70e8-440f-a5f6-f20803621fbe"
      },
      "source": [
        "library(tidymodels)\n",
        "library(workflows)\n",
        "library(tune)"
      ],
      "execution_count": 2,
      "outputs": [
        {
          "output_type": "stream",
          "text": [
            "── \u001b[1mAttaching packages\u001b[22m ────────────────────────────────────── tidymodels 0.1.1 ──\n",
            "\n",
            "\u001b[32m✔\u001b[39m \u001b[34mbroom    \u001b[39m 0.7.0      \u001b[32m✔\u001b[39m \u001b[34mrecipes  \u001b[39m 0.1.13\n",
            "\u001b[32m✔\u001b[39m \u001b[34mdials    \u001b[39m 0.0.8      \u001b[32m✔\u001b[39m \u001b[34mrsample  \u001b[39m 0.0.7 \n",
            "\u001b[32m✔\u001b[39m \u001b[34mdplyr    \u001b[39m 1.0.2      \u001b[32m✔\u001b[39m \u001b[34mtibble   \u001b[39m 3.0.3 \n",
            "\u001b[32m✔\u001b[39m \u001b[34mggplot2  \u001b[39m 3.3.2      \u001b[32m✔\u001b[39m \u001b[34mtidyr    \u001b[39m 1.1.1 \n",
            "\u001b[32m✔\u001b[39m \u001b[34minfer    \u001b[39m 0.5.3      \u001b[32m✔\u001b[39m \u001b[34mtune     \u001b[39m 0.1.1 \n",
            "\u001b[32m✔\u001b[39m \u001b[34mmodeldata\u001b[39m 0.0.2      \u001b[32m✔\u001b[39m \u001b[34mworkflows\u001b[39m 0.1.3 \n",
            "\u001b[32m✔\u001b[39m \u001b[34mparsnip  \u001b[39m 0.1.3      \u001b[32m✔\u001b[39m \u001b[34myardstick\u001b[39m 0.0.7 \n",
            "\u001b[32m✔\u001b[39m \u001b[34mpurrr    \u001b[39m 0.3.4      \n",
            "\n",
            "── \u001b[1mConflicts\u001b[22m ───────────────────────────────────────── tidymodels_conflicts() ──\n",
            "\u001b[31m✖\u001b[39m \u001b[34mpurrr\u001b[39m::\u001b[32mdiscard()\u001b[39m masks \u001b[34mscales\u001b[39m::discard()\n",
            "\u001b[31m✖\u001b[39m \u001b[34mdplyr\u001b[39m::\u001b[32mfilter()\u001b[39m  masks \u001b[34mstats\u001b[39m::filter()\n",
            "\u001b[31m✖\u001b[39m \u001b[34mdplyr\u001b[39m::\u001b[32mlag()\u001b[39m     masks \u001b[34mstats\u001b[39m::lag()\n",
            "\u001b[31m✖\u001b[39m \u001b[34mrecipes\u001b[39m::\u001b[32mstep()\u001b[39m  masks \u001b[34mstats\u001b[39m::step()\n",
            "\n"
          ],
          "name": "stderr"
        }
      ]
    },
    {
      "cell_type": "code",
      "metadata": {
        "id": "sZPLRy3L07IH",
        "colab_type": "code",
        "colab": {}
      },
      "source": [
        "pbp_all <- readRDS(\"NFLdata.rds\")"
      ],
      "execution_count": 5,
      "outputs": []
    },
    {
      "cell_type": "code",
      "metadata": {
        "id": "7jUhzt251B7M",
        "colab_type": "code",
        "colab": {}
      },
      "source": [
        "pbp_all_rp <- pbp_all %>%\n",
        "      filter(!is.na(epa), !is.na(posteam), play_type==\"no_play\" | play_type==\"pass\" | play_type==\"run\") %>% #filter out certain NA values, only show three play_types\n",
        "\tmutate( #create new columns that indicates if the play was a pass or rush - this is done by parsing the description of the play (certain keywords are perfect indicators)\n",
        "\tpass = if_else(str_detect(desc, \"( pass)|(sacked)|(scramble)\"), 1, 0), #\n",
        "\trush = if_else(str_detect(desc, \"(left end)|(left tackle)|(left guard)|(up the middle)|(right guard)|(right tackle)|(right end)\") & pass == 0, 1, 0),\n",
        "\tsuccess = ifelse(epa>0, 1 , 0),\n",
        "\tpasser_player_name = ifelse(play_type == \"no_play\" & pass == 1, #create new column that parses the player_name depending on the type of play (pass / receiver / rusher)\n",
        "              str_extract(desc, \"(?<=\\\\s)[A-Z][a-z]*\\\\.\\\\s?[A-Z][A-z]+(\\\\s(I{2,3})|(IV))?(?=\\\\s((pass)|(sack)|(scramble)))\"),\n",
        "              passer_player_name),\n",
        "        receiver_player_name = ifelse(play_type == \"no_play\" & str_detect(desc, \"pass\"), \n",
        "              str_extract(desc, \"(?<=to\\\\s)[A-Z][a-z]*\\\\.\\\\s?[A-Z][A-z]+(\\\\s(I{2,3})|(IV))?\"),\n",
        "              receiver_player_name),\n",
        "        rusher_player_name = ifelse(play_type == \"no_play\" & rush == 1, \n",
        "              str_extract(desc, \"(?<=\\\\s)[A-Z][a-z]*\\\\.\\\\s?[A-Z][A-z]+(\\\\s(I{2,3})|(IV))?(?=\\\\s((left end)|(left tackle)|(left guard)|\t\t      (up the middle)|(right guard)|(right tackle)|(right end)))\"),\n",
        "              rusher_player_name),\n",
        "\tname = ifelse(!is.na(passer_player_name), passer_player_name, rusher_player_name),\n",
        "\tyards_gained=ifelse(play_type==\"no_play\",NA,yards_gained), # filter out NA for yards_gained\n",
        "\tplay=1\n",
        "\t) "
      ],
      "execution_count": 6,
      "outputs": []
    },
    {
      "cell_type": "code",
      "metadata": {
        "id": "jCU6hItc25Zi",
        "colab_type": "code",
        "colab": {}
      },
      "source": [
        "pbp_all_rp %>%\n",
        "filter(season == 2019 | season == 2018, play_type == \"run\" | play_type == \"pass\") -> pbp_season\n",
        "glimpse(pbp_season)"
      ],
      "execution_count": null,
      "outputs": []
    },
    {
      "cell_type": "code",
      "metadata": {
        "id": "UKk2_EQy9GvN",
        "colab_type": "code",
        "colab": {}
      },
      "source": [
        "pbp_season$touchdown <- as.factor(pbp_season$touchdown)"
      ],
      "execution_count": 8,
      "outputs": []
    },
    {
      "cell_type": "code",
      "metadata": {
        "id": "j6q0HWks2kwZ",
        "colab_type": "code",
        "colab": {
          "base_uri": "https://localhost:8080/",
          "height": 52
        },
        "outputId": "1097aea1-3076-4ce0-93f4-01beb1ed3af7"
      },
      "source": [
        "set.seed(42)\n",
        "\n",
        "nfl_split <- initial_split(pbp_season, prop = 3/4)\n",
        "\n",
        "nfl_split"
      ],
      "execution_count": 9,
      "outputs": [
        {
          "output_type": "display_data",
          "data": {
            "text/plain": [
              "<Analysis/Assess/Total>\n",
              "<47810/15936/63746>"
            ]
          },
          "metadata": {
            "tags": []
          }
        }
      ]
    },
    {
      "cell_type": "code",
      "metadata": {
        "id": "bLCMpUHg3IrI",
        "colab_type": "code",
        "colab": {}
      },
      "source": [
        "nfl_training = training(nfl_split)\n",
        "nfl_test = training(nfl_split)"
      ],
      "execution_count": 10,
      "outputs": []
    },
    {
      "cell_type": "code",
      "metadata": {
        "id": "dtvtHXvY3Psa",
        "colab_type": "code",
        "colab": {}
      },
      "source": [
        "nfl_cv = vfold_cv(nfl_training)"
      ],
      "execution_count": 11,
      "outputs": []
    },
    {
      "cell_type": "code",
      "metadata": {
        "id": "hi-55L_A3YP6",
        "colab_type": "code",
        "colab": {}
      },
      "source": [
        "recipe(touchdown ~ posteam + defteam + ydstogo + qtr + down + \n",
        "        yardline_100 + play_type + game_seconds_remaining + game_half +\n",
        "         posteam_score + defteam_score + score_differential + wp + def_wp +\n",
        "         week + total_home_rush_epa+ total_away_rush_epa + total_home_pass_epa+ \n",
        "         total_away_pass_epa + air_yards, data =pbp_season) -> nfl_recipe"
      ],
      "execution_count": 12,
      "outputs": []
    },
    {
      "cell_type": "code",
      "metadata": {
        "id": "KBXH5woA460y",
        "colab_type": "code",
        "colab": {
          "base_uri": "https://localhost:8080/",
          "height": 506
        },
        "outputId": "30d70521-b827-4fed-e6f3-529cb690ffa2"
      },
      "source": [
        "summary(nfl_recipe)"
      ],
      "execution_count": 13,
      "outputs": [
        {
          "output_type": "display_data",
          "data": {
            "text/plain": [
              "   variable               type    role      source  \n",
              "1  posteam                nominal predictor original\n",
              "2  defteam                nominal predictor original\n",
              "3  ydstogo                numeric predictor original\n",
              "4  qtr                    numeric predictor original\n",
              "5  down                   numeric predictor original\n",
              "6  yardline_100           numeric predictor original\n",
              "7  play_type              nominal predictor original\n",
              "8  game_seconds_remaining numeric predictor original\n",
              "9  game_half              nominal predictor original\n",
              "10 posteam_score          numeric predictor original\n",
              "11 defteam_score          numeric predictor original\n",
              "12 score_differential     numeric predictor original\n",
              "13 wp                     numeric predictor original\n",
              "14 def_wp                 numeric predictor original\n",
              "15 week                   numeric predictor original\n",
              "16 total_home_rush_epa    numeric predictor original\n",
              "17 total_away_rush_epa    numeric predictor original\n",
              "18 total_home_pass_epa    numeric predictor original\n",
              "19 total_away_pass_epa    numeric predictor original\n",
              "20 air_yards              numeric predictor original\n",
              "21 touchdown              nominal outcome   original"
            ],
            "text/latex": "A tibble: 21 × 4\n\\begin{tabular}{llll}\n variable & type & role & source\\\\\n <chr> & <chr> & <chr> & <chr>\\\\\n\\hline\n\t posteam                & nominal & predictor & original\\\\\n\t defteam                & nominal & predictor & original\\\\\n\t ydstogo                & numeric & predictor & original\\\\\n\t qtr                    & numeric & predictor & original\\\\\n\t down                   & numeric & predictor & original\\\\\n\t yardline\\_100           & numeric & predictor & original\\\\\n\t play\\_type              & nominal & predictor & original\\\\\n\t game\\_seconds\\_remaining & numeric & predictor & original\\\\\n\t game\\_half              & nominal & predictor & original\\\\\n\t posteam\\_score          & numeric & predictor & original\\\\\n\t defteam\\_score          & numeric & predictor & original\\\\\n\t score\\_differential     & numeric & predictor & original\\\\\n\t wp                     & numeric & predictor & original\\\\\n\t def\\_wp                 & numeric & predictor & original\\\\\n\t week                   & numeric & predictor & original\\\\\n\t total\\_home\\_rush\\_epa    & numeric & predictor & original\\\\\n\t total\\_away\\_rush\\_epa    & numeric & predictor & original\\\\\n\t total\\_home\\_pass\\_epa    & numeric & predictor & original\\\\\n\t total\\_away\\_pass\\_epa    & numeric & predictor & original\\\\\n\t air\\_yards              & numeric & predictor & original\\\\\n\t touchdown              & nominal & outcome   & original\\\\\n\\end{tabular}\n",
            "text/markdown": "\nA tibble: 21 × 4\n\n| variable &lt;chr&gt; | type &lt;chr&gt; | role &lt;chr&gt; | source &lt;chr&gt; |\n|---|---|---|---|\n| posteam                | nominal | predictor | original |\n| defteam                | nominal | predictor | original |\n| ydstogo                | numeric | predictor | original |\n| qtr                    | numeric | predictor | original |\n| down                   | numeric | predictor | original |\n| yardline_100           | numeric | predictor | original |\n| play_type              | nominal | predictor | original |\n| game_seconds_remaining | numeric | predictor | original |\n| game_half              | nominal | predictor | original |\n| posteam_score          | numeric | predictor | original |\n| defteam_score          | numeric | predictor | original |\n| score_differential     | numeric | predictor | original |\n| wp                     | numeric | predictor | original |\n| def_wp                 | numeric | predictor | original |\n| week                   | numeric | predictor | original |\n| total_home_rush_epa    | numeric | predictor | original |\n| total_away_rush_epa    | numeric | predictor | original |\n| total_home_pass_epa    | numeric | predictor | original |\n| total_away_pass_epa    | numeric | predictor | original |\n| air_yards              | numeric | predictor | original |\n| touchdown              | nominal | outcome   | original |\n\n",
            "text/html": [
              "<table>\n",
              "<caption>A tibble: 21 × 4</caption>\n",
              "<thead>\n",
              "\t<tr><th scope=col>variable</th><th scope=col>type</th><th scope=col>role</th><th scope=col>source</th></tr>\n",
              "\t<tr><th scope=col>&lt;chr&gt;</th><th scope=col>&lt;chr&gt;</th><th scope=col>&lt;chr&gt;</th><th scope=col>&lt;chr&gt;</th></tr>\n",
              "</thead>\n",
              "<tbody>\n",
              "\t<tr><td>posteam               </td><td>nominal</td><td>predictor</td><td>original</td></tr>\n",
              "\t<tr><td>defteam               </td><td>nominal</td><td>predictor</td><td>original</td></tr>\n",
              "\t<tr><td>ydstogo               </td><td>numeric</td><td>predictor</td><td>original</td></tr>\n",
              "\t<tr><td>qtr                   </td><td>numeric</td><td>predictor</td><td>original</td></tr>\n",
              "\t<tr><td>down                  </td><td>numeric</td><td>predictor</td><td>original</td></tr>\n",
              "\t<tr><td>yardline_100          </td><td>numeric</td><td>predictor</td><td>original</td></tr>\n",
              "\t<tr><td>play_type             </td><td>nominal</td><td>predictor</td><td>original</td></tr>\n",
              "\t<tr><td>game_seconds_remaining</td><td>numeric</td><td>predictor</td><td>original</td></tr>\n",
              "\t<tr><td>game_half             </td><td>nominal</td><td>predictor</td><td>original</td></tr>\n",
              "\t<tr><td>posteam_score         </td><td>numeric</td><td>predictor</td><td>original</td></tr>\n",
              "\t<tr><td>defteam_score         </td><td>numeric</td><td>predictor</td><td>original</td></tr>\n",
              "\t<tr><td>score_differential    </td><td>numeric</td><td>predictor</td><td>original</td></tr>\n",
              "\t<tr><td>wp                    </td><td>numeric</td><td>predictor</td><td>original</td></tr>\n",
              "\t<tr><td>def_wp                </td><td>numeric</td><td>predictor</td><td>original</td></tr>\n",
              "\t<tr><td>week                  </td><td>numeric</td><td>predictor</td><td>original</td></tr>\n",
              "\t<tr><td>total_home_rush_epa   </td><td>numeric</td><td>predictor</td><td>original</td></tr>\n",
              "\t<tr><td>total_away_rush_epa   </td><td>numeric</td><td>predictor</td><td>original</td></tr>\n",
              "\t<tr><td>total_home_pass_epa   </td><td>numeric</td><td>predictor</td><td>original</td></tr>\n",
              "\t<tr><td>total_away_pass_epa   </td><td>numeric</td><td>predictor</td><td>original</td></tr>\n",
              "\t<tr><td>air_yards             </td><td>numeric</td><td>predictor</td><td>original</td></tr>\n",
              "\t<tr><td>touchdown             </td><td>nominal</td><td>outcome  </td><td>original</td></tr>\n",
              "</tbody>\n",
              "</table>\n"
            ]
          },
          "metadata": {
            "tags": []
          }
        }
      ]
    },
    {
      "cell_type": "code",
      "metadata": {
        "id": "WA15phse5QQQ",
        "colab_type": "code",
        "colab": {}
      },
      "source": [
        "nfl_recipe_steps <- nfl_recipe %>%\n",
        "  step_meanimpute(all_numeric())"
      ],
      "execution_count": 14,
      "outputs": []
    },
    {
      "cell_type": "code",
      "metadata": {
        "id": "-o9Ra0Hj5lZz",
        "colab_type": "code",
        "colab": {}
      },
      "source": [
        "nfl_prepped <- prep(nfl_recipe_steps, training = nfl_training)"
      ],
      "execution_count": 15,
      "outputs": []
    },
    {
      "cell_type": "code",
      "metadata": {
        "id": "i-802bGr5vQU",
        "colab_type": "code",
        "colab": {
          "base_uri": "https://localhost:8080/",
          "height": 248
        },
        "outputId": "3b826785-2459-4df2-bff1-1f94ff342dfe"
      },
      "source": [
        "nfl_prepped"
      ],
      "execution_count": 16,
      "outputs": [
        {
          "output_type": "display_data",
          "data": {
            "text/plain": [
              "Data Recipe\n",
              "\n",
              "Inputs:\n",
              "\n",
              "      role #variables\n",
              "   outcome          1\n",
              " predictor         20\n",
              "\n",
              "Training data contained 47810 data points and 21410 incomplete rows. \n",
              "\n",
              "Operations:\n",
              "\n",
              "Mean Imputation for ydstogo, qtr, down, ... [trained]"
            ]
          },
          "metadata": {
            "tags": []
          }
        }
      ]
    },
    {
      "cell_type": "code",
      "metadata": {
        "id": "2UPe03WH6ENE",
        "colab_type": "code",
        "colab": {
          "base_uri": "https://localhost:8080/",
          "height": 1000
        },
        "outputId": "e6d6c750-865b-4e70-82be-72621f7d3ee2"
      },
      "source": [
        "nfl_training_prep <- bake(nfl_prepped, nfl_training)\n",
        "nfl_training_prep"
      ],
      "execution_count": 17,
      "outputs": [
        {
          "output_type": "display_data",
          "data": {
            "text/plain": [
              "      posteam defteam ydstogo qtr down yardline_100 play_type\n",
              "1     ATL     PHI      5      1   2    70           run      \n",
              "2     ATL     PHI     10      1   1    59           run      \n",
              "3     ATL     PHI     10      1   2    39           pass     \n",
              "4     ATL     PHI      6      1   1     6           run      \n",
              "5     ATL     PHI      1      1   2     1           run      \n",
              "6     ATL     PHI      1      1   3     1           pass     \n",
              "7     ATL     PHI      1      1   4     1           run      \n",
              "8     PHI     ATL     10      1   1    98           run      \n",
              "9     PHI     ATL      8      1   2    96           pass     \n",
              "10    PHI     ATL      4      1   3    92           pass     \n",
              "11    ATL     PHI     10      1   1    44           pass     \n",
              "12    ATL     PHI     10      1   2    44           run      \n",
              "13    ATL     PHI     10      1   1    33           run      \n",
              "14    ATL     PHI     13      1   2    36           pass     \n",
              "15    ATL     PHI     10      1   1    10           pass     \n",
              "16    ATL     PHI      7      1   2     7           pass     \n",
              "17    ATL     PHI      3      1   3     3           pass     \n",
              "18    PHI     ATL      4      1   2    63           pass     \n",
              "19    PHI     ATL     10      1   1    57           pass     \n",
              "20    PHI     ATL     17      1   2    64           run      \n",
              "21    ATL     PHI     10      1   2    80           run      \n",
              "22    ATL     PHI     12      2   3    82           pass     \n",
              "23    PHI     ATL     10      2   1    60           pass     \n",
              "24    PHI     ATL      9      2   2    59           run      \n",
              "25    PHI     ATL     10      2   1    47           pass     \n",
              "26    PHI     ATL      4      2   2    41           pass     \n",
              "27    PHI     ATL     10      2   1    31           run      \n",
              "28    PHI     ATL     10      2   1    20           run      \n",
              "29    PHI     ATL     10      2   2    20           pass     \n",
              "30    PHI     ATL     18      2   3    18           pass     \n",
              "⋮     ⋮       ⋮       ⋮       ⋮   ⋮    ⋮            ⋮        \n",
              "47781 SEA     SF       8      4   2    22           pass     \n",
              "47782 SEA     SF       3      4   3    17           pass     \n",
              "47783 SEA     SF      10      4   1    11           run      \n",
              "47784 SEA     SF       8      4   2     9           pass     \n",
              "47785 SEA     SF       1      4   1     1           run      \n",
              "47786 SF      SEA     10      4   1    75           run      \n",
              "47787 SF      SEA     10      4   1    55           pass     \n",
              "47788 SF      SEA     10      4   1    39           run      \n",
              "47789 SF      SEA      4      4   2    33           run      \n",
              "47790 SF      SEA      5      4   3    34           pass     \n",
              "47791 SEA     SF      10      4   1    60           pass     \n",
              "47792 SEA     SF      10      4   2    47           run      \n",
              "47793 SEA     SF      10      4   1    34           pass     \n",
              "47794 SEA     SF      10      4   2    34           run      \n",
              "47795 SEA     SF      10      4   1    16           run      \n",
              "47796 SF      SEA     10      4   1    79           run      \n",
              "47797 SF      SEA     17      4   3    86           pass     \n",
              "47798 SEA     SF       5      4   2    68           pass     \n",
              "47799 SEA     SF      10      4   1    58           pass     \n",
              "47800 SEA     SF      10      4   2    58           pass     \n",
              "47801 SEA     SF      10      4   1    47           pass     \n",
              "47802 SEA     SF      10      4   1    23           pass     \n",
              "47803 SEA     SF      10      4   2    23           pass     \n",
              "47804 SEA     SF      10      4   1    12           pass     \n",
              "47805 SEA     SF      10      4   2    12           pass     \n",
              "47806 SEA     SF      10      4   3    12           pass     \n",
              "47807 SEA     SF      10      4   4    12           pass     \n",
              "47808 SEA     SF       5      4   2     5           pass     \n",
              "47809 SEA     SF       5      4   3     5           pass     \n",
              "47810 SEA     SF       5      4   4     5           pass     \n",
              "      game_seconds_remaining game_half posteam_score ⋯ score_differential\n",
              "1     3562                   Half1     0             ⋯  0                \n",
              "2     3526                   Half1     0             ⋯  0                \n",
              "3     3485                   Half1     0             ⋯  0                \n",
              "4     3435                   Half1     0             ⋯  0                \n",
              "5     3401                   Half1     0             ⋯  0                \n",
              "6     3359                   Half1     0             ⋯  0                \n",
              "7     3355                   Half1     0             ⋯  0                \n",
              "8     3351                   Half1     0             ⋯  0                \n",
              "9     3310                   Half1     0             ⋯  0                \n",
              "10    3264                   Half1     0             ⋯  0                \n",
              "11    3248                   Half1     0             ⋯  0                \n",
              "12    3242                   Half1     0             ⋯  0                \n",
              "13    3158                   Half1     0             ⋯  0                \n",
              "14    3121                   Half1     0             ⋯  0                \n",
              "15    3079                   Half1     0             ⋯  0                \n",
              "16    3038                   Half1     0             ⋯  0                \n",
              "17    3007                   Half1     0             ⋯  0                \n",
              "18    2926                   Half1     0             ⋯ -3                \n",
              "19    2886                   Half1     0             ⋯ -3                \n",
              "20    2844                   Half1     0             ⋯ -3                \n",
              "21    2726                   Half1     3             ⋯  3                \n",
              "22    2700                   Half1     3             ⋯  3                \n",
              "23    2652                   Half1     0             ⋯ -3                \n",
              "24    2617                   Half1     0             ⋯ -3                \n",
              "25    2534                   Half1     0             ⋯ -3                \n",
              "26    2503                   Half1     0             ⋯ -3                \n",
              "27    2479                   Half1     0             ⋯ -3                \n",
              "28    2382                   Half1     0             ⋯ -3                \n",
              "29    2347                   Half1     0             ⋯ -3                \n",
              "30    2213                   Half1     0             ⋯ -3                \n",
              "⋮     ⋮                      ⋮         ⋮             ⋱ ⋮                 \n",
              "47781 750                    Half2      7            ⋯ -12               \n",
              "47782 700                    Half2      7            ⋯ -12               \n",
              "47783 676                    Half2      7            ⋯ -12               \n",
              "47784 648                    Half2      7            ⋯ -12               \n",
              "47785 599                    Half2      7            ⋯ -12               \n",
              "47786 595                    Half2     19            ⋯   5               \n",
              "47787 517                    Half2     19            ⋯   5               \n",
              "47788 478                    Half2     19            ⋯   5               \n",
              "47789 437                    Half2     19            ⋯   5               \n",
              "47790 394                    Half2     19            ⋯   5               \n",
              "47791 351                    Half2     14            ⋯ -12               \n",
              "47792 324                    Half2     14            ⋯ -12               \n",
              "47793 302                    Half2     14            ⋯ -12               \n",
              "47794 296                    Half2     14            ⋯ -12               \n",
              "47795 257                    Half2     14            ⋯ -12               \n",
              "47796 215                    Half2     26            ⋯   5               \n",
              "47797 163                    Half2     26            ⋯   5               \n",
              "47798 121                    Half2     21            ⋯  -5               \n",
              "47799 116                    Half2     21            ⋯  -5               \n",
              "47800 112                    Half2     21            ⋯  -5               \n",
              "47801 106                    Half2     21            ⋯  -5               \n",
              "47802  97                    Half2     21            ⋯  -5               \n",
              "47803  93                    Half2     21            ⋯  -5               \n",
              "47804  55                    Half2     21            ⋯  -5               \n",
              "47805  51                    Half2     21            ⋯  -5               \n",
              "47806  46                    Half2     21            ⋯  -5               \n",
              "47807  42                    Half2     21            ⋯  -5               \n",
              "47808  22                    Half2     21            ⋯  -5               \n",
              "47809  15                    Half2     21            ⋯  -5               \n",
              "47810  12                    Half2     21            ⋯  -5               \n",
              "      wp         def_wp    week total_home_rush_epa total_away_rush_epa\n",
              "1     0.5051000  0.4949000 1    -1.3625068          1.3625068          \n",
              "2     0.5483767  0.4516233 1    -2.7063066          2.7063066          \n",
              "3     0.5768859  0.4231141 1    -2.7063066          2.7063066          \n",
              "4     0.6635976  0.3364024 1    -3.2917585          3.2917585          \n",
              "5     0.6852462  0.3147538 1    -2.8196010          2.8196010          \n",
              "6     0.6700005  0.3299995 1    -2.8196010          2.8196010          \n",
              "7     0.6001468  0.3998532 1    -0.5256825          0.5256825          \n",
              "8     0.4476975  0.5523025 1    -0.9514602          0.9514602          \n",
              "9     0.4357747  0.5642253 1    -0.9514602          0.9514602          \n",
              "10    0.4353245  0.5646755 1    -0.9514602          0.9514602          \n",
              "11    0.5941857  0.4058143 1    -0.9514602          0.9514602          \n",
              "12    0.5763052  0.4236948 1    -0.7669357          0.7669357          \n",
              "13    0.6165351  0.3834649 1    -1.3522153          1.3522153          \n",
              "14    0.5931906  0.4068094 1    -1.3522153          1.3522153          \n",
              "15    0.6714355  0.3285645 1    -1.3522153          1.3522153          \n",
              "16    0.6681793  0.3318207 1    -1.3522153          1.3522153          \n",
              "17    0.6641670  0.3358330 1    -1.3522153          1.3522153          \n",
              "18    0.4381452  0.5618548 1    -1.9263028          1.9263028          \n",
              "19    0.4561219  0.5438781 1    -1.9263028          1.9263028          \n",
              "20    0.4071077  0.5928923 1    -2.9536479          2.9536479          \n",
              "21    0.5740003  0.4259997 1    -1.7573343          1.7573343          \n",
              "22    0.5350114  0.4649886 1    -1.7573343          1.7573343          \n",
              "23    0.4342663  0.5657337 1    -1.7573343          1.7573343          \n",
              "24    0.4186067  0.5813933 1    -2.3627142          2.3627142          \n",
              "25    0.4615297  0.5384703 1    -2.3627142          2.3627142          \n",
              "26    0.4677129  0.5322871 1    -2.3627142          2.3627142          \n",
              "27    0.4883591  0.5116409 1    -2.0470606          2.0470606          \n",
              "28    0.5070075  0.4929925 1    -2.4494476          2.4494476          \n",
              "29    0.4967180  0.5032820 1    -2.4494476          2.4494476          \n",
              "30    0.4939609  0.5060391 1    -3.0459451          3.0459451          \n",
              "⋮     ⋮          ⋮         ⋮    ⋮                   ⋮                  \n",
              "47781 0.18648901 0.8135110 17   -5.411955           5.411955           \n",
              "47782 0.17649003 0.8235100 17   -5.411955           5.411955           \n",
              "47783 0.20103997 0.7989600 17   -5.732193           5.732193           \n",
              "47784 0.18952355 0.8104764 17   -5.732193           5.732193           \n",
              "47785 0.25869735 0.7413027 17   -5.201342           5.201342           \n",
              "47786 0.72188920 0.2781108 17   -5.656899           5.656899           \n",
              "47787 0.78875123 0.2112488 17   -6.701155           6.701155           \n",
              "47788 0.82567471 0.1743253 17   -6.784784           6.784784           \n",
              "47789 0.83550129 0.1644987 17   -5.933237           5.933237           \n",
              "47790 0.81790115 0.1820988 17   -5.933237           5.933237           \n",
              "47791 0.09583381 0.9041662 17   -8.564021           8.564021           \n",
              "47792 0.09691607 0.9030839 17   -7.386093           7.386093           \n",
              "47793 0.11787089 0.8821291 17   -7.386093           7.386093           \n",
              "47794 0.10567539 0.8943246 17   -7.758700           7.758700           \n",
              "47795 0.12312183 0.8768782 17   -8.108203           8.108203           \n",
              "47796 0.80355989 0.1964401 17   -7.936155           7.936155           \n",
              "47797 0.77400286 0.2259971 17   -6.785425           6.785425           \n",
              "47798 0.18683363 0.8131664 17   -6.785425           6.785425           \n",
              "47799 0.24771450 0.7522855 17   -6.785425           6.785425           \n",
              "47800 0.22351995 0.7764800 17   -6.785425           6.785425           \n",
              "47801 0.27061348 0.7293865 17   -6.785425           6.785425           \n",
              "47802 0.34879053 0.6512095 17   -6.785425           6.785425           \n",
              "47803 0.31484573 0.6851543 17   -6.785425           6.785425           \n",
              "47804 0.30183682 0.6981632 17   -6.785425           6.785425           \n",
              "47805 0.24857020 0.7514298 17   -6.785425           6.785425           \n",
              "47806 0.16121868 0.8387813 17   -6.785425           6.785425           \n",
              "47807 0.11088372 0.8891163 17   -6.785425           6.785425           \n",
              "47808 0.23589627 0.7641037 17   -6.785425           6.785425           \n",
              "47809 0.06870064 0.9312994 17   -6.785425           6.785425           \n",
              "47810 0.02614141 0.9738586 17   -6.785425           6.785425           \n",
              "      total_home_pass_epa total_away_pass_epa air_yards touchdown\n",
              "1     -0.8183435           0.8183435           8.056591 0        \n",
              "2     -0.8183435           0.8183435           8.056591 0        \n",
              "3      0.5493137          -0.5493137          -3.000000 0        \n",
              "4     -2.7490911           2.7490911           8.056591 0        \n",
              "5     -2.7490911           2.7490911           8.056591 0        \n",
              "6     -0.7347085           0.7347085           1.000000 0        \n",
              "7     -0.7347085           0.7347085           8.056591 0        \n",
              "8     -0.7347085           0.7347085           8.056591 0        \n",
              "9     -0.7878610           0.7878610           4.000000 0        \n",
              "10    -1.9244109           1.9244109           6.000000 0        \n",
              "11    -1.3726915           1.3726915          16.000000 0        \n",
              "12    -1.3726915           1.3726915           8.056591 0        \n",
              "13    -1.3726915           1.3726915           8.056591 0        \n",
              "14    -3.2590222           3.2590222          -9.000000 0        \n",
              "15    -3.1681193           3.1681193           2.000000 0        \n",
              "16    -2.4288351           2.4288351           7.000000 0        \n",
              "17    -0.4702521           0.4702521           3.000000 0        \n",
              "18     0.2494155          -0.2494155           5.000000 0        \n",
              "19    -1.2557422           1.2557422           8.056591 0        \n",
              "20    -1.2557422           1.2557422           8.056591 0        \n",
              "21    -2.6597350           2.6597350           8.056591 0        \n",
              "22    -1.0498207           1.0498207          -7.000000 0        \n",
              "23    -1.5667188           1.5667188          -1.000000 0        \n",
              "24    -1.5667188           1.5667188           8.056591 0        \n",
              "25     0.5896504          -0.5896504           5.000000 0        \n",
              "26     1.2307232          -1.2307232           6.000000 0        \n",
              "27     1.2307232          -1.2307232           8.056591 0        \n",
              "28     1.2307232          -1.2307232           8.056591 0        \n",
              "29     0.6862234          -0.6862234           3.000000 0        \n",
              "30    -0.1671853           0.1671853          11.000000 0        \n",
              "⋮     ⋮                   ⋮                   ⋮         ⋮        \n",
              "47781 -7.1465804           7.1465804          -2.000000 0        \n",
              "47782 -6.2465456           6.2465456           3.000000 0        \n",
              "47783 -6.2465456           6.2465456           8.056591 0        \n",
              "47784 -4.0902345           4.0902345           8.000000 0        \n",
              "47785 -4.0902345           4.0902345           8.056591 1        \n",
              "47786 -4.0902345           4.0902345           8.056591 0        \n",
              "47787 -5.0369201           5.0369201          -1.000000 0        \n",
              "47788 -5.0369201           5.0369201           8.056591 0        \n",
              "47789 -5.0369201           5.0369201           8.056591 0        \n",
              "47790 -6.7273999           6.7273999          18.000000 0        \n",
              "47791 -5.9042196           5.9042196          10.000000 0        \n",
              "47792 -6.3950106           6.3950106           8.056591 0        \n",
              "47793 -6.8478645           6.8478645          27.000000 0        \n",
              "47794 -6.8478645           6.8478645           8.056591 0        \n",
              "47795 -6.8478645           6.8478645           8.056591 0        \n",
              "47796 -3.6218919           3.6218919           8.056591 0        \n",
              "47797 -4.1520524           4.1520524          -2.000000 0        \n",
              "47798 -3.2385227           3.2385227          10.000000 0        \n",
              "47799 -3.5182034           3.5182034          10.000000 0        \n",
              "47800 -2.7485777           2.7485777          -1.000000 0        \n",
              "47801 -1.6979632           1.6979632          16.000000 0        \n",
              "47802 -2.0074602           2.0074602          12.000000 0        \n",
              "47803 -1.4228406           1.4228406           5.000000 0        \n",
              "47804 -1.7409221           1.7409221          12.000000 0        \n",
              "47805 -2.2269417           2.2269417          12.000000 0        \n",
              "47806 -2.2269417           2.2269417          12.000000 0        \n",
              "47807  1.3059368          -1.3059368          11.000000 0        \n",
              "47808  0.6444931          -0.6444931           5.000000 0        \n",
              "47809 -0.2675583           0.2675583           5.000000 0        \n",
              "47810 -2.9040492           2.9040492           4.000000 0        "
            ],
            "text/latex": "A tibble: 47810 × 21\n\\begin{tabular}{lllllllllllllllllllll}\n posteam & defteam & ydstogo & qtr & down & yardline\\_100 & play\\_type & game\\_seconds\\_remaining & game\\_half & posteam\\_score & ⋯ & score\\_differential & wp & def\\_wp & week & total\\_home\\_rush\\_epa & total\\_away\\_rush\\_epa & total\\_home\\_pass\\_epa & total\\_away\\_pass\\_epa & air\\_yards & touchdown\\\\\n <fct> & <fct> & <dbl> & <dbl> & <dbl> & <dbl> & <fct> & <dbl> & <fct> & <dbl> & ⋯ & <dbl> & <dbl> & <dbl> & <dbl> & <dbl> & <dbl> & <dbl> & <dbl> & <dbl> & <fct>\\\\\n\\hline\n\t ATL & PHI &  5 & 1 & 2 & 70 & run  & 3562 & Half1 & 0 & ⋯ &  0 & 0.5051000 & 0.4949000 & 1 & -1.3625068 & 1.3625068 & -0.8183435 &  0.8183435 &  8.056591 & 0\\\\\n\t ATL & PHI & 10 & 1 & 1 & 59 & run  & 3526 & Half1 & 0 & ⋯ &  0 & 0.5483767 & 0.4516233 & 1 & -2.7063066 & 2.7063066 & -0.8183435 &  0.8183435 &  8.056591 & 0\\\\\n\t ATL & PHI & 10 & 1 & 2 & 39 & pass & 3485 & Half1 & 0 & ⋯ &  0 & 0.5768859 & 0.4231141 & 1 & -2.7063066 & 2.7063066 &  0.5493137 & -0.5493137 & -3.000000 & 0\\\\\n\t ATL & PHI &  6 & 1 & 1 &  6 & run  & 3435 & Half1 & 0 & ⋯ &  0 & 0.6635976 & 0.3364024 & 1 & -3.2917585 & 3.2917585 & -2.7490911 &  2.7490911 &  8.056591 & 0\\\\\n\t ATL & PHI &  1 & 1 & 2 &  1 & run  & 3401 & Half1 & 0 & ⋯ &  0 & 0.6852462 & 0.3147538 & 1 & -2.8196010 & 2.8196010 & -2.7490911 &  2.7490911 &  8.056591 & 0\\\\\n\t ATL & PHI &  1 & 1 & 3 &  1 & pass & 3359 & Half1 & 0 & ⋯ &  0 & 0.6700005 & 0.3299995 & 1 & -2.8196010 & 2.8196010 & -0.7347085 &  0.7347085 &  1.000000 & 0\\\\\n\t ATL & PHI &  1 & 1 & 4 &  1 & run  & 3355 & Half1 & 0 & ⋯ &  0 & 0.6001468 & 0.3998532 & 1 & -0.5256825 & 0.5256825 & -0.7347085 &  0.7347085 &  8.056591 & 0\\\\\n\t PHI & ATL & 10 & 1 & 1 & 98 & run  & 3351 & Half1 & 0 & ⋯ &  0 & 0.4476975 & 0.5523025 & 1 & -0.9514602 & 0.9514602 & -0.7347085 &  0.7347085 &  8.056591 & 0\\\\\n\t PHI & ATL &  8 & 1 & 2 & 96 & pass & 3310 & Half1 & 0 & ⋯ &  0 & 0.4357747 & 0.5642253 & 1 & -0.9514602 & 0.9514602 & -0.7878610 &  0.7878610 &  4.000000 & 0\\\\\n\t PHI & ATL &  4 & 1 & 3 & 92 & pass & 3264 & Half1 & 0 & ⋯ &  0 & 0.4353245 & 0.5646755 & 1 & -0.9514602 & 0.9514602 & -1.9244109 &  1.9244109 &  6.000000 & 0\\\\\n\t ATL & PHI & 10 & 1 & 1 & 44 & pass & 3248 & Half1 & 0 & ⋯ &  0 & 0.5941857 & 0.4058143 & 1 & -0.9514602 & 0.9514602 & -1.3726915 &  1.3726915 & 16.000000 & 0\\\\\n\t ATL & PHI & 10 & 1 & 2 & 44 & run  & 3242 & Half1 & 0 & ⋯ &  0 & 0.5763052 & 0.4236948 & 1 & -0.7669357 & 0.7669357 & -1.3726915 &  1.3726915 &  8.056591 & 0\\\\\n\t ATL & PHI & 10 & 1 & 1 & 33 & run  & 3158 & Half1 & 0 & ⋯ &  0 & 0.6165351 & 0.3834649 & 1 & -1.3522153 & 1.3522153 & -1.3726915 &  1.3726915 &  8.056591 & 0\\\\\n\t ATL & PHI & 13 & 1 & 2 & 36 & pass & 3121 & Half1 & 0 & ⋯ &  0 & 0.5931906 & 0.4068094 & 1 & -1.3522153 & 1.3522153 & -3.2590222 &  3.2590222 & -9.000000 & 0\\\\\n\t ATL & PHI & 10 & 1 & 1 & 10 & pass & 3079 & Half1 & 0 & ⋯ &  0 & 0.6714355 & 0.3285645 & 1 & -1.3522153 & 1.3522153 & -3.1681193 &  3.1681193 &  2.000000 & 0\\\\\n\t ATL & PHI &  7 & 1 & 2 &  7 & pass & 3038 & Half1 & 0 & ⋯ &  0 & 0.6681793 & 0.3318207 & 1 & -1.3522153 & 1.3522153 & -2.4288351 &  2.4288351 &  7.000000 & 0\\\\\n\t ATL & PHI &  3 & 1 & 3 &  3 & pass & 3007 & Half1 & 0 & ⋯ &  0 & 0.6641670 & 0.3358330 & 1 & -1.3522153 & 1.3522153 & -0.4702521 &  0.4702521 &  3.000000 & 0\\\\\n\t PHI & ATL &  4 & 1 & 2 & 63 & pass & 2926 & Half1 & 0 & ⋯ & -3 & 0.4381452 & 0.5618548 & 1 & -1.9263028 & 1.9263028 &  0.2494155 & -0.2494155 &  5.000000 & 0\\\\\n\t PHI & ATL & 10 & 1 & 1 & 57 & pass & 2886 & Half1 & 0 & ⋯ & -3 & 0.4561219 & 0.5438781 & 1 & -1.9263028 & 1.9263028 & -1.2557422 &  1.2557422 &  8.056591 & 0\\\\\n\t PHI & ATL & 17 & 1 & 2 & 64 & run  & 2844 & Half1 & 0 & ⋯ & -3 & 0.4071077 & 0.5928923 & 1 & -2.9536479 & 2.9536479 & -1.2557422 &  1.2557422 &  8.056591 & 0\\\\\n\t ATL & PHI & 10 & 1 & 2 & 80 & run  & 2726 & Half1 & 3 & ⋯ &  3 & 0.5740003 & 0.4259997 & 1 & -1.7573343 & 1.7573343 & -2.6597350 &  2.6597350 &  8.056591 & 0\\\\\n\t ATL & PHI & 12 & 2 & 3 & 82 & pass & 2700 & Half1 & 3 & ⋯ &  3 & 0.5350114 & 0.4649886 & 1 & -1.7573343 & 1.7573343 & -1.0498207 &  1.0498207 & -7.000000 & 0\\\\\n\t PHI & ATL & 10 & 2 & 1 & 60 & pass & 2652 & Half1 & 0 & ⋯ & -3 & 0.4342663 & 0.5657337 & 1 & -1.7573343 & 1.7573343 & -1.5667188 &  1.5667188 & -1.000000 & 0\\\\\n\t PHI & ATL &  9 & 2 & 2 & 59 & run  & 2617 & Half1 & 0 & ⋯ & -3 & 0.4186067 & 0.5813933 & 1 & -2.3627142 & 2.3627142 & -1.5667188 &  1.5667188 &  8.056591 & 0\\\\\n\t PHI & ATL & 10 & 2 & 1 & 47 & pass & 2534 & Half1 & 0 & ⋯ & -3 & 0.4615297 & 0.5384703 & 1 & -2.3627142 & 2.3627142 &  0.5896504 & -0.5896504 &  5.000000 & 0\\\\\n\t PHI & ATL &  4 & 2 & 2 & 41 & pass & 2503 & Half1 & 0 & ⋯ & -3 & 0.4677129 & 0.5322871 & 1 & -2.3627142 & 2.3627142 &  1.2307232 & -1.2307232 &  6.000000 & 0\\\\\n\t PHI & ATL & 10 & 2 & 1 & 31 & run  & 2479 & Half1 & 0 & ⋯ & -3 & 0.4883591 & 0.5116409 & 1 & -2.0470606 & 2.0470606 &  1.2307232 & -1.2307232 &  8.056591 & 0\\\\\n\t PHI & ATL & 10 & 2 & 1 & 20 & run  & 2382 & Half1 & 0 & ⋯ & -3 & 0.5070075 & 0.4929925 & 1 & -2.4494476 & 2.4494476 &  1.2307232 & -1.2307232 &  8.056591 & 0\\\\\n\t PHI & ATL & 10 & 2 & 2 & 20 & pass & 2347 & Half1 & 0 & ⋯ & -3 & 0.4967180 & 0.5032820 & 1 & -2.4494476 & 2.4494476 &  0.6862234 & -0.6862234 &  3.000000 & 0\\\\\n\t PHI & ATL & 18 & 2 & 3 & 18 & pass & 2213 & Half1 & 0 & ⋯ & -3 & 0.4939609 & 0.5060391 & 1 & -3.0459451 & 3.0459451 & -0.1671853 &  0.1671853 & 11.000000 & 0\\\\\n\t ⋮ & ⋮ & ⋮ & ⋮ & ⋮ & ⋮ & ⋮ & ⋮ & ⋮ & ⋮ & ⋱ & ⋮ & ⋮ & ⋮ & ⋮ & ⋮ & ⋮ & ⋮ & ⋮ & ⋮ & ⋮\\\\\n\t SEA & SF  &  8 & 4 & 2 & 22 & pass & 750 & Half2 &  7 & ⋯ & -12 & 0.18648901 & 0.8135110 & 17 & -5.411955 & 5.411955 & -7.1465804 &  7.1465804 & -2.000000 & 0\\\\\n\t SEA & SF  &  3 & 4 & 3 & 17 & pass & 700 & Half2 &  7 & ⋯ & -12 & 0.17649003 & 0.8235100 & 17 & -5.411955 & 5.411955 & -6.2465456 &  6.2465456 &  3.000000 & 0\\\\\n\t SEA & SF  & 10 & 4 & 1 & 11 & run  & 676 & Half2 &  7 & ⋯ & -12 & 0.20103997 & 0.7989600 & 17 & -5.732193 & 5.732193 & -6.2465456 &  6.2465456 &  8.056591 & 0\\\\\n\t SEA & SF  &  8 & 4 & 2 &  9 & pass & 648 & Half2 &  7 & ⋯ & -12 & 0.18952355 & 0.8104764 & 17 & -5.732193 & 5.732193 & -4.0902345 &  4.0902345 &  8.000000 & 0\\\\\n\t SEA & SF  &  1 & 4 & 1 &  1 & run  & 599 & Half2 &  7 & ⋯ & -12 & 0.25869735 & 0.7413027 & 17 & -5.201342 & 5.201342 & -4.0902345 &  4.0902345 &  8.056591 & 1\\\\\n\t SF  & SEA & 10 & 4 & 1 & 75 & run  & 595 & Half2 & 19 & ⋯ &   5 & 0.72188920 & 0.2781108 & 17 & -5.656899 & 5.656899 & -4.0902345 &  4.0902345 &  8.056591 & 0\\\\\n\t SF  & SEA & 10 & 4 & 1 & 55 & pass & 517 & Half2 & 19 & ⋯ &   5 & 0.78875123 & 0.2112488 & 17 & -6.701155 & 6.701155 & -5.0369201 &  5.0369201 & -1.000000 & 0\\\\\n\t SF  & SEA & 10 & 4 & 1 & 39 & run  & 478 & Half2 & 19 & ⋯ &   5 & 0.82567471 & 0.1743253 & 17 & -6.784784 & 6.784784 & -5.0369201 &  5.0369201 &  8.056591 & 0\\\\\n\t SF  & SEA &  4 & 4 & 2 & 33 & run  & 437 & Half2 & 19 & ⋯ &   5 & 0.83550129 & 0.1644987 & 17 & -5.933237 & 5.933237 & -5.0369201 &  5.0369201 &  8.056591 & 0\\\\\n\t SF  & SEA &  5 & 4 & 3 & 34 & pass & 394 & Half2 & 19 & ⋯ &   5 & 0.81790115 & 0.1820988 & 17 & -5.933237 & 5.933237 & -6.7273999 &  6.7273999 & 18.000000 & 0\\\\\n\t SEA & SF  & 10 & 4 & 1 & 60 & pass & 351 & Half2 & 14 & ⋯ & -12 & 0.09583381 & 0.9041662 & 17 & -8.564021 & 8.564021 & -5.9042196 &  5.9042196 & 10.000000 & 0\\\\\n\t SEA & SF  & 10 & 4 & 2 & 47 & run  & 324 & Half2 & 14 & ⋯ & -12 & 0.09691607 & 0.9030839 & 17 & -7.386093 & 7.386093 & -6.3950106 &  6.3950106 &  8.056591 & 0\\\\\n\t SEA & SF  & 10 & 4 & 1 & 34 & pass & 302 & Half2 & 14 & ⋯ & -12 & 0.11787089 & 0.8821291 & 17 & -7.386093 & 7.386093 & -6.8478645 &  6.8478645 & 27.000000 & 0\\\\\n\t SEA & SF  & 10 & 4 & 2 & 34 & run  & 296 & Half2 & 14 & ⋯ & -12 & 0.10567539 & 0.8943246 & 17 & -7.758700 & 7.758700 & -6.8478645 &  6.8478645 &  8.056591 & 0\\\\\n\t SEA & SF  & 10 & 4 & 1 & 16 & run  & 257 & Half2 & 14 & ⋯ & -12 & 0.12312183 & 0.8768782 & 17 & -8.108203 & 8.108203 & -6.8478645 &  6.8478645 &  8.056591 & 0\\\\\n\t SF  & SEA & 10 & 4 & 1 & 79 & run  & 215 & Half2 & 26 & ⋯ &   5 & 0.80355989 & 0.1964401 & 17 & -7.936155 & 7.936155 & -3.6218919 &  3.6218919 &  8.056591 & 0\\\\\n\t SF  & SEA & 17 & 4 & 3 & 86 & pass & 163 & Half2 & 26 & ⋯ &   5 & 0.77400286 & 0.2259971 & 17 & -6.785425 & 6.785425 & -4.1520524 &  4.1520524 & -2.000000 & 0\\\\\n\t SEA & SF  &  5 & 4 & 2 & 68 & pass & 121 & Half2 & 21 & ⋯ &  -5 & 0.18683363 & 0.8131664 & 17 & -6.785425 & 6.785425 & -3.2385227 &  3.2385227 & 10.000000 & 0\\\\\n\t SEA & SF  & 10 & 4 & 1 & 58 & pass & 116 & Half2 & 21 & ⋯ &  -5 & 0.24771450 & 0.7522855 & 17 & -6.785425 & 6.785425 & -3.5182034 &  3.5182034 & 10.000000 & 0\\\\\n\t SEA & SF  & 10 & 4 & 2 & 58 & pass & 112 & Half2 & 21 & ⋯ &  -5 & 0.22351995 & 0.7764800 & 17 & -6.785425 & 6.785425 & -2.7485777 &  2.7485777 & -1.000000 & 0\\\\\n\t SEA & SF  & 10 & 4 & 1 & 47 & pass & 106 & Half2 & 21 & ⋯ &  -5 & 0.27061348 & 0.7293865 & 17 & -6.785425 & 6.785425 & -1.6979632 &  1.6979632 & 16.000000 & 0\\\\\n\t SEA & SF  & 10 & 4 & 1 & 23 & pass &  97 & Half2 & 21 & ⋯ &  -5 & 0.34879053 & 0.6512095 & 17 & -6.785425 & 6.785425 & -2.0074602 &  2.0074602 & 12.000000 & 0\\\\\n\t SEA & SF  & 10 & 4 & 2 & 23 & pass &  93 & Half2 & 21 & ⋯ &  -5 & 0.31484573 & 0.6851543 & 17 & -6.785425 & 6.785425 & -1.4228406 &  1.4228406 &  5.000000 & 0\\\\\n\t SEA & SF  & 10 & 4 & 1 & 12 & pass &  55 & Half2 & 21 & ⋯ &  -5 & 0.30183682 & 0.6981632 & 17 & -6.785425 & 6.785425 & -1.7409221 &  1.7409221 & 12.000000 & 0\\\\\n\t SEA & SF  & 10 & 4 & 2 & 12 & pass &  51 & Half2 & 21 & ⋯ &  -5 & 0.24857020 & 0.7514298 & 17 & -6.785425 & 6.785425 & -2.2269417 &  2.2269417 & 12.000000 & 0\\\\\n\t SEA & SF  & 10 & 4 & 3 & 12 & pass &  46 & Half2 & 21 & ⋯ &  -5 & 0.16121868 & 0.8387813 & 17 & -6.785425 & 6.785425 & -2.2269417 &  2.2269417 & 12.000000 & 0\\\\\n\t SEA & SF  & 10 & 4 & 4 & 12 & pass &  42 & Half2 & 21 & ⋯ &  -5 & 0.11088372 & 0.8891163 & 17 & -6.785425 & 6.785425 &  1.3059368 & -1.3059368 & 11.000000 & 0\\\\\n\t SEA & SF  &  5 & 4 & 2 &  5 & pass &  22 & Half2 & 21 & ⋯ &  -5 & 0.23589627 & 0.7641037 & 17 & -6.785425 & 6.785425 &  0.6444931 & -0.6444931 &  5.000000 & 0\\\\\n\t SEA & SF  &  5 & 4 & 3 &  5 & pass &  15 & Half2 & 21 & ⋯ &  -5 & 0.06870064 & 0.9312994 & 17 & -6.785425 & 6.785425 & -0.2675583 &  0.2675583 &  5.000000 & 0\\\\\n\t SEA & SF  &  5 & 4 & 4 &  5 & pass &  12 & Half2 & 21 & ⋯ &  -5 & 0.02614141 & 0.9738586 & 17 & -6.785425 & 6.785425 & -2.9040492 &  2.9040492 &  4.000000 & 0\\\\\n\\end{tabular}\n",
            "text/markdown": "\nA tibble: 47810 × 21\n\n| posteam &lt;fct&gt; | defteam &lt;fct&gt; | ydstogo &lt;dbl&gt; | qtr &lt;dbl&gt; | down &lt;dbl&gt; | yardline_100 &lt;dbl&gt; | play_type &lt;fct&gt; | game_seconds_remaining &lt;dbl&gt; | game_half &lt;fct&gt; | posteam_score &lt;dbl&gt; | ⋯ ⋯ | score_differential &lt;dbl&gt; | wp &lt;dbl&gt; | def_wp &lt;dbl&gt; | week &lt;dbl&gt; | total_home_rush_epa &lt;dbl&gt; | total_away_rush_epa &lt;dbl&gt; | total_home_pass_epa &lt;dbl&gt; | total_away_pass_epa &lt;dbl&gt; | air_yards &lt;dbl&gt; | touchdown &lt;fct&gt; |\n|---|---|---|---|---|---|---|---|---|---|---|---|---|---|---|---|---|---|---|---|---|\n| ATL | PHI |  5 | 1 | 2 | 70 | run  | 3562 | Half1 | 0 | ⋯ |  0 | 0.5051000 | 0.4949000 | 1 | -1.3625068 | 1.3625068 | -0.8183435 |  0.8183435 |  8.056591 | 0 |\n| ATL | PHI | 10 | 1 | 1 | 59 | run  | 3526 | Half1 | 0 | ⋯ |  0 | 0.5483767 | 0.4516233 | 1 | -2.7063066 | 2.7063066 | -0.8183435 |  0.8183435 |  8.056591 | 0 |\n| ATL | PHI | 10 | 1 | 2 | 39 | pass | 3485 | Half1 | 0 | ⋯ |  0 | 0.5768859 | 0.4231141 | 1 | -2.7063066 | 2.7063066 |  0.5493137 | -0.5493137 | -3.000000 | 0 |\n| ATL | PHI |  6 | 1 | 1 |  6 | run  | 3435 | Half1 | 0 | ⋯ |  0 | 0.6635976 | 0.3364024 | 1 | -3.2917585 | 3.2917585 | -2.7490911 |  2.7490911 |  8.056591 | 0 |\n| ATL | PHI |  1 | 1 | 2 |  1 | run  | 3401 | Half1 | 0 | ⋯ |  0 | 0.6852462 | 0.3147538 | 1 | -2.8196010 | 2.8196010 | -2.7490911 |  2.7490911 |  8.056591 | 0 |\n| ATL | PHI |  1 | 1 | 3 |  1 | pass | 3359 | Half1 | 0 | ⋯ |  0 | 0.6700005 | 0.3299995 | 1 | -2.8196010 | 2.8196010 | -0.7347085 |  0.7347085 |  1.000000 | 0 |\n| ATL | PHI |  1 | 1 | 4 |  1 | run  | 3355 | Half1 | 0 | ⋯ |  0 | 0.6001468 | 0.3998532 | 1 | -0.5256825 | 0.5256825 | -0.7347085 |  0.7347085 |  8.056591 | 0 |\n| PHI | ATL | 10 | 1 | 1 | 98 | run  | 3351 | Half1 | 0 | ⋯ |  0 | 0.4476975 | 0.5523025 | 1 | -0.9514602 | 0.9514602 | -0.7347085 |  0.7347085 |  8.056591 | 0 |\n| PHI | ATL |  8 | 1 | 2 | 96 | pass | 3310 | Half1 | 0 | ⋯ |  0 | 0.4357747 | 0.5642253 | 1 | -0.9514602 | 0.9514602 | -0.7878610 |  0.7878610 |  4.000000 | 0 |\n| PHI | ATL |  4 | 1 | 3 | 92 | pass | 3264 | Half1 | 0 | ⋯ |  0 | 0.4353245 | 0.5646755 | 1 | -0.9514602 | 0.9514602 | -1.9244109 |  1.9244109 |  6.000000 | 0 |\n| ATL | PHI | 10 | 1 | 1 | 44 | pass | 3248 | Half1 | 0 | ⋯ |  0 | 0.5941857 | 0.4058143 | 1 | -0.9514602 | 0.9514602 | -1.3726915 |  1.3726915 | 16.000000 | 0 |\n| ATL | PHI | 10 | 1 | 2 | 44 | run  | 3242 | Half1 | 0 | ⋯ |  0 | 0.5763052 | 0.4236948 | 1 | -0.7669357 | 0.7669357 | -1.3726915 |  1.3726915 |  8.056591 | 0 |\n| ATL | PHI | 10 | 1 | 1 | 33 | run  | 3158 | Half1 | 0 | ⋯ |  0 | 0.6165351 | 0.3834649 | 1 | -1.3522153 | 1.3522153 | -1.3726915 |  1.3726915 |  8.056591 | 0 |\n| ATL | PHI | 13 | 1 | 2 | 36 | pass | 3121 | Half1 | 0 | ⋯ |  0 | 0.5931906 | 0.4068094 | 1 | -1.3522153 | 1.3522153 | -3.2590222 |  3.2590222 | -9.000000 | 0 |\n| ATL | PHI | 10 | 1 | 1 | 10 | pass | 3079 | Half1 | 0 | ⋯ |  0 | 0.6714355 | 0.3285645 | 1 | -1.3522153 | 1.3522153 | -3.1681193 |  3.1681193 |  2.000000 | 0 |\n| ATL | PHI |  7 | 1 | 2 |  7 | pass | 3038 | Half1 | 0 | ⋯ |  0 | 0.6681793 | 0.3318207 | 1 | -1.3522153 | 1.3522153 | -2.4288351 |  2.4288351 |  7.000000 | 0 |\n| ATL | PHI |  3 | 1 | 3 |  3 | pass | 3007 | Half1 | 0 | ⋯ |  0 | 0.6641670 | 0.3358330 | 1 | -1.3522153 | 1.3522153 | -0.4702521 |  0.4702521 |  3.000000 | 0 |\n| PHI | ATL |  4 | 1 | 2 | 63 | pass | 2926 | Half1 | 0 | ⋯ | -3 | 0.4381452 | 0.5618548 | 1 | -1.9263028 | 1.9263028 |  0.2494155 | -0.2494155 |  5.000000 | 0 |\n| PHI | ATL | 10 | 1 | 1 | 57 | pass | 2886 | Half1 | 0 | ⋯ | -3 | 0.4561219 | 0.5438781 | 1 | -1.9263028 | 1.9263028 | -1.2557422 |  1.2557422 |  8.056591 | 0 |\n| PHI | ATL | 17 | 1 | 2 | 64 | run  | 2844 | Half1 | 0 | ⋯ | -3 | 0.4071077 | 0.5928923 | 1 | -2.9536479 | 2.9536479 | -1.2557422 |  1.2557422 |  8.056591 | 0 |\n| ATL | PHI | 10 | 1 | 2 | 80 | run  | 2726 | Half1 | 3 | ⋯ |  3 | 0.5740003 | 0.4259997 | 1 | -1.7573343 | 1.7573343 | -2.6597350 |  2.6597350 |  8.056591 | 0 |\n| ATL | PHI | 12 | 2 | 3 | 82 | pass | 2700 | Half1 | 3 | ⋯ |  3 | 0.5350114 | 0.4649886 | 1 | -1.7573343 | 1.7573343 | -1.0498207 |  1.0498207 | -7.000000 | 0 |\n| PHI | ATL | 10 | 2 | 1 | 60 | pass | 2652 | Half1 | 0 | ⋯ | -3 | 0.4342663 | 0.5657337 | 1 | -1.7573343 | 1.7573343 | -1.5667188 |  1.5667188 | -1.000000 | 0 |\n| PHI | ATL |  9 | 2 | 2 | 59 | run  | 2617 | Half1 | 0 | ⋯ | -3 | 0.4186067 | 0.5813933 | 1 | -2.3627142 | 2.3627142 | -1.5667188 |  1.5667188 |  8.056591 | 0 |\n| PHI | ATL | 10 | 2 | 1 | 47 | pass | 2534 | Half1 | 0 | ⋯ | -3 | 0.4615297 | 0.5384703 | 1 | -2.3627142 | 2.3627142 |  0.5896504 | -0.5896504 |  5.000000 | 0 |\n| PHI | ATL |  4 | 2 | 2 | 41 | pass | 2503 | Half1 | 0 | ⋯ | -3 | 0.4677129 | 0.5322871 | 1 | -2.3627142 | 2.3627142 |  1.2307232 | -1.2307232 |  6.000000 | 0 |\n| PHI | ATL | 10 | 2 | 1 | 31 | run  | 2479 | Half1 | 0 | ⋯ | -3 | 0.4883591 | 0.5116409 | 1 | -2.0470606 | 2.0470606 |  1.2307232 | -1.2307232 |  8.056591 | 0 |\n| PHI | ATL | 10 | 2 | 1 | 20 | run  | 2382 | Half1 | 0 | ⋯ | -3 | 0.5070075 | 0.4929925 | 1 | -2.4494476 | 2.4494476 |  1.2307232 | -1.2307232 |  8.056591 | 0 |\n| PHI | ATL | 10 | 2 | 2 | 20 | pass | 2347 | Half1 | 0 | ⋯ | -3 | 0.4967180 | 0.5032820 | 1 | -2.4494476 | 2.4494476 |  0.6862234 | -0.6862234 |  3.000000 | 0 |\n| PHI | ATL | 18 | 2 | 3 | 18 | pass | 2213 | Half1 | 0 | ⋯ | -3 | 0.4939609 | 0.5060391 | 1 | -3.0459451 | 3.0459451 | -0.1671853 |  0.1671853 | 11.000000 | 0 |\n| ⋮ | ⋮ | ⋮ | ⋮ | ⋮ | ⋮ | ⋮ | ⋮ | ⋮ | ⋮ | ⋱ | ⋮ | ⋮ | ⋮ | ⋮ | ⋮ | ⋮ | ⋮ | ⋮ | ⋮ | ⋮ |\n| SEA | SF  |  8 | 4 | 2 | 22 | pass | 750 | Half2 |  7 | ⋯ | -12 | 0.18648901 | 0.8135110 | 17 | -5.411955 | 5.411955 | -7.1465804 |  7.1465804 | -2.000000 | 0 |\n| SEA | SF  |  3 | 4 | 3 | 17 | pass | 700 | Half2 |  7 | ⋯ | -12 | 0.17649003 | 0.8235100 | 17 | -5.411955 | 5.411955 | -6.2465456 |  6.2465456 |  3.000000 | 0 |\n| SEA | SF  | 10 | 4 | 1 | 11 | run  | 676 | Half2 |  7 | ⋯ | -12 | 0.20103997 | 0.7989600 | 17 | -5.732193 | 5.732193 | -6.2465456 |  6.2465456 |  8.056591 | 0 |\n| SEA | SF  |  8 | 4 | 2 |  9 | pass | 648 | Half2 |  7 | ⋯ | -12 | 0.18952355 | 0.8104764 | 17 | -5.732193 | 5.732193 | -4.0902345 |  4.0902345 |  8.000000 | 0 |\n| SEA | SF  |  1 | 4 | 1 |  1 | run  | 599 | Half2 |  7 | ⋯ | -12 | 0.25869735 | 0.7413027 | 17 | -5.201342 | 5.201342 | -4.0902345 |  4.0902345 |  8.056591 | 1 |\n| SF  | SEA | 10 | 4 | 1 | 75 | run  | 595 | Half2 | 19 | ⋯ |   5 | 0.72188920 | 0.2781108 | 17 | -5.656899 | 5.656899 | -4.0902345 |  4.0902345 |  8.056591 | 0 |\n| SF  | SEA | 10 | 4 | 1 | 55 | pass | 517 | Half2 | 19 | ⋯ |   5 | 0.78875123 | 0.2112488 | 17 | -6.701155 | 6.701155 | -5.0369201 |  5.0369201 | -1.000000 | 0 |\n| SF  | SEA | 10 | 4 | 1 | 39 | run  | 478 | Half2 | 19 | ⋯ |   5 | 0.82567471 | 0.1743253 | 17 | -6.784784 | 6.784784 | -5.0369201 |  5.0369201 |  8.056591 | 0 |\n| SF  | SEA |  4 | 4 | 2 | 33 | run  | 437 | Half2 | 19 | ⋯ |   5 | 0.83550129 | 0.1644987 | 17 | -5.933237 | 5.933237 | -5.0369201 |  5.0369201 |  8.056591 | 0 |\n| SF  | SEA |  5 | 4 | 3 | 34 | pass | 394 | Half2 | 19 | ⋯ |   5 | 0.81790115 | 0.1820988 | 17 | -5.933237 | 5.933237 | -6.7273999 |  6.7273999 | 18.000000 | 0 |\n| SEA | SF  | 10 | 4 | 1 | 60 | pass | 351 | Half2 | 14 | ⋯ | -12 | 0.09583381 | 0.9041662 | 17 | -8.564021 | 8.564021 | -5.9042196 |  5.9042196 | 10.000000 | 0 |\n| SEA | SF  | 10 | 4 | 2 | 47 | run  | 324 | Half2 | 14 | ⋯ | -12 | 0.09691607 | 0.9030839 | 17 | -7.386093 | 7.386093 | -6.3950106 |  6.3950106 |  8.056591 | 0 |\n| SEA | SF  | 10 | 4 | 1 | 34 | pass | 302 | Half2 | 14 | ⋯ | -12 | 0.11787089 | 0.8821291 | 17 | -7.386093 | 7.386093 | -6.8478645 |  6.8478645 | 27.000000 | 0 |\n| SEA | SF  | 10 | 4 | 2 | 34 | run  | 296 | Half2 | 14 | ⋯ | -12 | 0.10567539 | 0.8943246 | 17 | -7.758700 | 7.758700 | -6.8478645 |  6.8478645 |  8.056591 | 0 |\n| SEA | SF  | 10 | 4 | 1 | 16 | run  | 257 | Half2 | 14 | ⋯ | -12 | 0.12312183 | 0.8768782 | 17 | -8.108203 | 8.108203 | -6.8478645 |  6.8478645 |  8.056591 | 0 |\n| SF  | SEA | 10 | 4 | 1 | 79 | run  | 215 | Half2 | 26 | ⋯ |   5 | 0.80355989 | 0.1964401 | 17 | -7.936155 | 7.936155 | -3.6218919 |  3.6218919 |  8.056591 | 0 |\n| SF  | SEA | 17 | 4 | 3 | 86 | pass | 163 | Half2 | 26 | ⋯ |   5 | 0.77400286 | 0.2259971 | 17 | -6.785425 | 6.785425 | -4.1520524 |  4.1520524 | -2.000000 | 0 |\n| SEA | SF  |  5 | 4 | 2 | 68 | pass | 121 | Half2 | 21 | ⋯ |  -5 | 0.18683363 | 0.8131664 | 17 | -6.785425 | 6.785425 | -3.2385227 |  3.2385227 | 10.000000 | 0 |\n| SEA | SF  | 10 | 4 | 1 | 58 | pass | 116 | Half2 | 21 | ⋯ |  -5 | 0.24771450 | 0.7522855 | 17 | -6.785425 | 6.785425 | -3.5182034 |  3.5182034 | 10.000000 | 0 |\n| SEA | SF  | 10 | 4 | 2 | 58 | pass | 112 | Half2 | 21 | ⋯ |  -5 | 0.22351995 | 0.7764800 | 17 | -6.785425 | 6.785425 | -2.7485777 |  2.7485777 | -1.000000 | 0 |\n| SEA | SF  | 10 | 4 | 1 | 47 | pass | 106 | Half2 | 21 | ⋯ |  -5 | 0.27061348 | 0.7293865 | 17 | -6.785425 | 6.785425 | -1.6979632 |  1.6979632 | 16.000000 | 0 |\n| SEA | SF  | 10 | 4 | 1 | 23 | pass |  97 | Half2 | 21 | ⋯ |  -5 | 0.34879053 | 0.6512095 | 17 | -6.785425 | 6.785425 | -2.0074602 |  2.0074602 | 12.000000 | 0 |\n| SEA | SF  | 10 | 4 | 2 | 23 | pass |  93 | Half2 | 21 | ⋯ |  -5 | 0.31484573 | 0.6851543 | 17 | -6.785425 | 6.785425 | -1.4228406 |  1.4228406 |  5.000000 | 0 |\n| SEA | SF  | 10 | 4 | 1 | 12 | pass |  55 | Half2 | 21 | ⋯ |  -5 | 0.30183682 | 0.6981632 | 17 | -6.785425 | 6.785425 | -1.7409221 |  1.7409221 | 12.000000 | 0 |\n| SEA | SF  | 10 | 4 | 2 | 12 | pass |  51 | Half2 | 21 | ⋯ |  -5 | 0.24857020 | 0.7514298 | 17 | -6.785425 | 6.785425 | -2.2269417 |  2.2269417 | 12.000000 | 0 |\n| SEA | SF  | 10 | 4 | 3 | 12 | pass |  46 | Half2 | 21 | ⋯ |  -5 | 0.16121868 | 0.8387813 | 17 | -6.785425 | 6.785425 | -2.2269417 |  2.2269417 | 12.000000 | 0 |\n| SEA | SF  | 10 | 4 | 4 | 12 | pass |  42 | Half2 | 21 | ⋯ |  -5 | 0.11088372 | 0.8891163 | 17 | -6.785425 | 6.785425 |  1.3059368 | -1.3059368 | 11.000000 | 0 |\n| SEA | SF  |  5 | 4 | 2 |  5 | pass |  22 | Half2 | 21 | ⋯ |  -5 | 0.23589627 | 0.7641037 | 17 | -6.785425 | 6.785425 |  0.6444931 | -0.6444931 |  5.000000 | 0 |\n| SEA | SF  |  5 | 4 | 3 |  5 | pass |  15 | Half2 | 21 | ⋯ |  -5 | 0.06870064 | 0.9312994 | 17 | -6.785425 | 6.785425 | -0.2675583 |  0.2675583 |  5.000000 | 0 |\n| SEA | SF  |  5 | 4 | 4 |  5 | pass |  12 | Half2 | 21 | ⋯ |  -5 | 0.02614141 | 0.9738586 | 17 | -6.785425 | 6.785425 | -2.9040492 |  2.9040492 |  4.000000 | 0 |\n\n",
            "text/html": [
              "<table>\n",
              "<caption>A tibble: 47810 × 21</caption>\n",
              "<thead>\n",
              "\t<tr><th scope=col>posteam</th><th scope=col>defteam</th><th scope=col>ydstogo</th><th scope=col>qtr</th><th scope=col>down</th><th scope=col>yardline_100</th><th scope=col>play_type</th><th scope=col>game_seconds_remaining</th><th scope=col>game_half</th><th scope=col>posteam_score</th><th scope=col>⋯</th><th scope=col>score_differential</th><th scope=col>wp</th><th scope=col>def_wp</th><th scope=col>week</th><th scope=col>total_home_rush_epa</th><th scope=col>total_away_rush_epa</th><th scope=col>total_home_pass_epa</th><th scope=col>total_away_pass_epa</th><th scope=col>air_yards</th><th scope=col>touchdown</th></tr>\n",
              "\t<tr><th scope=col>&lt;fct&gt;</th><th scope=col>&lt;fct&gt;</th><th scope=col>&lt;dbl&gt;</th><th scope=col>&lt;dbl&gt;</th><th scope=col>&lt;dbl&gt;</th><th scope=col>&lt;dbl&gt;</th><th scope=col>&lt;fct&gt;</th><th scope=col>&lt;dbl&gt;</th><th scope=col>&lt;fct&gt;</th><th scope=col>&lt;dbl&gt;</th><th scope=col>⋯</th><th scope=col>&lt;dbl&gt;</th><th scope=col>&lt;dbl&gt;</th><th scope=col>&lt;dbl&gt;</th><th scope=col>&lt;dbl&gt;</th><th scope=col>&lt;dbl&gt;</th><th scope=col>&lt;dbl&gt;</th><th scope=col>&lt;dbl&gt;</th><th scope=col>&lt;dbl&gt;</th><th scope=col>&lt;dbl&gt;</th><th scope=col>&lt;fct&gt;</th></tr>\n",
              "</thead>\n",
              "<tbody>\n",
              "\t<tr><td>ATL</td><td>PHI</td><td> 5</td><td>1</td><td>2</td><td>70</td><td>run </td><td>3562</td><td>Half1</td><td>0</td><td>⋯</td><td> 0</td><td>0.5051000</td><td>0.4949000</td><td>1</td><td>-1.3625068</td><td>1.3625068</td><td>-0.8183435</td><td> 0.8183435</td><td> 8.056591</td><td>0</td></tr>\n",
              "\t<tr><td>ATL</td><td>PHI</td><td>10</td><td>1</td><td>1</td><td>59</td><td>run </td><td>3526</td><td>Half1</td><td>0</td><td>⋯</td><td> 0</td><td>0.5483767</td><td>0.4516233</td><td>1</td><td>-2.7063066</td><td>2.7063066</td><td>-0.8183435</td><td> 0.8183435</td><td> 8.056591</td><td>0</td></tr>\n",
              "\t<tr><td>ATL</td><td>PHI</td><td>10</td><td>1</td><td>2</td><td>39</td><td>pass</td><td>3485</td><td>Half1</td><td>0</td><td>⋯</td><td> 0</td><td>0.5768859</td><td>0.4231141</td><td>1</td><td>-2.7063066</td><td>2.7063066</td><td> 0.5493137</td><td>-0.5493137</td><td>-3.000000</td><td>0</td></tr>\n",
              "\t<tr><td>ATL</td><td>PHI</td><td> 6</td><td>1</td><td>1</td><td> 6</td><td>run </td><td>3435</td><td>Half1</td><td>0</td><td>⋯</td><td> 0</td><td>0.6635976</td><td>0.3364024</td><td>1</td><td>-3.2917585</td><td>3.2917585</td><td>-2.7490911</td><td> 2.7490911</td><td> 8.056591</td><td>0</td></tr>\n",
              "\t<tr><td>ATL</td><td>PHI</td><td> 1</td><td>1</td><td>2</td><td> 1</td><td>run </td><td>3401</td><td>Half1</td><td>0</td><td>⋯</td><td> 0</td><td>0.6852462</td><td>0.3147538</td><td>1</td><td>-2.8196010</td><td>2.8196010</td><td>-2.7490911</td><td> 2.7490911</td><td> 8.056591</td><td>0</td></tr>\n",
              "\t<tr><td>ATL</td><td>PHI</td><td> 1</td><td>1</td><td>3</td><td> 1</td><td>pass</td><td>3359</td><td>Half1</td><td>0</td><td>⋯</td><td> 0</td><td>0.6700005</td><td>0.3299995</td><td>1</td><td>-2.8196010</td><td>2.8196010</td><td>-0.7347085</td><td> 0.7347085</td><td> 1.000000</td><td>0</td></tr>\n",
              "\t<tr><td>ATL</td><td>PHI</td><td> 1</td><td>1</td><td>4</td><td> 1</td><td>run </td><td>3355</td><td>Half1</td><td>0</td><td>⋯</td><td> 0</td><td>0.6001468</td><td>0.3998532</td><td>1</td><td>-0.5256825</td><td>0.5256825</td><td>-0.7347085</td><td> 0.7347085</td><td> 8.056591</td><td>0</td></tr>\n",
              "\t<tr><td>PHI</td><td>ATL</td><td>10</td><td>1</td><td>1</td><td>98</td><td>run </td><td>3351</td><td>Half1</td><td>0</td><td>⋯</td><td> 0</td><td>0.4476975</td><td>0.5523025</td><td>1</td><td>-0.9514602</td><td>0.9514602</td><td>-0.7347085</td><td> 0.7347085</td><td> 8.056591</td><td>0</td></tr>\n",
              "\t<tr><td>PHI</td><td>ATL</td><td> 8</td><td>1</td><td>2</td><td>96</td><td>pass</td><td>3310</td><td>Half1</td><td>0</td><td>⋯</td><td> 0</td><td>0.4357747</td><td>0.5642253</td><td>1</td><td>-0.9514602</td><td>0.9514602</td><td>-0.7878610</td><td> 0.7878610</td><td> 4.000000</td><td>0</td></tr>\n",
              "\t<tr><td>PHI</td><td>ATL</td><td> 4</td><td>1</td><td>3</td><td>92</td><td>pass</td><td>3264</td><td>Half1</td><td>0</td><td>⋯</td><td> 0</td><td>0.4353245</td><td>0.5646755</td><td>1</td><td>-0.9514602</td><td>0.9514602</td><td>-1.9244109</td><td> 1.9244109</td><td> 6.000000</td><td>0</td></tr>\n",
              "\t<tr><td>ATL</td><td>PHI</td><td>10</td><td>1</td><td>1</td><td>44</td><td>pass</td><td>3248</td><td>Half1</td><td>0</td><td>⋯</td><td> 0</td><td>0.5941857</td><td>0.4058143</td><td>1</td><td>-0.9514602</td><td>0.9514602</td><td>-1.3726915</td><td> 1.3726915</td><td>16.000000</td><td>0</td></tr>\n",
              "\t<tr><td>ATL</td><td>PHI</td><td>10</td><td>1</td><td>2</td><td>44</td><td>run </td><td>3242</td><td>Half1</td><td>0</td><td>⋯</td><td> 0</td><td>0.5763052</td><td>0.4236948</td><td>1</td><td>-0.7669357</td><td>0.7669357</td><td>-1.3726915</td><td> 1.3726915</td><td> 8.056591</td><td>0</td></tr>\n",
              "\t<tr><td>ATL</td><td>PHI</td><td>10</td><td>1</td><td>1</td><td>33</td><td>run </td><td>3158</td><td>Half1</td><td>0</td><td>⋯</td><td> 0</td><td>0.6165351</td><td>0.3834649</td><td>1</td><td>-1.3522153</td><td>1.3522153</td><td>-1.3726915</td><td> 1.3726915</td><td> 8.056591</td><td>0</td></tr>\n",
              "\t<tr><td>ATL</td><td>PHI</td><td>13</td><td>1</td><td>2</td><td>36</td><td>pass</td><td>3121</td><td>Half1</td><td>0</td><td>⋯</td><td> 0</td><td>0.5931906</td><td>0.4068094</td><td>1</td><td>-1.3522153</td><td>1.3522153</td><td>-3.2590222</td><td> 3.2590222</td><td>-9.000000</td><td>0</td></tr>\n",
              "\t<tr><td>ATL</td><td>PHI</td><td>10</td><td>1</td><td>1</td><td>10</td><td>pass</td><td>3079</td><td>Half1</td><td>0</td><td>⋯</td><td> 0</td><td>0.6714355</td><td>0.3285645</td><td>1</td><td>-1.3522153</td><td>1.3522153</td><td>-3.1681193</td><td> 3.1681193</td><td> 2.000000</td><td>0</td></tr>\n",
              "\t<tr><td>ATL</td><td>PHI</td><td> 7</td><td>1</td><td>2</td><td> 7</td><td>pass</td><td>3038</td><td>Half1</td><td>0</td><td>⋯</td><td> 0</td><td>0.6681793</td><td>0.3318207</td><td>1</td><td>-1.3522153</td><td>1.3522153</td><td>-2.4288351</td><td> 2.4288351</td><td> 7.000000</td><td>0</td></tr>\n",
              "\t<tr><td>ATL</td><td>PHI</td><td> 3</td><td>1</td><td>3</td><td> 3</td><td>pass</td><td>3007</td><td>Half1</td><td>0</td><td>⋯</td><td> 0</td><td>0.6641670</td><td>0.3358330</td><td>1</td><td>-1.3522153</td><td>1.3522153</td><td>-0.4702521</td><td> 0.4702521</td><td> 3.000000</td><td>0</td></tr>\n",
              "\t<tr><td>PHI</td><td>ATL</td><td> 4</td><td>1</td><td>2</td><td>63</td><td>pass</td><td>2926</td><td>Half1</td><td>0</td><td>⋯</td><td>-3</td><td>0.4381452</td><td>0.5618548</td><td>1</td><td>-1.9263028</td><td>1.9263028</td><td> 0.2494155</td><td>-0.2494155</td><td> 5.000000</td><td>0</td></tr>\n",
              "\t<tr><td>PHI</td><td>ATL</td><td>10</td><td>1</td><td>1</td><td>57</td><td>pass</td><td>2886</td><td>Half1</td><td>0</td><td>⋯</td><td>-3</td><td>0.4561219</td><td>0.5438781</td><td>1</td><td>-1.9263028</td><td>1.9263028</td><td>-1.2557422</td><td> 1.2557422</td><td> 8.056591</td><td>0</td></tr>\n",
              "\t<tr><td>PHI</td><td>ATL</td><td>17</td><td>1</td><td>2</td><td>64</td><td>run </td><td>2844</td><td>Half1</td><td>0</td><td>⋯</td><td>-3</td><td>0.4071077</td><td>0.5928923</td><td>1</td><td>-2.9536479</td><td>2.9536479</td><td>-1.2557422</td><td> 1.2557422</td><td> 8.056591</td><td>0</td></tr>\n",
              "\t<tr><td>ATL</td><td>PHI</td><td>10</td><td>1</td><td>2</td><td>80</td><td>run </td><td>2726</td><td>Half1</td><td>3</td><td>⋯</td><td> 3</td><td>0.5740003</td><td>0.4259997</td><td>1</td><td>-1.7573343</td><td>1.7573343</td><td>-2.6597350</td><td> 2.6597350</td><td> 8.056591</td><td>0</td></tr>\n",
              "\t<tr><td>ATL</td><td>PHI</td><td>12</td><td>2</td><td>3</td><td>82</td><td>pass</td><td>2700</td><td>Half1</td><td>3</td><td>⋯</td><td> 3</td><td>0.5350114</td><td>0.4649886</td><td>1</td><td>-1.7573343</td><td>1.7573343</td><td>-1.0498207</td><td> 1.0498207</td><td>-7.000000</td><td>0</td></tr>\n",
              "\t<tr><td>PHI</td><td>ATL</td><td>10</td><td>2</td><td>1</td><td>60</td><td>pass</td><td>2652</td><td>Half1</td><td>0</td><td>⋯</td><td>-3</td><td>0.4342663</td><td>0.5657337</td><td>1</td><td>-1.7573343</td><td>1.7573343</td><td>-1.5667188</td><td> 1.5667188</td><td>-1.000000</td><td>0</td></tr>\n",
              "\t<tr><td>PHI</td><td>ATL</td><td> 9</td><td>2</td><td>2</td><td>59</td><td>run </td><td>2617</td><td>Half1</td><td>0</td><td>⋯</td><td>-3</td><td>0.4186067</td><td>0.5813933</td><td>1</td><td>-2.3627142</td><td>2.3627142</td><td>-1.5667188</td><td> 1.5667188</td><td> 8.056591</td><td>0</td></tr>\n",
              "\t<tr><td>PHI</td><td>ATL</td><td>10</td><td>2</td><td>1</td><td>47</td><td>pass</td><td>2534</td><td>Half1</td><td>0</td><td>⋯</td><td>-3</td><td>0.4615297</td><td>0.5384703</td><td>1</td><td>-2.3627142</td><td>2.3627142</td><td> 0.5896504</td><td>-0.5896504</td><td> 5.000000</td><td>0</td></tr>\n",
              "\t<tr><td>PHI</td><td>ATL</td><td> 4</td><td>2</td><td>2</td><td>41</td><td>pass</td><td>2503</td><td>Half1</td><td>0</td><td>⋯</td><td>-3</td><td>0.4677129</td><td>0.5322871</td><td>1</td><td>-2.3627142</td><td>2.3627142</td><td> 1.2307232</td><td>-1.2307232</td><td> 6.000000</td><td>0</td></tr>\n",
              "\t<tr><td>PHI</td><td>ATL</td><td>10</td><td>2</td><td>1</td><td>31</td><td>run </td><td>2479</td><td>Half1</td><td>0</td><td>⋯</td><td>-3</td><td>0.4883591</td><td>0.5116409</td><td>1</td><td>-2.0470606</td><td>2.0470606</td><td> 1.2307232</td><td>-1.2307232</td><td> 8.056591</td><td>0</td></tr>\n",
              "\t<tr><td>PHI</td><td>ATL</td><td>10</td><td>2</td><td>1</td><td>20</td><td>run </td><td>2382</td><td>Half1</td><td>0</td><td>⋯</td><td>-3</td><td>0.5070075</td><td>0.4929925</td><td>1</td><td>-2.4494476</td><td>2.4494476</td><td> 1.2307232</td><td>-1.2307232</td><td> 8.056591</td><td>0</td></tr>\n",
              "\t<tr><td>PHI</td><td>ATL</td><td>10</td><td>2</td><td>2</td><td>20</td><td>pass</td><td>2347</td><td>Half1</td><td>0</td><td>⋯</td><td>-3</td><td>0.4967180</td><td>0.5032820</td><td>1</td><td>-2.4494476</td><td>2.4494476</td><td> 0.6862234</td><td>-0.6862234</td><td> 3.000000</td><td>0</td></tr>\n",
              "\t<tr><td>PHI</td><td>ATL</td><td>18</td><td>2</td><td>3</td><td>18</td><td>pass</td><td>2213</td><td>Half1</td><td>0</td><td>⋯</td><td>-3</td><td>0.4939609</td><td>0.5060391</td><td>1</td><td>-3.0459451</td><td>3.0459451</td><td>-0.1671853</td><td> 0.1671853</td><td>11.000000</td><td>0</td></tr>\n",
              "\t<tr><td>⋮</td><td>⋮</td><td>⋮</td><td>⋮</td><td>⋮</td><td>⋮</td><td>⋮</td><td>⋮</td><td>⋮</td><td>⋮</td><td>⋱</td><td>⋮</td><td>⋮</td><td>⋮</td><td>⋮</td><td>⋮</td><td>⋮</td><td>⋮</td><td>⋮</td><td>⋮</td><td>⋮</td></tr>\n",
              "\t<tr><td>SEA</td><td>SF </td><td> 8</td><td>4</td><td>2</td><td>22</td><td>pass</td><td>750</td><td>Half2</td><td> 7</td><td>⋯</td><td>-12</td><td>0.18648901</td><td>0.8135110</td><td>17</td><td>-5.411955</td><td>5.411955</td><td>-7.1465804</td><td> 7.1465804</td><td>-2.000000</td><td>0</td></tr>\n",
              "\t<tr><td>SEA</td><td>SF </td><td> 3</td><td>4</td><td>3</td><td>17</td><td>pass</td><td>700</td><td>Half2</td><td> 7</td><td>⋯</td><td>-12</td><td>0.17649003</td><td>0.8235100</td><td>17</td><td>-5.411955</td><td>5.411955</td><td>-6.2465456</td><td> 6.2465456</td><td> 3.000000</td><td>0</td></tr>\n",
              "\t<tr><td>SEA</td><td>SF </td><td>10</td><td>4</td><td>1</td><td>11</td><td>run </td><td>676</td><td>Half2</td><td> 7</td><td>⋯</td><td>-12</td><td>0.20103997</td><td>0.7989600</td><td>17</td><td>-5.732193</td><td>5.732193</td><td>-6.2465456</td><td> 6.2465456</td><td> 8.056591</td><td>0</td></tr>\n",
              "\t<tr><td>SEA</td><td>SF </td><td> 8</td><td>4</td><td>2</td><td> 9</td><td>pass</td><td>648</td><td>Half2</td><td> 7</td><td>⋯</td><td>-12</td><td>0.18952355</td><td>0.8104764</td><td>17</td><td>-5.732193</td><td>5.732193</td><td>-4.0902345</td><td> 4.0902345</td><td> 8.000000</td><td>0</td></tr>\n",
              "\t<tr><td>SEA</td><td>SF </td><td> 1</td><td>4</td><td>1</td><td> 1</td><td>run </td><td>599</td><td>Half2</td><td> 7</td><td>⋯</td><td>-12</td><td>0.25869735</td><td>0.7413027</td><td>17</td><td>-5.201342</td><td>5.201342</td><td>-4.0902345</td><td> 4.0902345</td><td> 8.056591</td><td>1</td></tr>\n",
              "\t<tr><td>SF </td><td>SEA</td><td>10</td><td>4</td><td>1</td><td>75</td><td>run </td><td>595</td><td>Half2</td><td>19</td><td>⋯</td><td>  5</td><td>0.72188920</td><td>0.2781108</td><td>17</td><td>-5.656899</td><td>5.656899</td><td>-4.0902345</td><td> 4.0902345</td><td> 8.056591</td><td>0</td></tr>\n",
              "\t<tr><td>SF </td><td>SEA</td><td>10</td><td>4</td><td>1</td><td>55</td><td>pass</td><td>517</td><td>Half2</td><td>19</td><td>⋯</td><td>  5</td><td>0.78875123</td><td>0.2112488</td><td>17</td><td>-6.701155</td><td>6.701155</td><td>-5.0369201</td><td> 5.0369201</td><td>-1.000000</td><td>0</td></tr>\n",
              "\t<tr><td>SF </td><td>SEA</td><td>10</td><td>4</td><td>1</td><td>39</td><td>run </td><td>478</td><td>Half2</td><td>19</td><td>⋯</td><td>  5</td><td>0.82567471</td><td>0.1743253</td><td>17</td><td>-6.784784</td><td>6.784784</td><td>-5.0369201</td><td> 5.0369201</td><td> 8.056591</td><td>0</td></tr>\n",
              "\t<tr><td>SF </td><td>SEA</td><td> 4</td><td>4</td><td>2</td><td>33</td><td>run </td><td>437</td><td>Half2</td><td>19</td><td>⋯</td><td>  5</td><td>0.83550129</td><td>0.1644987</td><td>17</td><td>-5.933237</td><td>5.933237</td><td>-5.0369201</td><td> 5.0369201</td><td> 8.056591</td><td>0</td></tr>\n",
              "\t<tr><td>SF </td><td>SEA</td><td> 5</td><td>4</td><td>3</td><td>34</td><td>pass</td><td>394</td><td>Half2</td><td>19</td><td>⋯</td><td>  5</td><td>0.81790115</td><td>0.1820988</td><td>17</td><td>-5.933237</td><td>5.933237</td><td>-6.7273999</td><td> 6.7273999</td><td>18.000000</td><td>0</td></tr>\n",
              "\t<tr><td>SEA</td><td>SF </td><td>10</td><td>4</td><td>1</td><td>60</td><td>pass</td><td>351</td><td>Half2</td><td>14</td><td>⋯</td><td>-12</td><td>0.09583381</td><td>0.9041662</td><td>17</td><td>-8.564021</td><td>8.564021</td><td>-5.9042196</td><td> 5.9042196</td><td>10.000000</td><td>0</td></tr>\n",
              "\t<tr><td>SEA</td><td>SF </td><td>10</td><td>4</td><td>2</td><td>47</td><td>run </td><td>324</td><td>Half2</td><td>14</td><td>⋯</td><td>-12</td><td>0.09691607</td><td>0.9030839</td><td>17</td><td>-7.386093</td><td>7.386093</td><td>-6.3950106</td><td> 6.3950106</td><td> 8.056591</td><td>0</td></tr>\n",
              "\t<tr><td>SEA</td><td>SF </td><td>10</td><td>4</td><td>1</td><td>34</td><td>pass</td><td>302</td><td>Half2</td><td>14</td><td>⋯</td><td>-12</td><td>0.11787089</td><td>0.8821291</td><td>17</td><td>-7.386093</td><td>7.386093</td><td>-6.8478645</td><td> 6.8478645</td><td>27.000000</td><td>0</td></tr>\n",
              "\t<tr><td>SEA</td><td>SF </td><td>10</td><td>4</td><td>2</td><td>34</td><td>run </td><td>296</td><td>Half2</td><td>14</td><td>⋯</td><td>-12</td><td>0.10567539</td><td>0.8943246</td><td>17</td><td>-7.758700</td><td>7.758700</td><td>-6.8478645</td><td> 6.8478645</td><td> 8.056591</td><td>0</td></tr>\n",
              "\t<tr><td>SEA</td><td>SF </td><td>10</td><td>4</td><td>1</td><td>16</td><td>run </td><td>257</td><td>Half2</td><td>14</td><td>⋯</td><td>-12</td><td>0.12312183</td><td>0.8768782</td><td>17</td><td>-8.108203</td><td>8.108203</td><td>-6.8478645</td><td> 6.8478645</td><td> 8.056591</td><td>0</td></tr>\n",
              "\t<tr><td>SF </td><td>SEA</td><td>10</td><td>4</td><td>1</td><td>79</td><td>run </td><td>215</td><td>Half2</td><td>26</td><td>⋯</td><td>  5</td><td>0.80355989</td><td>0.1964401</td><td>17</td><td>-7.936155</td><td>7.936155</td><td>-3.6218919</td><td> 3.6218919</td><td> 8.056591</td><td>0</td></tr>\n",
              "\t<tr><td>SF </td><td>SEA</td><td>17</td><td>4</td><td>3</td><td>86</td><td>pass</td><td>163</td><td>Half2</td><td>26</td><td>⋯</td><td>  5</td><td>0.77400286</td><td>0.2259971</td><td>17</td><td>-6.785425</td><td>6.785425</td><td>-4.1520524</td><td> 4.1520524</td><td>-2.000000</td><td>0</td></tr>\n",
              "\t<tr><td>SEA</td><td>SF </td><td> 5</td><td>4</td><td>2</td><td>68</td><td>pass</td><td>121</td><td>Half2</td><td>21</td><td>⋯</td><td> -5</td><td>0.18683363</td><td>0.8131664</td><td>17</td><td>-6.785425</td><td>6.785425</td><td>-3.2385227</td><td> 3.2385227</td><td>10.000000</td><td>0</td></tr>\n",
              "\t<tr><td>SEA</td><td>SF </td><td>10</td><td>4</td><td>1</td><td>58</td><td>pass</td><td>116</td><td>Half2</td><td>21</td><td>⋯</td><td> -5</td><td>0.24771450</td><td>0.7522855</td><td>17</td><td>-6.785425</td><td>6.785425</td><td>-3.5182034</td><td> 3.5182034</td><td>10.000000</td><td>0</td></tr>\n",
              "\t<tr><td>SEA</td><td>SF </td><td>10</td><td>4</td><td>2</td><td>58</td><td>pass</td><td>112</td><td>Half2</td><td>21</td><td>⋯</td><td> -5</td><td>0.22351995</td><td>0.7764800</td><td>17</td><td>-6.785425</td><td>6.785425</td><td>-2.7485777</td><td> 2.7485777</td><td>-1.000000</td><td>0</td></tr>\n",
              "\t<tr><td>SEA</td><td>SF </td><td>10</td><td>4</td><td>1</td><td>47</td><td>pass</td><td>106</td><td>Half2</td><td>21</td><td>⋯</td><td> -5</td><td>0.27061348</td><td>0.7293865</td><td>17</td><td>-6.785425</td><td>6.785425</td><td>-1.6979632</td><td> 1.6979632</td><td>16.000000</td><td>0</td></tr>\n",
              "\t<tr><td>SEA</td><td>SF </td><td>10</td><td>4</td><td>1</td><td>23</td><td>pass</td><td> 97</td><td>Half2</td><td>21</td><td>⋯</td><td> -5</td><td>0.34879053</td><td>0.6512095</td><td>17</td><td>-6.785425</td><td>6.785425</td><td>-2.0074602</td><td> 2.0074602</td><td>12.000000</td><td>0</td></tr>\n",
              "\t<tr><td>SEA</td><td>SF </td><td>10</td><td>4</td><td>2</td><td>23</td><td>pass</td><td> 93</td><td>Half2</td><td>21</td><td>⋯</td><td> -5</td><td>0.31484573</td><td>0.6851543</td><td>17</td><td>-6.785425</td><td>6.785425</td><td>-1.4228406</td><td> 1.4228406</td><td> 5.000000</td><td>0</td></tr>\n",
              "\t<tr><td>SEA</td><td>SF </td><td>10</td><td>4</td><td>1</td><td>12</td><td>pass</td><td> 55</td><td>Half2</td><td>21</td><td>⋯</td><td> -5</td><td>0.30183682</td><td>0.6981632</td><td>17</td><td>-6.785425</td><td>6.785425</td><td>-1.7409221</td><td> 1.7409221</td><td>12.000000</td><td>0</td></tr>\n",
              "\t<tr><td>SEA</td><td>SF </td><td>10</td><td>4</td><td>2</td><td>12</td><td>pass</td><td> 51</td><td>Half2</td><td>21</td><td>⋯</td><td> -5</td><td>0.24857020</td><td>0.7514298</td><td>17</td><td>-6.785425</td><td>6.785425</td><td>-2.2269417</td><td> 2.2269417</td><td>12.000000</td><td>0</td></tr>\n",
              "\t<tr><td>SEA</td><td>SF </td><td>10</td><td>4</td><td>3</td><td>12</td><td>pass</td><td> 46</td><td>Half2</td><td>21</td><td>⋯</td><td> -5</td><td>0.16121868</td><td>0.8387813</td><td>17</td><td>-6.785425</td><td>6.785425</td><td>-2.2269417</td><td> 2.2269417</td><td>12.000000</td><td>0</td></tr>\n",
              "\t<tr><td>SEA</td><td>SF </td><td>10</td><td>4</td><td>4</td><td>12</td><td>pass</td><td> 42</td><td>Half2</td><td>21</td><td>⋯</td><td> -5</td><td>0.11088372</td><td>0.8891163</td><td>17</td><td>-6.785425</td><td>6.785425</td><td> 1.3059368</td><td>-1.3059368</td><td>11.000000</td><td>0</td></tr>\n",
              "\t<tr><td>SEA</td><td>SF </td><td> 5</td><td>4</td><td>2</td><td> 5</td><td>pass</td><td> 22</td><td>Half2</td><td>21</td><td>⋯</td><td> -5</td><td>0.23589627</td><td>0.7641037</td><td>17</td><td>-6.785425</td><td>6.785425</td><td> 0.6444931</td><td>-0.6444931</td><td> 5.000000</td><td>0</td></tr>\n",
              "\t<tr><td>SEA</td><td>SF </td><td> 5</td><td>4</td><td>3</td><td> 5</td><td>pass</td><td> 15</td><td>Half2</td><td>21</td><td>⋯</td><td> -5</td><td>0.06870064</td><td>0.9312994</td><td>17</td><td>-6.785425</td><td>6.785425</td><td>-0.2675583</td><td> 0.2675583</td><td> 5.000000</td><td>0</td></tr>\n",
              "\t<tr><td>SEA</td><td>SF </td><td> 5</td><td>4</td><td>4</td><td> 5</td><td>pass</td><td> 12</td><td>Half2</td><td>21</td><td>⋯</td><td> -5</td><td>0.02614141</td><td>0.9738586</td><td>17</td><td>-6.785425</td><td>6.785425</td><td>-2.9040492</td><td> 2.9040492</td><td> 4.000000</td><td>0</td></tr>\n",
              "</tbody>\n",
              "</table>\n"
            ]
          },
          "metadata": {
            "tags": []
          }
        }
      ]
    },
    {
      "cell_type": "markdown",
      "metadata": {
        "id": "0kGgkUls6Vhg",
        "colab_type": "text"
      },
      "source": [
        "pass_location 2 many NA's"
      ]
    },
    {
      "cell_type": "code",
      "metadata": {
        "id": "GYGWinwE6XpM",
        "colab_type": "code",
        "colab": {}
      },
      "source": [
        "nfl_test_prep <- bake(nfl_prepped, nfl_test)"
      ],
      "execution_count": 18,
      "outputs": []
    },
    {
      "cell_type": "code",
      "metadata": {
        "id": "3SvM-OO56sBT",
        "colab_type": "code",
        "colab": {}
      },
      "source": [
        "rand_forest() %>%\n",
        "set_args(mtry = tune(),\n",
        "          trees = tune()) %>%\n",
        "set_engine(\"ranger\", importance = \"impurity\") %>%\n",
        "set_mode(\"classification\") -> rf_model"
      ],
      "execution_count": 19,
      "outputs": []
    },
    {
      "cell_type": "code",
      "metadata": {
        "id": "O5Lw3VEn6-uj",
        "colab_type": "code",
        "colab": {}
      },
      "source": [
        "rf_workflow <- workflow() %>%\n",
        "  add_recipe(nfl_prepped) %>%\n",
        "  add_model(rf_model)"
      ],
      "execution_count": 20,
      "outputs": []
    },
    {
      "cell_type": "code",
      "metadata": {
        "id": "A6AChe7F7fYB",
        "colab_type": "code",
        "colab": {
          "base_uri": "https://localhost:8080/",
          "height": 277
        },
        "outputId": "c6a2e01d-1ccc-41ff-8ceb-d640c372fbb1"
      },
      "source": [
        "expand.grid(mtry = c(3,4,5), trees = c(25, 50, 100))"
      ],
      "execution_count": 24,
      "outputs": [
        {
          "output_type": "display_data",
          "data": {
            "text/plain": [
              "  mtry trees\n",
              "1 3     25  \n",
              "2 4     25  \n",
              "3 5     25  \n",
              "4 3     50  \n",
              "5 4     50  \n",
              "6 5     50  \n",
              "7 3    100  \n",
              "8 4    100  \n",
              "9 5    100  "
            ],
            "text/latex": "A data.frame: 9 × 2\n\\begin{tabular}{ll}\n mtry & trees\\\\\n <dbl> & <dbl>\\\\\n\\hline\n\t 3 &  25\\\\\n\t 4 &  25\\\\\n\t 5 &  25\\\\\n\t 3 &  50\\\\\n\t 4 &  50\\\\\n\t 5 &  50\\\\\n\t 3 & 100\\\\\n\t 4 & 100\\\\\n\t 5 & 100\\\\\n\\end{tabular}\n",
            "text/markdown": "\nA data.frame: 9 × 2\n\n| mtry &lt;dbl&gt; | trees &lt;dbl&gt; |\n|---|---|\n| 3 |  25 |\n| 4 |  25 |\n| 5 |  25 |\n| 3 |  50 |\n| 4 |  50 |\n| 5 |  50 |\n| 3 | 100 |\n| 4 | 100 |\n| 5 | 100 |\n\n",
            "text/html": [
              "<table>\n",
              "<caption>A data.frame: 9 × 2</caption>\n",
              "<thead>\n",
              "\t<tr><th scope=col>mtry</th><th scope=col>trees</th></tr>\n",
              "\t<tr><th scope=col>&lt;dbl&gt;</th><th scope=col>&lt;dbl&gt;</th></tr>\n",
              "</thead>\n",
              "<tbody>\n",
              "\t<tr><td>3</td><td> 25</td></tr>\n",
              "\t<tr><td>4</td><td> 25</td></tr>\n",
              "\t<tr><td>5</td><td> 25</td></tr>\n",
              "\t<tr><td>3</td><td> 50</td></tr>\n",
              "\t<tr><td>4</td><td> 50</td></tr>\n",
              "\t<tr><td>5</td><td> 50</td></tr>\n",
              "\t<tr><td>3</td><td>100</td></tr>\n",
              "\t<tr><td>4</td><td>100</td></tr>\n",
              "\t<tr><td>5</td><td>100</td></tr>\n",
              "</tbody>\n",
              "</table>\n"
            ]
          },
          "metadata": {
            "tags": []
          }
        }
      ]
    },
    {
      "cell_type": "code",
      "metadata": {
        "id": "Sc3xESuG7uRg",
        "colab_type": "code",
        "colab": {}
      },
      "source": [
        "rf_grid <- expand.grid(mtry = c(3,4,5), trees = c(25,50,100))\n",
        "\n",
        "rf_workflow %>%\n",
        "tune_grid(resamples = nfl_cv,\n",
        "            grid = rf_grid,\n",
        "            metrics = metric_set(accuracy, roc_auc)) -> rf_tune_results"
      ],
      "execution_count": 21,
      "outputs": []
    },
    {
      "cell_type": "code",
      "metadata": {
        "id": "YyLqxwz5_XsD",
        "colab_type": "code",
        "colab": {
          "base_uri": "https://localhost:8080/",
          "height": 444
        },
        "outputId": "850387cc-5625-42b1-c2b1-54bd0e11cf84"
      },
      "source": [
        "rf_tune_results %>%\n",
        "  collect_metrics()"
      ],
      "execution_count": 22,
      "outputs": [
        {
          "output_type": "display_data",
          "data": {
            "text/plain": [
              "   mtry trees .metric  .estimator mean      n  std_err      .config\n",
              "1  3     25   accuracy binary     0.9579795 10 0.0007051420 Model1 \n",
              "2  3     25   roc_auc  binary     0.8878692 10 0.0025984947 Model1 \n",
              "3  4     25   accuracy binary     0.9588371 10 0.0009248408 Model2 \n",
              "4  4     25   roc_auc  binary     0.8918749 10 0.0036497224 Model2 \n",
              "5  5     25   accuracy binary     0.9583142 10 0.0008214297 Model3 \n",
              "6  5     25   roc_auc  binary     0.8891199 10 0.0021139588 Model3 \n",
              "7  3     50   accuracy binary     0.9582096 10 0.0008878342 Model4 \n",
              "8  3     50   roc_auc  binary     0.9010815 10 0.0029712703 Model4 \n",
              "9  4     50   accuracy binary     0.9587743 10 0.0007140474 Model5 \n",
              "10 4     50   roc_auc  binary     0.8978655 10 0.0021860247 Model5 \n",
              "11 5     50   accuracy binary     0.9582305 10 0.0007151358 Model6 \n",
              "12 5     50   roc_auc  binary     0.8991928 10 0.0029358220 Model6 \n",
              "13 3    100   accuracy binary     0.9581887 10 0.0008575612 Model7 \n",
              "14 3    100   roc_auc  binary     0.9061483 10 0.0025394869 Model7 \n",
              "15 4    100   accuracy binary     0.9585233 10 0.0008786156 Model8 \n",
              "16 4    100   roc_auc  binary     0.9077624 10 0.0029734687 Model8 \n",
              "17 5    100   accuracy binary     0.9582932 10 0.0008315165 Model9 \n",
              "18 5    100   roc_auc  binary     0.9096806 10 0.0023136185 Model9 "
            ],
            "text/latex": "A tibble: 18 × 8\n\\begin{tabular}{llllllll}\n mtry & trees & .metric & .estimator & mean & n & std\\_err & .config\\\\\n <dbl> & <dbl> & <chr> & <chr> & <dbl> & <int> & <dbl> & <fct>\\\\\n\\hline\n\t 3 &  25 & accuracy & binary & 0.9579795 & 10 & 0.0007051420 & Model1\\\\\n\t 3 &  25 & roc\\_auc  & binary & 0.8878692 & 10 & 0.0025984947 & Model1\\\\\n\t 4 &  25 & accuracy & binary & 0.9588371 & 10 & 0.0009248408 & Model2\\\\\n\t 4 &  25 & roc\\_auc  & binary & 0.8918749 & 10 & 0.0036497224 & Model2\\\\\n\t 5 &  25 & accuracy & binary & 0.9583142 & 10 & 0.0008214297 & Model3\\\\\n\t 5 &  25 & roc\\_auc  & binary & 0.8891199 & 10 & 0.0021139588 & Model3\\\\\n\t 3 &  50 & accuracy & binary & 0.9582096 & 10 & 0.0008878342 & Model4\\\\\n\t 3 &  50 & roc\\_auc  & binary & 0.9010815 & 10 & 0.0029712703 & Model4\\\\\n\t 4 &  50 & accuracy & binary & 0.9587743 & 10 & 0.0007140474 & Model5\\\\\n\t 4 &  50 & roc\\_auc  & binary & 0.8978655 & 10 & 0.0021860247 & Model5\\\\\n\t 5 &  50 & accuracy & binary & 0.9582305 & 10 & 0.0007151358 & Model6\\\\\n\t 5 &  50 & roc\\_auc  & binary & 0.8991928 & 10 & 0.0029358220 & Model6\\\\\n\t 3 & 100 & accuracy & binary & 0.9581887 & 10 & 0.0008575612 & Model7\\\\\n\t 3 & 100 & roc\\_auc  & binary & 0.9061483 & 10 & 0.0025394869 & Model7\\\\\n\t 4 & 100 & accuracy & binary & 0.9585233 & 10 & 0.0008786156 & Model8\\\\\n\t 4 & 100 & roc\\_auc  & binary & 0.9077624 & 10 & 0.0029734687 & Model8\\\\\n\t 5 & 100 & accuracy & binary & 0.9582932 & 10 & 0.0008315165 & Model9\\\\\n\t 5 & 100 & roc\\_auc  & binary & 0.9096806 & 10 & 0.0023136185 & Model9\\\\\n\\end{tabular}\n",
            "text/markdown": "\nA tibble: 18 × 8\n\n| mtry &lt;dbl&gt; | trees &lt;dbl&gt; | .metric &lt;chr&gt; | .estimator &lt;chr&gt; | mean &lt;dbl&gt; | n &lt;int&gt; | std_err &lt;dbl&gt; | .config &lt;fct&gt; |\n|---|---|---|---|---|---|---|---|\n| 3 |  25 | accuracy | binary | 0.9579795 | 10 | 0.0007051420 | Model1 |\n| 3 |  25 | roc_auc  | binary | 0.8878692 | 10 | 0.0025984947 | Model1 |\n| 4 |  25 | accuracy | binary | 0.9588371 | 10 | 0.0009248408 | Model2 |\n| 4 |  25 | roc_auc  | binary | 0.8918749 | 10 | 0.0036497224 | Model2 |\n| 5 |  25 | accuracy | binary | 0.9583142 | 10 | 0.0008214297 | Model3 |\n| 5 |  25 | roc_auc  | binary | 0.8891199 | 10 | 0.0021139588 | Model3 |\n| 3 |  50 | accuracy | binary | 0.9582096 | 10 | 0.0008878342 | Model4 |\n| 3 |  50 | roc_auc  | binary | 0.9010815 | 10 | 0.0029712703 | Model4 |\n| 4 |  50 | accuracy | binary | 0.9587743 | 10 | 0.0007140474 | Model5 |\n| 4 |  50 | roc_auc  | binary | 0.8978655 | 10 | 0.0021860247 | Model5 |\n| 5 |  50 | accuracy | binary | 0.9582305 | 10 | 0.0007151358 | Model6 |\n| 5 |  50 | roc_auc  | binary | 0.8991928 | 10 | 0.0029358220 | Model6 |\n| 3 | 100 | accuracy | binary | 0.9581887 | 10 | 0.0008575612 | Model7 |\n| 3 | 100 | roc_auc  | binary | 0.9061483 | 10 | 0.0025394869 | Model7 |\n| 4 | 100 | accuracy | binary | 0.9585233 | 10 | 0.0008786156 | Model8 |\n| 4 | 100 | roc_auc  | binary | 0.9077624 | 10 | 0.0029734687 | Model8 |\n| 5 | 100 | accuracy | binary | 0.9582932 | 10 | 0.0008315165 | Model9 |\n| 5 | 100 | roc_auc  | binary | 0.9096806 | 10 | 0.0023136185 | Model9 |\n\n",
            "text/html": [
              "<table>\n",
              "<caption>A tibble: 18 × 8</caption>\n",
              "<thead>\n",
              "\t<tr><th scope=col>mtry</th><th scope=col>trees</th><th scope=col>.metric</th><th scope=col>.estimator</th><th scope=col>mean</th><th scope=col>n</th><th scope=col>std_err</th><th scope=col>.config</th></tr>\n",
              "\t<tr><th scope=col>&lt;dbl&gt;</th><th scope=col>&lt;dbl&gt;</th><th scope=col>&lt;chr&gt;</th><th scope=col>&lt;chr&gt;</th><th scope=col>&lt;dbl&gt;</th><th scope=col>&lt;int&gt;</th><th scope=col>&lt;dbl&gt;</th><th scope=col>&lt;fct&gt;</th></tr>\n",
              "</thead>\n",
              "<tbody>\n",
              "\t<tr><td>3</td><td> 25</td><td>accuracy</td><td>binary</td><td>0.9579795</td><td>10</td><td>0.0007051420</td><td>Model1</td></tr>\n",
              "\t<tr><td>3</td><td> 25</td><td>roc_auc </td><td>binary</td><td>0.8878692</td><td>10</td><td>0.0025984947</td><td>Model1</td></tr>\n",
              "\t<tr><td>4</td><td> 25</td><td>accuracy</td><td>binary</td><td>0.9588371</td><td>10</td><td>0.0009248408</td><td>Model2</td></tr>\n",
              "\t<tr><td>4</td><td> 25</td><td>roc_auc </td><td>binary</td><td>0.8918749</td><td>10</td><td>0.0036497224</td><td>Model2</td></tr>\n",
              "\t<tr><td>5</td><td> 25</td><td>accuracy</td><td>binary</td><td>0.9583142</td><td>10</td><td>0.0008214297</td><td>Model3</td></tr>\n",
              "\t<tr><td>5</td><td> 25</td><td>roc_auc </td><td>binary</td><td>0.8891199</td><td>10</td><td>0.0021139588</td><td>Model3</td></tr>\n",
              "\t<tr><td>3</td><td> 50</td><td>accuracy</td><td>binary</td><td>0.9582096</td><td>10</td><td>0.0008878342</td><td>Model4</td></tr>\n",
              "\t<tr><td>3</td><td> 50</td><td>roc_auc </td><td>binary</td><td>0.9010815</td><td>10</td><td>0.0029712703</td><td>Model4</td></tr>\n",
              "\t<tr><td>4</td><td> 50</td><td>accuracy</td><td>binary</td><td>0.9587743</td><td>10</td><td>0.0007140474</td><td>Model5</td></tr>\n",
              "\t<tr><td>4</td><td> 50</td><td>roc_auc </td><td>binary</td><td>0.8978655</td><td>10</td><td>0.0021860247</td><td>Model5</td></tr>\n",
              "\t<tr><td>5</td><td> 50</td><td>accuracy</td><td>binary</td><td>0.9582305</td><td>10</td><td>0.0007151358</td><td>Model6</td></tr>\n",
              "\t<tr><td>5</td><td> 50</td><td>roc_auc </td><td>binary</td><td>0.8991928</td><td>10</td><td>0.0029358220</td><td>Model6</td></tr>\n",
              "\t<tr><td>3</td><td>100</td><td>accuracy</td><td>binary</td><td>0.9581887</td><td>10</td><td>0.0008575612</td><td>Model7</td></tr>\n",
              "\t<tr><td>3</td><td>100</td><td>roc_auc </td><td>binary</td><td>0.9061483</td><td>10</td><td>0.0025394869</td><td>Model7</td></tr>\n",
              "\t<tr><td>4</td><td>100</td><td>accuracy</td><td>binary</td><td>0.9585233</td><td>10</td><td>0.0008786156</td><td>Model8</td></tr>\n",
              "\t<tr><td>4</td><td>100</td><td>roc_auc </td><td>binary</td><td>0.9077624</td><td>10</td><td>0.0029734687</td><td>Model8</td></tr>\n",
              "\t<tr><td>5</td><td>100</td><td>accuracy</td><td>binary</td><td>0.9582932</td><td>10</td><td>0.0008315165</td><td>Model9</td></tr>\n",
              "\t<tr><td>5</td><td>100</td><td>roc_auc </td><td>binary</td><td>0.9096806</td><td>10</td><td>0.0023136185</td><td>Model9</td></tr>\n",
              "</tbody>\n",
              "</table>\n"
            ]
          },
          "metadata": {
            "tags": []
          }
        }
      ]
    },
    {
      "cell_type": "code",
      "metadata": {
        "id": "6x89LZyl-ERe",
        "colab_type": "code",
        "colab": {
          "base_uri": "https://localhost:8080/",
          "height": 97
        },
        "outputId": "eb529bfe-7d5d-4ad0-a2b4-7daf6ba558e5"
      },
      "source": [
        "rf_tune_results %>%\n",
        "  select_best(metric = \"roc_auc\") -> param_final\n",
        "\n",
        "  param_final\n",
        "\n",
        "rf_workflow %>%\n",
        "  finalize_workflow(param_final) -> rf_workflow"
      ],
      "execution_count": 24,
      "outputs": [
        {
          "output_type": "display_data",
          "data": {
            "text/plain": [
              "  mtry trees .config\n",
              "1 5    100   Model9 "
            ],
            "text/latex": "A tibble: 1 × 3\n\\begin{tabular}{lll}\n mtry & trees & .config\\\\\n <dbl> & <dbl> & <fct>\\\\\n\\hline\n\t 5 & 100 & Model9\\\\\n\\end{tabular}\n",
            "text/markdown": "\nA tibble: 1 × 3\n\n| mtry &lt;dbl&gt; | trees &lt;dbl&gt; | .config &lt;fct&gt; |\n|---|---|---|\n| 5 | 100 | Model9 |\n\n",
            "text/html": [
              "<table>\n",
              "<caption>A tibble: 1 × 3</caption>\n",
              "<thead>\n",
              "\t<tr><th scope=col>mtry</th><th scope=col>trees</th><th scope=col>.config</th></tr>\n",
              "\t<tr><th scope=col>&lt;dbl&gt;</th><th scope=col>&lt;dbl&gt;</th><th scope=col>&lt;fct&gt;</th></tr>\n",
              "</thead>\n",
              "<tbody>\n",
              "\t<tr><td>5</td><td>100</td><td>Model9</td></tr>\n",
              "</tbody>\n",
              "</table>\n"
            ]
          },
          "metadata": {
            "tags": []
          }
        }
      ]
    },
    {
      "cell_type": "code",
      "metadata": {
        "id": "POTkZdKQ_kpq",
        "colab_type": "code",
        "colab": {}
      },
      "source": [
        "rf_workflow %>%\n",
        "  last_fit(nfl_split) -> rf_fit"
      ],
      "execution_count": 25,
      "outputs": []
    },
    {
      "cell_type": "code",
      "metadata": {
        "id": "hzy7QfZM_0Tk",
        "colab_type": "code",
        "colab": {
          "base_uri": "https://localhost:8080/",
          "height": 117
        },
        "outputId": "0ab96db6-b877-46fc-9d18-7316fcbf58e9"
      },
      "source": [
        "test_performance <- rf_fit %>% collect_metrics()\n",
        "test_performance"
      ],
      "execution_count": 26,
      "outputs": [
        {
          "output_type": "display_data",
          "data": {
            "text/plain": [
              "  .metric  .estimator .estimate\n",
              "1 accuracy binary     0.9583961\n",
              "2 roc_auc  binary     0.9137919"
            ],
            "text/latex": "A tibble: 2 × 3\n\\begin{tabular}{lll}\n .metric & .estimator & .estimate\\\\\n <chr> & <chr> & <dbl>\\\\\n\\hline\n\t accuracy & binary & 0.9583961\\\\\n\t roc\\_auc  & binary & 0.9137919\\\\\n\\end{tabular}\n",
            "text/markdown": "\nA tibble: 2 × 3\n\n| .metric &lt;chr&gt; | .estimator &lt;chr&gt; | .estimate &lt;dbl&gt; |\n|---|---|---|\n| accuracy | binary | 0.9583961 |\n| roc_auc  | binary | 0.9137919 |\n\n",
            "text/html": [
              "<table>\n",
              "<caption>A tibble: 2 × 3</caption>\n",
              "<thead>\n",
              "\t<tr><th scope=col>.metric</th><th scope=col>.estimator</th><th scope=col>.estimate</th></tr>\n",
              "\t<tr><th scope=col>&lt;chr&gt;</th><th scope=col>&lt;chr&gt;</th><th scope=col>&lt;dbl&gt;</th></tr>\n",
              "</thead>\n",
              "<tbody>\n",
              "\t<tr><td>accuracy</td><td>binary</td><td>0.9583961</td></tr>\n",
              "\t<tr><td>roc_auc </td><td>binary</td><td>0.9137919</td></tr>\n",
              "</tbody>\n",
              "</table>\n"
            ]
          },
          "metadata": {
            "tags": []
          }
        }
      ]
    },
    {
      "cell_type": "code",
      "metadata": {
        "id": "iEwEOh4H-7bf",
        "colab_type": "code",
        "colab": {
          "base_uri": "https://localhost:8080/",
          "height": 464
        },
        "outputId": "62a71e72-b48e-4596-a6c2-6e3daa8c019c"
      },
      "source": [
        "final_nfl_model <- fit(rf_workflow, pbp_season)\n",
        "final_nfl_model"
      ],
      "execution_count": 27,
      "outputs": [
        {
          "output_type": "display_data",
          "data": {
            "text/plain": [
              "══ Workflow [trained] ══════════════════════════════════════════════════════════\n",
              "\u001b[3mPreprocessor:\u001b[23m Recipe\n",
              "\u001b[3mModel:\u001b[23m rand_forest()\n",
              "\n",
              "── Preprocessor ────────────────────────────────────────────────────────────────\n",
              "1 Recipe Step\n",
              "\n",
              "● step_meanimpute()\n",
              "\n",
              "── Model ───────────────────────────────────────────────────────────────────────\n",
              "Ranger result\n",
              "\n",
              "Call:\n",
              " ranger::ranger(formula = ..y ~ ., data = data, mtry = ~5, num.trees = ~100,      importance = ~\"impurity\", num.threads = 1, verbose = FALSE,      seed = sample.int(10^5, 1), probability = TRUE) \n",
              "\n",
              "Type:                             Probability estimation \n",
              "Number of trees:                  100 \n",
              "Sample size:                      63746 \n",
              "Number of independent variables:  20 \n",
              "Mtry:                             5 \n",
              "Target node size:                 10 \n",
              "Variable importance mode:         impurity \n",
              "Splitrule:                        gini \n",
              "OOB prediction error (Brier s.):  0.03080598 "
            ]
          },
          "metadata": {
            "tags": []
          }
        }
      ]
    },
    {
      "cell_type": "code",
      "metadata": {
        "id": "kXNxm4vKATQD",
        "colab_type": "code",
        "colab": {}
      },
      "source": [
        "saveRDS(final_nfl_model, \"final_nfl_model.rds\")"
      ],
      "execution_count": 71,
      "outputs": []
    },
    {
      "cell_type": "code",
      "metadata": {
        "id": "t1w8wVrBCulZ",
        "colab_type": "code",
        "colab": {
          "base_uri": "https://localhost:8080/",
          "height": 286
        },
        "outputId": "c3ec506e-d0f8-4caf-f17b-26a5c9ef8f3b"
      },
      "source": [
        "final_model <- fit(rf_workflow, pbp_season)\n",
        "\n",
        "\n",
        "ranger_obj <- pull_workflow_fit(final_model)$fit\n",
        "ranger_obj"
      ],
      "execution_count": 28,
      "outputs": [
        {
          "output_type": "display_data",
          "data": {
            "text/plain": [
              "Ranger result\n",
              "\n",
              "Call:\n",
              " ranger::ranger(formula = ..y ~ ., data = data, mtry = ~5, num.trees = ~100,      importance = ~\"impurity\", num.threads = 1, verbose = FALSE,      seed = sample.int(10^5, 1), probability = TRUE) \n",
              "\n",
              "Type:                             Probability estimation \n",
              "Number of trees:                  100 \n",
              "Sample size:                      63746 \n",
              "Number of independent variables:  20 \n",
              "Mtry:                             5 \n",
              "Target node size:                 10 \n",
              "Variable importance mode:         impurity \n",
              "Splitrule:                        gini \n",
              "OOB prediction error (Brier s.):  0.03073719 "
            ]
          },
          "metadata": {
            "tags": []
          }
        }
      ]
    },
    {
      "cell_type": "code",
      "metadata": {
        "id": "EIzZG1Y-C2eE",
        "colab_type": "code",
        "colab": {
          "base_uri": "https://localhost:8080/",
          "height": 617
        },
        "outputId": "d16effc4-5780-4526-870b-8ed880e79f01"
      },
      "source": [
        "options(repr.plot.width=25, repr.plot.height=10)\n",
        "\n",
        "\n",
        "barplot(ranger_obj$variable.importance)"
      ],
      "execution_count": 33,
      "outputs": [
        {
          "output_type": "display_data",
          "data": {
            "image/png": "[encoded data removed]",
            "text/plain": [
              "plot without title"
            ]
          },
          "metadata": {
            "tags": [],
            "image/png": {
              "width": 1500,
              "height": 600
            }
          }
        }
      ]
    },
    {
      "cell_type": "markdown",
      "metadata": {
        "id": "jMAgCApqDRMj",
        "colab_type": "text"
      },
      "source": [
        "* Model is 2 good because of EPA as variable."
      ]
    }
  ]
}