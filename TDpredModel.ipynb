{
  "nbformat": 4,
  "nbformat_minor": 0,
  "metadata": {
    "colab": {
      "name": "TDpredModel.ipynb",
      "provenance": [],
      "authorship_tag": "ABX9TyMrYHrm9PqglG7qrKMq4PSy",
      "include_colab_link": true
    },
    "kernelspec": {
      "name": "ir",
      "display_name": "R"
    }
  },
  "cells": [
    {
      "cell_type": "markdown",
      "metadata": {
        "id": "view-in-github",
        "colab_type": "text"
      },
      "source": [
        "<a href=\"https://colab.research.google.com/github/michiWS1920/nfl_data/blob/michi/TDpredModel.ipynb\" target=\"_parent\"><img src=\"https://colab.research.google.com/assets/colab-badge.svg\" alt=\"Open In Colab\"/></a>"
      ]
    },
    {
      "cell_type": "code",
      "metadata": {
        "id": "D-5T3528yj4x",
        "colab_type": "code",
        "colab": {
          "base_uri": "https://localhost:8080/",
          "height": 212
        },
        "outputId": "7996c3aa-2fa3-4dd0-8f0b-5a0bf69b700f"
      },
      "source": [
        "library(tidyverse)\n",
        "library(ggplot2)"
      ],
      "execution_count": 1,
      "outputs": [
        {
          "output_type": "stream",
          "text": [
            "── \u001b[1mAttaching packages\u001b[22m ─────────────────────────────────────── tidyverse 1.3.0 ──\n",
            "\n",
            "\u001b[32m✔\u001b[39m \u001b[34mggplot2\u001b[39m 3.3.2     \u001b[32m✔\u001b[39m \u001b[34mpurrr  \u001b[39m 0.3.4\n",
            "\u001b[32m✔\u001b[39m \u001b[34mtibble \u001b[39m 3.0.3     \u001b[32m✔\u001b[39m \u001b[34mdplyr  \u001b[39m 1.0.2\n",
            "\u001b[32m✔\u001b[39m \u001b[34mtidyr  \u001b[39m 1.1.1     \u001b[32m✔\u001b[39m \u001b[34mstringr\u001b[39m 1.4.0\n",
            "\u001b[32m✔\u001b[39m \u001b[34mreadr  \u001b[39m 1.3.1     \u001b[32m✔\u001b[39m \u001b[34mforcats\u001b[39m 0.5.0\n",
            "\n",
            "── \u001b[1mConflicts\u001b[22m ────────────────────────────────────────── tidyverse_conflicts() ──\n",
            "\u001b[31m✖\u001b[39m \u001b[34mdplyr\u001b[39m::\u001b[32mfilter()\u001b[39m masks \u001b[34mstats\u001b[39m::filter()\n",
            "\u001b[31m✖\u001b[39m \u001b[34mdplyr\u001b[39m::\u001b[32mlag()\u001b[39m    masks \u001b[34mstats\u001b[39m::lag()\n",
            "\n"
          ],
          "name": "stderr"
        }
      ]
    },
    {
      "cell_type": "code",
      "metadata": {
        "id": "GdWe-z34yq5q",
        "colab_type": "code",
        "colab": {
          "base_uri": "https://localhost:8080/",
          "height": 144
        },
        "outputId": "b733366b-6791-44de-ab66-b2dcaad68a59"
      },
      "source": [
        "install.packages(c(\"tidymodels\", \"workflows\", \"tune\", \"ranger\", \"glmnet\"))"
      ],
      "execution_count": 3,
      "outputs": [
        {
          "output_type": "stream",
          "text": [
            "Installing packages into ‘/usr/local/lib/R/site-library’\n",
            "(as ‘lib’ is unspecified)\n",
            "\n",
            "also installing the dependencies ‘numDeriv’, ‘SQUAREM’, ‘lava’, ‘listenv’, ‘prodlim’, ‘future’, ‘plyr’, ‘DiceDesign’, ‘globals’, ‘gower’, ‘ipred’, ‘timeDate’, ‘furrr’, ‘pROC’, ‘lhs’, ‘iterators’, ‘dials’, ‘infer’, ‘modeldata’, ‘parsnip’, ‘recipes’, ‘rsample’, ‘yardstick’, ‘hardhat’, ‘GPfit’, ‘foreach’, ‘RcppEigen’, ‘shape’\n",
            "\n",
            "\n"
          ],
          "name": "stderr"
        }
      ]
    },
    {
      "cell_type": "code",
      "metadata": {
        "id": "xQKnAPOkzCE8",
        "colab_type": "code",
        "colab": {
          "base_uri": "https://localhost:8080/",
          "height": 301
        },
        "outputId": "5e7d1074-1fab-481c-dee6-53e307f50d2f"
      },
      "source": [
        "library(tidymodels)\n",
        "library(workflows)\n",
        "library(tune)"
      ],
      "execution_count": 4,
      "outputs": [
        {
          "output_type": "stream",
          "text": [
            "── \u001b[1mAttaching packages\u001b[22m ────────────────────────────────────── tidymodels 0.1.1 ──\n",
            "\n",
            "\u001b[32m✔\u001b[39m \u001b[34mbroom    \u001b[39m 0.7.0      \u001b[32m✔\u001b[39m \u001b[34mrecipes  \u001b[39m 0.1.13\n",
            "\u001b[32m✔\u001b[39m \u001b[34mdials    \u001b[39m 0.0.8      \u001b[32m✔\u001b[39m \u001b[34mrsample  \u001b[39m 0.0.7 \n",
            "\u001b[32m✔\u001b[39m \u001b[34minfer    \u001b[39m 0.5.3      \u001b[32m✔\u001b[39m \u001b[34mtune     \u001b[39m 0.1.1 \n",
            "\u001b[32m✔\u001b[39m \u001b[34mmodeldata\u001b[39m 0.0.2      \u001b[32m✔\u001b[39m \u001b[34mworkflows\u001b[39m 0.1.3 \n",
            "\u001b[32m✔\u001b[39m \u001b[34mparsnip  \u001b[39m 0.1.3      \u001b[32m✔\u001b[39m \u001b[34myardstick\u001b[39m 0.0.7 \n",
            "\n",
            "── \u001b[1mConflicts\u001b[22m ───────────────────────────────────────── tidymodels_conflicts() ──\n",
            "\u001b[31m✖\u001b[39m \u001b[34mscales\u001b[39m::\u001b[32mdiscard()\u001b[39m masks \u001b[34mpurrr\u001b[39m::discard()\n",
            "\u001b[31m✖\u001b[39m \u001b[34mdplyr\u001b[39m::\u001b[32mfilter()\u001b[39m   masks \u001b[34mstats\u001b[39m::filter()\n",
            "\u001b[31m✖\u001b[39m \u001b[34mrecipes\u001b[39m::\u001b[32mfixed()\u001b[39m  masks \u001b[34mstringr\u001b[39m::fixed()\n",
            "\u001b[31m✖\u001b[39m \u001b[34mdplyr\u001b[39m::\u001b[32mlag()\u001b[39m      masks \u001b[34mstats\u001b[39m::lag()\n",
            "\u001b[31m✖\u001b[39m \u001b[34myardstick\u001b[39m::\u001b[32mspec()\u001b[39m masks \u001b[34mreadr\u001b[39m::spec()\n",
            "\u001b[31m✖\u001b[39m \u001b[34mrecipes\u001b[39m::\u001b[32mstep()\u001b[39m   masks \u001b[34mstats\u001b[39m::step()\n",
            "\n"
          ],
          "name": "stderr"
        }
      ]
    },
    {
      "cell_type": "code",
      "metadata": {
        "id": "sZPLRy3L07IH",
        "colab_type": "code",
        "colab": {}
      },
      "source": [
        "pbp_all <- readRDS(\"NFLdata.rds\")"
      ],
      "execution_count": 5,
      "outputs": []
    },
    {
      "cell_type": "code",
      "metadata": {
        "id": "7jUhzt251B7M",
        "colab_type": "code",
        "colab": {}
      },
      "source": [
        "pbp_all_rp <- pbp_all %>%\n",
        "      filter(!is.na(epa), !is.na(posteam), play_type==\"no_play\" | play_type==\"pass\" | play_type==\"run\") %>% #filter out certain NA values, only show three play_types\n",
        "\tmutate( #create new columns that indicates if the play was a pass or rush - this is done by parsing the description of the play (certain keywords are perfect indicators)\n",
        "\tpass = if_else(str_detect(desc, \"( pass)|(sacked)|(scramble)\"), 1, 0), #\n",
        "\trush = if_else(str_detect(desc, \"(left end)|(left tackle)|(left guard)|(up the middle)|(right guard)|(right tackle)|(right end)\") & pass == 0, 1, 0),\n",
        "\tsuccess = ifelse(epa>0, 1 , 0),\n",
        "\tpasser_player_name = ifelse(play_type == \"no_play\" & pass == 1, #create new column that parses the player_name depending on the type of play (pass / receiver / rusher)\n",
        "              str_extract(desc, \"(?<=\\\\s)[A-Z][a-z]*\\\\.\\\\s?[A-Z][A-z]+(\\\\s(I{2,3})|(IV))?(?=\\\\s((pass)|(sack)|(scramble)))\"),\n",
        "              passer_player_name),\n",
        "        receiver_player_name = ifelse(play_type == \"no_play\" & str_detect(desc, \"pass\"), \n",
        "              str_extract(desc, \"(?<=to\\\\s)[A-Z][a-z]*\\\\.\\\\s?[A-Z][A-z]+(\\\\s(I{2,3})|(IV))?\"),\n",
        "              receiver_player_name),\n",
        "        rusher_player_name = ifelse(play_type == \"no_play\" & rush == 1, \n",
        "              str_extract(desc, \"(?<=\\\\s)[A-Z][a-z]*\\\\.\\\\s?[A-Z][A-z]+(\\\\s(I{2,3})|(IV))?(?=\\\\s((left end)|(left tackle)|(left guard)|\t\t      (up the middle)|(right guard)|(right tackle)|(right end)))\"),\n",
        "              rusher_player_name),\n",
        "\tname = ifelse(!is.na(passer_player_name), passer_player_name, rusher_player_name),\n",
        "\tyards_gained=ifelse(play_type==\"no_play\",NA,yards_gained), # filter out NA for yards_gained\n",
        "\tplay=1\n",
        "\t) "
      ],
      "execution_count": 6,
      "outputs": []
    },
    {
      "cell_type": "code",
      "metadata": {
        "id": "jCU6hItc25Zi",
        "colab_type": "code",
        "colab": {}
      },
      "source": [
        "pbp_all_rp %>%\n",
        "filter(season == 2019 | season == 2018) -> pbp_season\n",
        "glimpse(pbp_season)"
      ],
      "execution_count": null,
      "outputs": []
    },
    {
      "cell_type": "code",
      "metadata": {
        "id": "UKk2_EQy9GvN",
        "colab_type": "code",
        "colab": {}
      },
      "source": [
        "pbp_season$touchdown <- as.factor(pbp_season$touchdown)"
      ],
      "execution_count": 43,
      "outputs": []
    },
    {
      "cell_type": "code",
      "metadata": {
        "id": "j6q0HWks2kwZ",
        "colab_type": "code",
        "colab": {
          "base_uri": "https://localhost:8080/",
          "height": 52
        },
        "outputId": "4594623f-2f6e-42a8-d5ac-f7c50b0a82d7"
      },
      "source": [
        "set.seed(42)\n",
        "\n",
        "nfl_split <- initial_split(pbp_season, prop = 3/4)\n",
        "\n",
        "nfl_split"
      ],
      "execution_count": 44,
      "outputs": [
        {
          "output_type": "display_data",
          "data": {
            "text/plain": [
              "<Analysis/Assess/Total>\n",
              "<54303/18100/72403>"
            ]
          },
          "metadata": {
            "tags": []
          }
        }
      ]
    },
    {
      "cell_type": "code",
      "metadata": {
        "id": "bLCMpUHg3IrI",
        "colab_type": "code",
        "colab": {}
      },
      "source": [
        "nfl_training = training(nfl_split)\n",
        "nfl_test = training(nfl_split)"
      ],
      "execution_count": 45,
      "outputs": []
    },
    {
      "cell_type": "code",
      "metadata": {
        "id": "dtvtHXvY3Psa",
        "colab_type": "code",
        "colab": {}
      },
      "source": [
        "nfl_cv = vfold_cv(nfl_training)"
      ],
      "execution_count": 46,
      "outputs": []
    },
    {
      "cell_type": "code",
      "metadata": {
        "id": "hi-55L_A3YP6",
        "colab_type": "code",
        "colab": {}
      },
      "source": [
        "recipe(touchdown ~ posteam + defteam + ydstogo + qtr + down + \n",
        "        yardline_100 + play_type + game_seconds_remaining + game_half +\n",
        "         posteam_score + defteam_score + score_differential + wp + def_wp +\n",
        "         week + epa + air_yards, data =pbp_season) -> nfl_recipe"
      ],
      "execution_count": 47,
      "outputs": []
    },
    {
      "cell_type": "code",
      "metadata": {
        "id": "KBXH5woA460y",
        "colab_type": "code",
        "colab": {
          "base_uri": "https://localhost:8080/",
          "height": 444
        },
        "outputId": "ff606fd2-947d-4ee1-bf87-bbc15f353c48"
      },
      "source": [
        "summary(nfl_recipe)"
      ],
      "execution_count": 48,
      "outputs": [
        {
          "output_type": "display_data",
          "data": {
            "text/plain": [
              "   variable               type    role      source  \n",
              "1  posteam                nominal predictor original\n",
              "2  defteam                nominal predictor original\n",
              "3  ydstogo                numeric predictor original\n",
              "4  qtr                    numeric predictor original\n",
              "5  down                   numeric predictor original\n",
              "6  yardline_100           numeric predictor original\n",
              "7  play_type              nominal predictor original\n",
              "8  game_seconds_remaining numeric predictor original\n",
              "9  game_half              nominal predictor original\n",
              "10 posteam_score          numeric predictor original\n",
              "11 defteam_score          numeric predictor original\n",
              "12 score_differential     numeric predictor original\n",
              "13 wp                     numeric predictor original\n",
              "14 def_wp                 numeric predictor original\n",
              "15 week                   numeric predictor original\n",
              "16 epa                    numeric predictor original\n",
              "17 air_yards              numeric predictor original\n",
              "18 touchdown              nominal outcome   original"
            ],
            "text/latex": "A tibble: 18 × 4\n\\begin{tabular}{llll}\n variable & type & role & source\\\\\n <chr> & <chr> & <chr> & <chr>\\\\\n\\hline\n\t posteam                & nominal & predictor & original\\\\\n\t defteam                & nominal & predictor & original\\\\\n\t ydstogo                & numeric & predictor & original\\\\\n\t qtr                    & numeric & predictor & original\\\\\n\t down                   & numeric & predictor & original\\\\\n\t yardline\\_100           & numeric & predictor & original\\\\\n\t play\\_type              & nominal & predictor & original\\\\\n\t game\\_seconds\\_remaining & numeric & predictor & original\\\\\n\t game\\_half              & nominal & predictor & original\\\\\n\t posteam\\_score          & numeric & predictor & original\\\\\n\t defteam\\_score          & numeric & predictor & original\\\\\n\t score\\_differential     & numeric & predictor & original\\\\\n\t wp                     & numeric & predictor & original\\\\\n\t def\\_wp                 & numeric & predictor & original\\\\\n\t week                   & numeric & predictor & original\\\\\n\t epa                    & numeric & predictor & original\\\\\n\t air\\_yards              & numeric & predictor & original\\\\\n\t touchdown              & nominal & outcome   & original\\\\\n\\end{tabular}\n",
            "text/markdown": "\nA tibble: 18 × 4\n\n| variable &lt;chr&gt; | type &lt;chr&gt; | role &lt;chr&gt; | source &lt;chr&gt; |\n|---|---|---|---|\n| posteam                | nominal | predictor | original |\n| defteam                | nominal | predictor | original |\n| ydstogo                | numeric | predictor | original |\n| qtr                    | numeric | predictor | original |\n| down                   | numeric | predictor | original |\n| yardline_100           | numeric | predictor | original |\n| play_type              | nominal | predictor | original |\n| game_seconds_remaining | numeric | predictor | original |\n| game_half              | nominal | predictor | original |\n| posteam_score          | numeric | predictor | original |\n| defteam_score          | numeric | predictor | original |\n| score_differential     | numeric | predictor | original |\n| wp                     | numeric | predictor | original |\n| def_wp                 | numeric | predictor | original |\n| week                   | numeric | predictor | original |\n| epa                    | numeric | predictor | original |\n| air_yards              | numeric | predictor | original |\n| touchdown              | nominal | outcome   | original |\n\n",
            "text/html": [
              "<table>\n",
              "<caption>A tibble: 18 × 4</caption>\n",
              "<thead>\n",
              "\t<tr><th scope=col>variable</th><th scope=col>type</th><th scope=col>role</th><th scope=col>source</th></tr>\n",
              "\t<tr><th scope=col>&lt;chr&gt;</th><th scope=col>&lt;chr&gt;</th><th scope=col>&lt;chr&gt;</th><th scope=col>&lt;chr&gt;</th></tr>\n",
              "</thead>\n",
              "<tbody>\n",
              "\t<tr><td>posteam               </td><td>nominal</td><td>predictor</td><td>original</td></tr>\n",
              "\t<tr><td>defteam               </td><td>nominal</td><td>predictor</td><td>original</td></tr>\n",
              "\t<tr><td>ydstogo               </td><td>numeric</td><td>predictor</td><td>original</td></tr>\n",
              "\t<tr><td>qtr                   </td><td>numeric</td><td>predictor</td><td>original</td></tr>\n",
              "\t<tr><td>down                  </td><td>numeric</td><td>predictor</td><td>original</td></tr>\n",
              "\t<tr><td>yardline_100          </td><td>numeric</td><td>predictor</td><td>original</td></tr>\n",
              "\t<tr><td>play_type             </td><td>nominal</td><td>predictor</td><td>original</td></tr>\n",
              "\t<tr><td>game_seconds_remaining</td><td>numeric</td><td>predictor</td><td>original</td></tr>\n",
              "\t<tr><td>game_half             </td><td>nominal</td><td>predictor</td><td>original</td></tr>\n",
              "\t<tr><td>posteam_score         </td><td>numeric</td><td>predictor</td><td>original</td></tr>\n",
              "\t<tr><td>defteam_score         </td><td>numeric</td><td>predictor</td><td>original</td></tr>\n",
              "\t<tr><td>score_differential    </td><td>numeric</td><td>predictor</td><td>original</td></tr>\n",
              "\t<tr><td>wp                    </td><td>numeric</td><td>predictor</td><td>original</td></tr>\n",
              "\t<tr><td>def_wp                </td><td>numeric</td><td>predictor</td><td>original</td></tr>\n",
              "\t<tr><td>week                  </td><td>numeric</td><td>predictor</td><td>original</td></tr>\n",
              "\t<tr><td>epa                   </td><td>numeric</td><td>predictor</td><td>original</td></tr>\n",
              "\t<tr><td>air_yards             </td><td>numeric</td><td>predictor</td><td>original</td></tr>\n",
              "\t<tr><td>touchdown             </td><td>nominal</td><td>outcome  </td><td>original</td></tr>\n",
              "</tbody>\n",
              "</table>\n"
            ]
          },
          "metadata": {
            "tags": []
          }
        }
      ]
    },
    {
      "cell_type": "code",
      "metadata": {
        "id": "WA15phse5QQQ",
        "colab_type": "code",
        "colab": {}
      },
      "source": [
        "nfl_recipe_steps <- nfl_recipe %>%\n",
        "  step_meanimpute(all_numeric())"
      ],
      "execution_count": 49,
      "outputs": []
    },
    {
      "cell_type": "code",
      "metadata": {
        "id": "-o9Ra0Hj5lZz",
        "colab_type": "code",
        "colab": {}
      },
      "source": [
        "nfl_prepped <- prep(nfl_recipe_steps, training = nfl_training)"
      ],
      "execution_count": 50,
      "outputs": []
    },
    {
      "cell_type": "code",
      "metadata": {
        "id": "i-802bGr5vQU",
        "colab_type": "code",
        "colab": {
          "base_uri": "https://localhost:8080/",
          "height": 248
        },
        "outputId": "04ac09f7-7dbd-4f2f-c4e9-568bec4bf39e"
      },
      "source": [
        "nfl_prepped"
      ],
      "execution_count": 51,
      "outputs": [
        {
          "output_type": "display_data",
          "data": {
            "text/plain": [
              "Data Recipe\n",
              "\n",
              "Inputs:\n",
              "\n",
              "      role #variables\n",
              "   outcome          1\n",
              " predictor         17\n",
              "\n",
              "Training data contained 54303 data points and 27888 incomplete rows. \n",
              "\n",
              "Operations:\n",
              "\n",
              "Mean Imputation for ydstogo, qtr, down, ... [trained]"
            ]
          },
          "metadata": {
            "tags": []
          }
        }
      ]
    },
    {
      "cell_type": "code",
      "metadata": {
        "id": "2UPe03WH6ENE",
        "colab_type": "code",
        "colab": {
          "base_uri": "https://localhost:8080/",
          "height": 1000
        },
        "outputId": "ef4a7666-f1db-44f0-dcc5-ef7fd59131c9"
      },
      "source": [
        "nfl_training_prep <- bake(nfl_prepped, nfl_training)\n",
        "nfl_training_prep"
      ],
      "execution_count": 52,
      "outputs": [
        {
          "output_type": "display_data",
          "data": {
            "text/plain": [
              "      posteam defteam ydstogo qtr down     yardline_100 play_type\n",
              "1     ATL     PHI     15      1   1        80           pass     \n",
              "2     ATL     PHI      5      1   2        70           run      \n",
              "3     ATL     PHI     10      1   1        59           run      \n",
              "4     ATL     PHI     10      1   1        39           pass     \n",
              "5     ATL     PHI     10      1   3        39           pass     \n",
              "6     ATL     PHI      6      1   1         6           run      \n",
              "7     ATL     PHI      1      1   3         1           pass     \n",
              "8     PHI     ATL     10      1   1        98           run      \n",
              "9     PHI     ATL      4      1   3        92           pass     \n",
              "10    ATL     PHI     10      1   1        44           pass     \n",
              "11    ATL     PHI      5      1   3        39           run      \n",
              "12    ATL     PHI     10      1   1        33           run      \n",
              "13    ATL     PHI     13      1   2        36           pass     \n",
              "14    ATL     PHI     10      1   1        10           pass     \n",
              "15    ATL     PHI      7      1   2         7           pass     \n",
              "16    ATL     PHI      7      1   3         7           no_play  \n",
              "17    ATL     PHI      3      1   3         3           pass     \n",
              "18    PHI     ATL      9      1   2        68           no_play  \n",
              "19    PHI     ATL     17      1   3        64           no_play  \n",
              "20    PHI     ATL     12      1   3        59           pass     \n",
              "21    ATL     PHI     10      1   1        80           pass     \n",
              "22    PHI     ATL     10      2   1        60           pass     \n",
              "23    PHI     ATL      9      2   2        59           run      \n",
              "24    PHI     ATL      4      2   2        41           pass     \n",
              "25    PHI     ATL     10      2   1        31           run      \n",
              "26    PHI     ATL      1      2   3        22           run      \n",
              "27    PHI     ATL     10      2   1        20           run      \n",
              "28    PHI     ATL     10      2   2        20           pass     \n",
              "29    PHI     ATL      7      2   3        17           no_play  \n",
              "30    PHI     ATL      9      2   1         9           no_play  \n",
              "⋮     ⋮       ⋮       ⋮       ⋮   ⋮        ⋮            ⋮        \n",
              "54274 SEA     SF       1      4   1.000000  1           no_play  \n",
              "54275 SEA     SF       1      4   1.000000  1           run      \n",
              "54276 SF      SEA     10      4   1.000000 75           run      \n",
              "54277 SF      SEA      3      4   2.000000 68           run      \n",
              "54278 SF      SEA     10      4   1.000000 55           pass     \n",
              "54279 SF      SEA     10      4   1.000000 39           run      \n",
              "54280 SF      SEA      5      4   3.000000 34           pass     \n",
              "54281 SF      SEA      0      4   1.804924 34           no_play  \n",
              "54282 SF      SEA     10      4   1.000000 13           run      \n",
              "54283 SEA     SF      10      4   1.000000 60           pass     \n",
              "54284 SEA     SF      10      4   2.000000 47           run      \n",
              "54285 SEA     SF      10      4   2.000000 34           run      \n",
              "54286 SEA     SF      10      4   1.000000 16           run      \n",
              "54287 SEA     SF       8      4   2.000000 14           pass     \n",
              "54288 SF      SEA     10      4   1.000000 79           run      \n",
              "54289 SF      SEA     17      4   3.000000 86           pass     \n",
              "54290 SF      SEA      0      4   1.804924 86           no_play  \n",
              "54291 SEA     SF       5      4   2.000000 68           pass     \n",
              "54292 SEA     SF      10      4   1.000000 58           pass     \n",
              "54293 SEA     SF      10      4   2.000000 58           pass     \n",
              "54294 SEA     SF      10      4   1.000000 47           pass     \n",
              "54295 SEA     SF      10      4   1.000000 23           pass     \n",
              "54296 SEA     SF      10      4   2.000000 23           pass     \n",
              "54297 SEA     SF      10      4   1.000000 12           pass     \n",
              "54298 SEA     SF      10      4   2.000000 12           pass     \n",
              "54299 SEA     SF       0      4   1.804924 12           no_play  \n",
              "54300 SEA     SF       0      4   1.804924 12           no_play  \n",
              "54301 SEA     SF       1      4   2.000000  1           no_play  \n",
              "54302 SEA     SF       5      4   2.000000  5           pass     \n",
              "54303 SEA     SF       5      4   4.000000  5           pass     \n",
              "      game_seconds_remaining game_half posteam_score defteam_score\n",
              "1     3600                   Half1     0             0            \n",
              "2     3562                   Half1     0             0            \n",
              "3     3526                   Half1     0             0            \n",
              "4     3490                   Half1     0             0            \n",
              "5     3481                   Half1     0             0            \n",
              "6     3435                   Half1     0             0            \n",
              "7     3359                   Half1     0             0            \n",
              "8     3351                   Half1     0             0            \n",
              "9     3264                   Half1     0             0            \n",
              "10    3248                   Half1     0             0            \n",
              "11    3204                   Half1     0             0            \n",
              "12    3158                   Half1     0             0            \n",
              "13    3121                   Half1     0             0            \n",
              "14    3079                   Half1     0             0            \n",
              "15    3038                   Half1     0             0            \n",
              "16    3032                   Half1     0             0            \n",
              "17    3007                   Half1     0             0            \n",
              "18    2953                   Half1     0             3            \n",
              "19    2803                   Half1     0             3            \n",
              "20    2781                   Half1     0             3            \n",
              "21    2730                   Half1     3             0            \n",
              "22    2652                   Half1     0             3            \n",
              "23    2617                   Half1     0             3            \n",
              "24    2503                   Half1     0             3            \n",
              "25    2479                   Half1     0             3            \n",
              "26    2413                   Half1     0             3            \n",
              "27    2382                   Half1     0             3            \n",
              "28    2347                   Half1     0             3            \n",
              "29    2303                   Half1     0             3            \n",
              "30    2297                   Half1     0             3            \n",
              "⋮     ⋮                      ⋮         ⋮             ⋮            \n",
              "54274 604                    Half2      7            19           \n",
              "54275 599                    Half2      7            19           \n",
              "54276 595                    Half2     19            14           \n",
              "54277 561                    Half2     19            14           \n",
              "54278 517                    Half2     19            14           \n",
              "54279 478                    Half2     19            14           \n",
              "54280 394                    Half2     19            14           \n",
              "54281 355                    Half2     19            14           \n",
              "54282 355                    Half2     19            14           \n",
              "54283 351                    Half2     14            26           \n",
              "54284 324                    Half2     14            26           \n",
              "54285 296                    Half2     14            26           \n",
              "54286 257                    Half2     14            26           \n",
              "54287 220                    Half2     14            26           \n",
              "54288 215                    Half2     26            21           \n",
              "54289 163                    Half2     26            21           \n",
              "54290 154                    Half2     26            21           \n",
              "54291 121                    Half2     21            26           \n",
              "54292 116                    Half2     21            26           \n",
              "54293 112                    Half2     21            26           \n",
              "54294 106                    Half2     21            26           \n",
              "54295  97                    Half2     21            26           \n",
              "54296  93                    Half2     21            26           \n",
              "54297  55                    Half2     21            26           \n",
              "54298  51                    Half2     21            26           \n",
              "54299  46                    Half2     21            26           \n",
              "54300  42                    Half2     21            26           \n",
              "54301  22                    Half2     21            26           \n",
              "54302  22                    Half2     21            26           \n",
              "54303  12                    Half2     21            26           \n",
              "      score_differential wp         def_wp    week epa           air_yards\n",
              "1      0                 0.4789909  0.5210091 1     0.81834350    8.000000\n",
              "2      0                 0.5051000  0.4949000 1     1.36250678    8.122393\n",
              "3      0                 0.5483767  0.4516233 1     1.34379984    8.122393\n",
              "4      0                 0.5939910  0.4060090 1    -0.52205267    4.000000\n",
              "5      0                 0.5500403  0.4499597 1     3.29840485   24.000000\n",
              "6      0                 0.6635976  0.3364024 1     0.58545190    8.122393\n",
              "7      0                 0.6700005  0.3299995 1    -2.01438265    1.000000\n",
              "8      0                 0.4476975  0.5523025 1    -0.42577767    8.122393\n",
              "9      0                 0.4353245  0.5646755 1    -1.13654986    6.000000\n",
              "10     0                 0.5941857  0.4058143 1    -0.55171938   16.000000\n",
              "11     0                 0.5716515  0.4283485 1     1.31122198    8.122393\n",
              "12     0                 0.6165351  0.3834649 1    -0.72594239    8.122393\n",
              "13     0                 0.5931906  0.4068094 1     1.88633075   -9.000000\n",
              "14     0                 0.6714355  0.3285645 1    -0.09090292    2.000000\n",
              "15     0                 0.6681793  0.3318207 1    -0.73928416    7.000000\n",
              "16     0                 0.6428075  0.3571925 1     0.64258504    8.122393\n",
              "17     0                 0.6641670  0.3358330 1    -1.95858302    3.000000\n",
              "18    -3                 0.4137423  0.5862577 1     0.86692683    8.122393\n",
              "19    -3                 0.3714370  0.6285630 1     0.66821858    8.122393\n",
              "20    -3                 0.3908241  0.6091759 1    -2.14764572    8.122393\n",
              "21     3                 0.5989882  0.4010118 1    -0.74365291   14.000000\n",
              "22    -3                 0.4342663  0.5657337 1    -0.51689808   -1.000000\n",
              "23    -3                 0.4186067  0.5813933 1    -0.60537998    8.122393\n",
              "24    -3                 0.4677129  0.5322871 1     0.64107286    6.000000\n",
              "25    -3                 0.4883591  0.5116409 1     0.31565366    8.122393\n",
              "26    -3                 0.4925934  0.5074066 1     0.37988375    8.122393\n",
              "27    -3                 0.5070075  0.4929925 1    -0.44264974    8.122393\n",
              "28    -3                 0.4967180  0.5032820 1    -0.54449985    3.000000\n",
              "29    -3                 0.4841976  0.5158024 1     1.76327573    8.122393\n",
              "30    -3                 0.5392723  0.4607277 1    -0.78155151    8.122393\n",
              "⋮     ⋮                  ⋮          ⋮         ⋮    ⋮             ⋮        \n",
              "54274 -12                0.25904962 0.7409504 17   -0.0009185564  8.122393\n",
              "54275 -12                0.25869735 0.7413027 17    0.5308509577  8.122393\n",
              "54276   5                0.72188920 0.2781108 17    0.4555568221  8.122393\n",
              "54277   5                0.74405673 0.2559433 17    1.0442560818  8.122393\n",
              "54278   5                0.78875123 0.2112488 17    0.9466856331 -1.000000\n",
              "54279   5                0.82567471 0.1743253 17    0.0836292777  8.122393\n",
              "54280   5                0.81790115 0.1820988 17    1.6904797898 18.000000\n",
              "54281   5                0.88016313 0.1198369 17    0.0000000000  8.122393\n",
              "54282   5                0.88016313 0.1198369 17    2.6307840264  8.122393\n",
              "54283 -12                0.09583381 0.9041662 17    0.8231802285 10.000000\n",
              "54284 -12                0.09691607 0.9030839 17    1.1779286208  8.122393\n",
              "54285 -12                0.10567539 0.8943246 17   -0.3726068508  8.122393\n",
              "54286 -12                0.12312183 0.8768782 17   -0.3495031186  8.122393\n",
              "54287 -12                0.10035558 0.8996444 17    3.2259725457 14.000000\n",
              "54288   5                0.80355989 0.1964401 17   -0.1720482272  8.122393\n",
              "54289   5                0.77400286 0.2259971 17    0.5301604783 -2.000000\n",
              "54290   5                0.80552652 0.1944735 17    0.0000000000  8.122393\n",
              "54291  -5                0.18683363 0.8131664 17    0.8882371897 10.000000\n",
              "54292  -5                0.24771450 0.7522855 17   -0.2796807536 10.000000\n",
              "54293  -5                0.22351995 0.7764800 17    0.7696257334 -1.000000\n",
              "54294  -5                0.27061348 0.7293865 17    1.0506145328 16.000000\n",
              "54295  -5                0.34879053 0.6512095 17   -0.3094969960 12.000000\n",
              "54296  -5                0.31484573 0.6851543 17    0.5846195348  5.000000\n",
              "54297  -5                0.30183682 0.6981632 17   -0.3180814719 12.000000\n",
              "54298  -5                0.24857020 0.7514298 17   -0.4860195832 12.000000\n",
              "54299  -5                0.16121868 0.8387813 17    0.0000000000  8.122393\n",
              "54300  -5                0.02968681 0.9703132 17    0.0000000000  8.122393\n",
              "54301  -5                0.58319170 0.4168083 17   -1.1167774079  8.122393\n",
              "54302  -5                0.23589627 0.7641037 17   -0.6614437432  5.000000\n",
              "54303  -5                0.02614141 0.9738586 17   -2.6364908363  4.000000\n",
              "      touchdown\n",
              "1     0        \n",
              "2     0        \n",
              "3     0        \n",
              "4     0        \n",
              "5     0        \n",
              "6     0        \n",
              "7     0        \n",
              "8     0        \n",
              "9     0        \n",
              "10    0        \n",
              "11    0        \n",
              "12    0        \n",
              "13    0        \n",
              "14    0        \n",
              "15    0        \n",
              "16    0        \n",
              "17    0        \n",
              "18    0        \n",
              "19    0        \n",
              "20    0        \n",
              "21    0        \n",
              "22    0        \n",
              "23    0        \n",
              "24    0        \n",
              "25    0        \n",
              "26    0        \n",
              "27    0        \n",
              "28    0        \n",
              "29    0        \n",
              "30    0        \n",
              "⋮     ⋮        \n",
              "54274 0        \n",
              "54275 1        \n",
              "54276 0        \n",
              "54277 0        \n",
              "54278 0        \n",
              "54279 0        \n",
              "54280 0        \n",
              "54281 0        \n",
              "54282 1        \n",
              "54283 0        \n",
              "54284 0        \n",
              "54285 0        \n",
              "54286 0        \n",
              "54287 1        \n",
              "54288 0        \n",
              "54289 0        \n",
              "54290 0        \n",
              "54291 0        \n",
              "54292 0        \n",
              "54293 0        \n",
              "54294 0        \n",
              "54295 0        \n",
              "54296 0        \n",
              "54297 0        \n",
              "54298 0        \n",
              "54299 0        \n",
              "54300 0        \n",
              "54301 0        \n",
              "54302 0        \n",
              "54303 0        "
            ],
            "text/latex": "A tibble: 54303 × 18\n\\begin{tabular}{llllllllllllllllll}\n posteam & defteam & ydstogo & qtr & down & yardline\\_100 & play\\_type & game\\_seconds\\_remaining & game\\_half & posteam\\_score & defteam\\_score & score\\_differential & wp & def\\_wp & week & epa & air\\_yards & touchdown\\\\\n <fct> & <fct> & <dbl> & <dbl> & <dbl> & <dbl> & <fct> & <dbl> & <fct> & <dbl> & <dbl> & <dbl> & <dbl> & <dbl> & <dbl> & <dbl> & <dbl> & <fct>\\\\\n\\hline\n\t ATL & PHI & 15 & 1 & 1 & 80 & pass    & 3600 & Half1 & 0 & 0 &  0 & 0.4789909 & 0.5210091 & 1 &  0.81834350 &  8.000000 & 0\\\\\n\t ATL & PHI &  5 & 1 & 2 & 70 & run     & 3562 & Half1 & 0 & 0 &  0 & 0.5051000 & 0.4949000 & 1 &  1.36250678 &  8.122393 & 0\\\\\n\t ATL & PHI & 10 & 1 & 1 & 59 & run     & 3526 & Half1 & 0 & 0 &  0 & 0.5483767 & 0.4516233 & 1 &  1.34379984 &  8.122393 & 0\\\\\n\t ATL & PHI & 10 & 1 & 1 & 39 & pass    & 3490 & Half1 & 0 & 0 &  0 & 0.5939910 & 0.4060090 & 1 & -0.52205267 &  4.000000 & 0\\\\\n\t ATL & PHI & 10 & 1 & 3 & 39 & pass    & 3481 & Half1 & 0 & 0 &  0 & 0.5500403 & 0.4499597 & 1 &  3.29840485 & 24.000000 & 0\\\\\n\t ATL & PHI &  6 & 1 & 1 &  6 & run     & 3435 & Half1 & 0 & 0 &  0 & 0.6635976 & 0.3364024 & 1 &  0.58545190 &  8.122393 & 0\\\\\n\t ATL & PHI &  1 & 1 & 3 &  1 & pass    & 3359 & Half1 & 0 & 0 &  0 & 0.6700005 & 0.3299995 & 1 & -2.01438265 &  1.000000 & 0\\\\\n\t PHI & ATL & 10 & 1 & 1 & 98 & run     & 3351 & Half1 & 0 & 0 &  0 & 0.4476975 & 0.5523025 & 1 & -0.42577767 &  8.122393 & 0\\\\\n\t PHI & ATL &  4 & 1 & 3 & 92 & pass    & 3264 & Half1 & 0 & 0 &  0 & 0.4353245 & 0.5646755 & 1 & -1.13654986 &  6.000000 & 0\\\\\n\t ATL & PHI & 10 & 1 & 1 & 44 & pass    & 3248 & Half1 & 0 & 0 &  0 & 0.5941857 & 0.4058143 & 1 & -0.55171938 & 16.000000 & 0\\\\\n\t ATL & PHI &  5 & 1 & 3 & 39 & run     & 3204 & Half1 & 0 & 0 &  0 & 0.5716515 & 0.4283485 & 1 &  1.31122198 &  8.122393 & 0\\\\\n\t ATL & PHI & 10 & 1 & 1 & 33 & run     & 3158 & Half1 & 0 & 0 &  0 & 0.6165351 & 0.3834649 & 1 & -0.72594239 &  8.122393 & 0\\\\\n\t ATL & PHI & 13 & 1 & 2 & 36 & pass    & 3121 & Half1 & 0 & 0 &  0 & 0.5931906 & 0.4068094 & 1 &  1.88633075 & -9.000000 & 0\\\\\n\t ATL & PHI & 10 & 1 & 1 & 10 & pass    & 3079 & Half1 & 0 & 0 &  0 & 0.6714355 & 0.3285645 & 1 & -0.09090292 &  2.000000 & 0\\\\\n\t ATL & PHI &  7 & 1 & 2 &  7 & pass    & 3038 & Half1 & 0 & 0 &  0 & 0.6681793 & 0.3318207 & 1 & -0.73928416 &  7.000000 & 0\\\\\n\t ATL & PHI &  7 & 1 & 3 &  7 & no\\_play & 3032 & Half1 & 0 & 0 &  0 & 0.6428075 & 0.3571925 & 1 &  0.64258504 &  8.122393 & 0\\\\\n\t ATL & PHI &  3 & 1 & 3 &  3 & pass    & 3007 & Half1 & 0 & 0 &  0 & 0.6641670 & 0.3358330 & 1 & -1.95858302 &  3.000000 & 0\\\\\n\t PHI & ATL &  9 & 1 & 2 & 68 & no\\_play & 2953 & Half1 & 0 & 3 & -3 & 0.4137423 & 0.5862577 & 1 &  0.86692683 &  8.122393 & 0\\\\\n\t PHI & ATL & 17 & 1 & 3 & 64 & no\\_play & 2803 & Half1 & 0 & 3 & -3 & 0.3714370 & 0.6285630 & 1 &  0.66821858 &  8.122393 & 0\\\\\n\t PHI & ATL & 12 & 1 & 3 & 59 & pass    & 2781 & Half1 & 0 & 3 & -3 & 0.3908241 & 0.6091759 & 1 & -2.14764572 &  8.122393 & 0\\\\\n\t ATL & PHI & 10 & 1 & 1 & 80 & pass    & 2730 & Half1 & 3 & 0 &  3 & 0.5989882 & 0.4010118 & 1 & -0.74365291 & 14.000000 & 0\\\\\n\t PHI & ATL & 10 & 2 & 1 & 60 & pass    & 2652 & Half1 & 0 & 3 & -3 & 0.4342663 & 0.5657337 & 1 & -0.51689808 & -1.000000 & 0\\\\\n\t PHI & ATL &  9 & 2 & 2 & 59 & run     & 2617 & Half1 & 0 & 3 & -3 & 0.4186067 & 0.5813933 & 1 & -0.60537998 &  8.122393 & 0\\\\\n\t PHI & ATL &  4 & 2 & 2 & 41 & pass    & 2503 & Half1 & 0 & 3 & -3 & 0.4677129 & 0.5322871 & 1 &  0.64107286 &  6.000000 & 0\\\\\n\t PHI & ATL & 10 & 2 & 1 & 31 & run     & 2479 & Half1 & 0 & 3 & -3 & 0.4883591 & 0.5116409 & 1 &  0.31565366 &  8.122393 & 0\\\\\n\t PHI & ATL &  1 & 2 & 3 & 22 & run     & 2413 & Half1 & 0 & 3 & -3 & 0.4925934 & 0.5074066 & 1 &  0.37988375 &  8.122393 & 0\\\\\n\t PHI & ATL & 10 & 2 & 1 & 20 & run     & 2382 & Half1 & 0 & 3 & -3 & 0.5070075 & 0.4929925 & 1 & -0.44264974 &  8.122393 & 0\\\\\n\t PHI & ATL & 10 & 2 & 2 & 20 & pass    & 2347 & Half1 & 0 & 3 & -3 & 0.4967180 & 0.5032820 & 1 & -0.54449985 &  3.000000 & 0\\\\\n\t PHI & ATL &  7 & 2 & 3 & 17 & no\\_play & 2303 & Half1 & 0 & 3 & -3 & 0.4841976 & 0.5158024 & 1 &  1.76327573 &  8.122393 & 0\\\\\n\t PHI & ATL &  9 & 2 & 1 &  9 & no\\_play & 2297 & Half1 & 0 & 3 & -3 & 0.5392723 & 0.4607277 & 1 & -0.78155151 &  8.122393 & 0\\\\\n\t ⋮ & ⋮ & ⋮ & ⋮ & ⋮ & ⋮ & ⋮ & ⋮ & ⋮ & ⋮ & ⋮ & ⋮ & ⋮ & ⋮ & ⋮ & ⋮ & ⋮ & ⋮\\\\\n\t SEA & SF  &  1 & 4 & 1.000000 &  1 & no\\_play & 604 & Half2 &  7 & 19 & -12 & 0.25904962 & 0.7409504 & 17 & -0.0009185564 &  8.122393 & 0\\\\\n\t SEA & SF  &  1 & 4 & 1.000000 &  1 & run     & 599 & Half2 &  7 & 19 & -12 & 0.25869735 & 0.7413027 & 17 &  0.5308509577 &  8.122393 & 1\\\\\n\t SF  & SEA & 10 & 4 & 1.000000 & 75 & run     & 595 & Half2 & 19 & 14 &   5 & 0.72188920 & 0.2781108 & 17 &  0.4555568221 &  8.122393 & 0\\\\\n\t SF  & SEA &  3 & 4 & 2.000000 & 68 & run     & 561 & Half2 & 19 & 14 &   5 & 0.74405673 & 0.2559433 & 17 &  1.0442560818 &  8.122393 & 0\\\\\n\t SF  & SEA & 10 & 4 & 1.000000 & 55 & pass    & 517 & Half2 & 19 & 14 &   5 & 0.78875123 & 0.2112488 & 17 &  0.9466856331 & -1.000000 & 0\\\\\n\t SF  & SEA & 10 & 4 & 1.000000 & 39 & run     & 478 & Half2 & 19 & 14 &   5 & 0.82567471 & 0.1743253 & 17 &  0.0836292777 &  8.122393 & 0\\\\\n\t SF  & SEA &  5 & 4 & 3.000000 & 34 & pass    & 394 & Half2 & 19 & 14 &   5 & 0.81790115 & 0.1820988 & 17 &  1.6904797898 & 18.000000 & 0\\\\\n\t SF  & SEA &  0 & 4 & 1.804924 & 34 & no\\_play & 355 & Half2 & 19 & 14 &   5 & 0.88016313 & 0.1198369 & 17 &  0.0000000000 &  8.122393 & 0\\\\\n\t SF  & SEA & 10 & 4 & 1.000000 & 13 & run     & 355 & Half2 & 19 & 14 &   5 & 0.88016313 & 0.1198369 & 17 &  2.6307840264 &  8.122393 & 1\\\\\n\t SEA & SF  & 10 & 4 & 1.000000 & 60 & pass    & 351 & Half2 & 14 & 26 & -12 & 0.09583381 & 0.9041662 & 17 &  0.8231802285 & 10.000000 & 0\\\\\n\t SEA & SF  & 10 & 4 & 2.000000 & 47 & run     & 324 & Half2 & 14 & 26 & -12 & 0.09691607 & 0.9030839 & 17 &  1.1779286208 &  8.122393 & 0\\\\\n\t SEA & SF  & 10 & 4 & 2.000000 & 34 & run     & 296 & Half2 & 14 & 26 & -12 & 0.10567539 & 0.8943246 & 17 & -0.3726068508 &  8.122393 & 0\\\\\n\t SEA & SF  & 10 & 4 & 1.000000 & 16 & run     & 257 & Half2 & 14 & 26 & -12 & 0.12312183 & 0.8768782 & 17 & -0.3495031186 &  8.122393 & 0\\\\\n\t SEA & SF  &  8 & 4 & 2.000000 & 14 & pass    & 220 & Half2 & 14 & 26 & -12 & 0.10035558 & 0.8996444 & 17 &  3.2259725457 & 14.000000 & 1\\\\\n\t SF  & SEA & 10 & 4 & 1.000000 & 79 & run     & 215 & Half2 & 26 & 21 &   5 & 0.80355989 & 0.1964401 & 17 & -0.1720482272 &  8.122393 & 0\\\\\n\t SF  & SEA & 17 & 4 & 3.000000 & 86 & pass    & 163 & Half2 & 26 & 21 &   5 & 0.77400286 & 0.2259971 & 17 &  0.5301604783 & -2.000000 & 0\\\\\n\t SF  & SEA &  0 & 4 & 1.804924 & 86 & no\\_play & 154 & Half2 & 26 & 21 &   5 & 0.80552652 & 0.1944735 & 17 &  0.0000000000 &  8.122393 & 0\\\\\n\t SEA & SF  &  5 & 4 & 2.000000 & 68 & pass    & 121 & Half2 & 21 & 26 &  -5 & 0.18683363 & 0.8131664 & 17 &  0.8882371897 & 10.000000 & 0\\\\\n\t SEA & SF  & 10 & 4 & 1.000000 & 58 & pass    & 116 & Half2 & 21 & 26 &  -5 & 0.24771450 & 0.7522855 & 17 & -0.2796807536 & 10.000000 & 0\\\\\n\t SEA & SF  & 10 & 4 & 2.000000 & 58 & pass    & 112 & Half2 & 21 & 26 &  -5 & 0.22351995 & 0.7764800 & 17 &  0.7696257334 & -1.000000 & 0\\\\\n\t SEA & SF  & 10 & 4 & 1.000000 & 47 & pass    & 106 & Half2 & 21 & 26 &  -5 & 0.27061348 & 0.7293865 & 17 &  1.0506145328 & 16.000000 & 0\\\\\n\t SEA & SF  & 10 & 4 & 1.000000 & 23 & pass    &  97 & Half2 & 21 & 26 &  -5 & 0.34879053 & 0.6512095 & 17 & -0.3094969960 & 12.000000 & 0\\\\\n\t SEA & SF  & 10 & 4 & 2.000000 & 23 & pass    &  93 & Half2 & 21 & 26 &  -5 & 0.31484573 & 0.6851543 & 17 &  0.5846195348 &  5.000000 & 0\\\\\n\t SEA & SF  & 10 & 4 & 1.000000 & 12 & pass    &  55 & Half2 & 21 & 26 &  -5 & 0.30183682 & 0.6981632 & 17 & -0.3180814719 & 12.000000 & 0\\\\\n\t SEA & SF  & 10 & 4 & 2.000000 & 12 & pass    &  51 & Half2 & 21 & 26 &  -5 & 0.24857020 & 0.7514298 & 17 & -0.4860195832 & 12.000000 & 0\\\\\n\t SEA & SF  &  0 & 4 & 1.804924 & 12 & no\\_play &  46 & Half2 & 21 & 26 &  -5 & 0.16121868 & 0.8387813 & 17 &  0.0000000000 &  8.122393 & 0\\\\\n\t SEA & SF  &  0 & 4 & 1.804924 & 12 & no\\_play &  42 & Half2 & 21 & 26 &  -5 & 0.02968681 & 0.9703132 & 17 &  0.0000000000 &  8.122393 & 0\\\\\n\t SEA & SF  &  1 & 4 & 2.000000 &  1 & no\\_play &  22 & Half2 & 21 & 26 &  -5 & 0.58319170 & 0.4168083 & 17 & -1.1167774079 &  8.122393 & 0\\\\\n\t SEA & SF  &  5 & 4 & 2.000000 &  5 & pass    &  22 & Half2 & 21 & 26 &  -5 & 0.23589627 & 0.7641037 & 17 & -0.6614437432 &  5.000000 & 0\\\\\n\t SEA & SF  &  5 & 4 & 4.000000 &  5 & pass    &  12 & Half2 & 21 & 26 &  -5 & 0.02614141 & 0.9738586 & 17 & -2.6364908363 &  4.000000 & 0\\\\\n\\end{tabular}\n",
            "text/markdown": "\nA tibble: 54303 × 18\n\n| posteam &lt;fct&gt; | defteam &lt;fct&gt; | ydstogo &lt;dbl&gt; | qtr &lt;dbl&gt; | down &lt;dbl&gt; | yardline_100 &lt;dbl&gt; | play_type &lt;fct&gt; | game_seconds_remaining &lt;dbl&gt; | game_half &lt;fct&gt; | posteam_score &lt;dbl&gt; | defteam_score &lt;dbl&gt; | score_differential &lt;dbl&gt; | wp &lt;dbl&gt; | def_wp &lt;dbl&gt; | week &lt;dbl&gt; | epa &lt;dbl&gt; | air_yards &lt;dbl&gt; | touchdown &lt;fct&gt; |\n|---|---|---|---|---|---|---|---|---|---|---|---|---|---|---|---|---|---|\n| ATL | PHI | 15 | 1 | 1 | 80 | pass    | 3600 | Half1 | 0 | 0 |  0 | 0.4789909 | 0.5210091 | 1 |  0.81834350 |  8.000000 | 0 |\n| ATL | PHI |  5 | 1 | 2 | 70 | run     | 3562 | Half1 | 0 | 0 |  0 | 0.5051000 | 0.4949000 | 1 |  1.36250678 |  8.122393 | 0 |\n| ATL | PHI | 10 | 1 | 1 | 59 | run     | 3526 | Half1 | 0 | 0 |  0 | 0.5483767 | 0.4516233 | 1 |  1.34379984 |  8.122393 | 0 |\n| ATL | PHI | 10 | 1 | 1 | 39 | pass    | 3490 | Half1 | 0 | 0 |  0 | 0.5939910 | 0.4060090 | 1 | -0.52205267 |  4.000000 | 0 |\n| ATL | PHI | 10 | 1 | 3 | 39 | pass    | 3481 | Half1 | 0 | 0 |  0 | 0.5500403 | 0.4499597 | 1 |  3.29840485 | 24.000000 | 0 |\n| ATL | PHI |  6 | 1 | 1 |  6 | run     | 3435 | Half1 | 0 | 0 |  0 | 0.6635976 | 0.3364024 | 1 |  0.58545190 |  8.122393 | 0 |\n| ATL | PHI |  1 | 1 | 3 |  1 | pass    | 3359 | Half1 | 0 | 0 |  0 | 0.6700005 | 0.3299995 | 1 | -2.01438265 |  1.000000 | 0 |\n| PHI | ATL | 10 | 1 | 1 | 98 | run     | 3351 | Half1 | 0 | 0 |  0 | 0.4476975 | 0.5523025 | 1 | -0.42577767 |  8.122393 | 0 |\n| PHI | ATL |  4 | 1 | 3 | 92 | pass    | 3264 | Half1 | 0 | 0 |  0 | 0.4353245 | 0.5646755 | 1 | -1.13654986 |  6.000000 | 0 |\n| ATL | PHI | 10 | 1 | 1 | 44 | pass    | 3248 | Half1 | 0 | 0 |  0 | 0.5941857 | 0.4058143 | 1 | -0.55171938 | 16.000000 | 0 |\n| ATL | PHI |  5 | 1 | 3 | 39 | run     | 3204 | Half1 | 0 | 0 |  0 | 0.5716515 | 0.4283485 | 1 |  1.31122198 |  8.122393 | 0 |\n| ATL | PHI | 10 | 1 | 1 | 33 | run     | 3158 | Half1 | 0 | 0 |  0 | 0.6165351 | 0.3834649 | 1 | -0.72594239 |  8.122393 | 0 |\n| ATL | PHI | 13 | 1 | 2 | 36 | pass    | 3121 | Half1 | 0 | 0 |  0 | 0.5931906 | 0.4068094 | 1 |  1.88633075 | -9.000000 | 0 |\n| ATL | PHI | 10 | 1 | 1 | 10 | pass    | 3079 | Half1 | 0 | 0 |  0 | 0.6714355 | 0.3285645 | 1 | -0.09090292 |  2.000000 | 0 |\n| ATL | PHI |  7 | 1 | 2 |  7 | pass    | 3038 | Half1 | 0 | 0 |  0 | 0.6681793 | 0.3318207 | 1 | -0.73928416 |  7.000000 | 0 |\n| ATL | PHI |  7 | 1 | 3 |  7 | no_play | 3032 | Half1 | 0 | 0 |  0 | 0.6428075 | 0.3571925 | 1 |  0.64258504 |  8.122393 | 0 |\n| ATL | PHI |  3 | 1 | 3 |  3 | pass    | 3007 | Half1 | 0 | 0 |  0 | 0.6641670 | 0.3358330 | 1 | -1.95858302 |  3.000000 | 0 |\n| PHI | ATL |  9 | 1 | 2 | 68 | no_play | 2953 | Half1 | 0 | 3 | -3 | 0.4137423 | 0.5862577 | 1 |  0.86692683 |  8.122393 | 0 |\n| PHI | ATL | 17 | 1 | 3 | 64 | no_play | 2803 | Half1 | 0 | 3 | -3 | 0.3714370 | 0.6285630 | 1 |  0.66821858 |  8.122393 | 0 |\n| PHI | ATL | 12 | 1 | 3 | 59 | pass    | 2781 | Half1 | 0 | 3 | -3 | 0.3908241 | 0.6091759 | 1 | -2.14764572 |  8.122393 | 0 |\n| ATL | PHI | 10 | 1 | 1 | 80 | pass    | 2730 | Half1 | 3 | 0 |  3 | 0.5989882 | 0.4010118 | 1 | -0.74365291 | 14.000000 | 0 |\n| PHI | ATL | 10 | 2 | 1 | 60 | pass    | 2652 | Half1 | 0 | 3 | -3 | 0.4342663 | 0.5657337 | 1 | -0.51689808 | -1.000000 | 0 |\n| PHI | ATL |  9 | 2 | 2 | 59 | run     | 2617 | Half1 | 0 | 3 | -3 | 0.4186067 | 0.5813933 | 1 | -0.60537998 |  8.122393 | 0 |\n| PHI | ATL |  4 | 2 | 2 | 41 | pass    | 2503 | Half1 | 0 | 3 | -3 | 0.4677129 | 0.5322871 | 1 |  0.64107286 |  6.000000 | 0 |\n| PHI | ATL | 10 | 2 | 1 | 31 | run     | 2479 | Half1 | 0 | 3 | -3 | 0.4883591 | 0.5116409 | 1 |  0.31565366 |  8.122393 | 0 |\n| PHI | ATL |  1 | 2 | 3 | 22 | run     | 2413 | Half1 | 0 | 3 | -3 | 0.4925934 | 0.5074066 | 1 |  0.37988375 |  8.122393 | 0 |\n| PHI | ATL | 10 | 2 | 1 | 20 | run     | 2382 | Half1 | 0 | 3 | -3 | 0.5070075 | 0.4929925 | 1 | -0.44264974 |  8.122393 | 0 |\n| PHI | ATL | 10 | 2 | 2 | 20 | pass    | 2347 | Half1 | 0 | 3 | -3 | 0.4967180 | 0.5032820 | 1 | -0.54449985 |  3.000000 | 0 |\n| PHI | ATL |  7 | 2 | 3 | 17 | no_play | 2303 | Half1 | 0 | 3 | -3 | 0.4841976 | 0.5158024 | 1 |  1.76327573 |  8.122393 | 0 |\n| PHI | ATL |  9 | 2 | 1 |  9 | no_play | 2297 | Half1 | 0 | 3 | -3 | 0.5392723 | 0.4607277 | 1 | -0.78155151 |  8.122393 | 0 |\n| ⋮ | ⋮ | ⋮ | ⋮ | ⋮ | ⋮ | ⋮ | ⋮ | ⋮ | ⋮ | ⋮ | ⋮ | ⋮ | ⋮ | ⋮ | ⋮ | ⋮ | ⋮ |\n| SEA | SF  |  1 | 4 | 1.000000 |  1 | no_play | 604 | Half2 |  7 | 19 | -12 | 0.25904962 | 0.7409504 | 17 | -0.0009185564 |  8.122393 | 0 |\n| SEA | SF  |  1 | 4 | 1.000000 |  1 | run     | 599 | Half2 |  7 | 19 | -12 | 0.25869735 | 0.7413027 | 17 |  0.5308509577 |  8.122393 | 1 |\n| SF  | SEA | 10 | 4 | 1.000000 | 75 | run     | 595 | Half2 | 19 | 14 |   5 | 0.72188920 | 0.2781108 | 17 |  0.4555568221 |  8.122393 | 0 |\n| SF  | SEA |  3 | 4 | 2.000000 | 68 | run     | 561 | Half2 | 19 | 14 |   5 | 0.74405673 | 0.2559433 | 17 |  1.0442560818 |  8.122393 | 0 |\n| SF  | SEA | 10 | 4 | 1.000000 | 55 | pass    | 517 | Half2 | 19 | 14 |   5 | 0.78875123 | 0.2112488 | 17 |  0.9466856331 | -1.000000 | 0 |\n| SF  | SEA | 10 | 4 | 1.000000 | 39 | run     | 478 | Half2 | 19 | 14 |   5 | 0.82567471 | 0.1743253 | 17 |  0.0836292777 |  8.122393 | 0 |\n| SF  | SEA |  5 | 4 | 3.000000 | 34 | pass    | 394 | Half2 | 19 | 14 |   5 | 0.81790115 | 0.1820988 | 17 |  1.6904797898 | 18.000000 | 0 |\n| SF  | SEA |  0 | 4 | 1.804924 | 34 | no_play | 355 | Half2 | 19 | 14 |   5 | 0.88016313 | 0.1198369 | 17 |  0.0000000000 |  8.122393 | 0 |\n| SF  | SEA | 10 | 4 | 1.000000 | 13 | run     | 355 | Half2 | 19 | 14 |   5 | 0.88016313 | 0.1198369 | 17 |  2.6307840264 |  8.122393 | 1 |\n| SEA | SF  | 10 | 4 | 1.000000 | 60 | pass    | 351 | Half2 | 14 | 26 | -12 | 0.09583381 | 0.9041662 | 17 |  0.8231802285 | 10.000000 | 0 |\n| SEA | SF  | 10 | 4 | 2.000000 | 47 | run     | 324 | Half2 | 14 | 26 | -12 | 0.09691607 | 0.9030839 | 17 |  1.1779286208 |  8.122393 | 0 |\n| SEA | SF  | 10 | 4 | 2.000000 | 34 | run     | 296 | Half2 | 14 | 26 | -12 | 0.10567539 | 0.8943246 | 17 | -0.3726068508 |  8.122393 | 0 |\n| SEA | SF  | 10 | 4 | 1.000000 | 16 | run     | 257 | Half2 | 14 | 26 | -12 | 0.12312183 | 0.8768782 | 17 | -0.3495031186 |  8.122393 | 0 |\n| SEA | SF  |  8 | 4 | 2.000000 | 14 | pass    | 220 | Half2 | 14 | 26 | -12 | 0.10035558 | 0.8996444 | 17 |  3.2259725457 | 14.000000 | 1 |\n| SF  | SEA | 10 | 4 | 1.000000 | 79 | run     | 215 | Half2 | 26 | 21 |   5 | 0.80355989 | 0.1964401 | 17 | -0.1720482272 |  8.122393 | 0 |\n| SF  | SEA | 17 | 4 | 3.000000 | 86 | pass    | 163 | Half2 | 26 | 21 |   5 | 0.77400286 | 0.2259971 | 17 |  0.5301604783 | -2.000000 | 0 |\n| SF  | SEA |  0 | 4 | 1.804924 | 86 | no_play | 154 | Half2 | 26 | 21 |   5 | 0.80552652 | 0.1944735 | 17 |  0.0000000000 |  8.122393 | 0 |\n| SEA | SF  |  5 | 4 | 2.000000 | 68 | pass    | 121 | Half2 | 21 | 26 |  -5 | 0.18683363 | 0.8131664 | 17 |  0.8882371897 | 10.000000 | 0 |\n| SEA | SF  | 10 | 4 | 1.000000 | 58 | pass    | 116 | Half2 | 21 | 26 |  -5 | 0.24771450 | 0.7522855 | 17 | -0.2796807536 | 10.000000 | 0 |\n| SEA | SF  | 10 | 4 | 2.000000 | 58 | pass    | 112 | Half2 | 21 | 26 |  -5 | 0.22351995 | 0.7764800 | 17 |  0.7696257334 | -1.000000 | 0 |\n| SEA | SF  | 10 | 4 | 1.000000 | 47 | pass    | 106 | Half2 | 21 | 26 |  -5 | 0.27061348 | 0.7293865 | 17 |  1.0506145328 | 16.000000 | 0 |\n| SEA | SF  | 10 | 4 | 1.000000 | 23 | pass    |  97 | Half2 | 21 | 26 |  -5 | 0.34879053 | 0.6512095 | 17 | -0.3094969960 | 12.000000 | 0 |\n| SEA | SF  | 10 | 4 | 2.000000 | 23 | pass    |  93 | Half2 | 21 | 26 |  -5 | 0.31484573 | 0.6851543 | 17 |  0.5846195348 |  5.000000 | 0 |\n| SEA | SF  | 10 | 4 | 1.000000 | 12 | pass    |  55 | Half2 | 21 | 26 |  -5 | 0.30183682 | 0.6981632 | 17 | -0.3180814719 | 12.000000 | 0 |\n| SEA | SF  | 10 | 4 | 2.000000 | 12 | pass    |  51 | Half2 | 21 | 26 |  -5 | 0.24857020 | 0.7514298 | 17 | -0.4860195832 | 12.000000 | 0 |\n| SEA | SF  |  0 | 4 | 1.804924 | 12 | no_play |  46 | Half2 | 21 | 26 |  -5 | 0.16121868 | 0.8387813 | 17 |  0.0000000000 |  8.122393 | 0 |\n| SEA | SF  |  0 | 4 | 1.804924 | 12 | no_play |  42 | Half2 | 21 | 26 |  -5 | 0.02968681 | 0.9703132 | 17 |  0.0000000000 |  8.122393 | 0 |\n| SEA | SF  |  1 | 4 | 2.000000 |  1 | no_play |  22 | Half2 | 21 | 26 |  -5 | 0.58319170 | 0.4168083 | 17 | -1.1167774079 |  8.122393 | 0 |\n| SEA | SF  |  5 | 4 | 2.000000 |  5 | pass    |  22 | Half2 | 21 | 26 |  -5 | 0.23589627 | 0.7641037 | 17 | -0.6614437432 |  5.000000 | 0 |\n| SEA | SF  |  5 | 4 | 4.000000 |  5 | pass    |  12 | Half2 | 21 | 26 |  -5 | 0.02614141 | 0.9738586 | 17 | -2.6364908363 |  4.000000 | 0 |\n\n",
            "text/html": [
              "<table>\n",
              "<caption>A tibble: 54303 × 18</caption>\n",
              "<thead>\n",
              "\t<tr><th scope=col>posteam</th><th scope=col>defteam</th><th scope=col>ydstogo</th><th scope=col>qtr</th><th scope=col>down</th><th scope=col>yardline_100</th><th scope=col>play_type</th><th scope=col>game_seconds_remaining</th><th scope=col>game_half</th><th scope=col>posteam_score</th><th scope=col>defteam_score</th><th scope=col>score_differential</th><th scope=col>wp</th><th scope=col>def_wp</th><th scope=col>week</th><th scope=col>epa</th><th scope=col>air_yards</th><th scope=col>touchdown</th></tr>\n",
              "\t<tr><th scope=col>&lt;fct&gt;</th><th scope=col>&lt;fct&gt;</th><th scope=col>&lt;dbl&gt;</th><th scope=col>&lt;dbl&gt;</th><th scope=col>&lt;dbl&gt;</th><th scope=col>&lt;dbl&gt;</th><th scope=col>&lt;fct&gt;</th><th scope=col>&lt;dbl&gt;</th><th scope=col>&lt;fct&gt;</th><th scope=col>&lt;dbl&gt;</th><th scope=col>&lt;dbl&gt;</th><th scope=col>&lt;dbl&gt;</th><th scope=col>&lt;dbl&gt;</th><th scope=col>&lt;dbl&gt;</th><th scope=col>&lt;dbl&gt;</th><th scope=col>&lt;dbl&gt;</th><th scope=col>&lt;dbl&gt;</th><th scope=col>&lt;fct&gt;</th></tr>\n",
              "</thead>\n",
              "<tbody>\n",
              "\t<tr><td>ATL</td><td>PHI</td><td>15</td><td>1</td><td>1</td><td>80</td><td>pass   </td><td>3600</td><td>Half1</td><td>0</td><td>0</td><td> 0</td><td>0.4789909</td><td>0.5210091</td><td>1</td><td> 0.81834350</td><td> 8.000000</td><td>0</td></tr>\n",
              "\t<tr><td>ATL</td><td>PHI</td><td> 5</td><td>1</td><td>2</td><td>70</td><td>run    </td><td>3562</td><td>Half1</td><td>0</td><td>0</td><td> 0</td><td>0.5051000</td><td>0.4949000</td><td>1</td><td> 1.36250678</td><td> 8.122393</td><td>0</td></tr>\n",
              "\t<tr><td>ATL</td><td>PHI</td><td>10</td><td>1</td><td>1</td><td>59</td><td>run    </td><td>3526</td><td>Half1</td><td>0</td><td>0</td><td> 0</td><td>0.5483767</td><td>0.4516233</td><td>1</td><td> 1.34379984</td><td> 8.122393</td><td>0</td></tr>\n",
              "\t<tr><td>ATL</td><td>PHI</td><td>10</td><td>1</td><td>1</td><td>39</td><td>pass   </td><td>3490</td><td>Half1</td><td>0</td><td>0</td><td> 0</td><td>0.5939910</td><td>0.4060090</td><td>1</td><td>-0.52205267</td><td> 4.000000</td><td>0</td></tr>\n",
              "\t<tr><td>ATL</td><td>PHI</td><td>10</td><td>1</td><td>3</td><td>39</td><td>pass   </td><td>3481</td><td>Half1</td><td>0</td><td>0</td><td> 0</td><td>0.5500403</td><td>0.4499597</td><td>1</td><td> 3.29840485</td><td>24.000000</td><td>0</td></tr>\n",
              "\t<tr><td>ATL</td><td>PHI</td><td> 6</td><td>1</td><td>1</td><td> 6</td><td>run    </td><td>3435</td><td>Half1</td><td>0</td><td>0</td><td> 0</td><td>0.6635976</td><td>0.3364024</td><td>1</td><td> 0.58545190</td><td> 8.122393</td><td>0</td></tr>\n",
              "\t<tr><td>ATL</td><td>PHI</td><td> 1</td><td>1</td><td>3</td><td> 1</td><td>pass   </td><td>3359</td><td>Half1</td><td>0</td><td>0</td><td> 0</td><td>0.6700005</td><td>0.3299995</td><td>1</td><td>-2.01438265</td><td> 1.000000</td><td>0</td></tr>\n",
              "\t<tr><td>PHI</td><td>ATL</td><td>10</td><td>1</td><td>1</td><td>98</td><td>run    </td><td>3351</td><td>Half1</td><td>0</td><td>0</td><td> 0</td><td>0.4476975</td><td>0.5523025</td><td>1</td><td>-0.42577767</td><td> 8.122393</td><td>0</td></tr>\n",
              "\t<tr><td>PHI</td><td>ATL</td><td> 4</td><td>1</td><td>3</td><td>92</td><td>pass   </td><td>3264</td><td>Half1</td><td>0</td><td>0</td><td> 0</td><td>0.4353245</td><td>0.5646755</td><td>1</td><td>-1.13654986</td><td> 6.000000</td><td>0</td></tr>\n",
              "\t<tr><td>ATL</td><td>PHI</td><td>10</td><td>1</td><td>1</td><td>44</td><td>pass   </td><td>3248</td><td>Half1</td><td>0</td><td>0</td><td> 0</td><td>0.5941857</td><td>0.4058143</td><td>1</td><td>-0.55171938</td><td>16.000000</td><td>0</td></tr>\n",
              "\t<tr><td>ATL</td><td>PHI</td><td> 5</td><td>1</td><td>3</td><td>39</td><td>run    </td><td>3204</td><td>Half1</td><td>0</td><td>0</td><td> 0</td><td>0.5716515</td><td>0.4283485</td><td>1</td><td> 1.31122198</td><td> 8.122393</td><td>0</td></tr>\n",
              "\t<tr><td>ATL</td><td>PHI</td><td>10</td><td>1</td><td>1</td><td>33</td><td>run    </td><td>3158</td><td>Half1</td><td>0</td><td>0</td><td> 0</td><td>0.6165351</td><td>0.3834649</td><td>1</td><td>-0.72594239</td><td> 8.122393</td><td>0</td></tr>\n",
              "\t<tr><td>ATL</td><td>PHI</td><td>13</td><td>1</td><td>2</td><td>36</td><td>pass   </td><td>3121</td><td>Half1</td><td>0</td><td>0</td><td> 0</td><td>0.5931906</td><td>0.4068094</td><td>1</td><td> 1.88633075</td><td>-9.000000</td><td>0</td></tr>\n",
              "\t<tr><td>ATL</td><td>PHI</td><td>10</td><td>1</td><td>1</td><td>10</td><td>pass   </td><td>3079</td><td>Half1</td><td>0</td><td>0</td><td> 0</td><td>0.6714355</td><td>0.3285645</td><td>1</td><td>-0.09090292</td><td> 2.000000</td><td>0</td></tr>\n",
              "\t<tr><td>ATL</td><td>PHI</td><td> 7</td><td>1</td><td>2</td><td> 7</td><td>pass   </td><td>3038</td><td>Half1</td><td>0</td><td>0</td><td> 0</td><td>0.6681793</td><td>0.3318207</td><td>1</td><td>-0.73928416</td><td> 7.000000</td><td>0</td></tr>\n",
              "\t<tr><td>ATL</td><td>PHI</td><td> 7</td><td>1</td><td>3</td><td> 7</td><td>no_play</td><td>3032</td><td>Half1</td><td>0</td><td>0</td><td> 0</td><td>0.6428075</td><td>0.3571925</td><td>1</td><td> 0.64258504</td><td> 8.122393</td><td>0</td></tr>\n",
              "\t<tr><td>ATL</td><td>PHI</td><td> 3</td><td>1</td><td>3</td><td> 3</td><td>pass   </td><td>3007</td><td>Half1</td><td>0</td><td>0</td><td> 0</td><td>0.6641670</td><td>0.3358330</td><td>1</td><td>-1.95858302</td><td> 3.000000</td><td>0</td></tr>\n",
              "\t<tr><td>PHI</td><td>ATL</td><td> 9</td><td>1</td><td>2</td><td>68</td><td>no_play</td><td>2953</td><td>Half1</td><td>0</td><td>3</td><td>-3</td><td>0.4137423</td><td>0.5862577</td><td>1</td><td> 0.86692683</td><td> 8.122393</td><td>0</td></tr>\n",
              "\t<tr><td>PHI</td><td>ATL</td><td>17</td><td>1</td><td>3</td><td>64</td><td>no_play</td><td>2803</td><td>Half1</td><td>0</td><td>3</td><td>-3</td><td>0.3714370</td><td>0.6285630</td><td>1</td><td> 0.66821858</td><td> 8.122393</td><td>0</td></tr>\n",
              "\t<tr><td>PHI</td><td>ATL</td><td>12</td><td>1</td><td>3</td><td>59</td><td>pass   </td><td>2781</td><td>Half1</td><td>0</td><td>3</td><td>-3</td><td>0.3908241</td><td>0.6091759</td><td>1</td><td>-2.14764572</td><td> 8.122393</td><td>0</td></tr>\n",
              "\t<tr><td>ATL</td><td>PHI</td><td>10</td><td>1</td><td>1</td><td>80</td><td>pass   </td><td>2730</td><td>Half1</td><td>3</td><td>0</td><td> 3</td><td>0.5989882</td><td>0.4010118</td><td>1</td><td>-0.74365291</td><td>14.000000</td><td>0</td></tr>\n",
              "\t<tr><td>PHI</td><td>ATL</td><td>10</td><td>2</td><td>1</td><td>60</td><td>pass   </td><td>2652</td><td>Half1</td><td>0</td><td>3</td><td>-3</td><td>0.4342663</td><td>0.5657337</td><td>1</td><td>-0.51689808</td><td>-1.000000</td><td>0</td></tr>\n",
              "\t<tr><td>PHI</td><td>ATL</td><td> 9</td><td>2</td><td>2</td><td>59</td><td>run    </td><td>2617</td><td>Half1</td><td>0</td><td>3</td><td>-3</td><td>0.4186067</td><td>0.5813933</td><td>1</td><td>-0.60537998</td><td> 8.122393</td><td>0</td></tr>\n",
              "\t<tr><td>PHI</td><td>ATL</td><td> 4</td><td>2</td><td>2</td><td>41</td><td>pass   </td><td>2503</td><td>Half1</td><td>0</td><td>3</td><td>-3</td><td>0.4677129</td><td>0.5322871</td><td>1</td><td> 0.64107286</td><td> 6.000000</td><td>0</td></tr>\n",
              "\t<tr><td>PHI</td><td>ATL</td><td>10</td><td>2</td><td>1</td><td>31</td><td>run    </td><td>2479</td><td>Half1</td><td>0</td><td>3</td><td>-3</td><td>0.4883591</td><td>0.5116409</td><td>1</td><td> 0.31565366</td><td> 8.122393</td><td>0</td></tr>\n",
              "\t<tr><td>PHI</td><td>ATL</td><td> 1</td><td>2</td><td>3</td><td>22</td><td>run    </td><td>2413</td><td>Half1</td><td>0</td><td>3</td><td>-3</td><td>0.4925934</td><td>0.5074066</td><td>1</td><td> 0.37988375</td><td> 8.122393</td><td>0</td></tr>\n",
              "\t<tr><td>PHI</td><td>ATL</td><td>10</td><td>2</td><td>1</td><td>20</td><td>run    </td><td>2382</td><td>Half1</td><td>0</td><td>3</td><td>-3</td><td>0.5070075</td><td>0.4929925</td><td>1</td><td>-0.44264974</td><td> 8.122393</td><td>0</td></tr>\n",
              "\t<tr><td>PHI</td><td>ATL</td><td>10</td><td>2</td><td>2</td><td>20</td><td>pass   </td><td>2347</td><td>Half1</td><td>0</td><td>3</td><td>-3</td><td>0.4967180</td><td>0.5032820</td><td>1</td><td>-0.54449985</td><td> 3.000000</td><td>0</td></tr>\n",
              "\t<tr><td>PHI</td><td>ATL</td><td> 7</td><td>2</td><td>3</td><td>17</td><td>no_play</td><td>2303</td><td>Half1</td><td>0</td><td>3</td><td>-3</td><td>0.4841976</td><td>0.5158024</td><td>1</td><td> 1.76327573</td><td> 8.122393</td><td>0</td></tr>\n",
              "\t<tr><td>PHI</td><td>ATL</td><td> 9</td><td>2</td><td>1</td><td> 9</td><td>no_play</td><td>2297</td><td>Half1</td><td>0</td><td>3</td><td>-3</td><td>0.5392723</td><td>0.4607277</td><td>1</td><td>-0.78155151</td><td> 8.122393</td><td>0</td></tr>\n",
              "\t<tr><td>⋮</td><td>⋮</td><td>⋮</td><td>⋮</td><td>⋮</td><td>⋮</td><td>⋮</td><td>⋮</td><td>⋮</td><td>⋮</td><td>⋮</td><td>⋮</td><td>⋮</td><td>⋮</td><td>⋮</td><td>⋮</td><td>⋮</td><td>⋮</td></tr>\n",
              "\t<tr><td>SEA</td><td>SF </td><td> 1</td><td>4</td><td>1.000000</td><td> 1</td><td>no_play</td><td>604</td><td>Half2</td><td> 7</td><td>19</td><td>-12</td><td>0.25904962</td><td>0.7409504</td><td>17</td><td>-0.0009185564</td><td> 8.122393</td><td>0</td></tr>\n",
              "\t<tr><td>SEA</td><td>SF </td><td> 1</td><td>4</td><td>1.000000</td><td> 1</td><td>run    </td><td>599</td><td>Half2</td><td> 7</td><td>19</td><td>-12</td><td>0.25869735</td><td>0.7413027</td><td>17</td><td> 0.5308509577</td><td> 8.122393</td><td>1</td></tr>\n",
              "\t<tr><td>SF </td><td>SEA</td><td>10</td><td>4</td><td>1.000000</td><td>75</td><td>run    </td><td>595</td><td>Half2</td><td>19</td><td>14</td><td>  5</td><td>0.72188920</td><td>0.2781108</td><td>17</td><td> 0.4555568221</td><td> 8.122393</td><td>0</td></tr>\n",
              "\t<tr><td>SF </td><td>SEA</td><td> 3</td><td>4</td><td>2.000000</td><td>68</td><td>run    </td><td>561</td><td>Half2</td><td>19</td><td>14</td><td>  5</td><td>0.74405673</td><td>0.2559433</td><td>17</td><td> 1.0442560818</td><td> 8.122393</td><td>0</td></tr>\n",
              "\t<tr><td>SF </td><td>SEA</td><td>10</td><td>4</td><td>1.000000</td><td>55</td><td>pass   </td><td>517</td><td>Half2</td><td>19</td><td>14</td><td>  5</td><td>0.78875123</td><td>0.2112488</td><td>17</td><td> 0.9466856331</td><td>-1.000000</td><td>0</td></tr>\n",
              "\t<tr><td>SF </td><td>SEA</td><td>10</td><td>4</td><td>1.000000</td><td>39</td><td>run    </td><td>478</td><td>Half2</td><td>19</td><td>14</td><td>  5</td><td>0.82567471</td><td>0.1743253</td><td>17</td><td> 0.0836292777</td><td> 8.122393</td><td>0</td></tr>\n",
              "\t<tr><td>SF </td><td>SEA</td><td> 5</td><td>4</td><td>3.000000</td><td>34</td><td>pass   </td><td>394</td><td>Half2</td><td>19</td><td>14</td><td>  5</td><td>0.81790115</td><td>0.1820988</td><td>17</td><td> 1.6904797898</td><td>18.000000</td><td>0</td></tr>\n",
              "\t<tr><td>SF </td><td>SEA</td><td> 0</td><td>4</td><td>1.804924</td><td>34</td><td>no_play</td><td>355</td><td>Half2</td><td>19</td><td>14</td><td>  5</td><td>0.88016313</td><td>0.1198369</td><td>17</td><td> 0.0000000000</td><td> 8.122393</td><td>0</td></tr>\n",
              "\t<tr><td>SF </td><td>SEA</td><td>10</td><td>4</td><td>1.000000</td><td>13</td><td>run    </td><td>355</td><td>Half2</td><td>19</td><td>14</td><td>  5</td><td>0.88016313</td><td>0.1198369</td><td>17</td><td> 2.6307840264</td><td> 8.122393</td><td>1</td></tr>\n",
              "\t<tr><td>SEA</td><td>SF </td><td>10</td><td>4</td><td>1.000000</td><td>60</td><td>pass   </td><td>351</td><td>Half2</td><td>14</td><td>26</td><td>-12</td><td>0.09583381</td><td>0.9041662</td><td>17</td><td> 0.8231802285</td><td>10.000000</td><td>0</td></tr>\n",
              "\t<tr><td>SEA</td><td>SF </td><td>10</td><td>4</td><td>2.000000</td><td>47</td><td>run    </td><td>324</td><td>Half2</td><td>14</td><td>26</td><td>-12</td><td>0.09691607</td><td>0.9030839</td><td>17</td><td> 1.1779286208</td><td> 8.122393</td><td>0</td></tr>\n",
              "\t<tr><td>SEA</td><td>SF </td><td>10</td><td>4</td><td>2.000000</td><td>34</td><td>run    </td><td>296</td><td>Half2</td><td>14</td><td>26</td><td>-12</td><td>0.10567539</td><td>0.8943246</td><td>17</td><td>-0.3726068508</td><td> 8.122393</td><td>0</td></tr>\n",
              "\t<tr><td>SEA</td><td>SF </td><td>10</td><td>4</td><td>1.000000</td><td>16</td><td>run    </td><td>257</td><td>Half2</td><td>14</td><td>26</td><td>-12</td><td>0.12312183</td><td>0.8768782</td><td>17</td><td>-0.3495031186</td><td> 8.122393</td><td>0</td></tr>\n",
              "\t<tr><td>SEA</td><td>SF </td><td> 8</td><td>4</td><td>2.000000</td><td>14</td><td>pass   </td><td>220</td><td>Half2</td><td>14</td><td>26</td><td>-12</td><td>0.10035558</td><td>0.8996444</td><td>17</td><td> 3.2259725457</td><td>14.000000</td><td>1</td></tr>\n",
              "\t<tr><td>SF </td><td>SEA</td><td>10</td><td>4</td><td>1.000000</td><td>79</td><td>run    </td><td>215</td><td>Half2</td><td>26</td><td>21</td><td>  5</td><td>0.80355989</td><td>0.1964401</td><td>17</td><td>-0.1720482272</td><td> 8.122393</td><td>0</td></tr>\n",
              "\t<tr><td>SF </td><td>SEA</td><td>17</td><td>4</td><td>3.000000</td><td>86</td><td>pass   </td><td>163</td><td>Half2</td><td>26</td><td>21</td><td>  5</td><td>0.77400286</td><td>0.2259971</td><td>17</td><td> 0.5301604783</td><td>-2.000000</td><td>0</td></tr>\n",
              "\t<tr><td>SF </td><td>SEA</td><td> 0</td><td>4</td><td>1.804924</td><td>86</td><td>no_play</td><td>154</td><td>Half2</td><td>26</td><td>21</td><td>  5</td><td>0.80552652</td><td>0.1944735</td><td>17</td><td> 0.0000000000</td><td> 8.122393</td><td>0</td></tr>\n",
              "\t<tr><td>SEA</td><td>SF </td><td> 5</td><td>4</td><td>2.000000</td><td>68</td><td>pass   </td><td>121</td><td>Half2</td><td>21</td><td>26</td><td> -5</td><td>0.18683363</td><td>0.8131664</td><td>17</td><td> 0.8882371897</td><td>10.000000</td><td>0</td></tr>\n",
              "\t<tr><td>SEA</td><td>SF </td><td>10</td><td>4</td><td>1.000000</td><td>58</td><td>pass   </td><td>116</td><td>Half2</td><td>21</td><td>26</td><td> -5</td><td>0.24771450</td><td>0.7522855</td><td>17</td><td>-0.2796807536</td><td>10.000000</td><td>0</td></tr>\n",
              "\t<tr><td>SEA</td><td>SF </td><td>10</td><td>4</td><td>2.000000</td><td>58</td><td>pass   </td><td>112</td><td>Half2</td><td>21</td><td>26</td><td> -5</td><td>0.22351995</td><td>0.7764800</td><td>17</td><td> 0.7696257334</td><td>-1.000000</td><td>0</td></tr>\n",
              "\t<tr><td>SEA</td><td>SF </td><td>10</td><td>4</td><td>1.000000</td><td>47</td><td>pass   </td><td>106</td><td>Half2</td><td>21</td><td>26</td><td> -5</td><td>0.27061348</td><td>0.7293865</td><td>17</td><td> 1.0506145328</td><td>16.000000</td><td>0</td></tr>\n",
              "\t<tr><td>SEA</td><td>SF </td><td>10</td><td>4</td><td>1.000000</td><td>23</td><td>pass   </td><td> 97</td><td>Half2</td><td>21</td><td>26</td><td> -5</td><td>0.34879053</td><td>0.6512095</td><td>17</td><td>-0.3094969960</td><td>12.000000</td><td>0</td></tr>\n",
              "\t<tr><td>SEA</td><td>SF </td><td>10</td><td>4</td><td>2.000000</td><td>23</td><td>pass   </td><td> 93</td><td>Half2</td><td>21</td><td>26</td><td> -5</td><td>0.31484573</td><td>0.6851543</td><td>17</td><td> 0.5846195348</td><td> 5.000000</td><td>0</td></tr>\n",
              "\t<tr><td>SEA</td><td>SF </td><td>10</td><td>4</td><td>1.000000</td><td>12</td><td>pass   </td><td> 55</td><td>Half2</td><td>21</td><td>26</td><td> -5</td><td>0.30183682</td><td>0.6981632</td><td>17</td><td>-0.3180814719</td><td>12.000000</td><td>0</td></tr>\n",
              "\t<tr><td>SEA</td><td>SF </td><td>10</td><td>4</td><td>2.000000</td><td>12</td><td>pass   </td><td> 51</td><td>Half2</td><td>21</td><td>26</td><td> -5</td><td>0.24857020</td><td>0.7514298</td><td>17</td><td>-0.4860195832</td><td>12.000000</td><td>0</td></tr>\n",
              "\t<tr><td>SEA</td><td>SF </td><td> 0</td><td>4</td><td>1.804924</td><td>12</td><td>no_play</td><td> 46</td><td>Half2</td><td>21</td><td>26</td><td> -5</td><td>0.16121868</td><td>0.8387813</td><td>17</td><td> 0.0000000000</td><td> 8.122393</td><td>0</td></tr>\n",
              "\t<tr><td>SEA</td><td>SF </td><td> 0</td><td>4</td><td>1.804924</td><td>12</td><td>no_play</td><td> 42</td><td>Half2</td><td>21</td><td>26</td><td> -5</td><td>0.02968681</td><td>0.9703132</td><td>17</td><td> 0.0000000000</td><td> 8.122393</td><td>0</td></tr>\n",
              "\t<tr><td>SEA</td><td>SF </td><td> 1</td><td>4</td><td>2.000000</td><td> 1</td><td>no_play</td><td> 22</td><td>Half2</td><td>21</td><td>26</td><td> -5</td><td>0.58319170</td><td>0.4168083</td><td>17</td><td>-1.1167774079</td><td> 8.122393</td><td>0</td></tr>\n",
              "\t<tr><td>SEA</td><td>SF </td><td> 5</td><td>4</td><td>2.000000</td><td> 5</td><td>pass   </td><td> 22</td><td>Half2</td><td>21</td><td>26</td><td> -5</td><td>0.23589627</td><td>0.7641037</td><td>17</td><td>-0.6614437432</td><td> 5.000000</td><td>0</td></tr>\n",
              "\t<tr><td>SEA</td><td>SF </td><td> 5</td><td>4</td><td>4.000000</td><td> 5</td><td>pass   </td><td> 12</td><td>Half2</td><td>21</td><td>26</td><td> -5</td><td>0.02614141</td><td>0.9738586</td><td>17</td><td>-2.6364908363</td><td> 4.000000</td><td>0</td></tr>\n",
              "</tbody>\n",
              "</table>\n"
            ]
          },
          "metadata": {
            "tags": []
          }
        }
      ]
    },
    {
      "cell_type": "markdown",
      "metadata": {
        "id": "0kGgkUls6Vhg",
        "colab_type": "text"
      },
      "source": [
        "pass_location 2 many NA's"
      ]
    },
    {
      "cell_type": "code",
      "metadata": {
        "id": "GYGWinwE6XpM",
        "colab_type": "code",
        "colab": {}
      },
      "source": [
        "nfl_test_prep <- bake(nfl_prepped, nfl_test)"
      ],
      "execution_count": 53,
      "outputs": []
    },
    {
      "cell_type": "code",
      "metadata": {
        "id": "3SvM-OO56sBT",
        "colab_type": "code",
        "colab": {}
      },
      "source": [
        "rand_forest() %>%\n",
        "set_args(mtry = tune(),\n",
        "          trees = tune()) %>%\n",
        "set_engine(\"ranger\", importance = \"impurity\") %>%\n",
        "set_mode(\"classification\") -> rf_model"
      ],
      "execution_count": 54,
      "outputs": []
    },
    {
      "cell_type": "code",
      "metadata": {
        "id": "O5Lw3VEn6-uj",
        "colab_type": "code",
        "colab": {}
      },
      "source": [
        "rf_workflow <- workflow() %>%\n",
        "  add_recipe(nfl_prepped) %>%\n",
        "  add_model(rf_model)"
      ],
      "execution_count": 55,
      "outputs": []
    },
    {
      "cell_type": "code",
      "metadata": {
        "id": "A6AChe7F7fYB",
        "colab_type": "code",
        "colab": {
          "base_uri": "https://localhost:8080/",
          "height": 277
        },
        "outputId": "c6a2e01d-1ccc-41ff-8ceb-d640c372fbb1"
      },
      "source": [
        "expand.grid(mtry = c(3,4,5), trees = c(25, 50, 100))"
      ],
      "execution_count": 24,
      "outputs": [
        {
          "output_type": "display_data",
          "data": {
            "text/plain": [
              "  mtry trees\n",
              "1 3     25  \n",
              "2 4     25  \n",
              "3 5     25  \n",
              "4 3     50  \n",
              "5 4     50  \n",
              "6 5     50  \n",
              "7 3    100  \n",
              "8 4    100  \n",
              "9 5    100  "
            ],
            "text/latex": "A data.frame: 9 × 2\n\\begin{tabular}{ll}\n mtry & trees\\\\\n <dbl> & <dbl>\\\\\n\\hline\n\t 3 &  25\\\\\n\t 4 &  25\\\\\n\t 5 &  25\\\\\n\t 3 &  50\\\\\n\t 4 &  50\\\\\n\t 5 &  50\\\\\n\t 3 & 100\\\\\n\t 4 & 100\\\\\n\t 5 & 100\\\\\n\\end{tabular}\n",
            "text/markdown": "\nA data.frame: 9 × 2\n\n| mtry &lt;dbl&gt; | trees &lt;dbl&gt; |\n|---|---|\n| 3 |  25 |\n| 4 |  25 |\n| 5 |  25 |\n| 3 |  50 |\n| 4 |  50 |\n| 5 |  50 |\n| 3 | 100 |\n| 4 | 100 |\n| 5 | 100 |\n\n",
            "text/html": [
              "<table>\n",
              "<caption>A data.frame: 9 × 2</caption>\n",
              "<thead>\n",
              "\t<tr><th scope=col>mtry</th><th scope=col>trees</th></tr>\n",
              "\t<tr><th scope=col>&lt;dbl&gt;</th><th scope=col>&lt;dbl&gt;</th></tr>\n",
              "</thead>\n",
              "<tbody>\n",
              "\t<tr><td>3</td><td> 25</td></tr>\n",
              "\t<tr><td>4</td><td> 25</td></tr>\n",
              "\t<tr><td>5</td><td> 25</td></tr>\n",
              "\t<tr><td>3</td><td> 50</td></tr>\n",
              "\t<tr><td>4</td><td> 50</td></tr>\n",
              "\t<tr><td>5</td><td> 50</td></tr>\n",
              "\t<tr><td>3</td><td>100</td></tr>\n",
              "\t<tr><td>4</td><td>100</td></tr>\n",
              "\t<tr><td>5</td><td>100</td></tr>\n",
              "</tbody>\n",
              "</table>\n"
            ]
          },
          "metadata": {
            "tags": []
          }
        }
      ]
    },
    {
      "cell_type": "code",
      "metadata": {
        "id": "Sc3xESuG7uRg",
        "colab_type": "code",
        "colab": {}
      },
      "source": [
        "rf_grid <- expand.grid(mtry = c(3,4,5), trees = c(25,50,100))\n",
        "\n",
        "rf_workflow %>%\n",
        "tune_grid(resamples = nfl_cv,\n",
        "            grid = rf_grid,\n",
        "            metrics = metric_set(accuracy, roc_auc)) -> rf_tune_results"
      ],
      "execution_count": 56,
      "outputs": []
    },
    {
      "cell_type": "code",
      "metadata": {
        "id": "YyLqxwz5_XsD",
        "colab_type": "code",
        "colab": {
          "base_uri": "https://localhost:8080/",
          "height": 444
        },
        "outputId": "557a1cba-aa17-43cc-ace6-dbd57d2af6f8"
      },
      "source": [
        "rf_tune_results %>%\n",
        "  collect_metrics()"
      ],
      "execution_count": 57,
      "outputs": [
        {
          "output_type": "display_data",
          "data": {
            "text/plain": [
              "   mtry trees .metric  .estimator mean      n  std_err      .config\n",
              "1  3     25   accuracy binary     0.9941624 10 3.950063e-04 Model1 \n",
              "2  3     25   roc_auc  binary     0.9982567 10 4.444981e-04 Model1 \n",
              "3  4     25   accuracy binary     0.9955620 10 3.604534e-04 Model2 \n",
              "4  4     25   roc_auc  binary     0.9993328 10 7.366645e-05 Model2 \n",
              "5  5     25   accuracy binary     0.9961512 10 2.682096e-04 Model3 \n",
              "6  5     25   roc_auc  binary     0.9990065 10 3.466828e-04 Model3 \n",
              "7  3     50   accuracy binary     0.9944939 10 3.444609e-04 Model4 \n",
              "8  3     50   roc_auc  binary     0.9987883 10 3.246478e-04 Model4 \n",
              "9  4     50   accuracy binary     0.9960039 10 2.516319e-04 Model5 \n",
              "10 4     50   roc_auc  binary     0.9990874 10 3.100463e-04 Model5 \n",
              "11 5     50   accuracy binary     0.9963170 10 2.230248e-04 Model6 \n",
              "12 5     50   roc_auc  binary     0.9995674 10 5.906255e-05 Model6 \n",
              "13 3    100   accuracy binary     0.9953962 10 3.428397e-04 Model7 \n",
              "14 3    100   roc_auc  binary     0.9992674 10 8.121966e-05 Model7 \n",
              "15 4    100   accuracy binary     0.9961697 10 2.512378e-04 Model8 \n",
              "16 4    100   roc_auc  binary     0.9994826 10 5.474494e-05 Model8 \n",
              "17 5    100   accuracy binary     0.9966669 10 2.133996e-04 Model9 \n",
              "18 5    100   roc_auc  binary     0.9996115 10 5.127693e-05 Model9 "
            ],
            "text/latex": "A tibble: 18 × 8\n\\begin{tabular}{llllllll}\n mtry & trees & .metric & .estimator & mean & n & std\\_err & .config\\\\\n <dbl> & <dbl> & <chr> & <chr> & <dbl> & <int> & <dbl> & <fct>\\\\\n\\hline\n\t 3 &  25 & accuracy & binary & 0.9941624 & 10 & 3.950063e-04 & Model1\\\\\n\t 3 &  25 & roc\\_auc  & binary & 0.9982567 & 10 & 4.444981e-04 & Model1\\\\\n\t 4 &  25 & accuracy & binary & 0.9955620 & 10 & 3.604534e-04 & Model2\\\\\n\t 4 &  25 & roc\\_auc  & binary & 0.9993328 & 10 & 7.366645e-05 & Model2\\\\\n\t 5 &  25 & accuracy & binary & 0.9961512 & 10 & 2.682096e-04 & Model3\\\\\n\t 5 &  25 & roc\\_auc  & binary & 0.9990065 & 10 & 3.466828e-04 & Model3\\\\\n\t 3 &  50 & accuracy & binary & 0.9944939 & 10 & 3.444609e-04 & Model4\\\\\n\t 3 &  50 & roc\\_auc  & binary & 0.9987883 & 10 & 3.246478e-04 & Model4\\\\\n\t 4 &  50 & accuracy & binary & 0.9960039 & 10 & 2.516319e-04 & Model5\\\\\n\t 4 &  50 & roc\\_auc  & binary & 0.9990874 & 10 & 3.100463e-04 & Model5\\\\\n\t 5 &  50 & accuracy & binary & 0.9963170 & 10 & 2.230248e-04 & Model6\\\\\n\t 5 &  50 & roc\\_auc  & binary & 0.9995674 & 10 & 5.906255e-05 & Model6\\\\\n\t 3 & 100 & accuracy & binary & 0.9953962 & 10 & 3.428397e-04 & Model7\\\\\n\t 3 & 100 & roc\\_auc  & binary & 0.9992674 & 10 & 8.121966e-05 & Model7\\\\\n\t 4 & 100 & accuracy & binary & 0.9961697 & 10 & 2.512378e-04 & Model8\\\\\n\t 4 & 100 & roc\\_auc  & binary & 0.9994826 & 10 & 5.474494e-05 & Model8\\\\\n\t 5 & 100 & accuracy & binary & 0.9966669 & 10 & 2.133996e-04 & Model9\\\\\n\t 5 & 100 & roc\\_auc  & binary & 0.9996115 & 10 & 5.127693e-05 & Model9\\\\\n\\end{tabular}\n",
            "text/markdown": "\nA tibble: 18 × 8\n\n| mtry &lt;dbl&gt; | trees &lt;dbl&gt; | .metric &lt;chr&gt; | .estimator &lt;chr&gt; | mean &lt;dbl&gt; | n &lt;int&gt; | std_err &lt;dbl&gt; | .config &lt;fct&gt; |\n|---|---|---|---|---|---|---|---|\n| 3 |  25 | accuracy | binary | 0.9941624 | 10 | 3.950063e-04 | Model1 |\n| 3 |  25 | roc_auc  | binary | 0.9982567 | 10 | 4.444981e-04 | Model1 |\n| 4 |  25 | accuracy | binary | 0.9955620 | 10 | 3.604534e-04 | Model2 |\n| 4 |  25 | roc_auc  | binary | 0.9993328 | 10 | 7.366645e-05 | Model2 |\n| 5 |  25 | accuracy | binary | 0.9961512 | 10 | 2.682096e-04 | Model3 |\n| 5 |  25 | roc_auc  | binary | 0.9990065 | 10 | 3.466828e-04 | Model3 |\n| 3 |  50 | accuracy | binary | 0.9944939 | 10 | 3.444609e-04 | Model4 |\n| 3 |  50 | roc_auc  | binary | 0.9987883 | 10 | 3.246478e-04 | Model4 |\n| 4 |  50 | accuracy | binary | 0.9960039 | 10 | 2.516319e-04 | Model5 |\n| 4 |  50 | roc_auc  | binary | 0.9990874 | 10 | 3.100463e-04 | Model5 |\n| 5 |  50 | accuracy | binary | 0.9963170 | 10 | 2.230248e-04 | Model6 |\n| 5 |  50 | roc_auc  | binary | 0.9995674 | 10 | 5.906255e-05 | Model6 |\n| 3 | 100 | accuracy | binary | 0.9953962 | 10 | 3.428397e-04 | Model7 |\n| 3 | 100 | roc_auc  | binary | 0.9992674 | 10 | 8.121966e-05 | Model7 |\n| 4 | 100 | accuracy | binary | 0.9961697 | 10 | 2.512378e-04 | Model8 |\n| 4 | 100 | roc_auc  | binary | 0.9994826 | 10 | 5.474494e-05 | Model8 |\n| 5 | 100 | accuracy | binary | 0.9966669 | 10 | 2.133996e-04 | Model9 |\n| 5 | 100 | roc_auc  | binary | 0.9996115 | 10 | 5.127693e-05 | Model9 |\n\n",
            "text/html": [
              "<table>\n",
              "<caption>A tibble: 18 × 8</caption>\n",
              "<thead>\n",
              "\t<tr><th scope=col>mtry</th><th scope=col>trees</th><th scope=col>.metric</th><th scope=col>.estimator</th><th scope=col>mean</th><th scope=col>n</th><th scope=col>std_err</th><th scope=col>.config</th></tr>\n",
              "\t<tr><th scope=col>&lt;dbl&gt;</th><th scope=col>&lt;dbl&gt;</th><th scope=col>&lt;chr&gt;</th><th scope=col>&lt;chr&gt;</th><th scope=col>&lt;dbl&gt;</th><th scope=col>&lt;int&gt;</th><th scope=col>&lt;dbl&gt;</th><th scope=col>&lt;fct&gt;</th></tr>\n",
              "</thead>\n",
              "<tbody>\n",
              "\t<tr><td>3</td><td> 25</td><td>accuracy</td><td>binary</td><td>0.9941624</td><td>10</td><td>3.950063e-04</td><td>Model1</td></tr>\n",
              "\t<tr><td>3</td><td> 25</td><td>roc_auc </td><td>binary</td><td>0.9982567</td><td>10</td><td>4.444981e-04</td><td>Model1</td></tr>\n",
              "\t<tr><td>4</td><td> 25</td><td>accuracy</td><td>binary</td><td>0.9955620</td><td>10</td><td>3.604534e-04</td><td>Model2</td></tr>\n",
              "\t<tr><td>4</td><td> 25</td><td>roc_auc </td><td>binary</td><td>0.9993328</td><td>10</td><td>7.366645e-05</td><td>Model2</td></tr>\n",
              "\t<tr><td>5</td><td> 25</td><td>accuracy</td><td>binary</td><td>0.9961512</td><td>10</td><td>2.682096e-04</td><td>Model3</td></tr>\n",
              "\t<tr><td>5</td><td> 25</td><td>roc_auc </td><td>binary</td><td>0.9990065</td><td>10</td><td>3.466828e-04</td><td>Model3</td></tr>\n",
              "\t<tr><td>3</td><td> 50</td><td>accuracy</td><td>binary</td><td>0.9944939</td><td>10</td><td>3.444609e-04</td><td>Model4</td></tr>\n",
              "\t<tr><td>3</td><td> 50</td><td>roc_auc </td><td>binary</td><td>0.9987883</td><td>10</td><td>3.246478e-04</td><td>Model4</td></tr>\n",
              "\t<tr><td>4</td><td> 50</td><td>accuracy</td><td>binary</td><td>0.9960039</td><td>10</td><td>2.516319e-04</td><td>Model5</td></tr>\n",
              "\t<tr><td>4</td><td> 50</td><td>roc_auc </td><td>binary</td><td>0.9990874</td><td>10</td><td>3.100463e-04</td><td>Model5</td></tr>\n",
              "\t<tr><td>5</td><td> 50</td><td>accuracy</td><td>binary</td><td>0.9963170</td><td>10</td><td>2.230248e-04</td><td>Model6</td></tr>\n",
              "\t<tr><td>5</td><td> 50</td><td>roc_auc </td><td>binary</td><td>0.9995674</td><td>10</td><td>5.906255e-05</td><td>Model6</td></tr>\n",
              "\t<tr><td>3</td><td>100</td><td>accuracy</td><td>binary</td><td>0.9953962</td><td>10</td><td>3.428397e-04</td><td>Model7</td></tr>\n",
              "\t<tr><td>3</td><td>100</td><td>roc_auc </td><td>binary</td><td>0.9992674</td><td>10</td><td>8.121966e-05</td><td>Model7</td></tr>\n",
              "\t<tr><td>4</td><td>100</td><td>accuracy</td><td>binary</td><td>0.9961697</td><td>10</td><td>2.512378e-04</td><td>Model8</td></tr>\n",
              "\t<tr><td>4</td><td>100</td><td>roc_auc </td><td>binary</td><td>0.9994826</td><td>10</td><td>5.474494e-05</td><td>Model8</td></tr>\n",
              "\t<tr><td>5</td><td>100</td><td>accuracy</td><td>binary</td><td>0.9966669</td><td>10</td><td>2.133996e-04</td><td>Model9</td></tr>\n",
              "\t<tr><td>5</td><td>100</td><td>roc_auc </td><td>binary</td><td>0.9996115</td><td>10</td><td>5.127693e-05</td><td>Model9</td></tr>\n",
              "</tbody>\n",
              "</table>\n"
            ]
          },
          "metadata": {
            "tags": []
          }
        }
      ]
    },
    {
      "cell_type": "code",
      "metadata": {
        "id": "6x89LZyl-ERe",
        "colab_type": "code",
        "colab": {
          "base_uri": "https://localhost:8080/",
          "height": 97
        },
        "outputId": "fe78803e-679c-4b54-a811-06167a488296"
      },
      "source": [
        "rf_tune_results %>%\n",
        "  select_best(metric = \"roc_auc\") -> param_final\n",
        "\n",
        "  param_final\n",
        "\n",
        "rf_workflow %>%\n",
        "  finalize_workflow(param_final) -> rf_workflow"
      ],
      "execution_count": 58,
      "outputs": [
        {
          "output_type": "display_data",
          "data": {
            "text/plain": [
              "  mtry trees .config\n",
              "1 5    100   Model9 "
            ],
            "text/latex": "A tibble: 1 × 3\n\\begin{tabular}{lll}\n mtry & trees & .config\\\\\n <dbl> & <dbl> & <fct>\\\\\n\\hline\n\t 5 & 100 & Model9\\\\\n\\end{tabular}\n",
            "text/markdown": "\nA tibble: 1 × 3\n\n| mtry &lt;dbl&gt; | trees &lt;dbl&gt; | .config &lt;fct&gt; |\n|---|---|---|\n| 5 | 100 | Model9 |\n\n",
            "text/html": [
              "<table>\n",
              "<caption>A tibble: 1 × 3</caption>\n",
              "<thead>\n",
              "\t<tr><th scope=col>mtry</th><th scope=col>trees</th><th scope=col>.config</th></tr>\n",
              "\t<tr><th scope=col>&lt;dbl&gt;</th><th scope=col>&lt;dbl&gt;</th><th scope=col>&lt;fct&gt;</th></tr>\n",
              "</thead>\n",
              "<tbody>\n",
              "\t<tr><td>5</td><td>100</td><td>Model9</td></tr>\n",
              "</tbody>\n",
              "</table>\n"
            ]
          },
          "metadata": {
            "tags": []
          }
        }
      ]
    },
    {
      "cell_type": "code",
      "metadata": {
        "id": "POTkZdKQ_kpq",
        "colab_type": "code",
        "colab": {}
      },
      "source": [
        "rf_workflow %>%\n",
        "  last_fit(nfl_split) -> rf_fit"
      ],
      "execution_count": 59,
      "outputs": []
    },
    {
      "cell_type": "code",
      "metadata": {
        "id": "hzy7QfZM_0Tk",
        "colab_type": "code",
        "colab": {
          "base_uri": "https://localhost:8080/",
          "height": 117
        },
        "outputId": "5c2bb25b-f695-47cb-e87e-7136c94d3bc3"
      },
      "source": [
        "test_performance <- rf_fit %>% collect_metrics()\n",
        "test_performance"
      ],
      "execution_count": 60,
      "outputs": [
        {
          "output_type": "display_data",
          "data": {
            "text/plain": [
              "  .metric  .estimator .estimate\n",
              "1 accuracy binary     0.9962983\n",
              "2 roc_auc  binary     0.9994840"
            ],
            "text/latex": "A tibble: 2 × 3\n\\begin{tabular}{lll}\n .metric & .estimator & .estimate\\\\\n <chr> & <chr> & <dbl>\\\\\n\\hline\n\t accuracy & binary & 0.9962983\\\\\n\t roc\\_auc  & binary & 0.9994840\\\\\n\\end{tabular}\n",
            "text/markdown": "\nA tibble: 2 × 3\n\n| .metric &lt;chr&gt; | .estimator &lt;chr&gt; | .estimate &lt;dbl&gt; |\n|---|---|---|\n| accuracy | binary | 0.9962983 |\n| roc_auc  | binary | 0.9994840 |\n\n",
            "text/html": [
              "<table>\n",
              "<caption>A tibble: 2 × 3</caption>\n",
              "<thead>\n",
              "\t<tr><th scope=col>.metric</th><th scope=col>.estimator</th><th scope=col>.estimate</th></tr>\n",
              "\t<tr><th scope=col>&lt;chr&gt;</th><th scope=col>&lt;chr&gt;</th><th scope=col>&lt;dbl&gt;</th></tr>\n",
              "</thead>\n",
              "<tbody>\n",
              "\t<tr><td>accuracy</td><td>binary</td><td>0.9962983</td></tr>\n",
              "\t<tr><td>roc_auc </td><td>binary</td><td>0.9994840</td></tr>\n",
              "</tbody>\n",
              "</table>\n"
            ]
          },
          "metadata": {
            "tags": []
          }
        }
      ]
    },
    {
      "cell_type": "code",
      "metadata": {
        "id": "iEwEOh4H-7bf",
        "colab_type": "code",
        "colab": {
          "base_uri": "https://localhost:8080/",
          "height": 464
        },
        "outputId": "d03c507b-a29e-4721-9736-25a63948a60f"
      },
      "source": [
        "final_nfl_model <- fit(rf_workflow, pbp_season)\n",
        "final_nfl_model"
      ],
      "execution_count": 61,
      "outputs": [
        {
          "output_type": "display_data",
          "data": {
            "text/plain": [
              "══ Workflow [trained] ══════════════════════════════════════════════════════════\n",
              "\u001b[3mPreprocessor:\u001b[23m Recipe\n",
              "\u001b[3mModel:\u001b[23m rand_forest()\n",
              "\n",
              "── Preprocessor ────────────────────────────────────────────────────────────────\n",
              "1 Recipe Step\n",
              "\n",
              "● step_meanimpute()\n",
              "\n",
              "── Model ───────────────────────────────────────────────────────────────────────\n",
              "Ranger result\n",
              "\n",
              "Call:\n",
              " ranger::ranger(formula = ..y ~ ., data = data, mtry = ~5, num.trees = ~100,      importance = ~\"impurity\", num.threads = 1, verbose = FALSE,      seed = sample.int(10^5, 1), probability = TRUE) \n",
              "\n",
              "Type:                             Probability estimation \n",
              "Number of trees:                  100 \n",
              "Sample size:                      72403 \n",
              "Number of independent variables:  17 \n",
              "Mtry:                             5 \n",
              "Target node size:                 10 \n",
              "Variable importance mode:         impurity \n",
              "Splitrule:                        gini \n",
              "OOB prediction error (Brier s.):  0.003005442 "
            ]
          },
          "metadata": {
            "tags": []
          }
        }
      ]
    },
    {
      "cell_type": "code",
      "metadata": {
        "id": "kXNxm4vKATQD",
        "colab_type": "code",
        "colab": {}
      },
      "source": [
        "saveRDS(final_nfl_model, \"final_nfl_model.rds\")"
      ],
      "execution_count": 71,
      "outputs": []
    },
    {
      "cell_type": "code",
      "metadata": {
        "id": "t1w8wVrBCulZ",
        "colab_type": "code",
        "colab": {
          "base_uri": "https://localhost:8080/",
          "height": 286
        },
        "outputId": "93cd6d85-e330-49d2-bc48-5d97abae5b84"
      },
      "source": [
        "final_model <- fit(rf_workflow, pbp_season)\n",
        "\n",
        "\n",
        "ranger_obj <- pull_workflow_fit(final_model)$fit\n",
        "ranger_obj"
      ],
      "execution_count": 72,
      "outputs": [
        {
          "output_type": "display_data",
          "data": {
            "text/plain": [
              "Ranger result\n",
              "\n",
              "Call:\n",
              " ranger::ranger(formula = ..y ~ ., data = data, mtry = ~5, num.trees = ~100,      importance = ~\"impurity\", num.threads = 1, verbose = FALSE,      seed = sample.int(10^5, 1), probability = TRUE) \n",
              "\n",
              "Type:                             Probability estimation \n",
              "Number of trees:                  100 \n",
              "Sample size:                      72403 \n",
              "Number of independent variables:  17 \n",
              "Mtry:                             5 \n",
              "Target node size:                 10 \n",
              "Variable importance mode:         impurity \n",
              "Splitrule:                        gini \n",
              "OOB prediction error (Brier s.):  0.002994398 "
            ]
          },
          "metadata": {
            "tags": []
          }
        }
      ]
    },
    {
      "cell_type": "code",
      "metadata": {
        "id": "EIzZG1Y-C2eE",
        "colab_type": "code",
        "colab": {
          "base_uri": "https://localhost:8080/",
          "height": 617
        },
        "outputId": "17ca124c-576b-44b1-da62-dc5343fd3f42"
      },
      "source": [
        "options(repr.plot.width=20, repr.plot.height=10)\n",
        "\n",
        "\n",
        "barplot(ranger_obj$variable.importance)"
      ],
      "execution_count": 74,
      "outputs": [
        {
          "output_type": "display_data",
          "data": {
            "image/png": "[encoded data removed]",
            "text/plain": [
              "plot without title"
            ]
          },
          "metadata": {
            "tags": [],
            "image/png": {
              "width": 1200,
              "height": 600
            }
          }
        }
      ]
    },
    {
      "cell_type": "markdown",
      "metadata": {
        "id": "jMAgCApqDRMj",
        "colab_type": "text"
      },
      "source": [
        "* Model is 2 good because of EPA as variable."
      ]
    }
  ]
}