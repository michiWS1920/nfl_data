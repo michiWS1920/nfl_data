{
  "nbformat": 4,
  "nbformat_minor": 0,
  "metadata": {
    "colab": {
      "name": "NFL_Project.ipynb",
      "provenance": [],
      "toc_visible": true,
      "authorship_tag": "ABX9TyO2bPkNdqB56x9azM855NSX",
      "include_colab_link": true
    },
    "kernelspec": {
      "name": "ir",
      "display_name": "R"
    }
  },
  "cells": [
    {
      "cell_type": "markdown",
      "metadata": {
        "id": "view-in-github",
        "colab_type": "text"
      },
      "source": [
        "<a href=\"https://colab.research.google.com/github/michiWS1920/nfl_data/blob/michi/NFL_Project.ipynb\" target=\"_parent\"><img src=\"https://colab.research.google.com/assets/colab-badge.svg\" alt=\"Open In Colab\"/></a>"
      ]
    },
    {
      "cell_type": "markdown",
      "metadata": {
        "id": "6tb2yBdWnDna",
        "colab_type": "text"
      },
      "source": [
        "# **Introduction**\n",
        "\n",
        "\n",
        "\n",
        "\n",
        "\n",
        "\n",
        "\n",
        "\n",
        "\n",
        "\n",
        "\n"
      ]
    },
    {
      "cell_type": "markdown",
      "metadata": {
        "id": "i-WOeaaOCcB0",
        "colab_type": "text"
      },
      "source": [
        "## **Main Objective of this Project**\n",
        "\n",
        "<p align= \"justify\">Any strategic and mathematically optimizable game can profit from the use of analyzing historical data to improve decision quality in the future. Baseball was one of the first sports to recognize the value in broad datasets to optimize game-plans as seen in the film \"Moneyball\". \n",
        "In recent years data science has made its way into the National Football League (NFL) and is being used by teams to prepare for their opponents, as well as improving their training sessions and playcalling during the games. \n",
        "\n",
        "\n",
        "Since strategy driven sports like football are incorporating more and more technology into their matches/training, the acquired data is growing at a fast pace. These mentioned technologies used for data collection are motion sensors, as well as impact sensors on the football gear (e.g. helmet, shoulder pads, etc.) or more old fashioned ways of gathering historical play by play data manually. \n",
        "\n",
        "The desired outcome for this project is to find interesting and strategically valuable insights for the game of American Football. Specifically Playcalling, as well as the Passing and Rushing Game. <br>Visualizing these insights and drawing conclussions to improve decision quality, showing trends as well as building a predictive model are further objectives. </p>"
      ]
    },
    {
      "cell_type": "markdown",
      "metadata": {
        "id": "wt10gx_CE6C6",
        "colab_type": "text"
      },
      "source": [
        "## **Brief Explanation of American Football**\n",
        "\n",
        "<p align= \"justify\">Since this project will go indepth on many strategic concepts of American Football it is necessary to explain the basics. Accompanying the analysis in this project will be more explanations to specific concepts and rules in order to clarify certain visualizations and findings. Unfortunately football is a rather complicated sport and the importance or magnitude of the analysis can only be understood if most strategic aspects are explained in advance.\n",
        "\n",
        "American Football is a team sport played on a grass field with a leather ball, that can either be thrown or carried in the players' hands while running.  The field is 120 yards long and 53.3 yards wide, including both end zones at either end of the field. The game is played by two teams with 11 players on the field for each team simultaniously. A football game is 60 minutes long and is divided into 15-minute quarters.\n",
        "\n",
        "A team has four chances (**\"downs\"**) to advance the ball 10 yards while the opposing team tries to stop it. <br>\n",
        "This static division into offense and defense distinguishes American Football from other popular sports where possesion of the ball changes more quickly and leads to a dynamic switch in roles of offense and defense.<br> The mentioned downs can be seen as individual strategic attempts to progress down the field with the ball. After the ball hits the ground or a player gets tackled with the ball in posession the specific down is completed. Both teams line up in their chosen formations, where the previous down was completed. This regrouping, as well as the strategic break between every play enhances the importance of choosing a play according to the field position, formations of both teams and distance to the goal line. <br> If the ball is not advanced by 10 yards after four attempts posession of the ball will switch from one team to the other, as well as reverse the roles of offense and defense. If the ball is advanced 10 yards or more, the attacking team is rewarded with four new downs. </p>\n",
        "\n"
      ]
    },
    {
      "cell_type": "markdown",
      "metadata": {
        "id": "GfaEq7jbCrJh",
        "colab_type": "text"
      },
      "source": [
        "###  **Scoring**\n",
        "\n",
        "- Scoring is done by entering the opposing teams **\"end zone\"**, which is located at the end of either side of the field. When a player has possession of the ball and crosses the opposing teams goal line he scores a **\"touchdown\"**. A successful touchdown awards the scoring team with 6 points.\n",
        " - Immediatly after scoring a touchdown the scoring team can attempt to kick the ball from a set point through the two goal posts for 1 extra point.\n",
        " - The team can also run or pass the ball from a set point to the end zone with only one opportunity to score 2 additional points.\n",
        "- Another option to score is the \"field goal\". A field goal is scored when the ball is kicked between the two goal posts located behind the opponent's end zone without a prior touchdown. A sucessful field goal awards the scoring team with 3 points.\n",
        "\n",
        "\n",
        "\n",
        ">Whoever scores more points at the end of the 60 minute game-period wins the match. "
      ]
    },
    {
      "cell_type": "markdown",
      "metadata": {
        "id": "CcBUBG9qExTy",
        "colab_type": "text"
      },
      "source": [
        "### **Positions**\n",
        "\n",
        "\n",
        "As mentioned the teams are split into offense and defense.<br> Following will be two visualizations including the specific description of each individual position with a short summary of their tasks and objectives in the game.\n",
        "\n",
        "**Offense**\n",
        "\n",
        "<figure>\n",
        "  <img src = \"https://i.imgur.com/cYyOSiP.jpg\" alt=\"Trulli\" style=\"width:100%\">\n",
        "  <figcaption align = \"left\"> Fig. 1 - Offense Positions  </figcaption>\n",
        "</figure>\n",
        "\n",
        "\n",
        "\n",
        "*   **Quarterback (QB)**\n",
        "  * The Quarterback is the most important player on the offensive side and most often the leader of the whole team. His objective is to throw the ball to his teammates or run with it to advance across the field and into the end zone of the defending team\n",
        "*   **Running Back (RB)**\n",
        "  * The Running Backs are usually handed the ball directly from the QB and are specialized in running with the ball in hand\n",
        "* **Wide Receiver (WR)**\n",
        "  * The Wide Receivers are lined up towards the sidelines of the field and are the primary throwing targets of the QB\n",
        "* **Offensive Line (OL)**\n",
        "  * The Offensive Linemen are lined up directly at the line of scrimmage where the play begins. Their primary concern is to stop the defense in their efforts to get to the QB\n",
        "\n",
        "---\n",
        "\n",
        "**Defense**\n",
        "\n",
        "<figure>\n",
        "  <img src = \"https://i.imgur.com/KfdM6bY.jpg\" alt=\"Trulli\" style=\"width:100%\">\n",
        "  <figcaption align = \"left\"> Fig. 1 - Defense Positions  </figcaption>\n",
        "</figure>\n",
        "\n",
        "* **Defensive Line (DL)**\n",
        "  * The Defensive Line are lined up directly at the line of scrimmage where the play begins. Their objective is to get to the opposing teams' QB/RB and tackle them to stop forward progress\n",
        "\n",
        "* **Cornerback (CB)**\n",
        "  * The Cornerbacks are responsible for the opposing teams Wide Receivers. Their objective is to tackle or intercept any balls thrown to the WRs.\n",
        "\n",
        "* **Defensive Backfield (DB)**\n",
        "  * The Denfesive Backfield is often used in a flexible manner. Players in the backfield can be used as reinforcement for the Defensive Line or to help the Cornerbacks.\n"
      ]
    },
    {
      "cell_type": "markdown",
      "metadata": {
        "id": "Xez9XP9qE3uF",
        "colab_type": "text"
      },
      "source": [
        "## Data Sources\n",
        "\n",
        "\n",
        "Until very recently the NFL provided a vast amount of data for free via their own API. Unfortunately this access is no longer available.\n",
        "Because of this inconvenience we were not able to use the \"[nflscrapR](https://github.com/maksimhorowitz/nflscrapR)\" package, which is a community build wrapper for the NFL API. <br>Altough we could still use the raw data they have scraped in the past.\n",
        "\n",
        "* This data includes csv [datasets](https://github.com/ryurko/nflscrapR-data) for play by play, roster and game data for the seasons from 2009 until 2019. This main data source for our project will be explored in the following basic EDA.\n",
        "\n",
        "\n",
        "* Another data source for college football as well as complementary draft data is [Pro Football Refrence](https://www.pro-football-reference.com/). This website makes it possible to export player, draft and combine stats directly into csv format without the need of scraping.\n",
        "\n",
        "* The final data source is [Next-Gen-Scrapy](https://github.com/ArrowheadAnalytics/next-gen-scrapy-2.0). This dataset was extracted using a very impressive scraper which translates pixels of an image into (x,y) coordinates. (Credit to [Sarah Mallepalle](https://arxiv.org/abs/1906.03339)) \n",
        "> \"The pass charts are scraped from the NFL's official Next Gen Stats website, https://nextgenstats.nfl.com/charts/list/pass. After obtaining all of the pass chart images from the website, for every pass chart, the field is then undistorted, and all pass locations on the field relative to the line of scrimmage are extracted in (x,y) coordinate format.\""
      ]
    },
    {
      "cell_type": "markdown",
      "metadata": {
        "id": "M2W4bk5HlFmD",
        "colab_type": "text"
      },
      "source": [
        "# Setup"
      ]
    },
    {
      "cell_type": "markdown",
      "metadata": {
        "id": "DgJWR1GQlzqK",
        "colab_type": "text"
      },
      "source": [
        "* Some packages included in tidyverse/ggplot are installed seperatly because of complications/errors that were observed during the project"
      ]
    },
    {
      "cell_type": "code",
      "metadata": {
        "id": "zwfh9YbXmx0h",
        "colab_type": "code",
        "colab": {}
      },
      "source": [
        "install.packages(\"ggrepel\")\n",
        "install.packages(\"scales\")\n",
        "install.packages(\"farver\")\n",
        "install.packages(\"ggExtra\")\n",
        "install.packages(\"hexbin\")\n",
        "install.packages(\"ggforce\")"
      ],
      "execution_count": null,
      "outputs": []
    },
    {
      "cell_type": "code",
      "metadata": {
        "id": "CdWlvFCOlnlw",
        "colab_type": "code",
        "colab": {
          "base_uri": "https://localhost:8080/",
          "height": 328
        },
        "outputId": "62cbca59-6aa8-4ae7-dbfc-a528948f3041"
      },
      "source": [
        "library(tidyverse)\n",
        "library(ggplot2)\n",
        "library(ggrepel)\n",
        "library(ggforce)\n",
        "library(scales)\n",
        "library(farver)\n",
        "library(ggExtra)\n",
        "library(hexbin)"
      ],
      "execution_count": 1,
      "outputs": [
        {
          "output_type": "stream",
          "text": [
            "── \u001b[1mAttaching packages\u001b[22m ─────────────────────────────────────── tidyverse 1.3.0 ──\n",
            "\n",
            "\u001b[32m✔\u001b[39m \u001b[34mggplot2\u001b[39m 3.3.2     \u001b[32m✔\u001b[39m \u001b[34mpurrr  \u001b[39m 0.3.4\n",
            "\u001b[32m✔\u001b[39m \u001b[34mtibble \u001b[39m 3.0.3     \u001b[32m✔\u001b[39m \u001b[34mdplyr  \u001b[39m 1.0.2\n",
            "\u001b[32m✔\u001b[39m \u001b[34mtidyr  \u001b[39m 1.1.1     \u001b[32m✔\u001b[39m \u001b[34mstringr\u001b[39m 1.4.0\n",
            "\u001b[32m✔\u001b[39m \u001b[34mreadr  \u001b[39m 1.3.1     \u001b[32m✔\u001b[39m \u001b[34mforcats\u001b[39m 0.5.0\n",
            "\n",
            "── \u001b[1mConflicts\u001b[22m ────────────────────────────────────────── tidyverse_conflicts() ──\n",
            "\u001b[31m✖\u001b[39m \u001b[34mdplyr\u001b[39m::\u001b[32mfilter()\u001b[39m masks \u001b[34mstats\u001b[39m::filter()\n",
            "\u001b[31m✖\u001b[39m \u001b[34mdplyr\u001b[39m::\u001b[32mlag()\u001b[39m    masks \u001b[34mstats\u001b[39m::lag()\n",
            "\n"
          ],
          "name": "stderr"
        },
        {
          "output_type": "error",
          "ename": "ERROR",
          "evalue": "ignored",
          "traceback": [
            "Error in library(ggrepel): there is no package called ‘ggrepel’\nTraceback:\n",
            "1. library(ggrepel)"
          ]
        }
      ]
    },
    {
      "cell_type": "markdown",
      "metadata": {
        "id": "7NhYgt9mnP28",
        "colab_type": "text"
      },
      "source": [
        "# Basic EDA nflscrapR Dataset"
      ]
    },
    {
      "cell_type": "markdown",
      "metadata": {
        "id": "HDQ_cC2YnY4c",
        "colab_type": "text"
      },
      "source": [
        "* Scraping the data and joining for multiple seasons\n",
        "  * This includes Play by Play Data as well as Roster data for the regular seasons from 2009-2019\n",
        "  * Some columns have to be removed since they are inconsistent over the seasons\n",
        "\n",
        "This scraping can sometimes be buggy. Scraped data provided via googledrive"
      ]
    },
    {
      "cell_type": "code",
      "metadata": {
        "id": "HnCj7psxnPbD",
        "colab_type": "code",
        "colab": {}
      },
      "source": [
        "first <- 2009 \n",
        "last <- 2019 \n",
        "\n",
        "datalist = list()\n",
        "for (yr in first:last) {\n",
        "    pbp <- read_csv(url(paste0(\"https://github.com/ryurko/nflscrapR-data/raw/master/play_by_play_data/regular_season/reg_pbp_\", yr, \".csv\"))) \n",
        "    games <- read_csv(url(paste0(\"https://raw.githubusercontent.com/ryurko/nflscrapR-data/master/games_data/regular_season/reg_games_\", yr, \".csv\"))) \n",
        "    pbp <- pbp %>% \n",
        "      inner_join(games %>% distinct(game_id, week, season)) %>% \n",
        "      select(-fumble_recovery_2_yards, -blocked_player_id, -fumble_recovery_2_player_id) \n",
        "    datalist[[yr]] <- pbp \n",
        "}\n",
        "\n",
        "pbp_all <- dplyr::bind_rows(datalist)"
      ],
      "execution_count": null,
      "outputs": []
    },
    {
      "cell_type": "markdown",
      "metadata": {
        "id": "HpUE8cohoQb9",
        "colab_type": "text"
      },
      "source": [
        "* Some teams have changed their names and abbreviations over the seasons. Change teamnames for those to have consistent data"
      ]
    },
    {
      "cell_type": "code",
      "metadata": {
        "id": "1cqQfVWZoQwF",
        "colab_type": "code",
        "colab": {}
      },
      "source": [
        "pbp_all <- pbp_all %>% \n",
        "\tmutate_at(vars(home_team, away_team, posteam, defteam, penalty_team), funs(case_when(\n",
        "            . %in% \"JAX\" ~ \"JAC\",\n",
        "            . %in% \"STL\" ~ \"LA\",\n",
        "            . %in% \"SD\" ~ \"LAC\",\n",
        "            TRUE ~ .\n",
        "        ))) "
      ],
      "execution_count": null,
      "outputs": []
    },
    {
      "cell_type": "markdown",
      "metadata": {
        "id": "PG37fOhlovXm",
        "colab_type": "text"
      },
      "source": [
        "* Load already scraped data if scraping does not work (Error 400)"
      ]
    },
    {
      "cell_type": "code",
      "metadata": {
        "id": "rlJ1nG_so1Qz",
        "colab_type": "code",
        "colab": {}
      },
      "source": [
        "pbp_all <- readRDS(\"NFLdata.rds\")"
      ],
      "execution_count": 2,
      "outputs": []
    },
    {
      "cell_type": "markdown",
      "metadata": {
        "id": "RNcDtzoTtGaR",
        "colab_type": "text"
      },
      "source": [
        "* Data Structure"
      ]
    },
    {
      "cell_type": "code",
      "metadata": {
        "id": "lz5mz6kdsx5s",
        "colab_type": "code",
        "colab": {
          "base_uri": "https://localhost:8080/",
          "height": 1000
        },
        "outputId": "5d76589f-eb13-4d50-8889-1b9734ffbdab"
      },
      "source": [
        "str(pbp_all)"
      ],
      "execution_count": 11,
      "outputs": [
        {
          "output_type": "stream",
          "text": [
            "tibble [498,393 × 255] (S3: tbl_df/tbl/data.frame)\n",
            " $ play_id                             : num [1:498393] 46 68 92 113 139 162 183 207 228 253 ...\n",
            " $ game_id                             : num [1:498393] 2.01e+09 2.01e+09 2.01e+09 2.01e+09 2.01e+09 ...\n",
            " $ home_team                           : chr [1:498393] \"PIT\" \"PIT\" \"PIT\" \"PIT\" ...\n",
            " $ away_team                           : chr [1:498393] \"TEN\" \"TEN\" \"TEN\" \"TEN\" ...\n",
            " $ posteam                             : chr [1:498393] \"PIT\" \"PIT\" \"PIT\" \"PIT\" ...\n",
            " $ posteam_type                        : chr [1:498393] \"home\" \"home\" \"home\" \"home\" ...\n",
            " $ defteam                             : chr [1:498393] \"TEN\" \"TEN\" \"TEN\" \"TEN\" ...\n",
            " $ side_of_field                       : chr [1:498393] \"TEN\" \"PIT\" \"PIT\" \"PIT\" ...\n",
            " $ yardline_100                        : num [1:498393] 30 58 53 56 56 98 98 94 96 43 ...\n",
            " $ game_date                           : Date[1:498393], format: \"2009-09-10\" \"2009-09-10\" ...\n",
            " $ quarter_seconds_remaining           : num [1:498393] 900 893 856 815 807 796 760 731 694 684 ...\n",
            " $ half_seconds_remaining              : num [1:498393] 1800 1793 1756 1715 1707 ...\n",
            " $ game_seconds_remaining              : num [1:498393] 3600 3593 3556 3515 3507 ...\n",
            " $ game_half                           : chr [1:498393] \"Half1\" \"Half1\" \"Half1\" \"Half1\" ...\n",
            " $ quarter_end                         : num [1:498393] 0 0 0 0 0 0 0 0 0 0 ...\n",
            " $ drive                               : num [1:498393] 1 1 1 1 1 2 2 2 2 3 ...\n",
            " $ sp                                  : num [1:498393] 0 0 0 0 0 0 0 0 0 0 ...\n",
            " $ qtr                                 : num [1:498393] 1 1 1 1 1 1 1 1 1 1 ...\n",
            " $ down                                : num [1:498393] NA 1 2 3 4 1 2 3 4 1 ...\n",
            " $ goal_to_go                          : num [1:498393] 0 0 0 0 0 0 0 0 0 0 ...\n",
            " $ time                                : 'hms' num [1:498393] 15:00:00 14:53:00 14:16:00 13:35:00 ...\n",
            "  ..- attr(*, \"units\")= chr \"secs\"\n",
            " $ yrdln                               : chr [1:498393] \"TEN 30\" \"PIT 42\" \"PIT 47\" \"PIT 44\" ...\n",
            " $ ydstogo                             : num [1:498393] 0 10 5 8 8 10 10 6 8 10 ...\n",
            " $ ydsnet                              : num [1:498393] 0 5 2 2 2 0 4 2 2 3 ...\n",
            " $ desc                                : chr [1:498393] \"R.Bironas kicks 67 yards from TEN 30 to PIT 3. S.Logan to PIT 42 for 39 yards (M.Griffin).\" \"(14:53) B.Roethlisberger pass short left to H.Ward to PIT 47 for 5 yards (C.Hope).\" \"(14:16) W.Parker right end to PIT 44 for -3 yards (S.Tulloch).\" \"(13:35) (Shotgun) B.Roethlisberger pass incomplete deep right to M.Wallace. COVERAGE BY #24 HOPE\" ...\n",
            " $ play_type                           : chr [1:498393] \"kickoff\" \"pass\" \"run\" \"pass\" ...\n",
            " $ yards_gained                        : num [1:498393] 0 5 -3 0 0 0 4 -2 0 3 ...\n",
            " $ shotgun                             : num [1:498393] 0 0 0 1 0 0 0 1 0 0 ...\n",
            " $ no_huddle                           : num [1:498393] 0 0 0 0 0 0 0 0 0 0 ...\n",
            " $ qb_dropback                         : num [1:498393] 0 1 0 1 0 0 1 0 0 1 ...\n",
            " $ qb_kneel                            : num [1:498393] 0 0 0 0 0 0 0 0 0 0 ...\n",
            " $ qb_spike                            : num [1:498393] 0 0 0 0 0 0 0 0 0 0 ...\n",
            " $ qb_scramble                         : num [1:498393] 0 0 0 0 0 0 0 0 0 0 ...\n",
            " $ pass_length                         : chr [1:498393] NA \"short\" NA \"deep\" ...\n",
            " $ pass_location                       : chr [1:498393] NA \"left\" NA \"right\" ...\n",
            " $ air_yards                           : num [1:498393] NA -3 NA 34 NA NA 3 NA NA -2 ...\n",
            " $ yards_after_catch                   : num [1:498393] NA 8 NA NA NA NA 1 NA NA 5 ...\n",
            " $ run_location                        : chr [1:498393] NA NA \"right\" NA ...\n",
            " $ run_gap                             : chr [1:498393] NA NA \"end\" NA ...\n",
            " $ field_goal_result                   : chr [1:498393] NA NA NA NA ...\n",
            " $ kick_distance                       : num [1:498393] 67 NA NA NA 54 NA NA NA 50 NA ...\n",
            " $ extra_point_result                  : chr [1:498393] NA NA NA NA ...\n",
            " $ two_point_conv_result               : chr [1:498393] NA NA NA NA ...\n",
            " $ home_timeouts_remaining             : num [1:498393] 3 3 3 3 3 3 3 3 3 3 ...\n",
            " $ away_timeouts_remaining             : num [1:498393] 3 3 3 3 3 3 3 3 3 3 ...\n",
            " $ timeout                             : num [1:498393] 0 0 0 0 0 0 0 0 0 0 ...\n",
            " $ timeout_team                        : chr [1:498393] NA NA NA NA ...\n",
            " $ td_team                             : chr [1:498393] NA NA NA NA ...\n",
            " $ posteam_timeouts_remaining          : num [1:498393] 3 3 3 3 3 3 3 3 3 3 ...\n",
            " $ defteam_timeouts_remaining          : num [1:498393] 3 3 3 3 3 3 3 3 3 3 ...\n",
            " $ total_home_score                    : num [1:498393] 0 0 0 0 0 0 0 0 0 0 ...\n",
            " $ total_away_score                    : num [1:498393] 0 0 0 0 0 0 0 0 0 0 ...\n",
            " $ posteam_score                       : num [1:498393] NA 0 0 0 0 0 0 0 0 0 ...\n",
            " $ defteam_score                       : num [1:498393] NA 0 0 0 0 0 0 0 0 0 ...\n",
            " $ score_differential                  : num [1:498393] NA 0 0 0 0 0 0 0 0 0 ...\n",
            " $ posteam_score_post                  : num [1:498393] 0 0 0 0 0 0 0 0 0 0 ...\n",
            " $ defteam_score_post                  : num [1:498393] 0 0 0 0 0 0 0 0 0 0 ...\n",
            " $ score_differential_post             : num [1:498393] 0 0 0 0 0 0 0 0 0 0 ...\n",
            " $ no_score_prob                       : num [1:498393] 0.001506 0.000969 0.001057 0.001434 0.001861 ...\n",
            " $ opp_fg_prob                         : num [1:498393] 0.18 0.109 0.105 0.149 0.213 ...\n",
            " $ opp_safety_prob                     : num [1:498393] 0.006639 0.001061 0.000981 0.001944 0.003279 ...\n",
            " $ opp_td_prob                         : num [1:498393] 0.281 0.169 0.163 0.235 0.322 ...\n",
            " $ fg_prob                             : num [1:498393] 0.214 0.294 0.305 0.289 0.245 ...\n",
            " $ safety_prob                         : num [1:498393] 0.00359 0.00364 0.00383 0.00478 0.0064 ...\n",
            " $ td_prob                             : num [1:498393] 0.314 0.423 0.421 0.319 0.208 ...\n",
            " $ extra_point_prob                    : num [1:498393] 0 0 0 0 0 0 0 0 0 0 ...\n",
            " $ two_point_conversion_prob           : num [1:498393] 0 0 0 0 0 0 0 0 0 0 ...\n",
            " $ ep                                  : num [1:498393] 0.324 2.338 2.416 1.013 -0.699 ...\n",
            " $ epa                                 : num [1:498393] 2.0145 0.0779 -1.4028 -1.7126 2.0978 ...\n",
            " $ total_home_epa                      : num [1:498393] 2.01 2.09 0.69 -1.02 1.07 ...\n",
            " $ total_away_epa                      : num [1:498393] -2.01 -2.09 -0.69 1.02 -1.07 ...\n",
            " $ total_home_rush_epa                 : num [1:498393] 0 0 -1.4 -1.4 -1.4 ...\n",
            " $ total_away_rush_epa                 : num [1:498393] 0 0 1.4 1.4 1.4 ...\n",
            " $ total_home_pass_epa                 : num [1:498393] 0 0.0779 0.0779 -1.6347 -1.6347 ...\n",
            " $ total_away_pass_epa                 : num [1:498393] 0 -0.0779 -0.0779 1.6347 1.6347 ...\n",
            " $ air_epa                             : num [1:498393] NA -0.939 NA 3.413 NA ...\n",
            " $ yac_epa                             : num [1:498393] NA 1.02 NA -5.13 NA ...\n",
            " $ comp_air_epa                        : num [1:498393] 0 -0.939 0 0 0 ...\n",
            " $ comp_yac_epa                        : num [1:498393] 0 1.02 0 0 0 ...\n",
            " $ total_home_comp_air_epa             : num [1:498393] 0 -0.939 -0.939 -0.939 -0.939 ...\n",
            " $ total_away_comp_air_epa             : num [1:498393] 0 0.939 0.939 0.939 0.939 ...\n",
            " $ total_home_comp_yac_epa             : num [1:498393] 0 1.02 1.02 1.02 1.02 ...\n",
            " $ total_away_comp_yac_epa             : num [1:498393] 0 -1.02 -1.02 -1.02 -1.02 ...\n",
            " $ total_home_raw_air_epa              : num [1:498393] 0 -0.939 -0.939 2.474 2.474 ...\n",
            " $ total_away_raw_air_epa              : num [1:498393] 0 0.939 0.939 -2.474 -2.474 ...\n",
            " $ total_home_raw_yac_epa              : num [1:498393] 0 1.02 1.02 -4.11 -4.11 ...\n",
            " $ total_away_raw_yac_epa              : num [1:498393] 0 -1.02 -1.02 4.11 4.11 ...\n",
            " $ wp                                  : num [1:498393] NA 0.546 0.551 0.511 0.461 ...\n",
            " $ def_wp                              : num [1:498393] NA 0.454 0.449 0.489 0.539 ...\n",
            " $ home_wp                             : num [1:498393] NA 0.546 0.551 0.511 0.461 ...\n",
            " $ away_wp                             : num [1:498393] NA 0.454 0.449 0.489 0.539 ...\n",
            " $ wpa                                 : num [1:498393] NA 0.00465 -0.04029 -0.04958 0.09771 ...\n",
            " $ home_wp_post                        : num [1:498393] NA 0.551 0.511 0.461 0.559 ...\n",
            " $ away_wp_post                        : num [1:498393] NA 0.449 0.489 0.539 0.441 ...\n",
            " $ total_home_rush_wpa                 : num [1:498393] 0 0 -0.0403 -0.0403 -0.0403 ...\n",
            " $ total_away_rush_wpa                 : num [1:498393] 0 0 0.0403 0.0403 0.0403 ...\n",
            " $ total_home_pass_wpa                 : num [1:498393] 0 0.00465 0.00465 -0.04492 -0.04492 ...\n",
            " $ total_away_pass_wpa                 : num [1:498393] 0 -0.00465 -0.00465 0.04492 0.04492 ...\n",
            " $ air_wpa                             : num [1:498393] NA -0.0284 NA 0.1099 NA ...\n",
            "  [list output truncated]\n",
            " - attr(*, \"problems\")= tibble [244 × 5] (S3: tbl_df/tbl/data.frame)\n",
            "  ..$ row     : int [1:244] 1081 1081 1619 1619 1619 1619 1619 1619 1742 1742 ...\n",
            "  ..$ col     : chr [1:244] \"pass_defense_2_player_id\" \"pass_defense_2_player_name\" \"forced_fumble_player_2_team\" \"forced_fumble_player_2_player_id\" ...\n",
            "  ..$ expected: chr [1:244] \"1/0/T/F/TRUE/FALSE\" \"1/0/T/F/TRUE/FALSE\" \"1/0/T/F/TRUE/FALSE\" \"1/0/T/F/TRUE/FALSE\" ...\n",
            "  ..$ actual  : chr [1:244] \"00-0025828\" \"W.Woodyard\" \"MIA\" \"00-0023408\" ...\n",
            "  ..$ file    : chr [1:244] \"<connection>\" \"<connection>\" \"<connection>\" \"<connection>\" ...\n"
          ],
          "name": "stdout"
        }
      ]
    },
    {
      "cell_type": "code",
      "metadata": {
        "id": "MihYSXAp5rig",
        "colab_type": "code",
        "colab": {
          "base_uri": "https://localhost:8080/",
          "height": 34
        },
        "outputId": "42df318c-afad-4dd5-f2a3-0ad24873103e"
      },
      "source": [
        "dim(pbp_all)"
      ],
      "execution_count": 18,
      "outputs": [
        {
          "output_type": "display_data",
          "data": {
            "text/plain": [
              "[1] 498393    255"
            ],
            "text/latex": "\\begin{enumerate*}\n\\item 498393\n\\item 255\n\\end{enumerate*}\n",
            "text/markdown": "1. 498393\n2. 255\n\n\n",
            "text/html": [
              "<style>\n",
              ".list-inline {list-style: none; margin:0; padding: 0}\n",
              ".list-inline>li {display: inline-block}\n",
              ".list-inline>li:not(:last-child)::after {content: \"\\00b7\"; padding: 0 .5ex}\n",
              "</style>\n",
              "<ol class=list-inline><li>498393</li><li>255</li></ol>\n"
            ]
          },
          "metadata": {
            "tags": []
          }
        }
      ]
    },
    {
      "cell_type": "markdown",
      "metadata": {
        "id": "Dz2yTH4t5xYl",
        "colab_type": "text"
      },
      "source": [
        "* Huge dataframe with 498,393 individual plays over 10 seasons of football in the NFL and 255 variables to describe each play\n",
        "\n",
        "* Note that many variables include **NA values** since they are specific to a certain event/play_type e.g. `run_location` will be NA unless the play was a rush\n",
        "\n",
        "\n",
        "\n",
        "---\n",
        "\n"
      ]
    },
    {
      "cell_type": "markdown",
      "metadata": {
        "id": "eX3WxP9ItMb6",
        "colab_type": "text"
      },
      "source": [
        "* All of the variables"
      ]
    },
    {
      "cell_type": "code",
      "metadata": {
        "id": "B1sHJWuts4BH",
        "colab_type": "code",
        "colab": {
          "base_uri": "https://localhost:8080/",
          "height": 507
        },
        "outputId": "9d127afe-3466-4487-bc64-0d2ded9a0d01"
      },
      "source": [
        "names(pbp_all)"
      ],
      "execution_count": 13,
      "outputs": [
        {
          "output_type": "display_data",
          "data": {
            "text/plain": [
              "  [1] \"play_id\"                             \n",
              "  [2] \"game_id\"                             \n",
              "  [3] \"home_team\"                           \n",
              "  [4] \"away_team\"                           \n",
              "  [5] \"posteam\"                             \n",
              "  [6] \"posteam_type\"                        \n",
              "  [7] \"defteam\"                             \n",
              "  [8] \"side_of_field\"                       \n",
              "  [9] \"yardline_100\"                        \n",
              " [10] \"game_date\"                           \n",
              " [11] \"quarter_seconds_remaining\"           \n",
              " [12] \"half_seconds_remaining\"              \n",
              " [13] \"game_seconds_remaining\"              \n",
              " [14] \"game_half\"                           \n",
              " [15] \"quarter_end\"                         \n",
              " [16] \"drive\"                               \n",
              " [17] \"sp\"                                  \n",
              " [18] \"qtr\"                                 \n",
              " [19] \"down\"                                \n",
              " [20] \"goal_to_go\"                          \n",
              " [21] \"time\"                                \n",
              " [22] \"yrdln\"                               \n",
              " [23] \"ydstogo\"                             \n",
              " [24] \"ydsnet\"                              \n",
              " [25] \"desc\"                                \n",
              " [26] \"play_type\"                           \n",
              " [27] \"yards_gained\"                        \n",
              " [28] \"shotgun\"                             \n",
              " [29] \"no_huddle\"                           \n",
              " [30] \"qb_dropback\"                         \n",
              " [31] \"qb_kneel\"                            \n",
              " [32] \"qb_spike\"                            \n",
              " [33] \"qb_scramble\"                         \n",
              " [34] \"pass_length\"                         \n",
              " [35] \"pass_location\"                       \n",
              " [36] \"air_yards\"                           \n",
              " [37] \"yards_after_catch\"                   \n",
              " [38] \"run_location\"                        \n",
              " [39] \"run_gap\"                             \n",
              " [40] \"field_goal_result\"                   \n",
              " [41] \"kick_distance\"                       \n",
              " [42] \"extra_point_result\"                  \n",
              " [43] \"two_point_conv_result\"               \n",
              " [44] \"home_timeouts_remaining\"             \n",
              " [45] \"away_timeouts_remaining\"             \n",
              " [46] \"timeout\"                             \n",
              " [47] \"timeout_team\"                        \n",
              " [48] \"td_team\"                             \n",
              " [49] \"posteam_timeouts_remaining\"          \n",
              " [50] \"defteam_timeouts_remaining\"          \n",
              " [51] \"total_home_score\"                    \n",
              " [52] \"total_away_score\"                    \n",
              " [53] \"posteam_score\"                       \n",
              " [54] \"defteam_score\"                       \n",
              " [55] \"score_differential\"                  \n",
              " [56] \"posteam_score_post\"                  \n",
              " [57] \"defteam_score_post\"                  \n",
              " [58] \"score_differential_post\"             \n",
              " [59] \"no_score_prob\"                       \n",
              " [60] \"opp_fg_prob\"                         \n",
              " [61] \"opp_safety_prob\"                     \n",
              " [62] \"opp_td_prob\"                         \n",
              " [63] \"fg_prob\"                             \n",
              " [64] \"safety_prob\"                         \n",
              " [65] \"td_prob\"                             \n",
              " [66] \"extra_point_prob\"                    \n",
              " [67] \"two_point_conversion_prob\"           \n",
              " [68] \"ep\"                                  \n",
              " [69] \"epa\"                                 \n",
              " [70] \"total_home_epa\"                      \n",
              " [71] \"total_away_epa\"                      \n",
              " [72] \"total_home_rush_epa\"                 \n",
              " [73] \"total_away_rush_epa\"                 \n",
              " [74] \"total_home_pass_epa\"                 \n",
              " [75] \"total_away_pass_epa\"                 \n",
              " [76] \"air_epa\"                             \n",
              " [77] \"yac_epa\"                             \n",
              " [78] \"comp_air_epa\"                        \n",
              " [79] \"comp_yac_epa\"                        \n",
              " [80] \"total_home_comp_air_epa\"             \n",
              " [81] \"total_away_comp_air_epa\"             \n",
              " [82] \"total_home_comp_yac_epa\"             \n",
              " [83] \"total_away_comp_yac_epa\"             \n",
              " [84] \"total_home_raw_air_epa\"              \n",
              " [85] \"total_away_raw_air_epa\"              \n",
              " [86] \"total_home_raw_yac_epa\"              \n",
              " [87] \"total_away_raw_yac_epa\"              \n",
              " [88] \"wp\"                                  \n",
              " [89] \"def_wp\"                              \n",
              " [90] \"home_wp\"                             \n",
              " [91] \"away_wp\"                             \n",
              " [92] \"wpa\"                                 \n",
              " [93] \"home_wp_post\"                        \n",
              " [94] \"away_wp_post\"                        \n",
              " [95] \"total_home_rush_wpa\"                 \n",
              " [96] \"total_away_rush_wpa\"                 \n",
              " [97] \"total_home_pass_wpa\"                 \n",
              " [98] \"total_away_pass_wpa\"                 \n",
              " [99] \"air_wpa\"                             \n",
              "[100] \"yac_wpa\"                             \n",
              "[101] \"comp_air_wpa\"                        \n",
              "[102] \"comp_yac_wpa\"                        \n",
              "[103] \"total_home_comp_air_wpa\"             \n",
              "[104] \"total_away_comp_air_wpa\"             \n",
              "[105] \"total_home_comp_yac_wpa\"             \n",
              "[106] \"total_away_comp_yac_wpa\"             \n",
              "[107] \"total_home_raw_air_wpa\"              \n",
              "[108] \"total_away_raw_air_wpa\"              \n",
              "[109] \"total_home_raw_yac_wpa\"              \n",
              "[110] \"total_away_raw_yac_wpa\"              \n",
              "[111] \"punt_blocked\"                        \n",
              "[112] \"first_down_rush\"                     \n",
              "[113] \"first_down_pass\"                     \n",
              "[114] \"first_down_penalty\"                  \n",
              "[115] \"third_down_converted\"                \n",
              "[116] \"third_down_failed\"                   \n",
              "[117] \"fourth_down_converted\"               \n",
              "[118] \"fourth_down_failed\"                  \n",
              "[119] \"incomplete_pass\"                     \n",
              "[120] \"touchback\"                           \n",
              "[121] \"interception\"                        \n",
              "[122] \"punt_inside_twenty\"                  \n",
              "[123] \"punt_in_endzone\"                     \n",
              "[124] \"punt_out_of_bounds\"                  \n",
              "[125] \"punt_downed\"                         \n",
              "[126] \"punt_fair_catch\"                     \n",
              "[127] \"kickoff_inside_twenty\"               \n",
              "[128] \"kickoff_in_endzone\"                  \n",
              "[129] \"kickoff_out_of_bounds\"               \n",
              "[130] \"kickoff_downed\"                      \n",
              "[131] \"kickoff_fair_catch\"                  \n",
              "[132] \"fumble_forced\"                       \n",
              "[133] \"fumble_not_forced\"                   \n",
              "[134] \"fumble_out_of_bounds\"                \n",
              "[135] \"solo_tackle\"                         \n",
              "[136] \"safety\"                              \n",
              "[137] \"penalty\"                             \n",
              "[138] \"tackled_for_loss\"                    \n",
              "[139] \"fumble_lost\"                         \n",
              "[140] \"own_kickoff_recovery\"                \n",
              "[141] \"own_kickoff_recovery_td\"             \n",
              "[142] \"qb_hit\"                              \n",
              "[143] \"rush_attempt\"                        \n",
              "[144] \"pass_attempt\"                        \n",
              "[145] \"sack\"                                \n",
              "[146] \"touchdown\"                           \n",
              "[147] \"pass_touchdown\"                      \n",
              "[148] \"rush_touchdown\"                      \n",
              "[149] \"return_touchdown\"                    \n",
              "[150] \"extra_point_attempt\"                 \n",
              "[151] \"two_point_attempt\"                   \n",
              "[152] \"field_goal_attempt\"                  \n",
              "[153] \"kickoff_attempt\"                     \n",
              "[154] \"punt_attempt\"                        \n",
              "[155] \"fumble\"                              \n",
              "[156] \"complete_pass\"                       \n",
              "[157] \"assist_tackle\"                       \n",
              "[158] \"lateral_reception\"                   \n",
              "[159] \"lateral_rush\"                        \n",
              "[160] \"lateral_return\"                      \n",
              "[161] \"lateral_recovery\"                    \n",
              "[162] \"passer_player_id\"                    \n",
              "[163] \"passer_player_name\"                  \n",
              "[164] \"receiver_player_id\"                  \n",
              "[165] \"receiver_player_name\"                \n",
              "[166] \"rusher_player_id\"                    \n",
              "[167] \"rusher_player_name\"                  \n",
              "[168] \"lateral_receiver_player_id\"          \n",
              "[169] \"lateral_receiver_player_name\"        \n",
              "[170] \"lateral_rusher_player_id\"            \n",
              "[171] \"lateral_rusher_player_name\"          \n",
              "[172] \"lateral_sack_player_id\"              \n",
              "[173] \"lateral_sack_player_name\"            \n",
              "[174] \"interception_player_id\"              \n",
              "[175] \"interception_player_name\"            \n",
              "[176] \"lateral_interception_player_id\"      \n",
              "[177] \"lateral_interception_player_name\"    \n",
              "[178] \"punt_returner_player_id\"             \n",
              "[179] \"punt_returner_player_name\"           \n",
              "[180] \"lateral_punt_returner_player_id\"     \n",
              "[181] \"lateral_punt_returner_player_name\"   \n",
              "[182] \"kickoff_returner_player_name\"        \n",
              "[183] \"kickoff_returner_player_id\"          \n",
              "[184] \"lateral_kickoff_returner_player_id\"  \n",
              "[185] \"lateral_kickoff_returner_player_name\"\n",
              "[186] \"punter_player_id\"                    \n",
              "[187] \"punter_player_name\"                  \n",
              "[188] \"kicker_player_name\"                  \n",
              "[189] \"kicker_player_id\"                    \n",
              "[190] \"own_kickoff_recovery_player_id\"      \n",
              "[191] \"own_kickoff_recovery_player_name\"    \n",
              "[192] \"blocked_player_name\"                 \n",
              "[193] \"tackle_for_loss_1_player_id\"         \n",
              "[194] \"tackle_for_loss_1_player_name\"       \n",
              "[195] \"tackle_for_loss_2_player_id\"         \n",
              "[196] \"tackle_for_loss_2_player_name\"       \n",
              "[197] \"qb_hit_1_player_id\"                  \n",
              "[198] \"qb_hit_1_player_name\"                \n",
              "[199] \"qb_hit_2_player_id\"                  \n",
              "[200] \"qb_hit_2_player_name\"                \n",
              "[201] \"forced_fumble_player_1_team\"         \n",
              "[202] \"forced_fumble_player_1_player_id\"    \n",
              "[203] \"forced_fumble_player_1_player_name\"  \n",
              "[204] \"forced_fumble_player_2_team\"         \n",
              "[205] \"forced_fumble_player_2_player_id\"    \n",
              "[206] \"forced_fumble_player_2_player_name\"  \n",
              "[207] \"solo_tackle_1_team\"                  \n",
              "[208] \"solo_tackle_2_team\"                  \n",
              "[209] \"solo_tackle_1_player_id\"             \n",
              "[210] \"solo_tackle_2_player_id\"             \n",
              "[211] \"solo_tackle_1_player_name\"           \n",
              "[212] \"solo_tackle_2_player_name\"           \n",
              "[213] \"assist_tackle_1_player_id\"           \n",
              "[214] \"assist_tackle_1_player_name\"         \n",
              "[215] \"assist_tackle_1_team\"                \n",
              "[216] \"assist_tackle_2_player_id\"           \n",
              "[217] \"assist_tackle_2_player_name\"         \n",
              "[218] \"assist_tackle_2_team\"                \n",
              "[219] \"assist_tackle_3_player_id\"           \n",
              "[220] \"assist_tackle_3_player_name\"         \n",
              "[221] \"assist_tackle_3_team\"                \n",
              "[222] \"assist_tackle_4_player_id\"           \n",
              "[223] \"assist_tackle_4_player_name\"         \n",
              "[224] \"assist_tackle_4_team\"                \n",
              "[225] \"pass_defense_1_player_id\"            \n",
              "[226] \"pass_defense_1_player_name\"          \n",
              "[227] \"pass_defense_2_player_id\"            \n",
              "[228] \"pass_defense_2_player_name\"          \n",
              "[229] \"fumbled_1_team\"                      \n",
              "[230] \"fumbled_1_player_id\"                 \n",
              "[231] \"fumbled_1_player_name\"               \n",
              "[232] \"fumbled_2_player_id\"                 \n",
              "[233] \"fumbled_2_player_name\"               \n",
              "[234] \"fumbled_2_team\"                      \n",
              "[235] \"fumble_recovery_1_team\"              \n",
              "[236] \"fumble_recovery_1_yards\"             \n",
              "[237] \"fumble_recovery_1_player_id\"         \n",
              "[238] \"fumble_recovery_1_player_name\"       \n",
              "[239] \"fumble_recovery_2_team\"              \n",
              "[240] \"fumble_recovery_2_player_name\"       \n",
              "[241] \"return_team\"                         \n",
              "[242] \"return_yards\"                        \n",
              "[243] \"penalty_team\"                        \n",
              "[244] \"penalty_player_id\"                   \n",
              "[245] \"penalty_player_name\"                 \n",
              "[246] \"penalty_yards\"                       \n",
              "[247] \"replay_or_challenge\"                 \n",
              "[248] \"replay_or_challenge_result\"          \n",
              "[249] \"penalty_type\"                        \n",
              "[250] \"defensive_two_point_attempt\"         \n",
              "[251] \"defensive_two_point_conv\"            \n",
              "[252] \"defensive_extra_point_attempt\"       \n",
              "[253] \"defensive_extra_point_conv\"          \n",
              "[254] \"week\"                                \n",
              "[255] \"season\"                              "
            ],
            "text/latex": "\\begin{enumerate*}\n\\item 'play\\_id'\n\\item 'game\\_id'\n\\item 'home\\_team'\n\\item 'away\\_team'\n\\item 'posteam'\n\\item 'posteam\\_type'\n\\item 'defteam'\n\\item 'side\\_of\\_field'\n\\item 'yardline\\_100'\n\\item 'game\\_date'\n\\item 'quarter\\_seconds\\_remaining'\n\\item 'half\\_seconds\\_remaining'\n\\item 'game\\_seconds\\_remaining'\n\\item 'game\\_half'\n\\item 'quarter\\_end'\n\\item 'drive'\n\\item 'sp'\n\\item 'qtr'\n\\item 'down'\n\\item 'goal\\_to\\_go'\n\\item 'time'\n\\item 'yrdln'\n\\item 'ydstogo'\n\\item 'ydsnet'\n\\item 'desc'\n\\item 'play\\_type'\n\\item 'yards\\_gained'\n\\item 'shotgun'\n\\item 'no\\_huddle'\n\\item 'qb\\_dropback'\n\\item 'qb\\_kneel'\n\\item 'qb\\_spike'\n\\item 'qb\\_scramble'\n\\item 'pass\\_length'\n\\item 'pass\\_location'\n\\item 'air\\_yards'\n\\item 'yards\\_after\\_catch'\n\\item 'run\\_location'\n\\item 'run\\_gap'\n\\item 'field\\_goal\\_result'\n\\item 'kick\\_distance'\n\\item 'extra\\_point\\_result'\n\\item 'two\\_point\\_conv\\_result'\n\\item 'home\\_timeouts\\_remaining'\n\\item 'away\\_timeouts\\_remaining'\n\\item 'timeout'\n\\item 'timeout\\_team'\n\\item 'td\\_team'\n\\item 'posteam\\_timeouts\\_remaining'\n\\item 'defteam\\_timeouts\\_remaining'\n\\item 'total\\_home\\_score'\n\\item 'total\\_away\\_score'\n\\item 'posteam\\_score'\n\\item 'defteam\\_score'\n\\item 'score\\_differential'\n\\item 'posteam\\_score\\_post'\n\\item 'defteam\\_score\\_post'\n\\item 'score\\_differential\\_post'\n\\item 'no\\_score\\_prob'\n\\item 'opp\\_fg\\_prob'\n\\item 'opp\\_safety\\_prob'\n\\item 'opp\\_td\\_prob'\n\\item 'fg\\_prob'\n\\item 'safety\\_prob'\n\\item 'td\\_prob'\n\\item 'extra\\_point\\_prob'\n\\item 'two\\_point\\_conversion\\_prob'\n\\item 'ep'\n\\item 'epa'\n\\item 'total\\_home\\_epa'\n\\item 'total\\_away\\_epa'\n\\item 'total\\_home\\_rush\\_epa'\n\\item 'total\\_away\\_rush\\_epa'\n\\item 'total\\_home\\_pass\\_epa'\n\\item 'total\\_away\\_pass\\_epa'\n\\item 'air\\_epa'\n\\item 'yac\\_epa'\n\\item 'comp\\_air\\_epa'\n\\item 'comp\\_yac\\_epa'\n\\item 'total\\_home\\_comp\\_air\\_epa'\n\\item 'total\\_away\\_comp\\_air\\_epa'\n\\item 'total\\_home\\_comp\\_yac\\_epa'\n\\item 'total\\_away\\_comp\\_yac\\_epa'\n\\item 'total\\_home\\_raw\\_air\\_epa'\n\\item 'total\\_away\\_raw\\_air\\_epa'\n\\item 'total\\_home\\_raw\\_yac\\_epa'\n\\item 'total\\_away\\_raw\\_yac\\_epa'\n\\item 'wp'\n\\item 'def\\_wp'\n\\item 'home\\_wp'\n\\item 'away\\_wp'\n\\item 'wpa'\n\\item 'home\\_wp\\_post'\n\\item 'away\\_wp\\_post'\n\\item 'total\\_home\\_rush\\_wpa'\n\\item 'total\\_away\\_rush\\_wpa'\n\\item 'total\\_home\\_pass\\_wpa'\n\\item 'total\\_away\\_pass\\_wpa'\n\\item 'air\\_wpa'\n\\item 'yac\\_wpa'\n\\item 'comp\\_air\\_wpa'\n\\item 'comp\\_yac\\_wpa'\n\\item 'total\\_home\\_comp\\_air\\_wpa'\n\\item 'total\\_away\\_comp\\_air\\_wpa'\n\\item 'total\\_home\\_comp\\_yac\\_wpa'\n\\item 'total\\_away\\_comp\\_yac\\_wpa'\n\\item 'total\\_home\\_raw\\_air\\_wpa'\n\\item 'total\\_away\\_raw\\_air\\_wpa'\n\\item 'total\\_home\\_raw\\_yac\\_wpa'\n\\item 'total\\_away\\_raw\\_yac\\_wpa'\n\\item 'punt\\_blocked'\n\\item 'first\\_down\\_rush'\n\\item 'first\\_down\\_pass'\n\\item 'first\\_down\\_penalty'\n\\item 'third\\_down\\_converted'\n\\item 'third\\_down\\_failed'\n\\item 'fourth\\_down\\_converted'\n\\item 'fourth\\_down\\_failed'\n\\item 'incomplete\\_pass'\n\\item 'touchback'\n\\item 'interception'\n\\item 'punt\\_inside\\_twenty'\n\\item 'punt\\_in\\_endzone'\n\\item 'punt\\_out\\_of\\_bounds'\n\\item 'punt\\_downed'\n\\item 'punt\\_fair\\_catch'\n\\item 'kickoff\\_inside\\_twenty'\n\\item 'kickoff\\_in\\_endzone'\n\\item 'kickoff\\_out\\_of\\_bounds'\n\\item 'kickoff\\_downed'\n\\item 'kickoff\\_fair\\_catch'\n\\item 'fumble\\_forced'\n\\item 'fumble\\_not\\_forced'\n\\item 'fumble\\_out\\_of\\_bounds'\n\\item 'solo\\_tackle'\n\\item 'safety'\n\\item 'penalty'\n\\item 'tackled\\_for\\_loss'\n\\item 'fumble\\_lost'\n\\item 'own\\_kickoff\\_recovery'\n\\item 'own\\_kickoff\\_recovery\\_td'\n\\item 'qb\\_hit'\n\\item 'rush\\_attempt'\n\\item 'pass\\_attempt'\n\\item 'sack'\n\\item 'touchdown'\n\\item 'pass\\_touchdown'\n\\item 'rush\\_touchdown'\n\\item 'return\\_touchdown'\n\\item 'extra\\_point\\_attempt'\n\\item 'two\\_point\\_attempt'\n\\item 'field\\_goal\\_attempt'\n\\item 'kickoff\\_attempt'\n\\item 'punt\\_attempt'\n\\item 'fumble'\n\\item 'complete\\_pass'\n\\item 'assist\\_tackle'\n\\item 'lateral\\_reception'\n\\item 'lateral\\_rush'\n\\item 'lateral\\_return'\n\\item 'lateral\\_recovery'\n\\item 'passer\\_player\\_id'\n\\item 'passer\\_player\\_name'\n\\item 'receiver\\_player\\_id'\n\\item 'receiver\\_player\\_name'\n\\item 'rusher\\_player\\_id'\n\\item 'rusher\\_player\\_name'\n\\item 'lateral\\_receiver\\_player\\_id'\n\\item 'lateral\\_receiver\\_player\\_name'\n\\item 'lateral\\_rusher\\_player\\_id'\n\\item 'lateral\\_rusher\\_player\\_name'\n\\item 'lateral\\_sack\\_player\\_id'\n\\item 'lateral\\_sack\\_player\\_name'\n\\item 'interception\\_player\\_id'\n\\item 'interception\\_player\\_name'\n\\item 'lateral\\_interception\\_player\\_id'\n\\item 'lateral\\_interception\\_player\\_name'\n\\item 'punt\\_returner\\_player\\_id'\n\\item 'punt\\_returner\\_player\\_name'\n\\item 'lateral\\_punt\\_returner\\_player\\_id'\n\\item 'lateral\\_punt\\_returner\\_player\\_name'\n\\item 'kickoff\\_returner\\_player\\_name'\n\\item 'kickoff\\_returner\\_player\\_id'\n\\item 'lateral\\_kickoff\\_returner\\_player\\_id'\n\\item 'lateral\\_kickoff\\_returner\\_player\\_name'\n\\item 'punter\\_player\\_id'\n\\item 'punter\\_player\\_name'\n\\item 'kicker\\_player\\_name'\n\\item 'kicker\\_player\\_id'\n\\item 'own\\_kickoff\\_recovery\\_player\\_id'\n\\item 'own\\_kickoff\\_recovery\\_player\\_name'\n\\item 'blocked\\_player\\_name'\n\\item 'tackle\\_for\\_loss\\_1\\_player\\_id'\n\\item 'tackle\\_for\\_loss\\_1\\_player\\_name'\n\\item 'tackle\\_for\\_loss\\_2\\_player\\_id'\n\\item 'tackle\\_for\\_loss\\_2\\_player\\_name'\n\\item 'qb\\_hit\\_1\\_player\\_id'\n\\item 'qb\\_hit\\_1\\_player\\_name'\n\\item 'qb\\_hit\\_2\\_player\\_id'\n\\item 'qb\\_hit\\_2\\_player\\_name'\n\\item 'forced\\_fumble\\_player\\_1\\_team'\n\\item 'forced\\_fumble\\_player\\_1\\_player\\_id'\n\\item 'forced\\_fumble\\_player\\_1\\_player\\_name'\n\\item 'forced\\_fumble\\_player\\_2\\_team'\n\\item 'forced\\_fumble\\_player\\_2\\_player\\_id'\n\\item 'forced\\_fumble\\_player\\_2\\_player\\_name'\n\\item 'solo\\_tackle\\_1\\_team'\n\\item 'solo\\_tackle\\_2\\_team'\n\\item 'solo\\_tackle\\_1\\_player\\_id'\n\\item 'solo\\_tackle\\_2\\_player\\_id'\n\\item 'solo\\_tackle\\_1\\_player\\_name'\n\\item 'solo\\_tackle\\_2\\_player\\_name'\n\\item 'assist\\_tackle\\_1\\_player\\_id'\n\\item 'assist\\_tackle\\_1\\_player\\_name'\n\\item 'assist\\_tackle\\_1\\_team'\n\\item 'assist\\_tackle\\_2\\_player\\_id'\n\\item 'assist\\_tackle\\_2\\_player\\_name'\n\\item 'assist\\_tackle\\_2\\_team'\n\\item 'assist\\_tackle\\_3\\_player\\_id'\n\\item 'assist\\_tackle\\_3\\_player\\_name'\n\\item 'assist\\_tackle\\_3\\_team'\n\\item 'assist\\_tackle\\_4\\_player\\_id'\n\\item 'assist\\_tackle\\_4\\_player\\_name'\n\\item 'assist\\_tackle\\_4\\_team'\n\\item 'pass\\_defense\\_1\\_player\\_id'\n\\item 'pass\\_defense\\_1\\_player\\_name'\n\\item 'pass\\_defense\\_2\\_player\\_id'\n\\item 'pass\\_defense\\_2\\_player\\_name'\n\\item 'fumbled\\_1\\_team'\n\\item 'fumbled\\_1\\_player\\_id'\n\\item 'fumbled\\_1\\_player\\_name'\n\\item 'fumbled\\_2\\_player\\_id'\n\\item 'fumbled\\_2\\_player\\_name'\n\\item 'fumbled\\_2\\_team'\n\\item 'fumble\\_recovery\\_1\\_team'\n\\item 'fumble\\_recovery\\_1\\_yards'\n\\item 'fumble\\_recovery\\_1\\_player\\_id'\n\\item 'fumble\\_recovery\\_1\\_player\\_name'\n\\item 'fumble\\_recovery\\_2\\_team'\n\\item 'fumble\\_recovery\\_2\\_player\\_name'\n\\item 'return\\_team'\n\\item 'return\\_yards'\n\\item 'penalty\\_team'\n\\item 'penalty\\_player\\_id'\n\\item 'penalty\\_player\\_name'\n\\item 'penalty\\_yards'\n\\item 'replay\\_or\\_challenge'\n\\item 'replay\\_or\\_challenge\\_result'\n\\item 'penalty\\_type'\n\\item 'defensive\\_two\\_point\\_attempt'\n\\item 'defensive\\_two\\_point\\_conv'\n\\item 'defensive\\_extra\\_point\\_attempt'\n\\item 'defensive\\_extra\\_point\\_conv'\n\\item 'week'\n\\item 'season'\n\\end{enumerate*}\n",
            "text/markdown": "1. 'play_id'\n2. 'game_id'\n3. 'home_team'\n4. 'away_team'\n5. 'posteam'\n6. 'posteam_type'\n7. 'defteam'\n8. 'side_of_field'\n9. 'yardline_100'\n10. 'game_date'\n11. 'quarter_seconds_remaining'\n12. 'half_seconds_remaining'\n13. 'game_seconds_remaining'\n14. 'game_half'\n15. 'quarter_end'\n16. 'drive'\n17. 'sp'\n18. 'qtr'\n19. 'down'\n20. 'goal_to_go'\n21. 'time'\n22. 'yrdln'\n23. 'ydstogo'\n24. 'ydsnet'\n25. 'desc'\n26. 'play_type'\n27. 'yards_gained'\n28. 'shotgun'\n29. 'no_huddle'\n30. 'qb_dropback'\n31. 'qb_kneel'\n32. 'qb_spike'\n33. 'qb_scramble'\n34. 'pass_length'\n35. 'pass_location'\n36. 'air_yards'\n37. 'yards_after_catch'\n38. 'run_location'\n39. 'run_gap'\n40. 'field_goal_result'\n41. 'kick_distance'\n42. 'extra_point_result'\n43. 'two_point_conv_result'\n44. 'home_timeouts_remaining'\n45. 'away_timeouts_remaining'\n46. 'timeout'\n47. 'timeout_team'\n48. 'td_team'\n49. 'posteam_timeouts_remaining'\n50. 'defteam_timeouts_remaining'\n51. 'total_home_score'\n52. 'total_away_score'\n53. 'posteam_score'\n54. 'defteam_score'\n55. 'score_differential'\n56. 'posteam_score_post'\n57. 'defteam_score_post'\n58. 'score_differential_post'\n59. 'no_score_prob'\n60. 'opp_fg_prob'\n61. 'opp_safety_prob'\n62. 'opp_td_prob'\n63. 'fg_prob'\n64. 'safety_prob'\n65. 'td_prob'\n66. 'extra_point_prob'\n67. 'two_point_conversion_prob'\n68. 'ep'\n69. 'epa'\n70. 'total_home_epa'\n71. 'total_away_epa'\n72. 'total_home_rush_epa'\n73. 'total_away_rush_epa'\n74. 'total_home_pass_epa'\n75. 'total_away_pass_epa'\n76. 'air_epa'\n77. 'yac_epa'\n78. 'comp_air_epa'\n79. 'comp_yac_epa'\n80. 'total_home_comp_air_epa'\n81. 'total_away_comp_air_epa'\n82. 'total_home_comp_yac_epa'\n83. 'total_away_comp_yac_epa'\n84. 'total_home_raw_air_epa'\n85. 'total_away_raw_air_epa'\n86. 'total_home_raw_yac_epa'\n87. 'total_away_raw_yac_epa'\n88. 'wp'\n89. 'def_wp'\n90. 'home_wp'\n91. 'away_wp'\n92. 'wpa'\n93. 'home_wp_post'\n94. 'away_wp_post'\n95. 'total_home_rush_wpa'\n96. 'total_away_rush_wpa'\n97. 'total_home_pass_wpa'\n98. 'total_away_pass_wpa'\n99. 'air_wpa'\n100. 'yac_wpa'\n101. 'comp_air_wpa'\n102. 'comp_yac_wpa'\n103. 'total_home_comp_air_wpa'\n104. 'total_away_comp_air_wpa'\n105. 'total_home_comp_yac_wpa'\n106. 'total_away_comp_yac_wpa'\n107. 'total_home_raw_air_wpa'\n108. 'total_away_raw_air_wpa'\n109. 'total_home_raw_yac_wpa'\n110. 'total_away_raw_yac_wpa'\n111. 'punt_blocked'\n112. 'first_down_rush'\n113. 'first_down_pass'\n114. 'first_down_penalty'\n115. 'third_down_converted'\n116. 'third_down_failed'\n117. 'fourth_down_converted'\n118. 'fourth_down_failed'\n119. 'incomplete_pass'\n120. 'touchback'\n121. 'interception'\n122. 'punt_inside_twenty'\n123. 'punt_in_endzone'\n124. 'punt_out_of_bounds'\n125. 'punt_downed'\n126. 'punt_fair_catch'\n127. 'kickoff_inside_twenty'\n128. 'kickoff_in_endzone'\n129. 'kickoff_out_of_bounds'\n130. 'kickoff_downed'\n131. 'kickoff_fair_catch'\n132. 'fumble_forced'\n133. 'fumble_not_forced'\n134. 'fumble_out_of_bounds'\n135. 'solo_tackle'\n136. 'safety'\n137. 'penalty'\n138. 'tackled_for_loss'\n139. 'fumble_lost'\n140. 'own_kickoff_recovery'\n141. 'own_kickoff_recovery_td'\n142. 'qb_hit'\n143. 'rush_attempt'\n144. 'pass_attempt'\n145. 'sack'\n146. 'touchdown'\n147. 'pass_touchdown'\n148. 'rush_touchdown'\n149. 'return_touchdown'\n150. 'extra_point_attempt'\n151. 'two_point_attempt'\n152. 'field_goal_attempt'\n153. 'kickoff_attempt'\n154. 'punt_attempt'\n155. 'fumble'\n156. 'complete_pass'\n157. 'assist_tackle'\n158. 'lateral_reception'\n159. 'lateral_rush'\n160. 'lateral_return'\n161. 'lateral_recovery'\n162. 'passer_player_id'\n163. 'passer_player_name'\n164. 'receiver_player_id'\n165. 'receiver_player_name'\n166. 'rusher_player_id'\n167. 'rusher_player_name'\n168. 'lateral_receiver_player_id'\n169. 'lateral_receiver_player_name'\n170. 'lateral_rusher_player_id'\n171. 'lateral_rusher_player_name'\n172. 'lateral_sack_player_id'\n173. 'lateral_sack_player_name'\n174. 'interception_player_id'\n175. 'interception_player_name'\n176. 'lateral_interception_player_id'\n177. 'lateral_interception_player_name'\n178. 'punt_returner_player_id'\n179. 'punt_returner_player_name'\n180. 'lateral_punt_returner_player_id'\n181. 'lateral_punt_returner_player_name'\n182. 'kickoff_returner_player_name'\n183. 'kickoff_returner_player_id'\n184. 'lateral_kickoff_returner_player_id'\n185. 'lateral_kickoff_returner_player_name'\n186. 'punter_player_id'\n187. 'punter_player_name'\n188. 'kicker_player_name'\n189. 'kicker_player_id'\n190. 'own_kickoff_recovery_player_id'\n191. 'own_kickoff_recovery_player_name'\n192. 'blocked_player_name'\n193. 'tackle_for_loss_1_player_id'\n194. 'tackle_for_loss_1_player_name'\n195. 'tackle_for_loss_2_player_id'\n196. 'tackle_for_loss_2_player_name'\n197. 'qb_hit_1_player_id'\n198. 'qb_hit_1_player_name'\n199. 'qb_hit_2_player_id'\n200. 'qb_hit_2_player_name'\n201. 'forced_fumble_player_1_team'\n202. 'forced_fumble_player_1_player_id'\n203. 'forced_fumble_player_1_player_name'\n204. 'forced_fumble_player_2_team'\n205. 'forced_fumble_player_2_player_id'\n206. 'forced_fumble_player_2_player_name'\n207. 'solo_tackle_1_team'\n208. 'solo_tackle_2_team'\n209. 'solo_tackle_1_player_id'\n210. 'solo_tackle_2_player_id'\n211. 'solo_tackle_1_player_name'\n212. 'solo_tackle_2_player_name'\n213. 'assist_tackle_1_player_id'\n214. 'assist_tackle_1_player_name'\n215. 'assist_tackle_1_team'\n216. 'assist_tackle_2_player_id'\n217. 'assist_tackle_2_player_name'\n218. 'assist_tackle_2_team'\n219. 'assist_tackle_3_player_id'\n220. 'assist_tackle_3_player_name'\n221. 'assist_tackle_3_team'\n222. 'assist_tackle_4_player_id'\n223. 'assist_tackle_4_player_name'\n224. 'assist_tackle_4_team'\n225. 'pass_defense_1_player_id'\n226. 'pass_defense_1_player_name'\n227. 'pass_defense_2_player_id'\n228. 'pass_defense_2_player_name'\n229. 'fumbled_1_team'\n230. 'fumbled_1_player_id'\n231. 'fumbled_1_player_name'\n232. 'fumbled_2_player_id'\n233. 'fumbled_2_player_name'\n234. 'fumbled_2_team'\n235. 'fumble_recovery_1_team'\n236. 'fumble_recovery_1_yards'\n237. 'fumble_recovery_1_player_id'\n238. 'fumble_recovery_1_player_name'\n239. 'fumble_recovery_2_team'\n240. 'fumble_recovery_2_player_name'\n241. 'return_team'\n242. 'return_yards'\n243. 'penalty_team'\n244. 'penalty_player_id'\n245. 'penalty_player_name'\n246. 'penalty_yards'\n247. 'replay_or_challenge'\n248. 'replay_or_challenge_result'\n249. 'penalty_type'\n250. 'defensive_two_point_attempt'\n251. 'defensive_two_point_conv'\n252. 'defensive_extra_point_attempt'\n253. 'defensive_extra_point_conv'\n254. 'week'\n255. 'season'\n\n\n",
            "text/html": [
              "<style>\n",
              ".list-inline {list-style: none; margin:0; padding: 0}\n",
              ".list-inline>li {display: inline-block}\n",
              ".list-inline>li:not(:last-child)::after {content: \"\\00b7\"; padding: 0 .5ex}\n",
              "</style>\n",
              "<ol class=list-inline><li>'play_id'</li><li>'game_id'</li><li>'home_team'</li><li>'away_team'</li><li>'posteam'</li><li>'posteam_type'</li><li>'defteam'</li><li>'side_of_field'</li><li>'yardline_100'</li><li>'game_date'</li><li>'quarter_seconds_remaining'</li><li>'half_seconds_remaining'</li><li>'game_seconds_remaining'</li><li>'game_half'</li><li>'quarter_end'</li><li>'drive'</li><li>'sp'</li><li>'qtr'</li><li>'down'</li><li>'goal_to_go'</li><li>'time'</li><li>'yrdln'</li><li>'ydstogo'</li><li>'ydsnet'</li><li>'desc'</li><li>'play_type'</li><li>'yards_gained'</li><li>'shotgun'</li><li>'no_huddle'</li><li>'qb_dropback'</li><li>'qb_kneel'</li><li>'qb_spike'</li><li>'qb_scramble'</li><li>'pass_length'</li><li>'pass_location'</li><li>'air_yards'</li><li>'yards_after_catch'</li><li>'run_location'</li><li>'run_gap'</li><li>'field_goal_result'</li><li>'kick_distance'</li><li>'extra_point_result'</li><li>'two_point_conv_result'</li><li>'home_timeouts_remaining'</li><li>'away_timeouts_remaining'</li><li>'timeout'</li><li>'timeout_team'</li><li>'td_team'</li><li>'posteam_timeouts_remaining'</li><li>'defteam_timeouts_remaining'</li><li>'total_home_score'</li><li>'total_away_score'</li><li>'posteam_score'</li><li>'defteam_score'</li><li>'score_differential'</li><li>'posteam_score_post'</li><li>'defteam_score_post'</li><li>'score_differential_post'</li><li>'no_score_prob'</li><li>'opp_fg_prob'</li><li>'opp_safety_prob'</li><li>'opp_td_prob'</li><li>'fg_prob'</li><li>'safety_prob'</li><li>'td_prob'</li><li>'extra_point_prob'</li><li>'two_point_conversion_prob'</li><li>'ep'</li><li>'epa'</li><li>'total_home_epa'</li><li>'total_away_epa'</li><li>'total_home_rush_epa'</li><li>'total_away_rush_epa'</li><li>'total_home_pass_epa'</li><li>'total_away_pass_epa'</li><li>'air_epa'</li><li>'yac_epa'</li><li>'comp_air_epa'</li><li>'comp_yac_epa'</li><li>'total_home_comp_air_epa'</li><li>'total_away_comp_air_epa'</li><li>'total_home_comp_yac_epa'</li><li>'total_away_comp_yac_epa'</li><li>'total_home_raw_air_epa'</li><li>'total_away_raw_air_epa'</li><li>'total_home_raw_yac_epa'</li><li>'total_away_raw_yac_epa'</li><li>'wp'</li><li>'def_wp'</li><li>'home_wp'</li><li>'away_wp'</li><li>'wpa'</li><li>'home_wp_post'</li><li>'away_wp_post'</li><li>'total_home_rush_wpa'</li><li>'total_away_rush_wpa'</li><li>'total_home_pass_wpa'</li><li>'total_away_pass_wpa'</li><li>'air_wpa'</li><li>'yac_wpa'</li><li>'comp_air_wpa'</li><li>'comp_yac_wpa'</li><li>'total_home_comp_air_wpa'</li><li>'total_away_comp_air_wpa'</li><li>'total_home_comp_yac_wpa'</li><li>'total_away_comp_yac_wpa'</li><li>'total_home_raw_air_wpa'</li><li>'total_away_raw_air_wpa'</li><li>'total_home_raw_yac_wpa'</li><li>'total_away_raw_yac_wpa'</li><li>'punt_blocked'</li><li>'first_down_rush'</li><li>'first_down_pass'</li><li>'first_down_penalty'</li><li>'third_down_converted'</li><li>'third_down_failed'</li><li>'fourth_down_converted'</li><li>'fourth_down_failed'</li><li>'incomplete_pass'</li><li>'touchback'</li><li>'interception'</li><li>'punt_inside_twenty'</li><li>'punt_in_endzone'</li><li>'punt_out_of_bounds'</li><li>'punt_downed'</li><li>'punt_fair_catch'</li><li>'kickoff_inside_twenty'</li><li>'kickoff_in_endzone'</li><li>'kickoff_out_of_bounds'</li><li>'kickoff_downed'</li><li>'kickoff_fair_catch'</li><li>'fumble_forced'</li><li>'fumble_not_forced'</li><li>'fumble_out_of_bounds'</li><li>'solo_tackle'</li><li>'safety'</li><li>'penalty'</li><li>'tackled_for_loss'</li><li>'fumble_lost'</li><li>'own_kickoff_recovery'</li><li>'own_kickoff_recovery_td'</li><li>'qb_hit'</li><li>'rush_attempt'</li><li>'pass_attempt'</li><li>'sack'</li><li>'touchdown'</li><li>'pass_touchdown'</li><li>'rush_touchdown'</li><li>'return_touchdown'</li><li>'extra_point_attempt'</li><li>'two_point_attempt'</li><li>'field_goal_attempt'</li><li>'kickoff_attempt'</li><li>'punt_attempt'</li><li>'fumble'</li><li>'complete_pass'</li><li>'assist_tackle'</li><li>'lateral_reception'</li><li>'lateral_rush'</li><li>'lateral_return'</li><li>'lateral_recovery'</li><li>'passer_player_id'</li><li>'passer_player_name'</li><li>'receiver_player_id'</li><li>'receiver_player_name'</li><li>'rusher_player_id'</li><li>'rusher_player_name'</li><li>'lateral_receiver_player_id'</li><li>'lateral_receiver_player_name'</li><li>'lateral_rusher_player_id'</li><li>'lateral_rusher_player_name'</li><li>'lateral_sack_player_id'</li><li>'lateral_sack_player_name'</li><li>'interception_player_id'</li><li>'interception_player_name'</li><li>'lateral_interception_player_id'</li><li>'lateral_interception_player_name'</li><li>'punt_returner_player_id'</li><li>'punt_returner_player_name'</li><li>'lateral_punt_returner_player_id'</li><li>'lateral_punt_returner_player_name'</li><li>'kickoff_returner_player_name'</li><li>'kickoff_returner_player_id'</li><li>'lateral_kickoff_returner_player_id'</li><li>'lateral_kickoff_returner_player_name'</li><li>'punter_player_id'</li><li>'punter_player_name'</li><li>'kicker_player_name'</li><li>'kicker_player_id'</li><li>'own_kickoff_recovery_player_id'</li><li>'own_kickoff_recovery_player_name'</li><li>'blocked_player_name'</li><li>'tackle_for_loss_1_player_id'</li><li>'tackle_for_loss_1_player_name'</li><li>'tackle_for_loss_2_player_id'</li><li>'tackle_for_loss_2_player_name'</li><li>'qb_hit_1_player_id'</li><li>'qb_hit_1_player_name'</li><li>'qb_hit_2_player_id'</li><li>'qb_hit_2_player_name'</li><li>'forced_fumble_player_1_team'</li><li>'forced_fumble_player_1_player_id'</li><li>'forced_fumble_player_1_player_name'</li><li>'forced_fumble_player_2_team'</li><li>'forced_fumble_player_2_player_id'</li><li>'forced_fumble_player_2_player_name'</li><li>'solo_tackle_1_team'</li><li>'solo_tackle_2_team'</li><li>'solo_tackle_1_player_id'</li><li>'solo_tackle_2_player_id'</li><li>'solo_tackle_1_player_name'</li><li>'solo_tackle_2_player_name'</li><li>'assist_tackle_1_player_id'</li><li>'assist_tackle_1_player_name'</li><li>'assist_tackle_1_team'</li><li>'assist_tackle_2_player_id'</li><li>'assist_tackle_2_player_name'</li><li>'assist_tackle_2_team'</li><li>'assist_tackle_3_player_id'</li><li>'assist_tackle_3_player_name'</li><li>'assist_tackle_3_team'</li><li>'assist_tackle_4_player_id'</li><li>'assist_tackle_4_player_name'</li><li>'assist_tackle_4_team'</li><li>'pass_defense_1_player_id'</li><li>'pass_defense_1_player_name'</li><li>'pass_defense_2_player_id'</li><li>'pass_defense_2_player_name'</li><li>'fumbled_1_team'</li><li>'fumbled_1_player_id'</li><li>'fumbled_1_player_name'</li><li>'fumbled_2_player_id'</li><li>'fumbled_2_player_name'</li><li>'fumbled_2_team'</li><li>'fumble_recovery_1_team'</li><li>'fumble_recovery_1_yards'</li><li>'fumble_recovery_1_player_id'</li><li>'fumble_recovery_1_player_name'</li><li>'fumble_recovery_2_team'</li><li>'fumble_recovery_2_player_name'</li><li>'return_team'</li><li>'return_yards'</li><li>'penalty_team'</li><li>'penalty_player_id'</li><li>'penalty_player_name'</li><li>'penalty_yards'</li><li>'replay_or_challenge'</li><li>'replay_or_challenge_result'</li><li>'penalty_type'</li><li>'defensive_two_point_attempt'</li><li>'defensive_two_point_conv'</li><li>'defensive_extra_point_attempt'</li><li>'defensive_extra_point_conv'</li><li>'week'</li><li>'season'</li></ol>\n"
            ]
          },
          "metadata": {
            "tags": []
          }
        }
      ]
    },
    {
      "cell_type": "markdown",
      "metadata": {
        "id": "dWtSupy-tajr",
        "colab_type": "text"
      },
      "source": [
        "\n",
        "\n",
        "---\n",
        "\n",
        "\n",
        "\n",
        "Following will be an explanation of the most important variables in the dataframe\n",
        "\n"
      ]
    },
    {
      "cell_type": "markdown",
      "metadata": {
        "id": "uvgLuEfxv8R6",
        "colab_type": "text"
      },
      "source": [
        "* `desc` = Detailed string description of the given play\n",
        "* `game_id` = Ten digit identifier for NFL Game.\n",
        "* `home_team` = String abbreviation for the home team\n",
        "* `away_team` = String abbreviation for the away team\n",
        "* `week` = Week in the season, between 1 and 16\n",
        "* `posteam` = String abbreviation for the team in possesion of the football\n",
        "* `defteam` = String abbreviation for the team on defense\n",
        "* `yardline_100` = Distance in number of yards from the opponent's endzone for the posteam\n",
        "* `down` = The down (1-4) for the given play\n",
        "* `ydstogo` = Numeric yards distance to the next first down\n",
        "* `play_type` = String indicating the type of play: pass if ball was thrown, run if rusher ran with the ball etc.\n",
        "* `pass_attempt` = Binary indicator if the play was a pass\n",
        "* `rush_attempt` = Binary indicator if the play was a run\n",
        "* `complete_pass` = Binary indicator if the pass was completed\n",
        "* `touchdown` = Binary indicator if the play resulted in a touchdown\n",
        "* `yards_gained` = Numeric yards gained (or lost) by the possessing team\n",
        "* `pass_location` = String indicator for pass location: left, middle or right\n",
        "* `air_yards` = Numeric value for distance in yards from the line of scrimmage at where the receiver caught the ball or did not catch it\n",
        "* `total_home_score` = Score for the home team at the start of the play\n",
        "* `total_away_score` = Score the away team at the start of the play\n",
        "* `score_differential` = Score differential between posteam and defteam at the start of the play\n",
        "* `penalty` = Binary indicator for whether or not a penalty occured\n",
        "* `penalty_team` = String abbreviation of the team with the penalty\n",
        "* `penalty_yards` = Yards gained (or lost) by the posteam from the penalty\n",
        "\n",
        "\n"
      ]
    },
    {
      "cell_type": "markdown",
      "metadata": {
        "id": "3Qz2M4uCw4Ny",
        "colab_type": "text"
      },
      "source": [
        "Lets look at an example - some of the variables in use."
      ]
    },
    {
      "cell_type": "code",
      "metadata": {
        "id": "mev-g1wqv6KJ",
        "colab_type": "code",
        "colab": {
          "base_uri": "https://localhost:8080/",
          "height": 179
        },
        "outputId": "40544f95-f13b-4b9f-80a6-b43e63bed23c"
      },
      "source": [
        "pbp_all %>%\n",
        "select(season, week, home_team, away_team, total_home_score, total_away_score, down, ydstogo, play_type, yards_gained, penalty) %>%\n",
        "sample_n(5)"
      ],
      "execution_count": 12,
      "outputs": [
        {
          "output_type": "display_data",
          "data": {
            "text/plain": [
              "  season week home_team away_team total_home_score total_away_score down\n",
              "1 2012    3   WAS       CIN        6               7                2   \n",
              "2 2019   16   ATL       JAC       14               0                1   \n",
              "3 2010    3   NE        BUF        7               3                1   \n",
              "4 2019   16   PHI       DAL       10               6                2   \n",
              "5 2016   11   CAR       NO         3               3                2   \n",
              "  ydstogo play_type yards_gained penalty\n",
              "1 12      pass      22           0      \n",
              "2 10      pass      16           0      \n",
              "3 10      run        3           0      \n",
              "4  9      pass       8           0      \n",
              "5 10      run       -2           0      "
            ],
            "text/latex": "A tibble: 5 × 11\n\\begin{tabular}{lllllllllll}\n season & week & home\\_team & away\\_team & total\\_home\\_score & total\\_away\\_score & down & ydstogo & play\\_type & yards\\_gained & penalty\\\\\n <dbl> & <dbl> & <chr> & <chr> & <dbl> & <dbl> & <dbl> & <dbl> & <chr> & <dbl> & <dbl>\\\\\n\\hline\n\t 2012 &  3 & WAS & CIN &  6 & 7 & 2 & 12 & pass & 22 & 0\\\\\n\t 2019 & 16 & ATL & JAC & 14 & 0 & 1 & 10 & pass & 16 & 0\\\\\n\t 2010 &  3 & NE  & BUF &  7 & 3 & 1 & 10 & run  &  3 & 0\\\\\n\t 2019 & 16 & PHI & DAL & 10 & 6 & 2 &  9 & pass &  8 & 0\\\\\n\t 2016 & 11 & CAR & NO  &  3 & 3 & 2 & 10 & run  & -2 & 0\\\\\n\\end{tabular}\n",
            "text/markdown": "\nA tibble: 5 × 11\n\n| season &lt;dbl&gt; | week &lt;dbl&gt; | home_team &lt;chr&gt; | away_team &lt;chr&gt; | total_home_score &lt;dbl&gt; | total_away_score &lt;dbl&gt; | down &lt;dbl&gt; | ydstogo &lt;dbl&gt; | play_type &lt;chr&gt; | yards_gained &lt;dbl&gt; | penalty &lt;dbl&gt; |\n|---|---|---|---|---|---|---|---|---|---|---|\n| 2012 |  3 | WAS | CIN |  6 | 7 | 2 | 12 | pass | 22 | 0 |\n| 2019 | 16 | ATL | JAC | 14 | 0 | 1 | 10 | pass | 16 | 0 |\n| 2010 |  3 | NE  | BUF |  7 | 3 | 1 | 10 | run  |  3 | 0 |\n| 2019 | 16 | PHI | DAL | 10 | 6 | 2 |  9 | pass |  8 | 0 |\n| 2016 | 11 | CAR | NO  |  3 | 3 | 2 | 10 | run  | -2 | 0 |\n\n",
            "text/html": [
              "<table>\n",
              "<caption>A tibble: 5 × 11</caption>\n",
              "<thead>\n",
              "\t<tr><th scope=col>season</th><th scope=col>week</th><th scope=col>home_team</th><th scope=col>away_team</th><th scope=col>total_home_score</th><th scope=col>total_away_score</th><th scope=col>down</th><th scope=col>ydstogo</th><th scope=col>play_type</th><th scope=col>yards_gained</th><th scope=col>penalty</th></tr>\n",
              "\t<tr><th scope=col>&lt;dbl&gt;</th><th scope=col>&lt;dbl&gt;</th><th scope=col>&lt;chr&gt;</th><th scope=col>&lt;chr&gt;</th><th scope=col>&lt;dbl&gt;</th><th scope=col>&lt;dbl&gt;</th><th scope=col>&lt;dbl&gt;</th><th scope=col>&lt;dbl&gt;</th><th scope=col>&lt;chr&gt;</th><th scope=col>&lt;dbl&gt;</th><th scope=col>&lt;dbl&gt;</th></tr>\n",
              "</thead>\n",
              "<tbody>\n",
              "\t<tr><td>2012</td><td> 3</td><td>WAS</td><td>CIN</td><td> 6</td><td>7</td><td>2</td><td>12</td><td>pass</td><td>22</td><td>0</td></tr>\n",
              "\t<tr><td>2019</td><td>16</td><td>ATL</td><td>JAC</td><td>14</td><td>0</td><td>1</td><td>10</td><td>pass</td><td>16</td><td>0</td></tr>\n",
              "\t<tr><td>2010</td><td> 3</td><td>NE </td><td>BUF</td><td> 7</td><td>3</td><td>1</td><td>10</td><td>run </td><td> 3</td><td>0</td></tr>\n",
              "\t<tr><td>2019</td><td>16</td><td>PHI</td><td>DAL</td><td>10</td><td>6</td><td>2</td><td> 9</td><td>pass</td><td> 8</td><td>0</td></tr>\n",
              "\t<tr><td>2016</td><td>11</td><td>CAR</td><td>NO </td><td> 3</td><td>3</td><td>2</td><td>10</td><td>run </td><td>-2</td><td>0</td></tr>\n",
              "</tbody>\n",
              "</table>\n"
            ]
          },
          "metadata": {
            "tags": []
          }
        }
      ]
    },
    {
      "cell_type": "markdown",
      "metadata": {
        "id": "42oj32z-v48X",
        "colab_type": "text"
      },
      "source": [
        "Following are more complicated but important variables\n",
        "\n",
        "* `ep` = **Expected Points (EP)** by the posteam before the play.  Is calculated by value of the current down, distance, and field position situation in terms of future expected net point advantage. Examples: First down with one yard to go to the endzone will represent an EP near 6 (since a touchdown yields 6 points)\n",
        "\n",
        "\n",
        "* `epa` = **Expected Points Added (EPA)** by the posteam at the end of a play. Can be seen as the difference between Expected Points (EP) at the start of the play and the EP at the end of the play. \n",
        "\n",
        "\n",
        "* `wp` = **Win Probability (WP)**. The probability that a team will win a game, given a particular combination of circumstances including score, time remaining, field position, down and to go distance. WP is based on a model built on actual outcomes of NFL games that featured similar circumstances.\n",
        "\n",
        "\n",
        "* `wpa` = **Win Probability Added (WPA)**. Difference between a team's Win Probability at the start of a play and the WP at the end of the play. WPA can be seen as the measure of a play's impact on the outcome of a game"
      ]
    },
    {
      "cell_type": "markdown",
      "metadata": {
        "id": "DccW8ZYc3DWw",
        "colab_type": "text"
      },
      "source": [
        "\n",
        "\n",
        "---\n",
        "\n",
        "\n",
        "* Showcasing some of the more complicated variables (`epa, ep, wpa, wp`) as well as the `desc` variable to illustrate how detailed the written out description is"
      ]
    },
    {
      "cell_type": "code",
      "metadata": {
        "id": "xFZehG2I2juK",
        "colab_type": "code",
        "colab": {
          "base_uri": "https://localhost:8080/",
          "height": 216
        },
        "outputId": "d0297132-8a10-4628-e027-ae6499ed3620"
      },
      "source": [
        "pbp_all %>%\n",
        "filter(touchdown == 1) %>%\n",
        "select(desc, epa, ep, wpa, wp) %>%\n",
        "tail()"
      ],
      "execution_count": 17,
      "outputs": [
        {
          "output_type": "display_data",
          "data": {
            "text/plain": [
              "  desc                                                                                                                                                                  \n",
              "1 (:32) D.Samuel left end for 30 yards, TOUCHDOWN. The Replay Official reviewed the runner was inbounds ruling, and the play was Upheld. The ruling on the field stands.\n",
              "2 (5:53) (Shotgun) R.Wilson pass short left to T.Lockett for 14 yards, TOUCHDOWN.                                                                                       \n",
              "3 (3:28) R.Mostert right tackle for 2 yards, TOUCHDOWN.                                                                                                                 \n",
              "4 (9:59) J.Jones reported in as eligible.  M.Lynch up the middle for 1 yard, TOUCHDOWN.                                                                                 \n",
              "5 (5:55) (Shotgun) R.Mostert left guard for 13 yards, TOUCHDOWN.                                                                                                        \n",
              "6 (3:40) (Shotgun) R.Wilson pass short left to DK.Metcalf for 14 yards, TOUCHDOWN.                                                                                      \n",
              "  epa      ep       wpa        wp       \n",
              "1 3.068499 3.931501 0.08998383 0.7045027\n",
              "2 3.535852 3.464148 0.09913199 0.1709520\n",
              "3 1.159430 5.840570 0.01916091 0.8613702\n",
              "4 0.530851 6.469149 0.01723658 0.2586973\n",
              "5 2.630784 4.369216 0.04692250 0.8801631\n",
              "6 3.225973 3.774027 0.10801224 0.1003556"
            ],
            "text/latex": "A tibble: 6 × 5\n\\begin{tabular}{lllll}\n desc & epa & ep & wpa & wp\\\\\n <chr> & <dbl> & <dbl> & <dbl> & <dbl>\\\\\n\\hline\n\t (:32) D.Samuel left end for 30 yards, TOUCHDOWN. The Replay Official reviewed the runner was inbounds ruling, and the play was Upheld. The ruling on the field stands. & 3.068499 & 3.931501 & 0.08998383 & 0.7045027\\\\\n\t (5:53) (Shotgun) R.Wilson pass short left to T.Lockett for 14 yards, TOUCHDOWN.                                                                                        & 3.535852 & 3.464148 & 0.09913199 & 0.1709520\\\\\n\t (3:28) R.Mostert right tackle for 2 yards, TOUCHDOWN.                                                                                                                  & 1.159430 & 5.840570 & 0.01916091 & 0.8613702\\\\\n\t (9:59) J.Jones reported in as eligible.  M.Lynch up the middle for 1 yard, TOUCHDOWN.                                                                                  & 0.530851 & 6.469149 & 0.01723658 & 0.2586973\\\\\n\t (5:55) (Shotgun) R.Mostert left guard for 13 yards, TOUCHDOWN.                                                                                                         & 2.630784 & 4.369216 & 0.04692250 & 0.8801631\\\\\n\t (3:40) (Shotgun) R.Wilson pass short left to DK.Metcalf for 14 yards, TOUCHDOWN.                                                                                       & 3.225973 & 3.774027 & 0.10801224 & 0.1003556\\\\\n\\end{tabular}\n",
            "text/markdown": "\nA tibble: 6 × 5\n\n| desc &lt;chr&gt; | epa &lt;dbl&gt; | ep &lt;dbl&gt; | wpa &lt;dbl&gt; | wp &lt;dbl&gt; |\n|---|---|---|---|---|\n| (:32) D.Samuel left end for 30 yards, TOUCHDOWN. The Replay Official reviewed the runner was inbounds ruling, and the play was Upheld. The ruling on the field stands. | 3.068499 | 3.931501 | 0.08998383 | 0.7045027 |\n| (5:53) (Shotgun) R.Wilson pass short left to T.Lockett for 14 yards, TOUCHDOWN.                                                                                        | 3.535852 | 3.464148 | 0.09913199 | 0.1709520 |\n| (3:28) R.Mostert right tackle for 2 yards, TOUCHDOWN.                                                                                                                  | 1.159430 | 5.840570 | 0.01916091 | 0.8613702 |\n| (9:59) J.Jones reported in as eligible.  M.Lynch up the middle for 1 yard, TOUCHDOWN.                                                                                  | 0.530851 | 6.469149 | 0.01723658 | 0.2586973 |\n| (5:55) (Shotgun) R.Mostert left guard for 13 yards, TOUCHDOWN.                                                                                                         | 2.630784 | 4.369216 | 0.04692250 | 0.8801631 |\n| (3:40) (Shotgun) R.Wilson pass short left to DK.Metcalf for 14 yards, TOUCHDOWN.                                                                                       | 3.225973 | 3.774027 | 0.10801224 | 0.1003556 |\n\n",
            "text/html": [
              "<table>\n",
              "<caption>A tibble: 6 × 5</caption>\n",
              "<thead>\n",
              "\t<tr><th scope=col>desc</th><th scope=col>epa</th><th scope=col>ep</th><th scope=col>wpa</th><th scope=col>wp</th></tr>\n",
              "\t<tr><th scope=col>&lt;chr&gt;</th><th scope=col>&lt;dbl&gt;</th><th scope=col>&lt;dbl&gt;</th><th scope=col>&lt;dbl&gt;</th><th scope=col>&lt;dbl&gt;</th></tr>\n",
              "</thead>\n",
              "<tbody>\n",
              "\t<tr><td>(:32) D.Samuel left end for 30 yards, TOUCHDOWN. The Replay Official reviewed the runner was inbounds ruling, and the play was Upheld. The ruling on the field stands.</td><td>3.068499</td><td>3.931501</td><td>0.08998383</td><td>0.7045027</td></tr>\n",
              "\t<tr><td>(5:53) (Shotgun) R.Wilson pass short left to T.Lockett for 14 yards, TOUCHDOWN.                                                                                       </td><td>3.535852</td><td>3.464148</td><td>0.09913199</td><td>0.1709520</td></tr>\n",
              "\t<tr><td>(3:28) R.Mostert right tackle for 2 yards, TOUCHDOWN.                                                                                                                 </td><td>1.159430</td><td>5.840570</td><td>0.01916091</td><td>0.8613702</td></tr>\n",
              "\t<tr><td>(9:59) J.Jones reported in as eligible.  M.Lynch up the middle for 1 yard, TOUCHDOWN.                                                                                 </td><td>0.530851</td><td>6.469149</td><td>0.01723658</td><td>0.2586973</td></tr>\n",
              "\t<tr><td>(5:55) (Shotgun) R.Mostert left guard for 13 yards, TOUCHDOWN.                                                                                                        </td><td>2.630784</td><td>4.369216</td><td>0.04692250</td><td>0.8801631</td></tr>\n",
              "\t<tr><td>(3:40) (Shotgun) R.Wilson pass short left to DK.Metcalf for 14 yards, TOUCHDOWN.                                                                                      </td><td>3.225973</td><td>3.774027</td><td>0.10801224</td><td>0.1003556</td></tr>\n",
              "</tbody>\n",
              "</table>\n"
            ]
          },
          "metadata": {
            "tags": []
          }
        }
      ]
    },
    {
      "cell_type": "markdown",
      "metadata": {
        "id": "YRbjei7nyBIo",
        "colab_type": "text"
      },
      "source": [
        "* The `desc` column will be very useful. With the use of the **stringr** package we can extract additional information!"
      ]
    },
    {
      "cell_type": "markdown",
      "metadata": {
        "id": "XjCl4jyKpEGo",
        "colab_type": "text"
      },
      "source": [
        "\n",
        "\n",
        "---\n",
        "\n",
        "\n",
        "The dataset is missing some crucial information that would be valuable for further analysis like:\n",
        "* Who was the Passer / Rusher / Receiver in the play\n",
        "\n",
        "Further Clean up process:\n",
        "* For `play_type == \"no_play\"`, yards_gained column has to be changed to NA since these plays were invalid because of a foul or other disturbance on the play.\n",
        "\n",
        "* Filter out plays that have NA values considering `EPA` and `Posteam`, because these are useless and probably faulty to begin with.\n",
        "\n",
        "* Filter out multiple `play_types` - \"*punt*\", \"*field_goal\", \"kickoff\"*, \"*extra_point\", \"qb_kneel\"* and \"*qb_spike*\" since we are not interested in these for now"
      ]
    },
    {
      "cell_type": "markdown",
      "metadata": {
        "id": "9liUBJGnszPR",
        "colab_type": "text"
      },
      "source": [
        "Credit to [Ben Baldwin](https://gist.github.com/guga31bb/5634562c5a2a7b1e9961ac9b6c568701) for these pre-processing steps (specifically the stringr part)."
      ]
    },
    {
      "cell_type": "code",
      "metadata": {
        "id": "-FotnV1rrr52",
        "colab_type": "code",
        "colab": {}
      },
      "source": [
        "pbp_all_rp <- pbp_all %>%\n",
        "      filter(!is.na(epa), !is.na(posteam), play_type==\"no_play\" | play_type==\"pass\" | play_type==\"run\") %>% \n",
        "\tmutate( \n",
        "\tpass = if_else(str_detect(desc, \"( pass)|(sacked)|(scramble)\"), 1, 0), \n",
        "\trush = if_else(str_detect(desc, \"(left end)|(left tackle)|(left guard)|(up the middle)|(right guard)|(right tackle)|(right end)\") & pass == 0, 1, 0),\n",
        "\tsuccess = ifelse(epa>0, 1 , 0),\n",
        "\tpasser_player_name = ifelse(play_type == \"no_play\" & pass == 1,\n",
        "              str_extract(desc, \"(?<=\\\\s)[A-Z][a-z]*\\\\.\\\\s?[A-Z][A-z]+(\\\\s(I{2,3})|(IV))?(?=\\\\s((pass)|(sack)|(scramble)))\"),\n",
        "              passer_player_name),\n",
        "        receiver_player_name = ifelse(play_type == \"no_play\" & str_detect(desc, \"pass\"), \n",
        "              str_extract(desc, \"(?<=to\\\\s)[A-Z][a-z]*\\\\.\\\\s?[A-Z][A-z]+(\\\\s(I{2,3})|(IV))?\"),\n",
        "              receiver_player_name),\n",
        "        rusher_player_name = ifelse(play_type == \"no_play\" & rush == 1, \n",
        "              str_extract(desc, \"(?<=\\\\s)[A-Z][a-z]*\\\\.\\\\s?[A-Z][A-z]+(\\\\s(I{2,3})|(IV))?(?=\\\\s((left end)|(left tackle)|(left guard)|(up the middle)|(right guard)|(right tackle)|(right end)))\"),\n",
        "              rusher_player_name),\n",
        "\tname = ifelse(!is.na(passer_player_name), passer_player_name, rusher_player_name),\n",
        "\tyards_gained=ifelse(play_type==\"no_play\",NA,yards_gained), play=1\n",
        "\t) "
      ],
      "execution_count": 13,
      "outputs": []
    },
    {
      "cell_type": "code",
      "metadata": {
        "id": "KBnY5TpmswZA",
        "colab_type": "code",
        "colab": {
          "base_uri": "https://localhost:8080/",
          "height": 34
        },
        "outputId": "340c241b-1d05-40b0-a657-5ab46d0d4f00"
      },
      "source": [
        "dim(pbp_all_rp)"
      ],
      "execution_count": 15,
      "outputs": [
        {
          "output_type": "display_data",
          "data": {
            "text/plain": [
              "[1] 399162    260"
            ],
            "text/latex": "\\begin{enumerate*}\n\\item 399162\n\\item 260\n\\end{enumerate*}\n",
            "text/markdown": "1. 399162\n2. 260\n\n\n",
            "text/html": [
              "<style>\n",
              ".list-inline {list-style: none; margin:0; padding: 0}\n",
              ".list-inline>li {display: inline-block}\n",
              ".list-inline>li:not(:last-child)::after {content: \"\\00b7\"; padding: 0 .5ex}\n",
              "</style>\n",
              "<ol class=list-inline><li>399162</li><li>260</li></ol>\n"
            ]
          },
          "metadata": {
            "tags": []
          }
        }
      ]
    },
    {
      "cell_type": "markdown",
      "metadata": {
        "id": "YxtAJ8l0zqdy",
        "colab_type": "text"
      },
      "source": [
        "Through the filtering and clean up process the play count is now about 100,000 lower and the variable count increased by 5."
      ]
    }
  ]
}