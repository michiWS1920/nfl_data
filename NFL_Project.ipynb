{
  "nbformat": 4,
  "nbformat_minor": 0,
  "metadata": {
    "colab": {
      "name": "NFL_Project.ipynb",
      "provenance": [],
      "toc_visible": true,
      "authorship_tag": "ABX9TyPMD91gqMcV3qgCX4TNtY8W",
      "include_colab_link": true
    },
    "kernelspec": {
      "name": "ir",
      "display_name": "R"
    }
  },
  "cells": [
    {
      "cell_type": "markdown",
      "metadata": {
        "id": "view-in-github",
        "colab_type": "text"
      },
      "source": [
        "<a href=\"https://colab.research.google.com/github/michiWS1920/nfl_data/blob/master/NFL_Project.ipynb\" target=\"_parent\"><img src=\"https://colab.research.google.com/assets/colab-badge.svg\" alt=\"Open In Colab\"/></a>"
      ]
    },
    {
      "cell_type": "markdown",
      "metadata": {
        "id": "6tb2yBdWnDna",
        "colab_type": "text"
      },
      "source": [
        "# **Introduction**\n",
        "\n",
        "\n",
        "\n",
        "\n",
        "\n",
        "\n",
        "\n",
        "\n",
        "\n",
        "\n",
        "\n"
      ]
    },
    {
      "cell_type": "markdown",
      "metadata": {
        "id": "i-WOeaaOCcB0",
        "colab_type": "text"
      },
      "source": [
        "## **Main Objective of this Project**\n",
        "\n",
        "<p align= \"justify\">Any strategic and mathematically optimizable game can profit from the use of analyzing historical data to improve decision quality in the future. Baseball was one of the first sports to recognize the value in broad datasets to optimize game-plans as seen in the film \"Moneyball\". \n",
        "In recent years data science has made its way into the National Football League (NFL) and is being used by teams to prepare for their opponents, as well as improving their training sessions and playcalling during the games. \n",
        "\n",
        "\n",
        "Since strategy driven sports like football are incorporating more and more technology into their matches/training, the acquired data is growing at a fast pace. These mentioned technologies used for data collection are motion sensors, as well as impact sensors on the football gear (e.g. helmet, shoulder pads, etc.) or more old fashioned ways of gathering historical play by play data manually. \n",
        "\n",
        "The desired outcome for this project is to find interesting and strategically valuable insights for the game of American Football. <br>Visualizing these insights and drawing conclussions to improve decision quality, as well as building a predictive model are further objectives. </p>"
      ]
    },
    {
      "cell_type": "markdown",
      "metadata": {
        "id": "wt10gx_CE6C6",
        "colab_type": "text"
      },
      "source": [
        "## **Brief Explanation of American Football**\n",
        "\n",
        "<p align= \"justify\">Since this project will go indepth on many strategic concepts of American Football it is necessary to explain the basics. Accompanying the analysis in this project will be more explanations to specific concepts and rules in order to clarify certain visualizations and findings. Unfortunately football is a rather complicated sport and the importance or magnitude of the analysis can only be understood if most strategic aspects are explained in advance.\n",
        "\n",
        "American Football is a team sport played on a grass field with a leather ball, that can either be thrown or carried in the players' hands while running.  The field is 120 yards long and 53.3 yards wide, including both end zones at either end of the field. The game is played by two teams with 11 players on the field for each team simultaniously. A football game is 60 minutes long and is divided into 15-minute quarters.\n",
        "\n",
        "A team has four chances (**\"downs\"**) to advance the ball 10 yards while the opposing team tries to stop it. <br>\n",
        "This static division into offense and defense distinguishes American Football from other popular sports where possesion of the ball changes more quickly and leads to a dynamic switch in roles of offense and defense.<br> The mentioned downs can be seen as individual strategic attempts to progress down the field with the ball. After the ball hits the ground or a player gets tackled with the ball in posession the specific down is completed. Both teams line up in their chosen formations, where the previous down was completed. This regrouping, as well as the strategic break between every play enhances the importance of choosing a play according to the field position, formations of both teams and distance to the goal line. <br> If the ball is not advanced by 10 yards after four attempts posession of the ball will switch from one team to the other, as well as reverse the roles of offense and defense. If the ball is advanced 10 yards or more, the attacking team is rewarded with four new downs. </p>\n",
        "\n"
      ]
    },
    {
      "cell_type": "markdown",
      "metadata": {
        "id": "GfaEq7jbCrJh",
        "colab_type": "text"
      },
      "source": [
        "###  **Scoring**\n",
        "\n",
        "- Scoring is done by entering the opposing teams **\"end zone\"**, which is located at the end of either side of the field. When a player has possession of the ball and crosses the opposing teams goal line he scores a **\"touchdown\"**. A successful touchdown awards the scoring team with 6 points.\n",
        " - Immediatly after scoring a touchdown the scoring team can attempt to kick the ball from a set point through the two goal posts for 1 extra point.\n",
        " - The team can also run or pass the ball from a set point to the end zone with only one opportunity to score 2 additional points.\n",
        "- Another option to score is the \"field goal\". A field goal is scored when the ball is kicked between the two goal posts located behind the opponent's end zone without a prior touchdown. A sucessful field goal awards the scoring team with 3 points.\n",
        "\n",
        "\n",
        "\n",
        ">Whoever scores more points at the end of the 60 minute game-period wins the match. "
      ]
    },
    {
      "cell_type": "markdown",
      "metadata": {
        "id": "CcBUBG9qExTy",
        "colab_type": "text"
      },
      "source": [
        "### **Positions**\n",
        "\n",
        "\n",
        "As mentioned the teams are split into offense and defense.<br> Following will be two visualizations including the specific description of each individual position with a short summary of their tasks and objectives in the game.\n",
        "\n",
        "**Offense**\n",
        "\n",
        "<figure>\n",
        "  <img src = \"https://i.imgur.com/cYyOSiP.jpg\" alt=\"Trulli\" style=\"width:100%\">\n",
        "  <figcaption align = \"left\"> Fig. 1 - Offense Positions  </figcaption>\n",
        "</figure>\n",
        "\n",
        "\n",
        "\n",
        "*   **Quarterback (QB)**\n",
        "  * The Quarterback is the most important player on the offensive side and most often the leader of the whole team. His objective is to throw the ball to his teammates or run with it to advance across the field and into the end zone of the defending team\n",
        "*   **Running Back (RB)**\n",
        "  * The Running Backs are usually handed the ball directly from the QB and are specialized in running with the ball in hand\n",
        "* **Wide Receiver (WR)**\n",
        "  * The Wide Receivers are lined up towards the sidelines of the field and are the primary throwing targets of the QB\n",
        "* **Offensive Line (OL)**\n",
        "  * The Offensive Linemen are lined up directly at the line of scrimmage where the play begins. Their primary concern is to stop the defense in their efforts to get to the QB\n",
        "\n",
        "---\n",
        "\n",
        "**Defense**\n",
        "\n",
        "<figure>\n",
        "  <img src = \"https://i.imgur.com/KfdM6bY.jpg\" alt=\"Trulli\" style=\"width:100%\">\n",
        "  <figcaption align = \"left\"> Fig. 1 - Defense Positions  </figcaption>\n",
        "</figure>\n",
        "\n",
        "* **Defensive Line (DL)**\n",
        "  * The Defensive Line are lined up directly at the line of scrimmage where the play begins. Their objective is to get to the opposing teams' QB/RB and tackle them to stop forward progress\n",
        "\n",
        "* **Cornerback (CB)**\n",
        "  * The Cornerbacks are responsible for the opposing teams Wide Receivers. Their objective is to tackle or intercept any balls thrown to the WRs.\n",
        "\n",
        "* **Defensive Backfield (DB)**\n",
        "  * The Denfesive Backfield is often used in a flexible manner. Players in the backfield can be used as reinforcement for the Defensive Line or to help the Cornerbacks.\n"
      ]
    },
    {
      "cell_type": "markdown",
      "metadata": {
        "id": "Xez9XP9qE3uF",
        "colab_type": "text"
      },
      "source": [
        "## Data Sources\n",
        "\n",
        "\n",
        "Until very recently the NFL provided a vast amount of data for free via their own API. Unfortunately this access is no longer available without fees.\n",
        "Because of this inconvenience we were not able to use the \"[nflscrapR](https://github.com/maksimhorowitz/nflscrapR)\" package, which is a community build wrapper for the NFL API. <br>Altough we could still use the raw data they have scraped in the past.\n",
        "\n",
        "This data includes csv [datasets](https://github.com/ryurko/nflscrapR-data) for play by play, roster and game data for the seasons from 2009 until 2019."
      ]
    }
  ]
}