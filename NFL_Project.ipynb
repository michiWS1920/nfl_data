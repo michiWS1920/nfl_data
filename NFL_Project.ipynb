{
  "nbformat": 4,
  "nbformat_minor": 0,
  "metadata": {
    "colab": {
      "name": "NFL_Project.ipynb",
      "provenance": [],
      "toc_visible": true,
      "authorship_tag": "ABX9TyNLrCgRRPWAyunKFX+4GwNq",
      "include_colab_link": true
    },
    "kernelspec": {
      "name": "ir",
      "display_name": "R"
    }
  },
  "cells": [
    {
      "cell_type": "markdown",
      "metadata": {
        "id": "view-in-github",
        "colab_type": "text"
      },
      "source": [
        "<a href=\"https://colab.research.google.com/github/michiWS1920/nfl_data/blob/michi/NFL_Project.ipynb\" target=\"_parent\"><img src=\"https://colab.research.google.com/assets/colab-badge.svg\" alt=\"Open In Colab\"/></a>"
      ]
    },
    {
      "cell_type": "markdown",
      "metadata": {
        "id": "6tb2yBdWnDna",
        "colab_type": "text"
      },
      "source": [
        "# **Introduction**\n",
        "\n",
        "**Main Objective of this Project**\n",
        "\n",
        "Any strategic and mathematically optimizable game can profit from the use of analyzing historical data to improve decision quality in the future. Baseball was one of the first sports to recognize the value in broad datasets to optimize game-plans as seen in the film \"Moneyball\". \n",
        "In recent years data science has made its way into the National Football League (NFL) and is being used by teams to prepare for their opponents, as well as improving their training sessions and playcalling during the games. \n",
        "\n",
        "\n",
        "Since strategy driven sports like football are incorporating more and more technology into their matches/training, the acquired data is growing at a fast pace. These mentioned technologies used for data collection are motion sensors, as well as impact sensors on the football gear (e.g. helmet, shoulder pads, etc.) or more old fashioned ways of gathering historical play by play data manually. \n",
        "\n",
        "The desired outcome for this project is to find interesting and strategically valuable insights for the game of American Football. Visualizing these insights and drawing conclussions to improve decision quality, as well as building a predictive model are further objectives.\n",
        "\n",
        "**Brief Explanation of American Football**\n",
        "\n",
        "Since this project will go indepth on many strategic concepts of American Football it is necessary to explain the basics. Accompanying the analysis in this project will be more explanations to specific concepts and rules in order to clarify certain visualizations and findings. Unfortunately football is a rather complicated sport and the importance or magnitude of the analysis can only be understood if most strategic aspects are explained in advance.\n",
        "\n",
        "American Football is a team sport played on a grass field with a leather ball, that can either be thrown or carried in the players' hands while running.  The field is 120 yards long and 53.3 yards wide, including both end zones at either end of the field. The game is played by two teams with 11 players on the field for each team simultaniously. A football game is 60 minutes long, and is divided into 15-minute quarters.\n",
        "\n",
        "A team has four chances (\"downs\") to advance the ball 10 yards while the opposing team tries to stop it. This static division into offense and defense distinguishes American Football from other popular sports where possesion of the ball changes more quickly and leads to a dynamic switch in roles of offense and defense. The mentioned downs can be seen as individual strategic attempts to progress down the field with the ball. After the ball hits the ground or a player gets tackled with the ball in posession the specific down is completed. Both teams line up in their chosen formations, where the previous down was completed. This regrouping, as well as the strategic break between every play enhances the importance of choosing a play according to the field position, formations of both teams and distance to the goal line. If the ball is not advanced by 10 yards after four attempts posession of the ball will switch from one team to the other, as well as reverse the roles of offense and defense.\n",
        "\n",
        "**Scoring**\n",
        "\n",
        "- Scoring is done by entering the opposing teams \"end zone\". When a player has possession of the ball and crosses the opposing teams goal line he scores a \"touchdown\". A successful touchdown awards the scoring team with 6 points.\n",
        " - Immediatly after scoring a touchdown the scoring team can attempt to kick the ball from a set point through the two goal posts for 1 extra point.\n",
        " - The team can also run or pass the ball from a set point to the end zone with only one opportunity to score 2 additional points.\n",
        "- Another option to score is the \"field goal\". A field goal is scored when the ball is kicked between the two goal posts located behind the opponent's end zone without a prior touchdown. A sucessful field goal awards the scoring team with 3 points. \n",
        "\n",
        "\n",
        "**Data Sources**\n",
        "\n",
        "\n",
        "\n",
        "\n"
      ]
    },
    {
      "cell_type": "markdown",
      "metadata": {
        "id": "uUhRs6yMEAVb",
        "colab_type": "text"
      },
      "source": [
        ""
      ]
    }
  ]
}