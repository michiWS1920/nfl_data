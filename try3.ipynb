{
  "nbformat": 4,
  "nbformat_minor": 0,
  "metadata": {
    "colab": {
      "name": "Untitled39.ipynb",
      "provenance": [],
      "authorship_tag": "ABX9TyNxkmtDTmu0PdDMWQ+whvSu",
      "include_colab_link": true
    },
    "kernelspec": {
      "name": "ir",
      "display_name": "R"
    }
  },
  "cells": [
    {
      "cell_type": "markdown",
      "metadata": {
        "id": "view-in-github",
        "colab_type": "text"
      },
      "source": [
        "<a href=\"https://colab.research.google.com/github/michiWS1920/nfl_data/blob/master/try3.ipynb\" target=\"_parent\"><img src=\"https://colab.research.google.com/assets/colab-badge.svg\" alt=\"Open In Colab\"/></a>"
      ]
    },
    {
      "cell_type": "code",
      "metadata": {
        "id": "3n6HAjYYD92x"
      },
      "source": [
        "library(readr)  # for read_csv\n",
        "library(knitr)  # for kable\n",
        "combine.table <- read_csv(\"https://raw.githubusercontent.com/michiWS1920/nfl_data/master/sources/combine.table.csv\")\n",
        "draft.table <- read_csv(\"https://raw.githubusercontent.com/michiWS1920/nfl_data/master/sources/draft.table.csv\")\n",
        "college.stats <- read_csv(\"https://raw.githubusercontent.com/michiWS1920/nfl_data/master/sources/college.stats.csv\")"
      ],
      "execution_count": null,
      "outputs": []
    },
    {
      "cell_type": "code",
      "metadata": {
        "id": "IMgNH0BXENeC"
      },
      "source": [
        "install.packages(\"textclean\")\n",
        "install.packages(\"feather\")\n",
        "install.packages(\"mice\")\n",
        "install.packages(\"httr\")"
      ],
      "execution_count": null,
      "outputs": []
    },
    {
      "cell_type": "code",
      "metadata": {
        "id": "3Jx3hMatEAAO"
      },
      "source": [
        "library(textclean)\n",
        "library(readr)\n",
        "library(dplyr)\n",
        "library(tidyr)\n",
        "library(feather)\n",
        "library(stringr)\n",
        "library(mice)\n",
        "library(rvest)\n",
        "library(httr)"
      ],
      "execution_count": null,
      "outputs": []
    },
    {
      "cell_type": "code",
      "metadata": {
        "id": "9dfoNaZCEF71"
      },
      "source": [
        "## swap the .rec and .rush stats in rushing section  \n",
        "\n",
        "stat.neu<- college.stats %>%\n",
        "  filter(section==\"rushing\") %>%\n",
        "  mutate(swap(stat, \"rec.\", \"rush.\")) \n",
        "\n",
        "# reorder columnns\n",
        "stat.neu <- stat.neu[c(1,2,5,4)] \n",
        "colnames(stat.neu)[3] <- \"stat\"\n",
        "\n",
        "stat.alt = subset(college.stats, section !=\"rushing\")\n",
        "college.stats <- rbind(stat.neu, stat.alt)"
      ],
      "execution_count": 6,
      "outputs": []
    },
    {
      "cell_type": "code",
      "metadata": {
        "id": "iAQfMxOkEb4d"
      },
      "source": [
        "## calculate mean of college stats\n",
        "\n",
        "# extract the number of played games in total \n",
        "college.stats %>% group_by(url, section) %>% \n",
        "  filter(stat==\"games\") -> games \n",
        "\n",
        "\n",
        "left_join(college.stats, games, by = c(\"url\",\"section\"))-> college.stats\n",
        "college.stats <- select(college.stats, -stat.y) \n",
        "\n",
        "# sum of college stats values / number of games\n",
        "college.stats$value.y <- ((college.stats$value.x)/(college.stats$value.y))\n",
        "\n",
        "\n",
        "#rename the column names\n",
        "names(college.stats)[names(college.stats) == \"stat.x\"] <- \"stat\"\n",
        "names(college.stats)[names(college.stats) == \"value.x\"] <- \"value\"\n",
        "names(college.stats)[names(college.stats) == \"value.y\"] <- \"value.mean\""
      ],
      "execution_count": 7,
      "outputs": []
    },
    {
      "cell_type": "code",
      "metadata": {
        "id": "pDhIm0d_Eh94"
      },
      "source": [
        "# define relevant parameters per section \n",
        "#section == \"passing\"  = games ; attempts ; completions ; pass.intds; pass.tds; pass.yards\n",
        "pass = c(\"games\",\"attempts\",\"completions\",\"pass.intds\",\"pass.tds\",\"pass.yards\")\n",
        "\n",
        "#section == \"rushing\" = games; rec.td; rec.yards; receptions; rush.att; rush.td; rush.yds; scrim.plays; scrim.tds; scrim.yds\n",
        "rush = c(\"games\", \"rec.td\", \"rec.yards\", \"receptions\", \"rush.att\", \"rush.td\", \"rush.yds\", \"scrim.plays\", \n",
        "         \"scrim.tds\", \"scrim.yds\")\n",
        "\n",
        "#section == \"defense\" = games; ast.tackles; fum.forced; fum.rec; fum.tds; fum.yds; int; int.td; tackles; solo.tackles; sacks; loss.tackles; pd\n",
        "def = c (\"games\", \"ast.tackles\", \"fum.forced\", \"fum.rec\", \"fum.tds\", \"fum.yds\", \"int\", \"int.td\", \"tackles\", \n",
        "         \"solo.tackles\", \"sacks\", \"loss.tackles\", \"pd\")\n",
        "\n",
        "#section == \"receiving\" = games; receptions; rec.yards; rec.td; scrim.plays; scrim.tds; scrim.yds\n",
        "rec = c(\"games\", \"receptions\", \"rec.yards\", \"rec.td\", \"scrim.plays\", \"scrim.tds\", \"scrim.yds\")\n",
        "\n",
        "\n",
        "\n",
        "# extract relevant parameters per section \n",
        "college.stats <- filter(college.stats, (section == \"passing\" & stat %in% pass) | (section == \"rushing\" & stat %in% rush)\n",
        "                        | (section == \"defense\" & stat %in% def) | (section == \"receiving\" & stat %in% rec))"
      ],
      "execution_count": 8,
      "outputs": []
    },
    {
      "cell_type": "code",
      "metadata": {
        "id": "Dn474AgHEzrC"
      },
      "source": [
        "## select draft variables and create primary key \n",
        "draft.df <- draft.table %>%\n",
        "  select(player, year, round,  team, age, college, url,\n",
        "         pick, # order of draft pick \n",
        "         pos, # position \n",
        "         carav,# weighted Career Approximate Value\n",
        "         drav) %>% # highest number of draft AV points \n",
        "  mutate(key = ifelse(is.na(url), paste(player, year, sep = '-'), url)) %>%\n",
        "  group_by(key) %>%\n",
        "  # drop duplicate rows \n",
        "  mutate(appearance = row_number()) %>%\n",
        "  filter(appearance == 1) %>%\n",
        "  select(-appearance) %>%\n",
        "  ungroup"
      ],
      "execution_count": 9,
      "outputs": []
    },
    {
      "cell_type": "code",
      "metadata": {
        "id": "GTSySI9FE8Hm"
      },
      "source": [
        "combine.df <- combine.table %>%\n",
        "  select(year_combine = year,\n",
        "         player_combine = player,\n",
        "         pos_combine = pos,\n",
        "         college_combine = college,\n",
        "         height, weight,\n",
        "         forty, #40-yard Dash\n",
        "         vertical, #Vertical Jump\n",
        "         broad,#Broad Jump\n",
        "         bench,#Bench Press (225lb for max reps)\n",
        "         threecone,#Three Cone drill \n",
        "         shuttle,#20-yard shuttle\n",
        "         url_combine = url) %>%\n",
        "  mutate(key = ifelse(is.na(url_combine), paste(player_combine, year_combine, sep = '-'), url_combine)) %>%\n",
        "    #rewrite feet and inches\n",
        "  separate(height, c('feet', 'inches'), sep = '-', convert = TRUE) %>%\n",
        "  mutate(height = feet * 12 + inches) %>%\n",
        "  select(-feet, -inches) %>%\n",
        "  # drop duplicate rows \n",
        "  group_by(key) %>%\n",
        "  mutate(appearance = row_number()) %>%\n",
        "  filter(appearance == 1) %>%\n",
        "  select(-appearance) %>%\n",
        "  ungroup"
      ],
      "execution_count": 10,
      "outputs": []
    },
    {
      "cell_type": "code",
      "metadata": {
        "id": "OTvwxoGGFK1S",
        "outputId": "823f226c-f85a-465b-8140-afb7d59bb7af",
        "colab": {
          "base_uri": "https://localhost:8080/",
          "height": 51
        }
      },
      "source": [
        "Reduce(intersect, list(unique(combine.df$key), unique(draft.df$key))) %>% head()"
      ],
      "execution_count": 11,
      "outputs": [
        {
          "output_type": "display_data",
          "data": {
            "text/plain": [
              "[1] \"John Abraham-2000\"     \"Darnell Alford-2000\"   \"Rashard Anderson-2000\"\n",
              "[4] \"Reggie Austin-2000\"    \"Mark Baniewicz-2000\"   \"Brad Bedell-2000\"     "
            ],
            "text/latex": "\\begin{enumerate*}\n\\item 'John Abraham-2000'\n\\item 'Darnell Alford-2000'\n\\item 'Rashard Anderson-2000'\n\\item 'Reggie Austin-2000'\n\\item 'Mark Baniewicz-2000'\n\\item 'Brad Bedell-2000'\n\\end{enumerate*}\n",
            "text/markdown": "1. 'John Abraham-2000'\n2. 'Darnell Alford-2000'\n3. 'Rashard Anderson-2000'\n4. 'Reggie Austin-2000'\n5. 'Mark Baniewicz-2000'\n6. 'Brad Bedell-2000'\n\n\n",
            "text/html": [
              "<style>\n",
              ".list-inline {list-style: none; margin:0; padding: 0}\n",
              ".list-inline>li {display: inline-block}\n",
              ".list-inline>li:not(:last-child)::after {content: \"\\00b7\"; padding: 0 .5ex}\n",
              "</style>\n",
              "<ol class=list-inline><li>'John Abraham-2000'</li><li>'Darnell Alford-2000'</li><li>'Rashard Anderson-2000'</li><li>'Reggie Austin-2000'</li><li>'Mark Baniewicz-2000'</li><li>'Brad Bedell-2000'</li></ol>\n"
            ]
          },
          "metadata": {
            "tags": []
          }
        }
      ]
    },
    {
      "cell_type": "code",
      "metadata": {
        "id": "mDmPKO47Fcr9"
      },
      "source": [
        "# rename combine.df$key to combine with college.stats and draft.df \n",
        "combine.df$key %>%\n",
        "  str_replace_all(\"https://\", \"http://\") ->combine.df$key "
      ],
      "execution_count": 12,
      "outputs": []
    },
    {
      "cell_type": "code",
      "metadata": {
        "id": "04o7mxYlFfNw"
      },
      "source": [
        "# combine draft and combine tables by \"key \"\n",
        "df <- full_join(draft.df, combine.df, by = 'key') %>%\n",
        "  #find the non-missing player, pos, college, url \n",
        "  mutate(player = coalesce(player, player_combine), \n",
        "         pos = coalesce(pos, pos_combine),\n",
        "         college = coalesce(college, college_combine),\n",
        "         year = coalesce(year, year_combine),\n",
        "         url = coalesce(url, url_combine)) %>%\n",
        "  # drop combine column names \n",
        "  subset(select=-c(player_combine,pos_combine, college_combine, year_combine, url_combine)) "
      ],
      "execution_count": 13,
      "outputs": []
    },
    {
      "cell_type": "code",
      "metadata": {
        "id": "LJS8rCoFFg0s"
      },
      "source": [
        "# assign nan pick values to 257 and nan round number to 8\n",
        "df$pick[is.na(df$pick)] <- 257\n",
        "df$pick[is.na(df$round)] <- 8"
      ],
      "execution_count": 14,
      "outputs": []
    },
    {
      "cell_type": "code",
      "metadata": {
        "id": "fciBbiWfFjrZ"
      },
      "source": [
        "# rename and drop columns to combine with combine and draft tables\n",
        "stats.df <- college.stats %>% select(-value) %>% rename(value = value.mean, key = url)"
      ],
      "execution_count": 15,
      "outputs": []
    },
    {
      "cell_type": "code",
      "metadata": {
        "id": "YSrSpn4cFmHb"
      },
      "source": [
        "## Convert into long format so we can merge with college stats\n",
        "training1 <- df %>%\n",
        "  select(key, carav,\n",
        "         height, weight,\n",
        "         forty, vertical,\n",
        "         bench, age,\n",
        "         threecone, shuttle,\n",
        "         broad) %>%\n",
        "  gather(metric, value, carav,\n",
        "         height, weight,\n",
        "         forty, vertical,\n",
        "         bench, age,\n",
        "         threecone, shuttle,\n",
        "         broad) %>%\n",
        "  filter(!is.na(value), value != '') %>%\n",
        "  mutate(value = as.numeric(value))"
      ],
      "execution_count": 16,
      "outputs": []
    },
    {
      "cell_type": "code",
      "metadata": {
        "id": "F1Xm288LFnxq",
        "outputId": "be63b803-4a1c-44c5-9207-b17e84b72b88",
        "colab": {
          "base_uri": "https://localhost:8080/",
          "height": 476
        }
      },
      "source": [
        "## Impute the missing combine data\n",
        "## A. Convert to wide\n",
        "training1a <- training1 %>%\n",
        "  spread(metric, value, fill = NA)\n",
        "\n",
        "## B. do the imputation and add back the non-imputed columns\n",
        "training1b <- complete(mice(training1a %>% select(-key, -carav)))\n",
        "training1b$key <- training1a$key\n",
        "training1b$carav <- training1a$carav"
      ],
      "execution_count": 17,
      "outputs": [
        {
          "output_type": "stream",
          "text": [
            "\n",
            " iter imp variable\n",
            "  1   1  age  bench  broad  forty  height  shuttle  threecone  vertical  weight\n",
            "  1   2  age  bench  broad  forty  height  shuttle  threecone  vertical  weight\n",
            "  1   3  age  bench  broad  forty  height  shuttle  threecone  vertical  weight\n",
            "  1   4  age  bench  broad  forty  height  shuttle  threecone  vertical  weight\n",
            "  1   5  age  bench  broad  forty  height  shuttle  threecone  vertical  weight\n",
            "  2   1  age  bench  broad  forty  height  shuttle  threecone  vertical  weight\n",
            "  2   2  age  bench  broad  forty  height  shuttle  threecone  vertical  weight\n",
            "  2   3  age  bench  broad  forty  height  shuttle  threecone  vertical  weight\n",
            "  2   4  age  bench  broad  forty  height  shuttle  threecone  vertical  weight\n",
            "  2   5  age  bench  broad  forty  height  shuttle  threecone  vertical  weight\n",
            "  3   1  age  bench  broad  forty  height  shuttle  threecone  vertical  weight\n",
            "  3   2  age  bench  broad  forty  height  shuttle  threecone  vertical  weight\n",
            "  3   3  age  bench  broad  forty  height  shuttle  threecone  vertical  weight\n",
            "  3   4  age  bench  broad  forty  height  shuttle  threecone  vertical  weight\n",
            "  3   5  age  bench  broad  forty  height  shuttle  threecone  vertical  weight\n",
            "  4   1  age  bench  broad  forty  height  shuttle  threecone  vertical  weight\n",
            "  4   2  age  bench  broad  forty  height  shuttle  threecone  vertical  weight\n",
            "  4   3  age  bench  broad  forty  height  shuttle  threecone  vertical  weight\n",
            "  4   4  age  bench  broad  forty  height  shuttle  threecone  vertical  weight\n",
            "  4   5  age  bench  broad  forty  height  shuttle  threecone  vertical  weight\n",
            "  5   1  age  bench  broad  forty  height  shuttle  threecone  vertical  weight\n",
            "  5   2  age  bench  broad  forty  height  shuttle  threecone  vertical  weight\n",
            "  5   3  age  bench  broad  forty  height  shuttle  threecone  vertical  weight\n",
            "  5   4  age  bench  broad  forty  height  shuttle  threecone  vertical  weight\n",
            "  5   5  age  bench  broad  forty  height  shuttle  threecone  vertical  weight\n"
          ],
          "name": "stdout"
        }
      ]
    },
    {
      "cell_type": "code",
      "metadata": {
        "id": "SR6H5rGRFqqb"
      },
      "source": [
        "## C. Convert back to long format\n",
        "training1c <- training1b %>%\n",
        "  gather(metric, value, -key)\n",
        "\n",
        "## Rename some of the collge stats\n",
        "## make sure we only have one stat per person\n",
        "training2 <- college.stats %>%\n",
        "  group_by(url, stat) %>%\n",
        "  mutate(row = row_number()) %>%\n",
        "  filter(row == 1) %>%\n",
        "  select(-row) %>%\n",
        "  ungroup %>%\n",
        "  rename(key = url, metric = stat) %>%\n",
        "  select (-c(section,value)) %>%\n",
        "  mutate(metric = str_replace_all(metric, '[.]', '_')) %>%\n",
        "  rename(value = value.mean)\n",
        "\n",
        "## Convert back into wide form\n",
        "training3 <- bind_rows(training1c, training2) %>%\n",
        "  spread(metric, value, fill = 0) ## note we fill zeros, not NAs"
      ],
      "execution_count": 18,
      "outputs": []
    },
    {
      "cell_type": "code",
      "metadata": {
        "id": "hZEREiedFuG5",
        "outputId": "9a90c998-ddff-4c02-c0c4-0d5d1a545cf6",
        "colab": {
          "base_uri": "https://localhost:8080/",
          "height": 51
        }
      },
      "source": [
        "## Join the pick/position/college/year/team back on\n",
        "training <- df %>%\n",
        "  select(key, player, pick, pos, college, year, team) %>%\n",
        "  group_by(college) %>%\n",
        "  inner_join(training3)"
      ],
      "execution_count": 50,
      "outputs": [
        {
          "output_type": "stream",
          "text": [
            "Joining, by = \"key\"\n",
            "\n"
          ],
          "name": "stderr"
        }
      ]
    },
    {
      "cell_type": "code",
      "metadata": {
        "id": "rxYhxZk7GGEz",
        "outputId": "9b15bbe4-c10e-4409-f27e-fb62a9e8defd",
        "colab": {
          "base_uri": "https://localhost:8080/",
          "height": 170
        }
      },
      "source": [
        "install.packages(\"mlbench\")\n",
        "install.packages(\"workflows\")\n",
        "install.packages(\"tune\")\n",
        "install.packages(\"tidymodels\")"
      ],
      "execution_count": 23,
      "outputs": [
        {
          "output_type": "stream",
          "text": [
            "Installing package into ‘/usr/local/lib/R/site-library’\n",
            "(as ‘lib’ is unspecified)\n",
            "\n",
            "Installing package into ‘/usr/local/lib/R/site-library’\n",
            "(as ‘lib’ is unspecified)\n",
            "\n",
            "also installing the dependencies ‘globals’, ‘hardhat’, ‘parsnip’\n",
            "\n",
            "\n"
          ],
          "name": "stderr"
        }
      ]
    },
    {
      "cell_type": "code",
      "metadata": {
        "id": "aQlnExlAF08E"
      },
      "source": [
        "library(mlbench)\n",
        "library(tidyverse)\n",
        "library(workflows)\n",
        "library(tune)\n",
        "library(tidymodels)"
      ],
      "execution_count": null,
      "outputs": []
    },
    {
      "cell_type": "code",
      "metadata": {
        "id": "ngi0etrTIKIM"
      },
      "source": [
        "training$pick"
      ],
      "execution_count": null,
      "outputs": []
    },
    {
      "cell_type": "code",
      "metadata": {
        "id": "eVvcZ2-2F41s"
      },
      "source": [
        "# Outcome variables\n",
        "pick <- training$pick\n",
        "carav <- training$carav\n",
        "training$first.round <- as.factor(training$pick <= 32)"
      ],
      "execution_count": 74,
      "outputs": []
    },
    {
      "cell_type": "code",
      "metadata": {
        "id": "IPRcOb8sIVAm"
      },
      "source": [
        "training$first.round"
      ],
      "execution_count": null,
      "outputs": []
    },
    {
      "cell_type": "code",
      "metadata": {
        "id": "VlITUqeaF6uX"
      },
      "source": [
        "training %>%\n",
        "  select(-key, -player, -carav, -team, -pos, -pick)  -> training.df"
      ],
      "execution_count": 76,
      "outputs": []
    },
    {
      "cell_type": "code",
      "metadata": {
        "id": "_DlPc-8HHwFT",
        "outputId": "1c543f92-82da-4d50-92d8-b60b1fac1b44",
        "colab": {
          "base_uri": "https://localhost:8080/",
          "height": 51
        }
      },
      "source": [
        "names(training.df)"
      ],
      "execution_count": 57,
      "outputs": [
        {
          "output_type": "display_data",
          "data": {
            "text/plain": [
              " [1] \"college\"      \"year\"         \"age\"          \"ast_tackles\"  \"attempts\"    \n",
              " [6] \"bench\"        \"broad\"        \"completions\"  \"forty\"        \"fum_forced\"  \n",
              "[11] \"fum_rec\"      \"fum_tds\"      \"fum_yds\"      \"games\"        \"height\"      \n",
              "[16] \"int\"          \"int_td\"       \"loss_tackles\" \"pass_tds\"     \"pass_yards\"  \n",
              "[21] \"pd\"           \"rec_td\"       \"rec_yards\"    \"receptions\"   \"rush_td\"     \n",
              "[26] \"sacks\"        \"scrim_plays\"  \"scrim_tds\"    \"scrim_yds\"    \"shuttle\"     \n",
              "[31] \"tackles\"      \"threecone\"    \"vertical\"     \"weight\"      "
            ],
            "text/latex": "\\begin{enumerate*}\n\\item 'college'\n\\item 'year'\n\\item 'age'\n\\item 'ast\\_tackles'\n\\item 'attempts'\n\\item 'bench'\n\\item 'broad'\n\\item 'completions'\n\\item 'forty'\n\\item 'fum\\_forced'\n\\item 'fum\\_rec'\n\\item 'fum\\_tds'\n\\item 'fum\\_yds'\n\\item 'games'\n\\item 'height'\n\\item 'int'\n\\item 'int\\_td'\n\\item 'loss\\_tackles'\n\\item 'pass\\_tds'\n\\item 'pass\\_yards'\n\\item 'pd'\n\\item 'rec\\_td'\n\\item 'rec\\_yards'\n\\item 'receptions'\n\\item 'rush\\_td'\n\\item 'sacks'\n\\item 'scrim\\_plays'\n\\item 'scrim\\_tds'\n\\item 'scrim\\_yds'\n\\item 'shuttle'\n\\item 'tackles'\n\\item 'threecone'\n\\item 'vertical'\n\\item 'weight'\n\\end{enumerate*}\n",
            "text/markdown": "1. 'college'\n2. 'year'\n3. 'age'\n4. 'ast_tackles'\n5. 'attempts'\n6. 'bench'\n7. 'broad'\n8. 'completions'\n9. 'forty'\n10. 'fum_forced'\n11. 'fum_rec'\n12. 'fum_tds'\n13. 'fum_yds'\n14. 'games'\n15. 'height'\n16. 'int'\n17. 'int_td'\n18. 'loss_tackles'\n19. 'pass_tds'\n20. 'pass_yards'\n21. 'pd'\n22. 'rec_td'\n23. 'rec_yards'\n24. 'receptions'\n25. 'rush_td'\n26. 'sacks'\n27. 'scrim_plays'\n28. 'scrim_tds'\n29. 'scrim_yds'\n30. 'shuttle'\n31. 'tackles'\n32. 'threecone'\n33. 'vertical'\n34. 'weight'\n\n\n",
            "text/html": [
              "<style>\n",
              ".list-inline {list-style: none; margin:0; padding: 0}\n",
              ".list-inline>li {display: inline-block}\n",
              ".list-inline>li:not(:last-child)::after {content: \"\\00b7\"; padding: 0 .5ex}\n",
              "</style>\n",
              "<ol class=list-inline><li>'college'</li><li>'year'</li><li>'age'</li><li>'ast_tackles'</li><li>'attempts'</li><li>'bench'</li><li>'broad'</li><li>'completions'</li><li>'forty'</li><li>'fum_forced'</li><li>'fum_rec'</li><li>'fum_tds'</li><li>'fum_yds'</li><li>'games'</li><li>'height'</li><li>'int'</li><li>'int_td'</li><li>'loss_tackles'</li><li>'pass_tds'</li><li>'pass_yards'</li><li>'pd'</li><li>'rec_td'</li><li>'rec_yards'</li><li>'receptions'</li><li>'rush_td'</li><li>'sacks'</li><li>'scrim_plays'</li><li>'scrim_tds'</li><li>'scrim_yds'</li><li>'shuttle'</li><li>'tackles'</li><li>'threecone'</li><li>'vertical'</li><li>'weight'</li></ol>\n"
            ]
          },
          "metadata": {
            "tags": []
          }
        }
      ]
    },
    {
      "cell_type": "code",
      "metadata": {
        "id": "DQS886EeKDuv"
      },
      "source": [
        "set.seed(42) \n",
        "training_split = initial_split(training.df, prop = 3/4)\n",
        "\n",
        "df_train = training(training_split)\n",
        "df_test = testing(training_split)\n",
        "\n",
        "df_cv = vfold_cv(df_train)"
      ],
      "execution_count": 77,
      "outputs": []
    },
    {
      "cell_type": "code",
      "metadata": {
        "id": "-7cn3CuHLX6b"
      },
      "source": [
        "df_train$first.round"
      ],
      "execution_count": null,
      "outputs": []
    },
    {
      "cell_type": "code",
      "metadata": {
        "id": "lWmjpyO4KESb"
      },
      "source": [
        "recipe(first.round ~ .,\n",
        "       data=df_train) %>%\n",
        "  step_string2factor(all_nominal()) %>%\n",
        "  step_knnimpute(all_predictors()) %>%\n",
        "  step_dummy(all_nominal(), -all_outcomes()) -> df_recipe\n"
      ],
      "execution_count": 78,
      "outputs": []
    },
    {
      "cell_type": "code",
      "metadata": {
        "id": "ZzGIQBzRK2BI",
        "outputId": "4cd8c02c-17cc-48e2-9ac2-984575b92dfa",
        "colab": {
          "base_uri": "https://localhost:8080/",
          "height": 243
        }
      },
      "source": [
        "rand_forest() %>%\n",
        "  set_args(mtry = tune(),\n",
        "           trees = 300) %>%\n",
        "  set_engine('ranger', importance = 'impurity') %>%\n",
        "  set_mode('classification') -> rf_model\n",
        "\n",
        "\n",
        "rf_workflow = workflow() %>%\n",
        "  add_recipe(df_recipe) %>%\n",
        "  add_model(rf_model)\n",
        "\n",
        "install.packages(\"ranger\")\n",
        "library(ranger)\n",
        "rf_grid = expand.grid(mtry = c(10, 12, 15))\n",
        "\n",
        "rf_workflow %>%\n",
        "  tune_grid(resamples = df_cv,\n",
        "            grid = rf_grid,\n",
        "            metrics = metric_set(accuracy)) -> rf_tune_results\n",
        "\n",
        "rf_tune_results %>%\n",
        "  collect_metrics()"
      ],
      "execution_count": 80,
      "outputs": [
        {
          "output_type": "stream",
          "text": [
            "Installing package into ‘/usr/local/lib/R/site-library’\n",
            "(as ‘lib’ is unspecified)\n",
            "\n",
            "also installing the dependency ‘RcppEigen’\n",
            "\n",
            "\n"
          ],
          "name": "stderr"
        },
        {
          "output_type": "display_data",
          "data": {
            "text/plain": [
              "  mtry .metric  .estimator mean      n  std_err     .config\n",
              "1 10   accuracy binary     0.6998924 10 0.008306141 Model1 \n",
              "2 12   accuracy binary     0.6995469 10 0.008884911 Model2 \n",
              "3 15   accuracy binary     0.6933634 10 0.008326670 Model3 "
            ],
            "text/latex": "A tibble: 3 × 7\n\\begin{tabular}{lllllll}\n mtry & .metric & .estimator & mean & n & std\\_err & .config\\\\\n <dbl> & <chr> & <chr> & <dbl> & <int> & <dbl> & <chr>\\\\\n\\hline\n\t 10 & accuracy & binary & 0.6998924 & 10 & 0.008306141 & Model1\\\\\n\t 12 & accuracy & binary & 0.6995469 & 10 & 0.008884911 & Model2\\\\\n\t 15 & accuracy & binary & 0.6933634 & 10 & 0.008326670 & Model3\\\\\n\\end{tabular}\n",
            "text/markdown": "\nA tibble: 3 × 7\n\n| mtry &lt;dbl&gt; | .metric &lt;chr&gt; | .estimator &lt;chr&gt; | mean &lt;dbl&gt; | n &lt;int&gt; | std_err &lt;dbl&gt; | .config &lt;chr&gt; |\n|---|---|---|---|---|---|---|\n| 10 | accuracy | binary | 0.6998924 | 10 | 0.008306141 | Model1 |\n| 12 | accuracy | binary | 0.6995469 | 10 | 0.008884911 | Model2 |\n| 15 | accuracy | binary | 0.6933634 | 10 | 0.008326670 | Model3 |\n\n",
            "text/html": [
              "<table>\n",
              "<caption>A tibble: 3 × 7</caption>\n",
              "<thead>\n",
              "\t<tr><th scope=col>mtry</th><th scope=col>.metric</th><th scope=col>.estimator</th><th scope=col>mean</th><th scope=col>n</th><th scope=col>std_err</th><th scope=col>.config</th></tr>\n",
              "\t<tr><th scope=col>&lt;dbl&gt;</th><th scope=col>&lt;chr&gt;</th><th scope=col>&lt;chr&gt;</th><th scope=col>&lt;dbl&gt;</th><th scope=col>&lt;int&gt;</th><th scope=col>&lt;dbl&gt;</th><th scope=col>&lt;chr&gt;</th></tr>\n",
              "</thead>\n",
              "<tbody>\n",
              "\t<tr><td>10</td><td>accuracy</td><td>binary</td><td>0.6998924</td><td>10</td><td>0.008306141</td><td>Model1</td></tr>\n",
              "\t<tr><td>12</td><td>accuracy</td><td>binary</td><td>0.6995469</td><td>10</td><td>0.008884911</td><td>Model2</td></tr>\n",
              "\t<tr><td>15</td><td>accuracy</td><td>binary</td><td>0.6933634</td><td>10</td><td>0.008326670</td><td>Model3</td></tr>\n",
              "</tbody>\n",
              "</table>\n"
            ]
          },
          "metadata": {
            "tags": []
          }
        }
      ]
    },
    {
      "cell_type": "code",
      "metadata": {
        "id": "MFmoTWXbL66U"
      },
      "source": [
        "rf_tune_results %>%\n",
        "    select_best(metric = 'accuracy') -> param_final\n",
        "\n",
        "rf_workflow %>%\n",
        "    finalize_workflow(param_final) -> rf_workflow"
      ],
      "execution_count": 83,
      "outputs": []
    },
    {
      "cell_type": "code",
      "metadata": {
        "id": "57FdzeR2QSxw",
        "outputId": "e8f0e261-8ba6-4c8d-dc83-c2d99dcdfe60",
        "colab": {
          "base_uri": "https://localhost:8080/",
          "height": 120
        }
      },
      "source": [
        "rf_workflow %>%\n",
        "    last_fit(training_split) -> rf_fit\n",
        "\n",
        "rf_fit %>% collect_metrics()"
      ],
      "execution_count": 85,
      "outputs": [
        {
          "output_type": "display_data",
          "data": {
            "text/plain": [
              "  .metric  .estimator .estimate\n",
              "1 accuracy binary     0.6864363\n",
              "2 roc_auc  binary     0.7467362"
            ],
            "text/latex": "A tibble: 2 × 3\n\\begin{tabular}{lll}\n .metric & .estimator & .estimate\\\\\n <chr> & <chr> & <dbl>\\\\\n\\hline\n\t accuracy & binary & 0.6864363\\\\\n\t roc\\_auc  & binary & 0.7467362\\\\\n\\end{tabular}\n",
            "text/markdown": "\nA tibble: 2 × 3\n\n| .metric &lt;chr&gt; | .estimator &lt;chr&gt; | .estimate &lt;dbl&gt; |\n|---|---|---|\n| accuracy | binary | 0.6864363 |\n| roc_auc  | binary | 0.7467362 |\n\n",
            "text/html": [
              "<table>\n",
              "<caption>A tibble: 2 × 3</caption>\n",
              "<thead>\n",
              "\t<tr><th scope=col>.metric</th><th scope=col>.estimator</th><th scope=col>.estimate</th></tr>\n",
              "\t<tr><th scope=col>&lt;chr&gt;</th><th scope=col>&lt;chr&gt;</th><th scope=col>&lt;dbl&gt;</th></tr>\n",
              "</thead>\n",
              "<tbody>\n",
              "\t<tr><td>accuracy</td><td>binary</td><td>0.6864363</td></tr>\n",
              "\t<tr><td>roc_auc </td><td>binary</td><td>0.7467362</td></tr>\n",
              "</tbody>\n",
              "</table>\n"
            ]
          },
          "metadata": {
            "tags": []
          }
        }
      ]
    },
    {
      "cell_type": "code",
      "metadata": {
        "id": "GFM-l586Qcic"
      },
      "source": [
        "training.df %>% arrange(year) -> training.df"
      ],
      "execution_count": 111,
      "outputs": []
    },
    {
      "cell_type": "code",
      "metadata": {
        "id": "mk9YUvZqT5GN"
      },
      "source": [
        "set.seed(42)\n",
        "training_split = initial_time_split(training.df, prop = 4/5)"
      ],
      "execution_count": 117,
      "outputs": []
    },
    {
      "cell_type": "code",
      "metadata": {
        "id": "LyTLaItoNwwe"
      },
      "source": [
        "df_train = training(training_split)\n",
        "df_test = testing(training_split)\n",
        "\n",
        "df_cv = vfold_cv(df_train)"
      ],
      "execution_count": 118,
      "outputs": []
    },
    {
      "cell_type": "code",
      "metadata": {
        "id": "_NVOfQaUWWgf"
      },
      "source": [
        "df_test"
      ],
      "execution_count": null,
      "outputs": []
    },
    {
      "cell_type": "code",
      "metadata": {
        "id": "UN0BXa4-UIqw"
      },
      "source": [
        "rand_forest() %>%\n",
        "  set_args(mtry = tune(),\n",
        "           trees = 300) %>%\n",
        "  set_engine('ranger', importance = 'impurity') %>%\n",
        "  set_mode('classification') -> rf_model\n",
        "\n",
        "\n",
        "rf_workflow = workflow() %>%\n",
        "  add_recipe(df_recipe) %>%\n",
        "  add_model(rf_model)\n",
        "\n",
        "#install.packages(\"ranger\")\n",
        "library(ranger)\n",
        "rf_grid = expand.grid(mtry = c(10, 12, 15))\n",
        "\n",
        "rf_workflow %>%\n",
        "  tune_grid(resamples = df_cv,\n",
        "            grid = rf_grid,\n",
        "            metrics = metric_set(accuracy)) -> rf_tune_results\n",
        "\n",
        "rf_tune_results %>%\n",
        "  collect_metrics()"
      ],
      "execution_count": null,
      "outputs": []
    },
    {
      "cell_type": "code",
      "metadata": {
        "id": "cKHQ5yDiU8I2",
        "outputId": "48744eda-cd1f-47ca-fc1d-caa358628fb4",
        "colab": {
          "base_uri": "https://localhost:8080/",
          "height": 102
        }
      },
      "source": [
        "rf_workflow %>%\n",
        "    last_fit(training_split) -> rf_fit\n",
        "\n",
        "rf_fit %>% collect_metrics()"
      ],
      "execution_count": 116,
      "outputs": [
        {
          "output_type": "stream",
          "text": [
            "\u001b[31mx\u001b[39m \u001b[31m: model: Error in ranger::ranger(formula = ..y ~ ., data = data, mtry = ~t...\u001b[39m\n",
            "\n",
            "Warning message:\n",
            "“All models failed in [fit_resamples()]. See the `.notes` column.”\n"
          ],
          "name": "stderr"
        },
        {
          "output_type": "display_data",
          "data": {
            "text/plain": [
              "NULL"
            ]
          },
          "metadata": {
            "tags": []
          }
        }
      ]
    }
  ]
}